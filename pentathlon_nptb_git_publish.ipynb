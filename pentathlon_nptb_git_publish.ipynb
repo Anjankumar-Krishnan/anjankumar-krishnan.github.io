{
 "cells": [
  {
   "cell_type": "markdown",
   "metadata": {},
   "source": [
    "# Pentathlon: Model recommending next product to buy (NPTB)\n",
    "\n",
    "The next product to buy (NPTB) model uses predictive techniques to determine the product or product category that the customer is most likely to buy. Pentathlon is a sporting goods and apparel retailer and uses the NPTB model to determine which product category to advertise to a particular customer, and thus maximize the chance of purchase, and in turn maximize profits in comparison to a non-targeted/random messaging approach.\n",
    "\n",
    "## Goal\n",
    "\n",
    "Compare on basis of expected profit, several machine learning models against a logistic regression to determine which of the 7 product categories (Endurance, Water, Strength, Team, Backcountry, Racquet and Winter) is the selected message category for a particular customer.\n"
   ]
  },
  {
   "cell_type": "code",
   "execution_count": 1,
   "metadata": {},
   "outputs": [
    {
     "data": {
      "text/html": [
       "\n",
       "\n",
       "<script>\n",
       "  function code_toggle() {\n",
       "    if (code_shown){\n",
       "      $('div.input').hide('500');\n",
       "      $('#toggleButton').val('Show Code')\n",
       "    } else {\n",
       "      $('div.input').show('500');\n",
       "      $('#toggleButton').val('Hide Code')\n",
       "    }\n",
       "    code_shown = !code_shown\n",
       "  }\n",
       "\n",
       "  $( document ).ready(function(){\n",
       "    code_shown=false;\n",
       "    $('div.input').hide()\n",
       "  });\n",
       "</script>\n",
       "<form action=\"javascript:code_toggle()\">\n",
       "  <input type=\"submit\" id=\"toggleButton\" value=\"Show Python 3 Code\">\n",
       "</form>"
      ],
      "text/plain": [
       "<IPython.core.display.HTML object>"
      ]
     },
     "execution_count": 1,
     "metadata": {},
     "output_type": "execute_result"
    }
   ],
   "source": [
    "from IPython.display import HTML\n",
    "\n",
    "HTML('''\n",
    "\n",
    "<script>\n",
    "  function code_toggle() {\n",
    "    if (code_shown){\n",
    "      $('div.input').hide('500');\n",
    "      $('#toggleButton').val('Show Code')\n",
    "    } else {\n",
    "      $('div.input').show('500');\n",
    "      $('#toggleButton').val('Hide Code')\n",
    "    }\n",
    "    code_shown = !code_shown\n",
    "  }\n",
    "\n",
    "  $( document ).ready(function(){\n",
    "    code_shown=false;\n",
    "    $('div.input').hide()\n",
    "  });\n",
    "</script>\n",
    "<form action=\"javascript:code_toggle()\">\n",
    "  <input type=\"submit\" id=\"toggleButton\" value=\"Show Python 3 Code\">\n",
    "</form>''')"
   ]
  },
  {
   "cell_type": "markdown",
   "metadata": {},
   "source": [
    "## The Data\n",
    "\n",
    "(courtesy Vincent Nijs - Rady School of Management - University of California San Diego, Florian Zettelmeyer - Northwestern University and Song Yao - Washington University in St. Louis)\n",
    "\n",
    "- Balanced data set: 100000 with 50% of customers in the sample responding as 'yes'\n",
    "- Additional unbalanced or true representative sample: 100000 with ~1% of customers in the sample responding as 'yes'\n",
    "- Demographics are included (age, income, gender, # of children etc.)\n",
    "- Total order size and order size per category (EUR spent by customer on order)\n",
    "- Number of purchases per category by customer (frequency)"
   ]
  },
  {
   "cell_type": "code",
   "execution_count": 2,
   "metadata": {},
   "outputs": [
    {
     "data": {
      "text/html": [
       "<div>\n",
       "<style scoped>\n",
       "    .dataframe tbody tr th:only-of-type {\n",
       "        vertical-align: middle;\n",
       "    }\n",
       "\n",
       "    .dataframe tbody tr th {\n",
       "        vertical-align: top;\n",
       "    }\n",
       "\n",
       "    .dataframe thead th {\n",
       "        text-align: right;\n",
       "    }\n",
       "</style>\n",
       "<table border=\"1\" class=\"dataframe\">\n",
       "  <thead>\n",
       "    <tr style=\"text-align: right;\">\n",
       "      <th></th>\n",
       "      <th>custid</th>\n",
       "      <th>buyer</th>\n",
       "      <th>total_os</th>\n",
       "      <th>message</th>\n",
       "      <th>age</th>\n",
       "      <th>gender</th>\n",
       "      <th>income</th>\n",
       "      <th>education</th>\n",
       "      <th>children</th>\n",
       "      <th>freq_endurance</th>\n",
       "      <th>...</th>\n",
       "      <th>endurance_os</th>\n",
       "      <th>strength_os</th>\n",
       "      <th>water_os</th>\n",
       "      <th>team_os</th>\n",
       "      <th>backcountry_os</th>\n",
       "      <th>winter_os</th>\n",
       "      <th>racquet_os</th>\n",
       "      <th>training</th>\n",
       "      <th>representative</th>\n",
       "      <th>buyer_yes</th>\n",
       "    </tr>\n",
       "  </thead>\n",
       "  <tbody>\n",
       "    <tr>\n",
       "      <th>0</th>\n",
       "      <td>U45198803</td>\n",
       "      <td>no</td>\n",
       "      <td>0.0</td>\n",
       "      <td>endurance</td>\n",
       "      <td>30 to 44</td>\n",
       "      <td>M</td>\n",
       "      <td>25000</td>\n",
       "      <td>14</td>\n",
       "      <td>1.3</td>\n",
       "      <td>0</td>\n",
       "      <td>...</td>\n",
       "      <td>0.0</td>\n",
       "      <td>0.0</td>\n",
       "      <td>0.0</td>\n",
       "      <td>0.0</td>\n",
       "      <td>0.0</td>\n",
       "      <td>0.0</td>\n",
       "      <td>0.0</td>\n",
       "      <td>-2147483648</td>\n",
       "      <td>1</td>\n",
       "      <td>0</td>\n",
       "    </tr>\n",
       "    <tr>\n",
       "      <th>1</th>\n",
       "      <td>U22197752</td>\n",
       "      <td>no</td>\n",
       "      <td>0.0</td>\n",
       "      <td>backcountry</td>\n",
       "      <td>45 to 59</td>\n",
       "      <td>F</td>\n",
       "      <td>40000</td>\n",
       "      <td>44</td>\n",
       "      <td>0.4</td>\n",
       "      <td>2</td>\n",
       "      <td>...</td>\n",
       "      <td>0.0</td>\n",
       "      <td>0.0</td>\n",
       "      <td>0.0</td>\n",
       "      <td>0.0</td>\n",
       "      <td>0.0</td>\n",
       "      <td>0.0</td>\n",
       "      <td>0.0</td>\n",
       "      <td>-2147483648</td>\n",
       "      <td>1</td>\n",
       "      <td>0</td>\n",
       "    </tr>\n",
       "    <tr>\n",
       "      <th>2</th>\n",
       "      <td>U83874832</td>\n",
       "      <td>no</td>\n",
       "      <td>0.0</td>\n",
       "      <td>backcountry</td>\n",
       "      <td>45 to 59</td>\n",
       "      <td>M</td>\n",
       "      <td>50000</td>\n",
       "      <td>24</td>\n",
       "      <td>0.8</td>\n",
       "      <td>0</td>\n",
       "      <td>...</td>\n",
       "      <td>0.0</td>\n",
       "      <td>0.0</td>\n",
       "      <td>0.0</td>\n",
       "      <td>0.0</td>\n",
       "      <td>0.0</td>\n",
       "      <td>0.0</td>\n",
       "      <td>0.0</td>\n",
       "      <td>1</td>\n",
       "      <td>0</td>\n",
       "      <td>0</td>\n",
       "    </tr>\n",
       "    <tr>\n",
       "      <th>3</th>\n",
       "      <td>U19423462</td>\n",
       "      <td>no</td>\n",
       "      <td>0.0</td>\n",
       "      <td>winter</td>\n",
       "      <td>45 to 59</td>\n",
       "      <td>F</td>\n",
       "      <td>50000</td>\n",
       "      <td>26</td>\n",
       "      <td>1.1</td>\n",
       "      <td>1</td>\n",
       "      <td>...</td>\n",
       "      <td>0.0</td>\n",
       "      <td>0.0</td>\n",
       "      <td>0.0</td>\n",
       "      <td>0.0</td>\n",
       "      <td>0.0</td>\n",
       "      <td>0.0</td>\n",
       "      <td>0.0</td>\n",
       "      <td>-2147483648</td>\n",
       "      <td>1</td>\n",
       "      <td>0</td>\n",
       "    </tr>\n",
       "    <tr>\n",
       "      <th>4</th>\n",
       "      <td>U23888305</td>\n",
       "      <td>no</td>\n",
       "      <td>0.0</td>\n",
       "      <td>winter</td>\n",
       "      <td>30 to 44</td>\n",
       "      <td>M</td>\n",
       "      <td>40000</td>\n",
       "      <td>22</td>\n",
       "      <td>1.0</td>\n",
       "      <td>1</td>\n",
       "      <td>...</td>\n",
       "      <td>0.0</td>\n",
       "      <td>0.0</td>\n",
       "      <td>0.0</td>\n",
       "      <td>0.0</td>\n",
       "      <td>0.0</td>\n",
       "      <td>0.0</td>\n",
       "      <td>0.0</td>\n",
       "      <td>-2147483648</td>\n",
       "      <td>1</td>\n",
       "      <td>0</td>\n",
       "    </tr>\n",
       "  </tbody>\n",
       "</table>\n",
       "<p>5 rows × 26 columns</p>\n",
       "</div>"
      ],
      "text/plain": [
       "      custid buyer  total_os      message       age gender  income  education  \\\n",
       "0  U45198803    no       0.0    endurance  30 to 44      M   25000         14   \n",
       "1  U22197752    no       0.0  backcountry  45 to 59      F   40000         44   \n",
       "2  U83874832    no       0.0  backcountry  45 to 59      M   50000         24   \n",
       "3  U19423462    no       0.0       winter  45 to 59      F   50000         26   \n",
       "4  U23888305    no       0.0       winter  30 to 44      M   40000         22   \n",
       "\n",
       "   children  freq_endurance  ...  endurance_os  strength_os  water_os  \\\n",
       "0       1.3               0  ...           0.0          0.0       0.0   \n",
       "1       0.4               2  ...           0.0          0.0       0.0   \n",
       "2       0.8               0  ...           0.0          0.0       0.0   \n",
       "3       1.1               1  ...           0.0          0.0       0.0   \n",
       "4       1.0               1  ...           0.0          0.0       0.0   \n",
       "\n",
       "   team_os  backcountry_os  winter_os  racquet_os    training  representative  \\\n",
       "0      0.0             0.0        0.0         0.0 -2147483648               1   \n",
       "1      0.0             0.0        0.0         0.0 -2147483648               1   \n",
       "2      0.0             0.0        0.0         0.0           1               0   \n",
       "3      0.0             0.0        0.0         0.0 -2147483648               1   \n",
       "4      0.0             0.0        0.0         0.0 -2147483648               1   \n",
       "\n",
       "   buyer_yes  \n",
       "0          0  \n",
       "1          0  \n",
       "2          0  \n",
       "3          0  \n",
       "4          0  \n",
       "\n",
       "[5 rows x 26 columns]"
      ]
     },
     "execution_count": 2,
     "metadata": {},
     "output_type": "execute_result"
    }
   ],
   "source": [
    "import matplotlib as mpl\n",
    "import matplotlib.pyplot as plt\n",
    "import numpy as np\n",
    "import pandas as pd\n",
    "import pyrsm as rsm\n",
    "import seaborn as sns\n",
    "import statsmodels.formula.api as smf\n",
    "from sklearn import preprocessing\n",
    "from statsmodels.genmod.families import Binomial\n",
    "from statsmodels.genmod.families.links import logit\n",
    "\n",
    "from sklearn.preprocessing import StandardScaler\n",
    "\n",
    "from sklearn.linear_model import LogisticRegression\n",
    "from sklearn.model_selection import GridSearchCV, train_test_split\n",
    "from sklearn.neural_network import MLPClassifier\n",
    "\n",
    "import xgboost as xgb\n",
    "\n",
    "from sklearn.ensemble import RandomForestClassifier\n",
    "\n",
    "from sklearn.preprocessing import PolynomialFeatures\n",
    "\n",
    "#increase plot resolution\n",
    "mpl.rcParams[\"figure.dpi\"] = 100\n",
    "\n",
    "# set number of cores if working on server\n",
    "n_jobs = 2\n",
    "\n",
    "## loading the data\n",
    "\n",
    "pentathlon_nptb = pd.read_pickle(\"data/pentathlon_nptb.pkl\")\n",
    "pentathlon_nptb[\"buyer_yes\"] = (pentathlon_nptb[\"buyer\"] == \"yes\").astype(int)\n",
    "pentathlon_nptb.head(5)"
   ]
  },
  {
   "cell_type": "markdown",
   "metadata": {},
   "source": [
    "## Methodology\n",
    "\n",
    "- With limited feature set, all features included in model\n",
    "- Logistic regression made use of an interaction specifically the message sent against each of the other explanatory variables.\n",
    "- Cross validation completed on models to tune hyper parameters\n",
    "- Linear regression done to predict order size (EUR)\n",
    "- 60% of revenue was COGS, 40% margin\n",
    "- Expected profit calculated on the 100k representative sample and 5 million customer base"
   ]
  },
  {
   "cell_type": "markdown",
   "metadata": {},
   "source": [
    "## Value to stakeholder\n",
    "\n",
    "Recommending products through predicted modeling generates expected profit of EUR 26770 on 100k representative sample as compared to a random messaging approach which is expected to generate only EUR 18588, a 44% improvement.\n",
    "\n",
    "Considering Pentathlon's typical e-mail blast to 5 million customers, the expected 'improvement' in profit from the modeling approach is EUR 409120 from using modeling approach."
   ]
  },
  {
   "cell_type": "markdown",
   "metadata": {},
   "source": [
    "## Why interaction of the message against the other features in the logistic model?\n",
    "\n",
    "Endurance has the highest response rate, without interactions, every logistic regression's prediction (i.e. recommended product category) for a new customer would simply be 'endurance'"
   ]
  },
  {
   "cell_type": "code",
   "execution_count": 121,
   "metadata": {},
   "outputs": [
    {
     "data": {
      "image/png": "[encoded data removed]",
      "text/plain": [
       "<Figure size 600x400 with 1 Axes>"
      ]
     },
     "metadata": {
      "needs_background": "light"
     },
     "output_type": "display_data"
    }
   ],
   "source": [
    "plot1 = sns.barplot(data = pentathlon_nptb, x = pentathlon_nptb['message'], y = pentathlon_nptb['buyer_yes'])\n",
    "plot1.set(ylabel=\"Response Rate (yes %/100)\")\n",
    "plot1.set(title=\"All demographics\")\n",
    "for item in (plot1.get_xticklabels()):\n",
    "    item.set_fontsize(8)"
   ]
  },
  {
   "cell_type": "markdown",
   "metadata": {},
   "source": [
    "With interactions, for example in the Age Group '30 to 44', strength has higher response and such interaction effects need to be reflected in the model"
   ]
  },
  {
   "cell_type": "code",
   "execution_count": 120,
   "metadata": {},
   "outputs": [
    {
     "data": {
      "image/png": "[encoded data removed]",
      "text/plain": [
       "<Figure size 600x400 with 1 Axes>"
      ]
     },
     "metadata": {
      "needs_background": "light"
     },
     "output_type": "display_data"
    }
   ],
   "source": [
    "plot2 = sns.barplot(data = pentathlon_nptb, x = pentathlon_nptb.query(\"age == '30 to 44'\")['message'], y = pentathlon_nptb.query(\"age == '30 to 44'\")['buyer_yes'])\n",
    "plot2.set(ylabel=\"Response Rate (yes %/100)\", title=\"Age Group: '30 to 44' only\")\n",
    "\n",
    "for item in (plot2.get_xticklabels()):\n",
    "    item.set_fontsize(8)"
   ]
  },
  {
   "cell_type": "code",
   "execution_count": 5,
   "metadata": {},
   "outputs": [
    {
     "data": {
      "text/plain": [
       "custid                object\n",
       "buyer               category\n",
       "total_os             float64\n",
       "message             category\n",
       "age                 category\n",
       "gender              category\n",
       "income                 int32\n",
       "education              int32\n",
       "children             float64\n",
       "freq_endurance         int32\n",
       "freq_strength          int32\n",
       "freq_water             int32\n",
       "freq_team              int32\n",
       "freq_backcountry       int32\n",
       "freq_winter            int32\n",
       "freq_racquet           int32\n",
       "endurance_os         float64\n",
       "strength_os          float64\n",
       "water_os             float64\n",
       "team_os              float64\n",
       "backcountry_os       float64\n",
       "winter_os            float64\n",
       "racquet_os           float64\n",
       "training               int32\n",
       "representative         int32\n",
       "buyer_yes              int64\n",
       "cweight                int64\n",
       "dtype: object"
      ]
     },
     "execution_count": 5,
     "metadata": {},
     "output_type": "execute_result"
    }
   ],
   "source": [
    "# Data type setting and dummy variable creation and scaling\n",
    "\n",
    "pentathlon_nptb[[\"message\", \"age\", \"gender\"]] = pentathlon_nptb[[\"message\", \"age\", \"gender\"]].astype(\"category\")\n",
    "\n",
    "# true response rate is 1% (yes), 99%(no), adding a weights column to the dataset for scaling and modeling purposes:\n",
    "pentathlon_nptb[\"cweight\"] = rsm.ifelse(pentathlon_nptb.buyer == \"yes\", 1, 99)\n",
    "\n",
    "pentathlon_nptb.dtypes"
   ]
  },
  {
   "cell_type": "code",
   "execution_count": 6,
   "metadata": {},
   "outputs": [],
   "source": [
    "dummies = [\"message\", \"age\", \"gender\", \"training\"]\n",
    "\n",
    "resp = [\"buyer_yes\", \"training\"]\n",
    "\n",
    "rvar = \"buyer_yes\"\n",
    "\n",
    "evar_std = ['income', 'education', 'children', 'freq_endurance', 'freq_strength',\n",
    "       'freq_water', 'freq_team', 'freq_backcountry', 'freq_winter',\n",
    "       'freq_racquet']\n",
    "            \n",
    "idvar = \"custid\"\n",
    "lev = 1\n",
    "\n",
    "eval_dat = pentathlon_nptb[[idvar, rvar, \"training\"]]"
   ]
  },
  {
   "cell_type": "code",
   "execution_count": 7,
   "metadata": {},
   "outputs": [
    {
     "data": {
      "text/plain": [
       "'0.4.6'"
      ]
     },
     "execution_count": 7,
     "metadata": {},
     "output_type": "execute_result"
    }
   ],
   "source": [
    "# the below requires pyrsm version 0.4.2 or greater\n",
    "rsm.__version__"
   ]
  },
  {
   "cell_type": "code",
   "execution_count": 8,
   "metadata": {},
   "outputs": [],
   "source": [
    "X = pd.concat([pentathlon_nptb[evar_std], pd.get_dummies(pentathlon_nptb[dummies])], axis=1)\n",
    "y = pentathlon_nptb[resp]"
   ]
  },
  {
   "cell_type": "markdown",
   "metadata": {},
   "source": [
    "Note about scaling:\n",
    "    \n",
    "- pyrsm's scale_df is a superior scaling function as comapared to sci-kit learn's standard scaler\n",
    "- pyrsm uses a default 2 x s.d. to correct the continuous variables thus making the interpretation of a '2 s.d. unit increase corresponding to a x coefficient increase' consistent across categorical variables \n",
    "- max s.d. of a categorical variable is 0.5, i.e., 1 s.d. unit. However, when a categorical variable value changes from 0 to 1, that corresponds to a change of 2 s.d. units.\n",
    "(see Andrew Gelman's \"SCALING REGRESSION INPUTS BY DIVIDING BY TWO STANDARD DEVIATIONS\")\n",
    "- pyrsm incorporates weights to correct standardize according to the data unbalance"
   ]
  },
  {
   "cell_type": "code",
   "execution_count": 9,
   "metadata": {},
   "outputs": [
    {
     "data": {
      "text/plain": [
       "Index(['income', 'education', 'children', 'freq_endurance', 'freq_strength',\n",
       "       'freq_water', 'freq_team', 'freq_backcountry', 'freq_winter',\n",
       "       'freq_racquet', 'training', 'message_endurance', 'message_strength',\n",
       "       'message_water', 'message_team', 'message_backcountry',\n",
       "       'message_winter', 'message_racquet', 'age_< 30', 'age_30 to 44',\n",
       "       'age_45 to 59', 'age_>= 60', 'gender_M', 'gender_F'],\n",
       "      dtype='object')"
      ]
     },
     "execution_count": 9,
     "metadata": {},
     "output_type": "execute_result"
    }
   ],
   "source": [
    "Xs = rsm.scale_df(X, train=pentathlon_nptb.training == 1, excl=pd.get_dummies(pentathlon_nptb[dummies]).columns, wt = pentathlon_nptb['cweight'])\n",
    "Xs.columns"
   ]
  },
  {
   "cell_type": "code",
   "execution_count": 10,
   "metadata": {},
   "outputs": [
    {
     "data": {
      "text/plain": [
       "Index(['income', 'education', 'children', 'freq_endurance', 'freq_strength',\n",
       "       'freq_water', 'freq_team', 'freq_backcountry', 'freq_winter',\n",
       "       'freq_racquet', 'training', 'message_endurance', 'message_strength',\n",
       "       'message_water', 'message_team', 'message_backcountry',\n",
       "       'message_winter', 'message_racquet', 'age_less_than_30', 'age_30 to 44',\n",
       "       'age_45 to 59', 'age_greater_than_60', 'gender_M', 'gender_F'],\n",
       "      dtype='object')"
      ]
     },
     "execution_count": 10,
     "metadata": {},
     "output_type": "execute_result"
    }
   ],
   "source": [
    "Xs = Xs.rename(columns={'age_< 30': 'age_less_than_30', 'age_>= 60': 'age_greater_than_60'})\n",
    "Xs.columns"
   ]
  },
  {
   "cell_type": "code",
   "execution_count": 11,
   "metadata": {},
   "outputs": [],
   "source": [
    "Xs_train = Xs.query('training == 1')\n",
    "Xs_train = Xs_train.drop('training', axis = 1)\n",
    "\n",
    "Xs_test = Xs.query('training == 0')\n",
    "Xs_test = Xs_test.drop('training', axis = 1)\n",
    "\n",
    "Xs_rep = Xs.query('training != 0 and training != 1')\n",
    "Xs_rep = Xs_rep.drop('training', axis = 1)\n",
    "\n",
    "y_train = y.query('training == 1')\n",
    "y_train = y_train.drop('training', axis = 1)\n",
    "\n",
    "y_test = y.query('training == 0')\n",
    "y_test = y_test.drop('training', axis = 1)\n",
    "\n",
    "y_rep = y.query('training != 0 and training != 1')\n",
    "y_rep = y_rep.drop('training', axis = 1)\n",
    "\n",
    "Xs = Xs.drop('training', axis = 1)"
   ]
  },
  {
   "cell_type": "code",
   "execution_count": 12,
   "metadata": {},
   "outputs": [
    {
     "data": {
      "text/plain": [
       "Index(['custid', 'buyer', 'total_os', 'message', 'age', 'gender', 'income',\n",
       "       'education', 'children', 'freq_endurance', 'freq_strength',\n",
       "       'freq_water', 'freq_team', 'freq_backcountry', 'freq_winter',\n",
       "       'freq_racquet', 'endurance_os', 'strength_os', 'water_os', 'team_os',\n",
       "       'backcountry_os', 'winter_os', 'racquet_os', 'training',\n",
       "       'representative', 'buyer_yes', 'cweight'],\n",
       "      dtype='object')"
      ]
     },
     "execution_count": 12,
     "metadata": {},
     "output_type": "execute_result"
    }
   ],
   "source": [
    "pentathlon_nptb.columns"
   ]
  },
  {
   "cell_type": "markdown",
   "metadata": {},
   "source": [
    "## Statsmodel GLM"
   ]
  },
  {
   "cell_type": "code",
   "execution_count": 13,
   "metadata": {},
   "outputs": [
    {
     "data": {
      "text/plain": [
       "'buyer_yes ~ message + age + gender + income + education + children + freq_endurance + freq_strength + freq_water + freq_team + freq_backcountry + freq_winter + freq_racquet + message:age + message:gender + message:income + message:education + message:children + message : freq_endurance + message : freq_strength + message : freq_water + message : freq_team + message: freq_backcountry + message : freq_winter'"
      ]
     },
     "execution_count": 13,
     "metadata": {},
     "output_type": "execute_result"
    }
   ],
   "source": [
    "# Simple code to avoid typing in features in logit model\n",
    "\n",
    "logit_features = ['message', 'age', 'gender', 'income',\n",
    "       'education', 'children', 'freq_endurance', 'freq_strength',\n",
    "       'freq_water', 'freq_team', 'freq_backcountry', 'freq_winter',\n",
    "       'freq_racquet', 'message:age', 'message:gender', 'message:income', 'message:education','message:children', \n",
    "                  'message : freq_endurance', 'message : freq_strength',\n",
    "       'message : freq_water', 'message : freq_team', 'message: freq_backcountry', 'message : freq_winter']\n",
    "\n",
    "logit_model = \"buyer_yes ~ \"\n",
    "for feat in logit_features:\n",
    "        logit_model = logit_model + feat + \" + \"\n",
    "\n",
    "logit_model = logit_model[:-3]\n",
    "\n",
    "logit_model"
   ]
  },
  {
   "cell_type": "code",
   "execution_count": 14,
   "metadata": {},
   "outputs": [],
   "source": [
    "\n",
    "\n",
    "lr = smf.glm(\n",
    " formula=logit_model,\n",
    " family=Binomial(link=logit()),\n",
    " data=pentathlon_nptb.query(\"training == 1\"),\n",
    " freq_weights=pentathlon_nptb.query(\"training == 1\")[\"cweight\"],\n",
    ").fit(cov_type=\"HC1\")\n",
    "#lr.summary() "
   ]
  },
  {
   "cell_type": "code",
   "execution_count": 15,
   "metadata": {},
   "outputs": [
    {
     "name": "stdout",
     "output_type": "stream",
     "text": [
      "Response rate for the representative sample is:  1.04 %\n"
     ]
    },
    {
     "data": {
      "text/html": [
       "<div>\n",
       "<style scoped>\n",
       "    .dataframe tbody tr th:only-of-type {\n",
       "        vertical-align: middle;\n",
       "    }\n",
       "\n",
       "    .dataframe tbody tr th {\n",
       "        vertical-align: top;\n",
       "    }\n",
       "\n",
       "    .dataframe thead th {\n",
       "        text-align: right;\n",
       "    }\n",
       "</style>\n",
       "<table border=\"1\" class=\"dataframe\">\n",
       "  <thead>\n",
       "    <tr style=\"text-align: right;\">\n",
       "      <th></th>\n",
       "      <th>index</th>\n",
       "      <th>OR</th>\n",
       "      <th>OR%</th>\n",
       "      <th>2.5%</th>\n",
       "      <th>97.5%</th>\n",
       "      <th>p.values</th>\n",
       "      <th></th>\n",
       "    </tr>\n",
       "  </thead>\n",
       "  <tbody>\n",
       "    <tr>\n",
       "      <th>1</th>\n",
       "      <td>message[T.strength]</td>\n",
       "      <td>0.558</td>\n",
       "      <td>-44.2%</td>\n",
       "      <td>0.455</td>\n",
       "      <td>0.684</td>\n",
       "      <td>&lt; .001</td>\n",
       "      <td>***</td>\n",
       "    </tr>\n",
       "    <tr>\n",
       "      <th>2</th>\n",
       "      <td>message[T.water]</td>\n",
       "      <td>0.848</td>\n",
       "      <td>-15.2%</td>\n",
       "      <td>0.693</td>\n",
       "      <td>1.039</td>\n",
       "      <td>0.111</td>\n",
       "      <td></td>\n",
       "    </tr>\n",
       "    <tr>\n",
       "      <th>3</th>\n",
       "      <td>message[T.team]</td>\n",
       "      <td>0.876</td>\n",
       "      <td>-12.4%</td>\n",
       "      <td>0.718</td>\n",
       "      <td>1.070</td>\n",
       "      <td>0.195</td>\n",
       "      <td></td>\n",
       "    </tr>\n",
       "    <tr>\n",
       "      <th>4</th>\n",
       "      <td>message[T.backcountry]</td>\n",
       "      <td>0.903</td>\n",
       "      <td>-9.7%</td>\n",
       "      <td>0.738</td>\n",
       "      <td>1.106</td>\n",
       "      <td>0.325</td>\n",
       "      <td></td>\n",
       "    </tr>\n",
       "    <tr>\n",
       "      <th>5</th>\n",
       "      <td>message[T.winter]</td>\n",
       "      <td>0.549</td>\n",
       "      <td>-45.1%</td>\n",
       "      <td>0.445</td>\n",
       "      <td>0.678</td>\n",
       "      <td>&lt; .001</td>\n",
       "      <td>***</td>\n",
       "    </tr>\n",
       "    <tr>\n",
       "      <th>...</th>\n",
       "      <td>...</td>\n",
       "      <td>...</td>\n",
       "      <td>...</td>\n",
       "      <td>...</td>\n",
       "      <td>...</td>\n",
       "      <td>...</td>\n",
       "      <td>...</td>\n",
       "    </tr>\n",
       "    <tr>\n",
       "      <th>94</th>\n",
       "      <td>message[T.team]:freq_winter</td>\n",
       "      <td>1.313</td>\n",
       "      <td>31.3%</td>\n",
       "      <td>1.168</td>\n",
       "      <td>1.476</td>\n",
       "      <td>&lt; .001</td>\n",
       "      <td>***</td>\n",
       "    </tr>\n",
       "    <tr>\n",
       "      <th>95</th>\n",
       "      <td>message[T.backcountry]:freq_winter</td>\n",
       "      <td>0.950</td>\n",
       "      <td>-5.0%</td>\n",
       "      <td>0.843</td>\n",
       "      <td>1.070</td>\n",
       "      <td>0.396</td>\n",
       "      <td></td>\n",
       "    </tr>\n",
       "    <tr>\n",
       "      <th>96</th>\n",
       "      <td>message[T.winter]:freq_winter</td>\n",
       "      <td>1.906</td>\n",
       "      <td>90.6%</td>\n",
       "      <td>1.698</td>\n",
       "      <td>2.139</td>\n",
       "      <td>&lt; .001</td>\n",
       "      <td>***</td>\n",
       "    </tr>\n",
       "    <tr>\n",
       "      <th>97</th>\n",
       "      <td>message[T.racquet]:freq_winter</td>\n",
       "      <td>1.042</td>\n",
       "      <td>4.2%</td>\n",
       "      <td>0.922</td>\n",
       "      <td>1.177</td>\n",
       "      <td>0.511</td>\n",
       "      <td></td>\n",
       "    </tr>\n",
       "    <tr>\n",
       "      <th>98</th>\n",
       "      <td>freq_racquet</td>\n",
       "      <td>1.145</td>\n",
       "      <td>14.5%</td>\n",
       "      <td>1.137</td>\n",
       "      <td>1.152</td>\n",
       "      <td>&lt; .001</td>\n",
       "      <td>***</td>\n",
       "    </tr>\n",
       "  </tbody>\n",
       "</table>\n",
       "<p>98 rows × 7 columns</p>\n",
       "</div>"
      ],
      "text/plain": [
       "                                 index     OR     OR%   2.5%  97.5% p.values  \\\n",
       "1                  message[T.strength]  0.558  -44.2%  0.455  0.684   < .001   \n",
       "2                     message[T.water]  0.848  -15.2%  0.693  1.039    0.111   \n",
       "3                      message[T.team]  0.876  -12.4%  0.718  1.070    0.195   \n",
       "4               message[T.backcountry]  0.903   -9.7%  0.738  1.106    0.325   \n",
       "5                    message[T.winter]  0.549  -45.1%  0.445  0.678   < .001   \n",
       "..                                 ...    ...     ...    ...    ...      ...   \n",
       "94         message[T.team]:freq_winter  1.313   31.3%  1.168  1.476   < .001   \n",
       "95  message[T.backcountry]:freq_winter  0.950   -5.0%  0.843  1.070    0.396   \n",
       "96       message[T.winter]:freq_winter  1.906   90.6%  1.698  2.139   < .001   \n",
       "97      message[T.racquet]:freq_winter  1.042    4.2%  0.922  1.177    0.511   \n",
       "98                        freq_racquet  1.145   14.5%  1.137  1.152   < .001   \n",
       "\n",
       "         \n",
       "1   ***  \n",
       "2        \n",
       "3        \n",
       "4        \n",
       "5   ***  \n",
       "..  ...  \n",
       "94  ***  \n",
       "95       \n",
       "96  ***  \n",
       "97       \n",
       "98  ***  \n",
       "\n",
       "[98 rows x 7 columns]"
      ]
     },
     "execution_count": 15,
     "metadata": {},
     "output_type": "execute_result"
    }
   ],
   "source": [
    "#pentathlon_nptb[\"p_buyer_yes\"] = lr.predict(pentathlon_nptb)\n",
    "\n",
    "eval_dat = eval_dat.assign(y_glm=lr.predict(pentathlon_nptb))\n",
    "\n",
    "#response rate for the representative sample:\n",
    "print(\"Response rate for the representative sample is: \", round(eval_dat[eval_dat.training == -2147483648].y_glm.mean()*100 , 2), \"%\")\n",
    "\n",
    "rsm.or_ci(lr)"
   ]
  },
  {
   "cell_type": "code",
   "execution_count": 16,
   "metadata": {},
   "outputs": [
    {
     "data": {
      "text/plain": [
       "<AxesSubplot:xlabel='Proportion of customers', ylabel='Cumulative gains'>"
      ]
     },
     "execution_count": 16,
     "metadata": {},
     "output_type": "execute_result"
    },
    {
     "data": {
      "image/png": "[encoded data removed]",
      "text/plain": [
       "<Figure size 600x400 with 1 Axes>"
      ]
     },
     "metadata": {
      "needs_background": "light"
     },
     "output_type": "display_data"
    }
   ],
   "source": [
    "dct = {\n",
    "    \"training\": eval_dat[eval_dat.training == 1],\n",
    "    \"test\": eval_dat[eval_dat.training == 0],\n",
    "    \"rep\": eval_dat[eval_dat.training == -2147483648]\n",
    "}\n",
    "\n",
    "rsm.gains_plot(dct, rvar, lev, pred = 'y_glm', qnt=10, marker=\"o\")"
   ]
  },
  {
   "cell_type": "markdown",
   "metadata": {},
   "source": [
    "- No indication of overfitting - test and train align\n",
    "- Representative sample is unbalanced with 1% of the sample likely to respond. It is expected that the top decile is going to yield the majority of the responses."
   ]
  },
  {
   "cell_type": "markdown",
   "metadata": {},
   "source": [
    "## SciKit Learn Logistic Model"
   ]
  },
  {
   "cell_type": "markdown",
   "metadata": {},
   "source": [
    "The output from a logistic regression model without interactions are explored here:"
   ]
  },
  {
   "cell_type": "code",
   "execution_count": 17,
   "metadata": {},
   "outputs": [
    {
     "name": "stdout",
     "output_type": "stream",
     "text": [
      "Optimal Parameter, L1\n"
     ]
    },
    {
     "data": {
      "text/plain": [
       "0.75"
      ]
     },
     "execution_count": 17,
     "metadata": {},
     "output_type": "execute_result"
    }
   ],
   "source": [
    "clf_lr = LogisticRegression(random_state=1234, max_iter=1000, solver=\"saga\", penalty=\"l1\", class_weight = {0: 99/100, 1: 1/100})\n",
    "param_grid_lr = {\"C\": [0.75]}\n",
    "#param_grid_lr = {\"C\": [1.5, 1.25, 1, 0.75, 0.5]}\n",
    "lr_cv = GridSearchCV(clf_lr, param_grid_lr, cv=5, scoring=\"roc_auc\")\n",
    "lr_cv.fit(Xs_train, y_train.buyer_yes)\n",
    "\n",
    "# results from CV for logistic regression with regularization\n",
    "cv_results = pd.DataFrame(lr_cv.cv_results_).sort_values(by=[\"rank_test_score\"])\n",
    "print('Optimal Parameter, L1')\n",
    "cv_results.iloc[0, cv_results.columns.get_loc(\"param_C\")]"
   ]
  },
  {
   "cell_type": "code",
   "execution_count": 18,
   "metadata": {},
   "outputs": [
    {
     "name": "stdout",
     "output_type": "stream",
     "text": [
      "Response rate for the representative sample is:  1.01 %\n"
     ]
    }
   ],
   "source": [
    "lr_best = LogisticRegression(\n",
    "    random_state=1234,\n",
    "    max_iter=1000,\n",
    "    solver=\"saga\",\n",
    "    penalty=\"l1\",\n",
    "    C=cv_results.iloc[0, cv_results.columns.get_loc(\"param_C\")],\n",
    "    class_weight = {0: 99/100, 1: 1/100}\n",
    ").fit(Xs_train, y_train.buyer_yes)\n",
    "\n",
    "eval_dat = eval_dat.assign(\n",
    "    y_lasso=lr_best.predict_proba(Xs)[:, 1]\n",
    ")\n",
    "\n",
    "#response rate for the representative sample:\n",
    "print(\"Response rate for the representative sample is: \", round(eval_dat[eval_dat.training == -2147483648].y_lasso.mean()*100 , 2), \"%\")\n",
    "\n",
    "#coef = lr_best.coef_\n",
    "#pd.DataFrame({\"labels\": Xs.columns, \"coefficients\": coef[0], \"OR\": np.exp(coef[0])})"
   ]
  },
  {
   "cell_type": "code",
   "execution_count": 19,
   "metadata": {},
   "outputs": [
    {
     "data": {
      "text/plain": [
       "<AxesSubplot:xlabel='Proportion of customers', ylabel='Cumulative gains'>"
      ]
     },
     "execution_count": 19,
     "metadata": {},
     "output_type": "execute_result"
    },
    {
     "data": {
      "image/png": "[encoded data removed]",
      "text/plain": [
       "<Figure size 600x400 with 1 Axes>"
      ]
     },
     "metadata": {
      "needs_background": "light"
     },
     "output_type": "display_data"
    }
   ],
   "source": [
    "dct = {\n",
    "    \"training\": eval_dat[eval_dat.training == 1],\n",
    "    \"test\": eval_dat[eval_dat.training == 0],\n",
    "    \"rep\": eval_dat[eval_dat.training == -2147483648]\n",
    "}\n",
    "\n",
    "rsm.gains_plot(dct, rvar, lev, pred = 'y_lasso', qnt=10, marker=\"o\")"
   ]
  },
  {
   "cell_type": "markdown",
   "metadata": {},
   "source": [
    "No indication of overfitting - test and train align"
   ]
  },
  {
   "cell_type": "markdown",
   "metadata": {},
   "source": [
    "## Neural Network\n",
    "\n",
    "- cross validation has been completed with a range of hyper parameters to select one with highest AUC\n",
    "- no provision for applying case weights in sci kit learn's neural network MLP clssifier, thus predicted response will be exaggerated"
   ]
  },
  {
   "cell_type": "code",
   "execution_count": 20,
   "metadata": {},
   "outputs": [],
   "source": [
    "nr_hnodes = range(1, 5) \n",
    "hls = list(zip(nr_hnodes)) + list(zip(nr_hnodes, nr_hnodes))\n",
    "hls = (4,4) # selected 2 hidden layers with 4 nodes in each"
   ]
  },
  {
   "cell_type": "code",
   "execution_count": 21,
   "metadata": {},
   "outputs": [
    {
     "name": "stdout",
     "output_type": "stream",
     "text": [
      "Fitting 5 folds for each of 2 candidates, totalling 10 fits\n"
     ]
    },
    {
     "data": {
      "text/plain": [
       "GridSearchCV(cv=5,\n",
       "             estimator=MLPClassifier(activation='tanh', alpha=0.01,\n",
       "                                     hidden_layer_sizes=(1,), max_iter=10000,\n",
       "                                     random_state=1234, solver='lbfgs'),\n",
       "             n_jobs=2,\n",
       "             param_grid={'alpha': [0.75], 'hidden_layer_sizes': (4, 4)},\n",
       "             refit='AUC', scoring={'AUC': 'roc_auc'}, verbose=5)"
      ]
     },
     "execution_count": 21,
     "metadata": {},
     "output_type": "execute_result"
    }
   ],
   "source": [
    "param_grid_nn = {\n",
    "    'hidden_layer_sizes': hls,\n",
    "    'alpha': [0.75]\n",
    "    #'alpha': [0.25, 0.5, 0.75, 1.0] #cross validation has been completed with a range of hyper parameters to select one with highest AUC\n",
    "}\n",
    "scoring = {'AUC': 'roc_auc'}\n",
    "\n",
    "\n",
    "\n",
    "clf_nn = MLPClassifier(\n",
    "    activation=\"tanh\",\n",
    "    solver=\"lbfgs\",\n",
    "    alpha=0.01,\n",
    "    hidden_layer_sizes=(1,),\n",
    "    random_state=1234,\n",
    "    max_iter=10000\n",
    ").fit(Xs_train, y_train.buyer_yes)\n",
    "\n",
    "clf_nn_cv = GridSearchCV(\n",
    "    clf_nn, param_grid_nn, scoring=scoring, cv=5, n_jobs=n_jobs, refit='AUC', verbose=5\n",
    ")\n",
    "clf_nn_cv.fit(Xs_train, y_train.buyer_yes)"
   ]
  },
  {
   "cell_type": "code",
   "execution_count": 22,
   "metadata": {},
   "outputs": [
    {
     "name": "stdout",
     "output_type": "stream",
     "text": [
      "Optimal hyper parameters are:\n"
     ]
    },
    {
     "data": {
      "text/plain": [
       "param_alpha                 0.75\n",
       "param_hidden_layer_sizes       4\n",
       "Name: 0, dtype: object"
      ]
     },
     "execution_count": 22,
     "metadata": {},
     "output_type": "execute_result"
    }
   ],
   "source": [
    "cv_results = pd.DataFrame(clf_nn_cv.cv_results_).sort_values(by='rank_test_AUC')\n",
    "\n",
    "print ('Optimal hyper parameters are:')\n",
    "\n",
    "cv_results.iloc[\n",
    "    0,\n",
    "    [cv_results.columns.get_loc(c) for c in ['param_alpha', 'param_hidden_layer_sizes']],\n",
    "]"
   ]
  },
  {
   "cell_type": "code",
   "execution_count": 26,
   "metadata": {},
   "outputs": [
    {
     "name": "stdout",
     "output_type": "stream",
     "text": [
      "Making sure order of categorical response is correct, expect [0: no, 1: yes]\n",
      "[0 1]\n"
     ]
    }
   ],
   "source": [
    "print(\"Making sure order of categorical response is correct, expect [0: no, 1: yes]\")\n",
    "print(clf_nn_cv.classes_)"
   ]
  },
  {
   "cell_type": "code",
   "execution_count": 27,
   "metadata": {},
   "outputs": [
    {
     "name": "stdout",
     "output_type": "stream",
     "text": [
      "Response rate for the representative sample is:  27.02 %\n"
     ]
    }
   ],
   "source": [
    "eval_dat = eval_dat.assign(\n",
    "        y_nn_cv=clf_nn_cv.best_estimator_.predict_proba(Xs)[:, 1]\n",
    "    )\n",
    "\n",
    "#response rate for the representative sample:\n",
    "print(\"Response rate for the representative sample is: \", round(eval_dat[eval_dat.training == -2147483648].y_nn_cv.mean()*100 , 2), \"%\")"
   ]
  },
  {
   "cell_type": "code",
   "execution_count": 28,
   "metadata": {},
   "outputs": [
    {
     "data": {
      "text/plain": [
       "<AxesSubplot:xlabel='Proportion of customers', ylabel='Cumulative gains'>"
      ]
     },
     "execution_count": 28,
     "metadata": {},
     "output_type": "execute_result"
    },
    {
     "data": {
      "image/png": "[encoded data removed]",
      "text/plain": [
       "<Figure size 600x400 with 1 Axes>"
      ]
     },
     "metadata": {
      "needs_background": "light"
     },
     "output_type": "display_data"
    }
   ],
   "source": [
    "dct = {\n",
    "    \"training\": eval_dat[eval_dat.training == 1],\n",
    "    \"test\": eval_dat[eval_dat.training == 0],\n",
    "    \"rep\": eval_dat[eval_dat.training == -2147483648]\n",
    "}\n",
    "\n",
    "rsm.gains_plot(dct, rvar, lev, pred = 'y_nn_cv', qnt=10, marker=\"o\")"
   ]
  },
  {
   "cell_type": "markdown",
   "metadata": {},
   "source": [
    "No indication of overfitting - test and train align"
   ]
  },
  {
   "cell_type": "markdown",
   "metadata": {},
   "source": [
    "## Random Forest\n",
    "\n",
    "- case weights attempted to be applied in random forest\n",
    "- cross validation has been completed with a range of hyper parameters to select one with highest AUC"
   ]
  },
  {
   "cell_type": "code",
   "execution_count": 29,
   "metadata": {},
   "outputs": [
    {
     "data": {
      "text/plain": [
       "{'n_estimators': [400], 'max_features': [4]}"
      ]
     },
     "execution_count": 29,
     "metadata": {},
     "output_type": "execute_result"
    }
   ],
   "source": [
    "clf_rf = RandomForestClassifier(class_weight = {0: 99, 1: 1}) \n",
    "param_grid_rf = {\n",
    "    \"n_estimators\": [400],\n",
    "    #\"n_estimators\": list(range(100, 401, 100)), #cross validation has been completed with a range of hyper parameters to select one with highest AUC\n",
    "    \"max_features\": [4],\n",
    "    #\"max_features\": range(3, 6), \n",
    "}\n",
    "scoring = {\"AUC\": \"roc_auc\"}\n",
    "param_grid_rf"
   ]
  },
  {
   "cell_type": "code",
   "execution_count": 30,
   "metadata": {},
   "outputs": [
    {
     "name": "stdout",
     "output_type": "stream",
     "text": [
      "Fitting 5 folds for each of 1 candidates, totalling 5 fits\n"
     ]
    }
   ],
   "source": [
    "clf_rf_cv = GridSearchCV(\n",
    "    clf_rf, param_grid_rf, scoring=scoring, cv=5, n_jobs=n_jobs, refit=\"AUC\", verbose=5\n",
    ").fit(Xs_train, y_train.buyer_yes)"
   ]
  },
  {
   "cell_type": "code",
   "execution_count": 31,
   "metadata": {},
   "outputs": [
    {
     "name": "stdout",
     "output_type": "stream",
     "text": [
      "{'max_features': 4, 'n_estimators': 400}\n",
      "0.8812732734693878\n"
     ]
    }
   ],
   "source": [
    "print(clf_rf_cv.best_params_)\n",
    "print(clf_rf_cv.best_score_)"
   ]
  },
  {
   "cell_type": "code",
   "execution_count": 32,
   "metadata": {},
   "outputs": [],
   "source": [
    "clf_rf = RandomForestClassifier(\n",
    "    n_estimators=clf_rf_cv.best_params_[\"n_estimators\"],\n",
    "    max_features=clf_rf_cv.best_params_[\"max_features\"],\n",
    "    oob_score=True,\n",
    "    random_state=1234,\n",
    "    class_weight = {0: 99, 1: 1}\n",
    ").fit(Xs_train, y_train.buyer_yes)"
   ]
  },
  {
   "cell_type": "code",
   "execution_count": 33,
   "metadata": {},
   "outputs": [
    {
     "name": "stdout",
     "output_type": "stream",
     "text": [
      "Response rate for the representative sample is:  28.82 %\n"
     ]
    }
   ],
   "source": [
    "eval_dat[\"y_rf_cv\"] = 0  # set some initial value\n",
    "eval_dat.loc[eval_dat.training == 1, \"y_rf_cv\"] = clf_rf.oob_decision_function_[:, 1]\n",
    "eval_dat.loc[eval_dat.training == 0, \"y_rf_cv\"] = clf_rf.predict_proba(Xs_test)[:, 1]\n",
    "eval_dat.loc[eval_dat.training == -2147483648, \"y_rf_cv\"] = clf_rf.predict_proba(Xs_rep)[:, 1]\n",
    "\n",
    "#response rate for the representative sample:\n",
    "print(\"Response rate for the representative sample is: \", round(eval_dat[eval_dat.training == -2147483648].y_rf_cv.mean()*100 , 2), \"%\")"
   ]
  },
  {
   "cell_type": "markdown",
   "metadata": {},
   "source": [
    "A high response rate is observed from the random forest model, suggesting case weights did not apply to correct the data unbalance"
   ]
  },
  {
   "cell_type": "code",
   "execution_count": 34,
   "metadata": {},
   "outputs": [
    {
     "data": {
      "text/plain": [
       "<AxesSubplot:xlabel='Proportion of customers', ylabel='Cumulative gains'>"
      ]
     },
     "execution_count": 34,
     "metadata": {},
     "output_type": "execute_result"
    },
    {
     "data": {
      "image/png": "[encoded data removed]",
      "text/plain": [
       "<Figure size 600x400 with 1 Axes>"
      ]
     },
     "metadata": {
      "needs_background": "light"
     },
     "output_type": "display_data"
    }
   ],
   "source": [
    "dct = {\n",
    "    \"training\": eval_dat[eval_dat.training == 1],\n",
    "    \"test\": eval_dat[eval_dat.training == 0],\n",
    "    \"rep\": eval_dat[eval_dat.training == -2147483648]\n",
    "}\n",
    "\n",
    "rsm.gains_plot(dct, rvar, lev, pred = 'y_rf_cv', qnt=10, marker=\"o\")"
   ]
  },
  {
   "cell_type": "markdown",
   "metadata": {},
   "source": [
    "No indication of overfitting - test and train align"
   ]
  },
  {
   "cell_type": "markdown",
   "metadata": {},
   "source": [
    "## XG Boosted Tree\n",
    "\n",
    "- case weights successfully applied in XGB\n",
    "- cross validation has been completed with a range of hyper parameters to select one with highest AUC"
   ]
  },
  {
   "cell_type": "code",
   "execution_count": 35,
   "metadata": {},
   "outputs": [
    {
     "data": {
      "text/plain": [
       "{'max_depth': [4], 'n_estimators': [200]}"
      ]
     },
     "execution_count": 35,
     "metadata": {},
     "output_type": "execute_result"
    }
   ],
   "source": [
    "clf_xgb = xgb.XGBClassifier(scale_pos_weight = 1/99, #case weights applied in XGB\n",
    "    objective='binary:logistic',\n",
    "    use_label_encoder=False,\n",
    "    learning_rate = float,\n",
    "    tree_method = str,\n",
    "    eval_metric=\"auc\",\n",
    "    random_state=42) \n",
    "param_grid_xgb = {\n",
    "    \"max_depth\": [4],\n",
    "    #\"max_depth\": list(range(1, 5)), #cross validation has been completed with a range of hyper parameters to select one with highest AUC\n",
    "    \"n_estimators\": [200],\n",
    "    #\"n_estimators\": list(range(100, 401, 100)), #cross validation has been completed with a range of hyper parameters to select one with highest AUC\n",
    "}\n",
    "scoring = {\"AUC\": \"roc_auc\"}\n",
    "param_grid_xgb"
   ]
  },
  {
   "cell_type": "code",
   "execution_count": 36,
   "metadata": {},
   "outputs": [
    {
     "name": "stdout",
     "output_type": "stream",
     "text": [
      "Fitting 5 folds for each of 1 candidates, totalling 5 fits\n"
     ]
    }
   ],
   "source": [
    "clf_xgb_cv = GridSearchCV(\n",
    "    clf_xgb, param_grid_xgb, scoring=scoring, cv=5, n_jobs=n_jobs, refit=\"AUC\", verbose=5 \n",
    ").fit(Xs_train, y_train.buyer_yes)"
   ]
  },
  {
   "cell_type": "code",
   "execution_count": 37,
   "metadata": {},
   "outputs": [
    {
     "name": "stdout",
     "output_type": "stream",
     "text": [
      "{'max_depth': 4, 'n_estimators': 200}\n",
      "0.8861579897959183\n"
     ]
    }
   ],
   "source": [
    "print(clf_xgb_cv.best_params_)\n",
    "print(clf_xgb_cv.best_score_)"
   ]
  },
  {
   "cell_type": "code",
   "execution_count": 38,
   "metadata": {},
   "outputs": [
    {
     "name": "stdout",
     "output_type": "stream",
     "text": [
      "Response rate for the representative sample is:  1.36 %\n"
     ]
    }
   ],
   "source": [
    "# predict for the entire dataset\n",
    "eval_dat[\"y_xgb_cv\"] = clf_xgb_cv.predict_proba(Xs)[:, 1]\n",
    "\n",
    "#response rate for the representative sample:\n",
    "print(\"Response rate for the representative sample is: \", round(eval_dat[eval_dat.training == -2147483648].y_xgb_cv.mean()*100 , 2), \"%\")"
   ]
  },
  {
   "cell_type": "code",
   "execution_count": 39,
   "metadata": {},
   "outputs": [
    {
     "data": {
      "text/plain": [
       "<AxesSubplot:xlabel='Proportion of customers', ylabel='Cumulative gains'>"
      ]
     },
     "execution_count": 39,
     "metadata": {},
     "output_type": "execute_result"
    },
    {
     "data": {
      "image/png": "[encoded data removed]",
      "text/plain": [
       "<Figure size 600x400 with 1 Axes>"
      ]
     },
     "metadata": {
      "needs_background": "light"
     },
     "output_type": "display_data"
    }
   ],
   "source": [
    "dct = {\n",
    "    \"training\": eval_dat[eval_dat.training == 1],\n",
    "    \"test\": eval_dat[eval_dat.training == 0],\n",
    "    \"rep\": eval_dat[eval_dat.training == -2147483648]\n",
    "}\n",
    "\n",
    "rsm.gains_plot(dct, rvar, lev, pred = 'y_xgb_cv', qnt=10, marker=\"o\")"
   ]
  },
  {
   "cell_type": "markdown",
   "metadata": {},
   "source": [
    "No indication of overfitting - test and train align"
   ]
  },
  {
   "cell_type": "markdown",
   "metadata": {},
   "source": [
    "## Models Evaluation"
   ]
  },
  {
   "cell_type": "code",
   "execution_count": 40,
   "metadata": {},
   "outputs": [
    {
     "data": {
      "text/html": [
       "<div>\n",
       "<style scoped>\n",
       "    .dataframe tbody tr th:only-of-type {\n",
       "        vertical-align: middle;\n",
       "    }\n",
       "\n",
       "    .dataframe tbody tr th {\n",
       "        vertical-align: top;\n",
       "    }\n",
       "\n",
       "    .dataframe thead th {\n",
       "        text-align: right;\n",
       "    }\n",
       "</style>\n",
       "<table border=\"1\" class=\"dataframe\">\n",
       "  <thead>\n",
       "    <tr style=\"text-align: right;\">\n",
       "      <th></th>\n",
       "      <th>Type</th>\n",
       "      <th>predictor</th>\n",
       "      <th>total</th>\n",
       "      <th>AUC</th>\n",
       "    </tr>\n",
       "  </thead>\n",
       "  <tbody>\n",
       "    <tr>\n",
       "      <th>0</th>\n",
       "      <td>training</td>\n",
       "      <td>y_glm</td>\n",
       "      <td>70000</td>\n",
       "      <td>0.88</td>\n",
       "    </tr>\n",
       "    <tr>\n",
       "      <th>1</th>\n",
       "      <td>training</td>\n",
       "      <td>y_lasso</td>\n",
       "      <td>70000</td>\n",
       "      <td>0.88</td>\n",
       "    </tr>\n",
       "    <tr>\n",
       "      <th>2</th>\n",
       "      <td>training</td>\n",
       "      <td>y_nn_cv</td>\n",
       "      <td>70000</td>\n",
       "      <td>0.89</td>\n",
       "    </tr>\n",
       "    <tr>\n",
       "      <th>3</th>\n",
       "      <td>training</td>\n",
       "      <td>y_rf_cv</td>\n",
       "      <td>70000</td>\n",
       "      <td>0.88</td>\n",
       "    </tr>\n",
       "    <tr>\n",
       "      <th>4</th>\n",
       "      <td>training</td>\n",
       "      <td>y_xgb_cv</td>\n",
       "      <td>70000</td>\n",
       "      <td>0.89</td>\n",
       "    </tr>\n",
       "    <tr>\n",
       "      <th>5</th>\n",
       "      <td>test</td>\n",
       "      <td>y_glm</td>\n",
       "      <td>30000</td>\n",
       "      <td>0.88</td>\n",
       "    </tr>\n",
       "    <tr>\n",
       "      <th>6</th>\n",
       "      <td>test</td>\n",
       "      <td>y_lasso</td>\n",
       "      <td>30000</td>\n",
       "      <td>0.88</td>\n",
       "    </tr>\n",
       "    <tr>\n",
       "      <th>7</th>\n",
       "      <td>test</td>\n",
       "      <td>y_nn_cv</td>\n",
       "      <td>30000</td>\n",
       "      <td>0.89</td>\n",
       "    </tr>\n",
       "    <tr>\n",
       "      <th>8</th>\n",
       "      <td>test</td>\n",
       "      <td>y_rf_cv</td>\n",
       "      <td>30000</td>\n",
       "      <td>0.88</td>\n",
       "    </tr>\n",
       "    <tr>\n",
       "      <th>9</th>\n",
       "      <td>test</td>\n",
       "      <td>y_xgb_cv</td>\n",
       "      <td>30000</td>\n",
       "      <td>0.89</td>\n",
       "    </tr>\n",
       "    <tr>\n",
       "      <th>10</th>\n",
       "      <td>rep</td>\n",
       "      <td>y_glm</td>\n",
       "      <td>100000</td>\n",
       "      <td>0.88</td>\n",
       "    </tr>\n",
       "    <tr>\n",
       "      <th>11</th>\n",
       "      <td>rep</td>\n",
       "      <td>y_lasso</td>\n",
       "      <td>100000</td>\n",
       "      <td>0.88</td>\n",
       "    </tr>\n",
       "    <tr>\n",
       "      <th>12</th>\n",
       "      <td>rep</td>\n",
       "      <td>y_nn_cv</td>\n",
       "      <td>100000</td>\n",
       "      <td>0.89</td>\n",
       "    </tr>\n",
       "    <tr>\n",
       "      <th>13</th>\n",
       "      <td>rep</td>\n",
       "      <td>y_rf_cv</td>\n",
       "      <td>100000</td>\n",
       "      <td>0.88</td>\n",
       "    </tr>\n",
       "    <tr>\n",
       "      <th>14</th>\n",
       "      <td>rep</td>\n",
       "      <td>y_xgb_cv</td>\n",
       "      <td>100000</td>\n",
       "      <td>0.89</td>\n",
       "    </tr>\n",
       "  </tbody>\n",
       "</table>\n",
       "</div>"
      ],
      "text/plain": [
       "        Type predictor   total   AUC\n",
       "0   training     y_glm   70000  0.88\n",
       "1   training   y_lasso   70000  0.88\n",
       "2   training   y_nn_cv   70000  0.89\n",
       "3   training   y_rf_cv   70000  0.88\n",
       "4   training  y_xgb_cv   70000  0.89\n",
       "5       test     y_glm   30000  0.88\n",
       "6       test   y_lasso   30000  0.88\n",
       "7       test   y_nn_cv   30000  0.89\n",
       "8       test   y_rf_cv   30000  0.88\n",
       "9       test  y_xgb_cv   30000  0.89\n",
       "10       rep     y_glm  100000  0.88\n",
       "11       rep   y_lasso  100000  0.88\n",
       "12       rep   y_nn_cv  100000  0.89\n",
       "13       rep   y_rf_cv  100000  0.88\n",
       "14       rep  y_xgb_cv  100000  0.89"
      ]
     },
     "execution_count": 40,
     "metadata": {},
     "output_type": "execute_result"
    }
   ],
   "source": [
    "rsm.evalbin(dct, rvar, lev, pred = ['y_glm','y_lasso', 'y_nn_cv', 'y_rf_cv','y_xgb_cv'], cost = 1, margin=2, dec=2)[['Type', 'predictor', 'total', 'AUC']]"
   ]
  },
  {
   "cell_type": "code",
   "execution_count": 41,
   "metadata": {},
   "outputs": [
    {
     "data": {
      "text/plain": [
       "<AxesSubplot:xlabel='Proportion of customers', ylabel='Cumulative gains'>"
      ]
     },
     "execution_count": 41,
     "metadata": {},
     "output_type": "execute_result"
    },
    {
     "data": {
      "image/png": "[encoded data removed]",
      "text/plain": [
       "<Figure size 600x400 with 1 Axes>"
      ]
     },
     "metadata": {
      "needs_background": "light"
     },
     "output_type": "display_data"
    }
   ],
   "source": [
    "df = {\n",
    "    \"test\": eval_dat[eval_dat.training == 0]\n",
    "}\n",
    "\n",
    "rsm.gains_plot(df, rvar, lev, pred = ['y_glm','y_lasso', 'y_nn_cv', 'y_rf_cv','y_xgb_cv'], qnt=10, marker=\"o\")"
   ]
  },
  {
   "cell_type": "markdown",
   "metadata": {},
   "source": [
    "- Because a breakeven metric is unavailable in the NPTB problem, AUC is the chosen metric to evaluate the models. <br>\n",
    "- All models yield similar AUC (area under curve). <br>\n",
    "- The sci kit learn models (NN, RF, Lasso Regression, XGB) could potentially outperform the statsmodel GLM provided tuning is done on a more comprehensive set of hyper parameters (i.e. greater resolution, more # of parameters) such that global optimum is not missed. Such computation is, however, very time intensive. <br>\n",
    "- Without uncovering a global optimum on the sci kit learn models, unfortunately with a changed random state, model does not yield a unique solution. <br>"
   ]
  },
  {
   "cell_type": "markdown",
   "metadata": {},
   "source": [
    "Case Weight correction:\n",
    "\n",
    "- Neural network and random forest, which does not make use of case weights to correct predicted response rate commensurate to the population,consequently projected profits from these two models are unrealistically high. <br>\n",
    "\n",
    "- The Scikit learn's lasso model did not apply interactions and basically all customers were assigned a message of Endurance, i.e., the message with highest average response rate. <br>\n",
    "\n",
    "- The XGB Boost model is considered representative because case weights was applied correctly. With further refinement of hyper parameter tuning, the model could potentially meet or beat GLM/Statsmodel performance"
   ]
  },
  {
   "cell_type": "markdown",
   "metadata": {},
   "source": [
    "## Projected Profit Calculations\n",
    "\n",
    "A generalized linear model (GLM) with the statsmodel package was selected.\n",
    "\n",
    "Interactions were included in this model such that predictions could be made specific to unique customer demographics and purchasing behaviour rather than assigning the one message (i.e. Endurance) that yielded maximum average profit. For eg. while females preferred endurance products over strength products, males showed similar preference for strength and endurance products and thus for males, the interaction model could accordingly more or less equally assign 'strength' and 'endurance' messages to males.\n",
    "\n",
    "The GLM was then used to predict customer likelihood of purchase if every customer was assigned one of the 7 messages. If a particular message, say 'Strength' was sent to a customer, what would her/his likelihood of response be and how much could they be expected to pay? \n",
    "\n",
    "The message that yielded the highest likelihood of response for a particular customer was then selected as the message to offer. "
   ]
  },
  {
   "cell_type": "markdown",
   "metadata": {},
   "source": [
    "The following linear regression model predicts expected order size (EUR) based on the same factors used in the logistic model. Response variable is total order size (EUR)."
   ]
  },
  {
   "cell_type": "code",
   "execution_count": 97,
   "metadata": {},
   "outputs": [],
   "source": [
    "logit_ordersize = \"total_os ~ \"\n",
    "for feat in logit_features:\n",
    "        logit_ordersize = logit_ordersize + feat + \" + \"\n",
    "\n",
    "logit_ordersize = logit_ordersize[:-3]\n",
    "\n",
    "lr_os = smf.ols(\n",
    " formula=logit_ordersize,\n",
    " data=pentathlon_nptb.query(\"training == 1\"),\n",
    " freq_weights=pentathlon_nptb.query(\"training == 1\")[\"cweight\"],\n",
    ").fit(cov_type=\"HC1\")"
   ]
  },
  {
   "cell_type": "code",
   "execution_count": 98,
   "metadata": {},
   "outputs": [],
   "source": [
    "pentathlon_nptb = pentathlon_nptb.assign(predicted_total_os=rsm.ifelse(lr_os.predict(pentathlon_nptb) >= 0, lr_os.predict(pentathlon_nptb), 0))"
   ]
  },
  {
   "cell_type": "code",
   "execution_count": 99,
   "metadata": {},
   "outputs": [],
   "source": [
    "# Below code applies predictions from the Scikit learn models:\n",
    "\n",
    "#model = lr_best\n",
    "#model = clf_nn_cv\n",
    "#model = clf_xgb_cv\n",
    "#model = clf_rf\n",
    "\n",
    "#caution: random forest (rf) model displays very good fit with training data, thus predictions on the training data set using rf will be exagerrated\n",
    "#eval_dat.loc[eval_dat.training == 1, \"y_rf_cv\"] = clf_rf.oob_decision_function_[:, 1]\n",
    "#eval_dat.loc[eval_dat.training == 0, \"y_rf_cv\"] = clf_rf.predict_proba(Xs_test)[:, 1]\n",
    "#eval_dat.loc[eval_dat.training == -2147483648, \"y_rf_cv\"] = clf_rf.predict_proba(Xs_rep)[:, 1]\n",
    "\n",
    "#pentathlon_nptb[\"p_endurance\"] = model.predict_proba(Xs.assign(message_endurance = 1, message_strength = 0, message_water = 0, message_team = 0, message_backcountry = 0, message_winter = 0, message_racquet = 0))[:, 1]\n",
    "#pentathlon_nptb[\"p_strength\"] = model.predict_proba(Xs.assign(message_endurance = 0, message_strength = 1, message_water = 0, message_team = 0, message_backcountry = 0, message_winter = 0, message_racquet = 0))[:, 1]\n",
    "#pentathlon_nptb[\"p_water\"] = model.predict_proba(Xs.assign(message_endurance = 0, message_strength = 0, message_water = 1, message_team = 0, message_backcountry = 0, message_winter = 0, message_racquet = 0))[:, 1]\n",
    "#pentathlon_nptb[\"p_team\"] = model.predict_proba(Xs.assign(message_endurance = 0, message_strength = 0, message_water = 0, message_team = 1, message_backcountry = 0, message_winter = 0, message_racquet = 0))[:, 1]\n",
    "#pentathlon_nptb[\"p_backcountry\"] = model.predict_proba(Xs.assign(message_endurance = 0, message_strength = 0, message_water = 0, message_team = 0, message_backcountry = 1, message_winter = 0, message_racquet = 0))[:, 1]\n",
    "#pentathlon_nptb[\"p_winter\"] = model.predict_proba(Xs.assign(message_endurance = 0, message_strength = 0, message_water = 0, message_team = 0, message_backcountry = 0, message_winter = 1, message_racquet = 0))[:, 1]\n",
    "#pentathlon_nptb[\"p_racquet\"] = model.predict_proba(Xs.assign(message_endurance = 0, message_strength = 0, message_water = 0, message_team = 0, message_backcountry = 0, message_winter = 0, message_racquet = 1))[:, 1]"
   ]
  },
  {
   "cell_type": "code",
   "execution_count": 100,
   "metadata": {},
   "outputs": [],
   "source": [
    "# Below code applies predictions from GLM / Statsmodel:\n",
    "# \n",
    "pentathlon_nptb[\"p_endurance\"] = lr.predict(pentathlon_nptb.assign(message=\"endurance\"))\n",
    "pentathlon_nptb[\"p_strength\"] = lr.predict(pentathlon_nptb.assign(message=\"strength\"))\n",
    "pentathlon_nptb[\"p_water\"] = lr.predict(pentathlon_nptb.assign(message=\"water\"))\n",
    "pentathlon_nptb[\"p_team\"] = lr.predict(pentathlon_nptb.assign(message=\"team\"))\n",
    "pentathlon_nptb[\"p_backcountry\"] = lr.predict(pentathlon_nptb.assign(message=\"backcountry\"))\n",
    "pentathlon_nptb[\"p_winter\"] = lr.predict(pentathlon_nptb.assign(message=\"winter\"))\n",
    "pentathlon_nptb[\"p_racquet\"] = lr.predict(pentathlon_nptb.assign(message=\"racquet\"))\n",
    "\n",
    "pentathlon_nptb[\"os_endurance\"] = lr_os.predict(pentathlon_nptb.assign(message=\"endurance\"))\n",
    "pentathlon_nptb[\"os_strength\"] = lr_os.predict(pentathlon_nptb.assign(message=\"strength\"))\n",
    "pentathlon_nptb[\"os_water\"] = lr_os.predict(pentathlon_nptb.assign(message=\"water\"))\n",
    "pentathlon_nptb[\"os_team\"] = lr_os.predict(pentathlon_nptb.assign(message=\"team\"))\n",
    "pentathlon_nptb[\"os_backcountry\"] = lr_os.predict(pentathlon_nptb.assign(message=\"backcountry\"))\n",
    "pentathlon_nptb[\"os_winter\"] = lr_os.predict(pentathlon_nptb.assign(message=\"winter\"))\n",
    "pentathlon_nptb[\"os_racquet\"] = lr_os.predict(pentathlon_nptb.assign(message=\"racquet\"))"
   ]
  },
  {
   "cell_type": "markdown",
   "metadata": {},
   "source": [
    "#### For each customer in the representative sample, the messages (one of endurance, strength, etc.) predicted to lead to the highest expected profit (COGS is 60%):"
   ]
  },
  {
   "cell_type": "code",
   "execution_count": 111,
   "metadata": {},
   "outputs": [
    {
     "data": {
      "text/html": [
       "<div>\n",
       "<style scoped>\n",
       "    .dataframe tbody tr th:only-of-type {\n",
       "        vertical-align: middle;\n",
       "    }\n",
       "\n",
       "    .dataframe tbody tr th {\n",
       "        vertical-align: top;\n",
       "    }\n",
       "\n",
       "    .dataframe thead th {\n",
       "        text-align: right;\n",
       "    }\n",
       "</style>\n",
       "<table border=\"1\" class=\"dataframe\">\n",
       "  <thead>\n",
       "    <tr style=\"text-align: right;\">\n",
       "      <th></th>\n",
       "      <th>custid</th>\n",
       "      <th>to_message_ep</th>\n",
       "    </tr>\n",
       "  </thead>\n",
       "  <tbody>\n",
       "    <tr>\n",
       "      <th>0</th>\n",
       "      <td>U45198803</td>\n",
       "      <td>WATER</td>\n",
       "    </tr>\n",
       "    <tr>\n",
       "      <th>1</th>\n",
       "      <td>U22197752</td>\n",
       "      <td>WATER</td>\n",
       "    </tr>\n",
       "    <tr>\n",
       "      <th>3</th>\n",
       "      <td>U19423462</td>\n",
       "      <td>ENDURANCE</td>\n",
       "    </tr>\n",
       "    <tr>\n",
       "      <th>4</th>\n",
       "      <td>U23888305</td>\n",
       "      <td>STRENGTH</td>\n",
       "    </tr>\n",
       "    <tr>\n",
       "      <th>6</th>\n",
       "      <td>U16954857</td>\n",
       "      <td>RACQUET</td>\n",
       "    </tr>\n",
       "    <tr>\n",
       "      <th>...</th>\n",
       "      <td>...</td>\n",
       "      <td>...</td>\n",
       "    </tr>\n",
       "    <tr>\n",
       "      <th>199991</th>\n",
       "      <td>U12620333</td>\n",
       "      <td>WINTER</td>\n",
       "    </tr>\n",
       "    <tr>\n",
       "      <th>199993</th>\n",
       "      <td>U18623424</td>\n",
       "      <td>WATER</td>\n",
       "    </tr>\n",
       "    <tr>\n",
       "      <th>199994</th>\n",
       "      <td>U64468968</td>\n",
       "      <td>WATER</td>\n",
       "    </tr>\n",
       "    <tr>\n",
       "      <th>199998</th>\n",
       "      <td>U33721691</td>\n",
       "      <td>RACQUET</td>\n",
       "    </tr>\n",
       "    <tr>\n",
       "      <th>199999</th>\n",
       "      <td>U23361779</td>\n",
       "      <td>ENDURANCE</td>\n",
       "    </tr>\n",
       "  </tbody>\n",
       "</table>\n",
       "<p>100000 rows × 2 columns</p>\n",
       "</div>"
      ],
      "text/plain": [
       "           custid to_message_ep\n",
       "0       U45198803         WATER\n",
       "1       U22197752         WATER\n",
       "3       U19423462     ENDURANCE\n",
       "4       U23888305      STRENGTH\n",
       "6       U16954857       RACQUET\n",
       "...           ...           ...\n",
       "199991  U12620333        WINTER\n",
       "199993  U18623424         WATER\n",
       "199994  U64468968         WATER\n",
       "199998  U33721691       RACQUET\n",
       "199999  U23361779     ENDURANCE\n",
       "\n",
       "[100000 rows x 2 columns]"
      ]
     },
     "execution_count": 111,
     "metadata": {},
     "output_type": "execute_result"
    }
   ],
   "source": [
    "pentathlon_nptb[\"ep_endurance\"] = pentathlon_nptb['p_endurance'] * 0.4 * pentathlon_nptb[\"os_endurance\"]\n",
    "pentathlon_nptb[\"ep_strength\"] = pentathlon_nptb[\"p_strength\"] * 0.4 * pentathlon_nptb[\"os_strength\"]\n",
    "pentathlon_nptb[\"ep_water\"] = pentathlon_nptb[\"p_water\"] * 0.4 * pentathlon_nptb[\"os_water\"]\n",
    "pentathlon_nptb[\"ep_team\"] = pentathlon_nptb[\"p_team\"] * 0.4 * pentathlon_nptb[\"os_team\"]\n",
    "pentathlon_nptb[\"ep_backcountry\"] = pentathlon_nptb[\"p_backcountry\"] * 0.4 * pentathlon_nptb[\"os_backcountry\"]\n",
    "pentathlon_nptb[\"ep_winter\"] = pentathlon_nptb[\"p_winter\"] * 0.4 * pentathlon_nptb[\"os_winter\"]\n",
    "pentathlon_nptb[\"ep_racquet\"] = pentathlon_nptb[\"p_racquet\"] * 0.4 * pentathlon_nptb[\"os_racquet\"]\n",
    "\n",
    "pentathlon_nptb[\"to_message_ep\"] = (\n",
    "    pentathlon_nptb[[\"ep_endurance\", \"ep_strength\", \"ep_water\",\"ep_team\" , \"ep_backcountry\", \"ep_winter\", \"ep_racquet\"]]\n",
    "    .idxmax(axis=1)\n",
    "    .str.replace(\"ep_endurance\", \"ENDURANCE\")\n",
    "    .replace(\"ep_strength\", \"STRENGTH\")\n",
    "    .replace(\"ep_water\", \"WATER\")\n",
    "    .replace(\"ep_team\", \"TEAM\")\n",
    "    .replace(\"ep_backcountry\", \"BACKCOUNTRY\")\n",
    "    .replace(\"ep_winter\", \"WINTER\")\n",
    "    .replace(\"ep_racquet\", \"RACQUET\")\n",
    ")\n",
    "\n",
    "pentathlon_nptb.query('representative == 1')[['custid', 'to_message_ep']]"
   ]
  },
  {
   "cell_type": "markdown",
   "metadata": {},
   "source": [
    "#### For each message, i.e., endurance, racket, etc., the percentage of customers for whom that message maximizes their expected profit:"
   ]
  },
  {
   "cell_type": "code",
   "execution_count": 102,
   "metadata": {},
   "outputs": [
    {
     "name": "stdout",
     "output_type": "stream",
     "text": [
      "Proportion of customers mailed in the 7 categories:\n"
     ]
    },
    {
     "data": {
      "text/plain": [
       "ENDURANCE      0.25040\n",
       "WATER          0.20880\n",
       "STRENGTH       0.14064\n",
       "WINTER         0.12459\n",
       "RACQUET        0.10989\n",
       "BACKCOUNTRY    0.10478\n",
       "TEAM           0.06090\n",
       "Name: to_message_ep, dtype: float64"
      ]
     },
     "execution_count": 102,
     "metadata": {},
     "output_type": "execute_result"
    }
   ],
   "source": [
    "print(\"Proportion of customers mailed in the 7 categories:\")\n",
    "    \n",
    "pentathlon_nptb.query('representative == 1').to_message_ep.value_counts() / pentathlon_nptb.query('representative == 1').to_message_ep.value_counts().sum()"
   ]
  },
  {
   "cell_type": "markdown",
   "metadata": {},
   "source": [
    "#### Expected profit obtained, on average, per e-mailed customer if messages are customized:"
   ]
  },
  {
   "cell_type": "code",
   "execution_count": 103,
   "metadata": {},
   "outputs": [],
   "source": [
    "pentathlon_nptb[\"ep_target\"] = pentathlon_nptb[[\"ep_endurance\", \"ep_strength\", \"ep_water\", \"ep_team\" , \"ep_backcountry\", \"ep_winter\", \"ep_racquet\"]].max(axis=1)"
   ]
  },
  {
   "cell_type": "code",
   "execution_count": 104,
   "metadata": {},
   "outputs": [
    {
     "name": "stdout",
     "output_type": "stream",
     "text": [
      "Expected profit on average, per e-mailed customer if message customized to each customer: EUR 0.27\n"
     ]
    }
   ],
   "source": [
    "ans = (pentathlon_nptb.query('representative == 1')[\"ep_target\"].agg(\"mean\"))\n",
    "\n",
    "print(\"Expected profit on average, per e-mailed customer if message customized to each customer: EUR\", round(ans, 2))"
   ]
  },
  {
   "cell_type": "markdown",
   "metadata": {},
   "source": [
    "#### Expected profit per e-mailed customer if every customer receives the same message:"
   ]
  },
  {
   "cell_type": "code",
   "execution_count": 105,
   "metadata": {},
   "outputs": [
    {
     "data": {
      "text/plain": [
       "ep_strength       EUR 0.21\n",
       "ep_endurance      EUR 0.21\n",
       "ep_winter         EUR 0.19\n",
       "ep_water          EUR 0.18\n",
       "ep_backcountry    EUR 0.17\n",
       "ep_racquet        EUR 0.17\n",
       "ep_team           EUR 0.16\n",
       "dtype: object"
      ]
     },
     "execution_count": 105,
     "metadata": {},
     "output_type": "execute_result"
    }
   ],
   "source": [
    "(\n",
    "    pentathlon_nptb.query('representative == 1')[[\"ep_endurance\", \"ep_strength\", \"ep_water\",\"ep_team\" , \"ep_backcountry\", \"ep_winter\", \"ep_racquet\"]]\n",
    "    .agg(\"mean\")\n",
    "    .sort_values(ascending=False)\n",
    "    .apply(rsm.format_nr, sym=\"EUR \")\n",
    ")"
   ]
  },
  {
   "cell_type": "markdown",
   "metadata": {},
   "source": [
    "Note how the customized messaging offers higher profit (EUR 0.27) than if the each of the 7 messages were individually assigned.\n",
    "\n",
    "#### Expected profit per e-mailed customer if every customer is assigned randomly to one of the seven messages:"
   ]
  },
  {
   "cell_type": "code",
   "execution_count": 106,
   "metadata": {},
   "outputs": [
    {
     "name": "stdout",
     "output_type": "stream",
     "text": [
      "Expected profit per e-mailed customer if every customer is assigned randomly to one of the seven messages: EUR 0.19\n"
     ]
    }
   ],
   "source": [
    "#baseline = np.mean(pentathlon_nptb.query('representative == 1')['total_os'])\n",
    "\n",
    "sample = pentathlon_nptb[[\"ep_endurance\", \"ep_strength\", \"ep_water\",\"ep_team\" , \"ep_backcountry\", \"ep_winter\", \"ep_racquet\"]]\n",
    "\n",
    "indices = np.random.choice(np.arange(len(sample.columns)), len(sample), replace=True)\n",
    "\n",
    "pentathlon_nptb['ep_random'] = sample.to_numpy()[np.arange(len(sample)), indices]\n",
    "\n",
    "baseline = pentathlon_nptb.query('representative == 1')[\"ep_random\"].agg(\"mean\")\n",
    "\n",
    "print(\"Expected profit per e-mailed customer if every customer is assigned randomly to one of the seven messages: EUR\", round(baseline, 2))"
   ]
  },
  {
   "cell_type": "markdown",
   "metadata": {},
   "source": [
    "#### For the typical promotional e-mail blast to 5,000,000 customers, Pentathlon can achieve the following improvement by customizing the message to each customer rather than assigning customers a message randomly:"
   ]
  },
  {
   "cell_type": "code",
   "execution_count": 107,
   "metadata": {},
   "outputs": [
    {
     "name": "stdout",
     "output_type": "stream",
     "text": [
      "% Improvement in profit by customizing the message to each customer rather than assigning customers a message randomly:  44.02 %\n"
     ]
    }
   ],
   "source": [
    "ans3 = (pentathlon_nptb.query('representative == 1')[\"ep_target\"].agg(\"mean\")  - baseline) * 100 / baseline\n",
    "\n",
    "print(\"% Improvement in profit by customizing the message to each customer rather than assigning customers a message randomly: \", round(ans3, 2), \"%\")"
   ]
  },
  {
   "cell_type": "code",
   "execution_count": 132,
   "metadata": {},
   "outputs": [
    {
     "name": "stdout",
     "output_type": "stream",
     "text": [
      "Improvement in profit by customizing the message to each customer rather than assigning customers a message randomly: EUR 409119.75\n"
     ]
    }
   ],
   "source": [
    "ans4 = (pentathlon_nptb.query('representative == 1')[\"ep_target\"].agg(\"mean\")  - baseline) * 5000000\n",
    "\n",
    "print(\"Improvement in profit by customizing the message to each customer rather than assigning customers a message randomly: EUR\", round(ans4, 2))"
   ]
  },
  {
   "cell_type": "code",
   "execution_count": 128,
   "metadata": {},
   "outputs": [
    {
     "data": {
      "text/plain": [
       "26770.451375804532"
      ]
     },
     "execution_count": 128,
     "metadata": {},
     "output_type": "execute_result"
    }
   ],
   "source": [
    "a = pentathlon_nptb.query('representative == 1')[\"ep_target\"].agg(\"mean\") * 100000\n",
    "a"
   ]
  },
  {
   "cell_type": "code",
   "execution_count": 129,
   "metadata": {},
   "outputs": [
    {
     "data": {
      "text/plain": [
       "18588.056332546843"
      ]
     },
     "execution_count": 129,
     "metadata": {},
     "output_type": "execute_result"
    }
   ],
   "source": [
    "b = baseline * 100000\n",
    "b"
   ]
  },
  {
   "cell_type": "code",
   "execution_count": 130,
   "metadata": {},
   "outputs": [
    {
     "data": {
      "text/plain": [
       "8182.395043257689"
      ]
     },
     "execution_count": 130,
     "metadata": {},
     "output_type": "execute_result"
    }
   ],
   "source": [
    "a-b"
   ]
  },
  {
   "cell_type": "code",
   "execution_count": 131,
   "metadata": {},
   "outputs": [
    {
     "data": {
      "text/plain": [
       "0.44019637647270776"
      ]
     },
     "execution_count": 131,
     "metadata": {},
     "output_type": "execute_result"
    }
   ],
   "source": [
    "(a-b) / b"
   ]
  },
  {
   "cell_type": "code",
   "execution_count": null,
   "metadata": {},
   "outputs": [],
   "source": []
  }
 ],
 "metadata": {
  "kernelspec": {
   "display_name": "Python 3",
   "language": "python",
   "name": "python3"
  },
  "language_info": {
   "codemirror_mode": {
    "name": "ipython",
    "version": 3
   },
   "file_extension": ".py",
   "mimetype": "text/x-python",
   "name": "python",
   "nbconvert_exporter": "python",
   "pygments_lexer": "ipython3",
   "version": "3.8.5"
  }
 },
 "nbformat": 4,
 "nbformat_minor": 4
}
