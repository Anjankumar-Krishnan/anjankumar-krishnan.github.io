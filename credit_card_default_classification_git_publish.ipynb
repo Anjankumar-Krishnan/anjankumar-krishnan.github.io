{
 "cells": [
  {
   "cell_type": "markdown",
   "id": "7228bd61",
   "metadata": {},
   "source": [
    "## Credit Card Payer Default Classification"
   ]
  },
  {
   "cell_type": "markdown",
   "id": "c8c07bd9",
   "metadata": {},
   "source": [
    "### Goal\n",
    "\n",
    "Calculate probability of default for each payer based on payment history and couple of demographic variables. Probabality of default converted to a threshold by use of a threshold."
   ]
  },
  {
   "cell_type": "code",
   "execution_count": 1,
   "id": "8cf30c3c",
   "metadata": {},
   "outputs": [],
   "source": [
    "import pandas as pd\n",
    "import os\n",
    "import numpy as np\n",
    "import scipy.stats as sps\n",
    "import pyrsm as rsm\n",
    "\n",
    "import seaborn as sns\n",
    "import matplotlib.pyplot as plt\n",
    "import statsmodels.formula.api as smf\n",
    "\n",
    "from statsmodels.genmod.families import Binomial\n",
    "from statsmodels.genmod.families.links import logit"
   ]
  },
  {
   "cell_type": "code",
   "execution_count": 173,
   "id": "5abaa5d3",
   "metadata": {},
   "outputs": [
    {
     "data": {
      "text/html": [
       "\n",
       "\n",
       "<script>\n",
       "  function code_toggle() {\n",
       "    if (code_shown){\n",
       "      $('div.input').hide('500');\n",
       "      $('#toggleButton').val('Show Code')\n",
       "    } else {\n",
       "      $('div.input').show('500');\n",
       "      $('#toggleButton').val('Hide Code')\n",
       "    }\n",
       "    code_shown = !code_shown\n",
       "  }\n",
       "\n",
       "  $( document ).ready(function(){\n",
       "    code_shown=false;\n",
       "    $('div.input').hide()\n",
       "  });\n",
       "</script>\n",
       "<form action=\"javascript:code_toggle()\">\n",
       "  <input type=\"submit\" id=\"toggleButton\" value=\"Show Python 3 Code\">\n",
       "</form>"
      ],
      "text/plain": [
       "<IPython.core.display.HTML object>"
      ]
     },
     "execution_count": 173,
     "metadata": {},
     "output_type": "execute_result"
    }
   ],
   "source": [
    "from IPython.display import HTML\n",
    "\n",
    "HTML('''\n",
    "\n",
    "<script>\n",
    "  function code_toggle() {\n",
    "    if (code_shown){\n",
    "      $('div.input').hide('500');\n",
    "      $('#toggleButton').val('Show Code')\n",
    "    } else {\n",
    "      $('div.input').show('500');\n",
    "      $('#toggleButton').val('Hide Code')\n",
    "    }\n",
    "    code_shown = !code_shown\n",
    "  }\n",
    "\n",
    "  $( document ).ready(function(){\n",
    "    code_shown=false;\n",
    "    $('div.input').hide()\n",
    "  });\n",
    "</script>\n",
    "<form action=\"javascript:code_toggle()\">\n",
    "  <input type=\"submit\" id=\"toggleButton\" value=\"Show Python 3 Code\">\n",
    "</form>''')"
   ]
  },
  {
   "cell_type": "markdown",
   "id": "08a6d8bf",
   "metadata": {},
   "source": [
    "### The Data\n",
    "\n",
    "Courtesy UCI Mahine Learning Repository\n",
    "https://archive.ics.uci.edu/ml/datasets/default+of+credit+card+clients"
   ]
  },
  {
   "cell_type": "code",
   "execution_count": 171,
   "id": "e3c1df43",
   "metadata": {},
   "outputs": [],
   "source": [
    "#os.getcwd()"
   ]
  },
  {
   "cell_type": "code",
   "execution_count": 3,
   "id": "64d70a86",
   "metadata": {},
   "outputs": [
    {
     "data": {
      "text/plain": [
       "ID            int64\n",
       "LIMIT_BAL     int64\n",
       "GENDER       object\n",
       "EDUC         object\n",
       "MARITAL      object\n",
       "AGE           int64\n",
       "PAY_1         int64\n",
       "PAY_2         int64\n",
       "PAY_3         int64\n",
       "PAY_4         int64\n",
       "PAY_5         int64\n",
       "PAY_6         int64\n",
       "BILL_AMT1     int64\n",
       "BILL_AMT2     int64\n",
       "BILL_AMT3     int64\n",
       "BILL_AMT4     int64\n",
       "BILL_AMT5     int64\n",
       "BILL_AMT6     int64\n",
       "PAY_AMT1      int64\n",
       "PAY_AMT2      int64\n",
       "PAY_AMT3      int64\n",
       "PAY_AMT4      int64\n",
       "PAY_AMT5      int64\n",
       "PAY_AMT6      int64\n",
       "DEFAULT       int64\n",
       "dtype: object"
      ]
     },
     "execution_count": 3,
     "metadata": {},
     "output_type": "execute_result"
    }
   ],
   "source": [
    "df = pd.read_csv(\"credit_card.csv - credit_card.csv.csv\")\n",
    "\n",
    "# df = df[df['BILL_AMT4'] != -170000]\n",
    "# df = df[df['BILL_AMT4'] != -81334]\n",
    "\n",
    "# df = df[df['BILL_AMT1'] >= 0]\n",
    "# df = df[df['BILL_AMT2'] >= 0]\n",
    "# df = df[df['BILL_AMT3'] >= 0]\n",
    "# df = df[df['BILL_AMT4'] >= 0]\n",
    "# df = df[df['BILL_AMT5'] >= 0]\n",
    "# df = df[df['BILL_AMT6'] >= 0]\n",
    "\n",
    "# df = df.reset_index(drop = True)\n",
    "df.dtypes"
   ]
  },
  {
   "cell_type": "code",
   "execution_count": 4,
   "id": "5956cf49",
   "metadata": {},
   "outputs": [],
   "source": [
    "# import seaborn as sns\n",
    "# sns.barplot(x = df['MARITAL'].astype('category'), y = df['DEFAULT'])"
   ]
  },
  {
   "cell_type": "markdown",
   "id": "89cfb07b",
   "metadata": {},
   "source": [
    "### Methodology\n",
    "\n",
    "Data exploration suggested converting Limit_balance to bins and making a categorical variable along with demographic variables (gender, education, marital status) set as categorical variables as well. <br>\n",
    "\n",
    "Feature engineering was done to create new variables: <br>\n",
    "a.) spend proportion: what was the proportion of the bill amt for the months April-Sep to the limit balance? <br>\n",
    "b.) On a monthly rolled up basis, accumulating from April to Sep, what proportion of the bill amount was paid? <br>\n",
    "c.) On a monthly rolled up basis, accumulating from April to Sep, what is the outstanding balance to limit balance proportion? <br>\n",
    "\n",
    "Categorical variables were one-hot encoded and numerical variables were standardized. <br>\n",
    "4 models: logistic, random forest, xg boosted tree, and neural network performance was compared. <br>"
   ]
  },
  {
   "cell_type": "markdown",
   "id": "408001a3",
   "metadata": {},
   "source": [
    "### Value to stakeholder\n",
    "\n",
    "The models achieved on a detection rate of ~31% (i.e. of all the actual defaulters, how many did the model catch?) and 81% accuracy. <br>\n",
    "Profit calculations from value of detecting a defaulter and cost of falsely flagging a customer defaulter can be weighed for economic impact."
   ]
  },
  {
   "cell_type": "code",
   "execution_count": 5,
   "id": "b11881ee",
   "metadata": {},
   "outputs": [],
   "source": [
    "bins=list(range(0, 550000, 25000)) + [1000000]\n",
    "labels=list(range(25000, 550000, 25000)) + [1000000]\n",
    "df['LIMIT_BAL_BINS'] = pd.cut(df['LIMIT_BAL'], bins=bins,labels=labels).astype('int')"
   ]
  },
  {
   "cell_type": "code",
   "execution_count": 6,
   "id": "da0e9dd5",
   "metadata": {},
   "outputs": [],
   "source": [
    "for i in range(6,0, -1):\n",
    "    \n",
    "    df['SPEND_PROP_' + str(i)] = df['BILL_AMT' + str(i)] / df['LIMIT_BAL']   # ratio of each month's spend to the limit\n",
    "    \n",
    "    \n",
    "temp1 = 0\n",
    "temp2 = 0\n",
    "\n",
    "temp3 = 0\n",
    "temp4 = 0\n",
    "    \n",
    "for i in range(5,0, -1):\n",
    "    \n",
    "    temp1+= df['PAY_AMT' + str(i)]\n",
    "    temp2+= df['BILL_AMT' + str(i+1)]\n",
    "    \n",
    "    \n",
    "    df['ROLLING_PAY_PROP_' + str(i)] = np.where(temp2 == 0, 1, temp1 / temp2) \n",
    "    # rolling sum of payment / rolling sum of bill amt\n",
    "    #temp2 == 0 implies no bill amt generated, nothing due for the user to pay  \n",
    "        \n",
    "    df['ROLLING_OUTBAL_TO_LIMIT_' + str(i)] = np.array(temp2 - temp1) / df['LIMIT_BAL']   # rolling sum of outstanding balance (i.e. bill - payment) / limit_balance\n",
    "        \n",
    "    \n",
    "#     temp3 = df['PAY_AMT' + str(i)]\n",
    "#     temp4 = df['BILL_AMT' + str(i+1)]\n",
    "    \n",
    "    \n",
    "#     df['MONTHLY_PAY_PROP_' + str(i)] = np.where(temp4 == 0, 1, temp3 / temp4 )\n",
    "#     # temp3 == 0, implies no bill amt generated, nothing due for the user to pay\n",
    "#     # montly payment / monthly bill amt\n",
    "        \n",
    "    \n",
    "#     df['MONTHLY_OUTBAL_TO_LIMIT_' + str(i)] = np.array(temp4 - temp3) / df['LIMIT_BAL']   # monthly outstanding balance (i.e. bill - payment) / limit_balance    "
   ]
  },
  {
   "cell_type": "code",
   "execution_count": 20,
   "id": "6a7676bf",
   "metadata": {},
   "outputs": [],
   "source": [
    "catg = ['GENDER', 'EDUC', 'MARITAL', 'LIMIT_BAL_BINS']\n",
    "\n",
    "num = list(df.loc[:, 'AGE':'PAY_AMT6'].columns) + list(df.loc[:, 'SPEND_PROP_6':].columns)\n",
    "\n",
    "df[catg] = df[catg].astype('category')\n",
    "\n",
    "df['GENDER'] = df['GENDER'].cat.reorder_categories(['M', 'F'])\n",
    "df['EDUC'] = df['EDUC'].cat.reorder_categories(['HS', 'Bachelors', 'Masters', 'Other'])\n",
    "df['MARITAL'] = df['MARITAL'].cat.reorder_categories(['Married', 'Single', 'Other'])"
   ]
  },
  {
   "cell_type": "code",
   "execution_count": 21,
   "id": "57fd3665",
   "metadata": {},
   "outputs": [
    {
     "data": {
      "text/plain": [
       "['AGE',\n",
       " 'PAY_1',\n",
       " 'PAY_2',\n",
       " 'PAY_3',\n",
       " 'PAY_4',\n",
       " 'PAY_5',\n",
       " 'PAY_6',\n",
       " 'BILL_AMT1',\n",
       " 'BILL_AMT2',\n",
       " 'BILL_AMT3',\n",
       " 'BILL_AMT4',\n",
       " 'BILL_AMT5',\n",
       " 'BILL_AMT6',\n",
       " 'PAY_AMT1',\n",
       " 'PAY_AMT2',\n",
       " 'PAY_AMT3',\n",
       " 'PAY_AMT4',\n",
       " 'PAY_AMT5',\n",
       " 'PAY_AMT6',\n",
       " 'SPEND_PROP_6',\n",
       " 'SPEND_PROP_5',\n",
       " 'SPEND_PROP_4',\n",
       " 'SPEND_PROP_3',\n",
       " 'SPEND_PROP_2',\n",
       " 'SPEND_PROP_1',\n",
       " 'ROLLING_PAY_PROP_5',\n",
       " 'ROLLING_OUTBAL_TO_LIMIT_5',\n",
       " 'ROLLING_PAY_PROP_4',\n",
       " 'ROLLING_OUTBAL_TO_LIMIT_4',\n",
       " 'ROLLING_PAY_PROP_3',\n",
       " 'ROLLING_OUTBAL_TO_LIMIT_3',\n",
       " 'ROLLING_PAY_PROP_2',\n",
       " 'ROLLING_OUTBAL_TO_LIMIT_2',\n",
       " 'ROLLING_PAY_PROP_1',\n",
       " 'ROLLING_OUTBAL_TO_LIMIT_1']"
      ]
     },
     "execution_count": 21,
     "metadata": {},
     "output_type": "execute_result"
    }
   ],
   "source": [
    "num"
   ]
  },
  {
   "cell_type": "code",
   "execution_count": 22,
   "id": "2bca4dfe",
   "metadata": {},
   "outputs": [
    {
     "data": {
      "text/plain": [
       "['GENDER', 'EDUC', 'MARITAL', 'LIMIT_BAL_BINS']"
      ]
     },
     "execution_count": 22,
     "metadata": {},
     "output_type": "execute_result"
    }
   ],
   "source": [
    "catg"
   ]
  },
  {
   "cell_type": "code",
   "execution_count": 30,
   "id": "7f985341",
   "metadata": {},
   "outputs": [],
   "source": [
    "from sklearn.model_selection import GridSearchCV, StratifiedShuffleSplit\n",
    "\n",
    "sssplit = StratifiedShuffleSplit(n_splits = 1, test_size = 0.2, random_state = 1234)\n",
    "\n",
    "for train_index, test_index in sssplit.split(df['DEFAULT'], df['DEFAULT']):\n",
    "    pass"
   ]
  },
  {
   "cell_type": "code",
   "execution_count": 31,
   "id": "c7200dba",
   "metadata": {},
   "outputs": [],
   "source": [
    "df['training'] = None"
   ]
  },
  {
   "cell_type": "code",
   "execution_count": 32,
   "id": "9c20f7d3",
   "metadata": {},
   "outputs": [],
   "source": [
    "df.loc[train_index, 'training'] = 1\n",
    "df.loc[test_index, 'training'] = 0"
   ]
  },
  {
   "cell_type": "code",
   "execution_count": 35,
   "id": "77d3d66a",
   "metadata": {},
   "outputs": [
    {
     "data": {
      "text/html": [
       "<div>\n",
       "<style scoped>\n",
       "    .dataframe tbody tr th:only-of-type {\n",
       "        vertical-align: middle;\n",
       "    }\n",
       "\n",
       "    .dataframe tbody tr th {\n",
       "        vertical-align: top;\n",
       "    }\n",
       "\n",
       "    .dataframe thead th {\n",
       "        text-align: right;\n",
       "    }\n",
       "</style>\n",
       "<table border=\"1\" class=\"dataframe\">\n",
       "  <thead>\n",
       "    <tr style=\"text-align: right;\">\n",
       "      <th></th>\n",
       "      <th>GENDER_F</th>\n",
       "      <th>EDUC_Bachelors</th>\n",
       "      <th>EDUC_Masters</th>\n",
       "      <th>EDUC_Other</th>\n",
       "      <th>MARITAL_Single</th>\n",
       "      <th>MARITAL_Other</th>\n",
       "      <th>LIMIT_BAL_BINS_50000</th>\n",
       "      <th>LIMIT_BAL_BINS_75000</th>\n",
       "      <th>LIMIT_BAL_BINS_100000</th>\n",
       "      <th>LIMIT_BAL_BINS_125000</th>\n",
       "      <th>...</th>\n",
       "      <th>ROLLING_PAY_PROP_5</th>\n",
       "      <th>ROLLING_OUTBAL_TO_LIMIT_5</th>\n",
       "      <th>ROLLING_PAY_PROP_4</th>\n",
       "      <th>ROLLING_OUTBAL_TO_LIMIT_4</th>\n",
       "      <th>ROLLING_PAY_PROP_3</th>\n",
       "      <th>ROLLING_OUTBAL_TO_LIMIT_3</th>\n",
       "      <th>ROLLING_PAY_PROP_2</th>\n",
       "      <th>ROLLING_OUTBAL_TO_LIMIT_2</th>\n",
       "      <th>ROLLING_PAY_PROP_1</th>\n",
       "      <th>ROLLING_OUTBAL_TO_LIMIT_1</th>\n",
       "    </tr>\n",
       "  </thead>\n",
       "  <tbody>\n",
       "    <tr>\n",
       "      <th>0</th>\n",
       "      <td>1</td>\n",
       "      <td>1</td>\n",
       "      <td>0</td>\n",
       "      <td>0</td>\n",
       "      <td>0</td>\n",
       "      <td>0</td>\n",
       "      <td>0</td>\n",
       "      <td>0</td>\n",
       "      <td>0</td>\n",
       "      <td>0</td>\n",
       "      <td>...</td>\n",
       "      <td>0.052695</td>\n",
       "      <td>-0.423805</td>\n",
       "      <td>0.022250</td>\n",
       "      <td>-0.440543</td>\n",
       "      <td>0.069434</td>\n",
       "      <td>-0.455713</td>\n",
       "      <td>0.027899</td>\n",
       "      <td>-0.469612</td>\n",
       "      <td>-0.016951</td>\n",
       "      <td>-0.435466</td>\n",
       "    </tr>\n",
       "    <tr>\n",
       "      <th>1</th>\n",
       "      <td>1</td>\n",
       "      <td>1</td>\n",
       "      <td>0</td>\n",
       "      <td>0</td>\n",
       "      <td>1</td>\n",
       "      <td>0</td>\n",
       "      <td>0</td>\n",
       "      <td>0</td>\n",
       "      <td>0</td>\n",
       "      <td>1</td>\n",
       "      <td>...</td>\n",
       "      <td>-0.046326</td>\n",
       "      <td>-0.383153</td>\n",
       "      <td>-0.006840</td>\n",
       "      <td>-0.404343</td>\n",
       "      <td>-0.027417</td>\n",
       "      <td>-0.422012</td>\n",
       "      <td>-0.014865</td>\n",
       "      <td>-0.439264</td>\n",
       "      <td>-0.014756</td>\n",
       "      <td>-0.453437</td>\n",
       "    </tr>\n",
       "    <tr>\n",
       "      <th>2</th>\n",
       "      <td>1</td>\n",
       "      <td>1</td>\n",
       "      <td>0</td>\n",
       "      <td>0</td>\n",
       "      <td>1</td>\n",
       "      <td>0</td>\n",
       "      <td>0</td>\n",
       "      <td>0</td>\n",
       "      <td>1</td>\n",
       "      <td>0</td>\n",
       "      <td>...</td>\n",
       "      <td>-0.039957</td>\n",
       "      <td>-0.181978</td>\n",
       "      <td>-0.009688</td>\n",
       "      <td>-0.199912</td>\n",
       "      <td>-0.043561</td>\n",
       "      <td>-0.220420</td>\n",
       "      <td>-0.023814</td>\n",
       "      <td>-0.244121</td>\n",
       "      <td>-0.025074</td>\n",
       "      <td>-0.261371</td>\n",
       "    </tr>\n",
       "    <tr>\n",
       "      <th>3</th>\n",
       "      <td>1</td>\n",
       "      <td>1</td>\n",
       "      <td>0</td>\n",
       "      <td>0</td>\n",
       "      <td>0</td>\n",
       "      <td>0</td>\n",
       "      <td>1</td>\n",
       "      <td>0</td>\n",
       "      <td>0</td>\n",
       "      <td>0</td>\n",
       "      <td>...</td>\n",
       "      <td>-0.042743</td>\n",
       "      <td>0.428220</td>\n",
       "      <td>-0.010662</td>\n",
       "      <td>0.415744</td>\n",
       "      <td>-0.046966</td>\n",
       "      <td>0.389267</td>\n",
       "      <td>-0.025915</td>\n",
       "      <td>0.515010</td>\n",
       "      <td>-0.028618</td>\n",
       "      <td>0.575703</td>\n",
       "    </tr>\n",
       "    <tr>\n",
       "      <th>4</th>\n",
       "      <td>0</td>\n",
       "      <td>1</td>\n",
       "      <td>0</td>\n",
       "      <td>0</td>\n",
       "      <td>0</td>\n",
       "      <td>0</td>\n",
       "      <td>1</td>\n",
       "      <td>0</td>\n",
       "      <td>0</td>\n",
       "      <td>0</td>\n",
       "      <td>...</td>\n",
       "      <td>-0.042759</td>\n",
       "      <td>0.127956</td>\n",
       "      <td>-0.003278</td>\n",
       "      <td>-0.006024</td>\n",
       "      <td>-0.011401</td>\n",
       "      <td>-0.055474</td>\n",
       "      <td>0.005097</td>\n",
       "      <td>-0.178254</td>\n",
       "      <td>0.015804</td>\n",
       "      <td>-0.228710</td>\n",
       "    </tr>\n",
       "    <tr>\n",
       "      <th>...</th>\n",
       "      <td>...</td>\n",
       "      <td>...</td>\n",
       "      <td>...</td>\n",
       "      <td>...</td>\n",
       "      <td>...</td>\n",
       "      <td>...</td>\n",
       "      <td>...</td>\n",
       "      <td>...</td>\n",
       "      <td>...</td>\n",
       "      <td>...</td>\n",
       "      <td>...</td>\n",
       "      <td>...</td>\n",
       "      <td>...</td>\n",
       "      <td>...</td>\n",
       "      <td>...</td>\n",
       "      <td>...</td>\n",
       "      <td>...</td>\n",
       "      <td>...</td>\n",
       "      <td>...</td>\n",
       "      <td>...</td>\n",
       "      <td>...</td>\n",
       "    </tr>\n",
       "    <tr>\n",
       "      <th>29995</th>\n",
       "      <td>0</td>\n",
       "      <td>0</td>\n",
       "      <td>0</td>\n",
       "      <td>0</td>\n",
       "      <td>0</td>\n",
       "      <td>0</td>\n",
       "      <td>0</td>\n",
       "      <td>0</td>\n",
       "      <td>0</td>\n",
       "      <td>0</td>\n",
       "      <td>...</td>\n",
       "      <td>-0.015343</td>\n",
       "      <td>-0.349144</td>\n",
       "      <td>-0.006104</td>\n",
       "      <td>-0.305234</td>\n",
       "      <td>-0.039978</td>\n",
       "      <td>-0.174568</td>\n",
       "      <td>-0.022743</td>\n",
       "      <td>0.061978</td>\n",
       "      <td>-0.025539</td>\n",
       "      <td>0.190303</td>\n",
       "    </tr>\n",
       "    <tr>\n",
       "      <th>29996</th>\n",
       "      <td>0</td>\n",
       "      <td>0</td>\n",
       "      <td>0</td>\n",
       "      <td>0</td>\n",
       "      <td>1</td>\n",
       "      <td>0</td>\n",
       "      <td>0</td>\n",
       "      <td>0</td>\n",
       "      <td>0</td>\n",
       "      <td>0</td>\n",
       "      <td>...</td>\n",
       "      <td>0.052695</td>\n",
       "      <td>-0.423805</td>\n",
       "      <td>-0.011080</td>\n",
       "      <td>-0.414902</td>\n",
       "      <td>0.026341</td>\n",
       "      <td>-0.438696</td>\n",
       "      <td>0.011988</td>\n",
       "      <td>-0.457013</td>\n",
       "      <td>0.029277</td>\n",
       "      <td>-0.471833</td>\n",
       "    </tr>\n",
       "    <tr>\n",
       "      <th>29997</th>\n",
       "      <td>0</td>\n",
       "      <td>1</td>\n",
       "      <td>0</td>\n",
       "      <td>0</td>\n",
       "      <td>1</td>\n",
       "      <td>0</td>\n",
       "      <td>1</td>\n",
       "      <td>0</td>\n",
       "      <td>0</td>\n",
       "      <td>0</td>\n",
       "      <td>...</td>\n",
       "      <td>-0.036095</td>\n",
       "      <td>0.441694</td>\n",
       "      <td>-0.006623</td>\n",
       "      <td>0.414143</td>\n",
       "      <td>0.004486</td>\n",
       "      <td>0.094724</td>\n",
       "      <td>-0.003279</td>\n",
       "      <td>-0.025531</td>\n",
       "      <td>0.002778</td>\n",
       "      <td>-0.096041</td>\n",
       "    </tr>\n",
       "    <tr>\n",
       "      <th>29998</th>\n",
       "      <td>0</td>\n",
       "      <td>0</td>\n",
       "      <td>0</td>\n",
       "      <td>0</td>\n",
       "      <td>0</td>\n",
       "      <td>0</td>\n",
       "      <td>0</td>\n",
       "      <td>0</td>\n",
       "      <td>1</td>\n",
       "      <td>0</td>\n",
       "      <td>...</td>\n",
       "      <td>0.060828</td>\n",
       "      <td>-0.498975</td>\n",
       "      <td>0.018928</td>\n",
       "      <td>-0.384410</td>\n",
       "      <td>0.008118</td>\n",
       "      <td>-0.091798</td>\n",
       "      <td>-0.010581</td>\n",
       "      <td>0.144256</td>\n",
       "      <td>0.012710</td>\n",
       "      <td>-0.022847</td>\n",
       "    </tr>\n",
       "    <tr>\n",
       "      <th>29999</th>\n",
       "      <td>0</td>\n",
       "      <td>1</td>\n",
       "      <td>0</td>\n",
       "      <td>0</td>\n",
       "      <td>0</td>\n",
       "      <td>0</td>\n",
       "      <td>1</td>\n",
       "      <td>0</td>\n",
       "      <td>0</td>\n",
       "      <td>0</td>\n",
       "      <td>...</td>\n",
       "      <td>-0.039859</td>\n",
       "      <td>0.004422</td>\n",
       "      <td>-0.010497</td>\n",
       "      <td>0.254691</td>\n",
       "      <td>-0.046737</td>\n",
       "      <td>0.362890</td>\n",
       "      <td>-0.025946</td>\n",
       "      <td>0.500601</td>\n",
       "      <td>-0.028628</td>\n",
       "      <td>0.567821</td>\n",
       "    </tr>\n",
       "  </tbody>\n",
       "</table>\n",
       "<p>30000 rows × 62 columns</p>\n",
       "</div>"
      ],
      "text/plain": [
       "       GENDER_F  EDUC_Bachelors  EDUC_Masters  EDUC_Other  MARITAL_Single  \\\n",
       "0             1               1             0           0               0   \n",
       "1             1               1             0           0               1   \n",
       "2             1               1             0           0               1   \n",
       "3             1               1             0           0               0   \n",
       "4             0               1             0           0               0   \n",
       "...         ...             ...           ...         ...             ...   \n",
       "29995         0               0             0           0               0   \n",
       "29996         0               0             0           0               1   \n",
       "29997         0               1             0           0               1   \n",
       "29998         0               0             0           0               0   \n",
       "29999         0               1             0           0               0   \n",
       "\n",
       "       MARITAL_Other  LIMIT_BAL_BINS_50000  LIMIT_BAL_BINS_75000  \\\n",
       "0                  0                     0                     0   \n",
       "1                  0                     0                     0   \n",
       "2                  0                     0                     0   \n",
       "3                  0                     1                     0   \n",
       "4                  0                     1                     0   \n",
       "...              ...                   ...                   ...   \n",
       "29995              0                     0                     0   \n",
       "29996              0                     0                     0   \n",
       "29997              0                     1                     0   \n",
       "29998              0                     0                     0   \n",
       "29999              0                     1                     0   \n",
       "\n",
       "       LIMIT_BAL_BINS_100000  LIMIT_BAL_BINS_125000  ...  ROLLING_PAY_PROP_5  \\\n",
       "0                          0                      0  ...            0.052695   \n",
       "1                          0                      1  ...           -0.046326   \n",
       "2                          1                      0  ...           -0.039957   \n",
       "3                          0                      0  ...           -0.042743   \n",
       "4                          0                      0  ...           -0.042759   \n",
       "...                      ...                    ...  ...                 ...   \n",
       "29995                      0                      0  ...           -0.015343   \n",
       "29996                      0                      0  ...            0.052695   \n",
       "29997                      0                      0  ...           -0.036095   \n",
       "29998                      1                      0  ...            0.060828   \n",
       "29999                      0                      0  ...           -0.039859   \n",
       "\n",
       "       ROLLING_OUTBAL_TO_LIMIT_5  ROLLING_PAY_PROP_4  \\\n",
       "0                      -0.423805            0.022250   \n",
       "1                      -0.383153           -0.006840   \n",
       "2                      -0.181978           -0.009688   \n",
       "3                       0.428220           -0.010662   \n",
       "4                       0.127956           -0.003278   \n",
       "...                          ...                 ...   \n",
       "29995                  -0.349144           -0.006104   \n",
       "29996                  -0.423805           -0.011080   \n",
       "29997                   0.441694           -0.006623   \n",
       "29998                  -0.498975            0.018928   \n",
       "29999                   0.004422           -0.010497   \n",
       "\n",
       "       ROLLING_OUTBAL_TO_LIMIT_4  ROLLING_PAY_PROP_3  \\\n",
       "0                      -0.440543            0.069434   \n",
       "1                      -0.404343           -0.027417   \n",
       "2                      -0.199912           -0.043561   \n",
       "3                       0.415744           -0.046966   \n",
       "4                      -0.006024           -0.011401   \n",
       "...                          ...                 ...   \n",
       "29995                  -0.305234           -0.039978   \n",
       "29996                  -0.414902            0.026341   \n",
       "29997                   0.414143            0.004486   \n",
       "29998                  -0.384410            0.008118   \n",
       "29999                   0.254691           -0.046737   \n",
       "\n",
       "       ROLLING_OUTBAL_TO_LIMIT_3  ROLLING_PAY_PROP_2  \\\n",
       "0                      -0.455713            0.027899   \n",
       "1                      -0.422012           -0.014865   \n",
       "2                      -0.220420           -0.023814   \n",
       "3                       0.389267           -0.025915   \n",
       "4                      -0.055474            0.005097   \n",
       "...                          ...                 ...   \n",
       "29995                  -0.174568           -0.022743   \n",
       "29996                  -0.438696            0.011988   \n",
       "29997                   0.094724           -0.003279   \n",
       "29998                  -0.091798           -0.010581   \n",
       "29999                   0.362890           -0.025946   \n",
       "\n",
       "       ROLLING_OUTBAL_TO_LIMIT_2  ROLLING_PAY_PROP_1  \\\n",
       "0                      -0.469612           -0.016951   \n",
       "1                      -0.439264           -0.014756   \n",
       "2                      -0.244121           -0.025074   \n",
       "3                       0.515010           -0.028618   \n",
       "4                      -0.178254            0.015804   \n",
       "...                          ...                 ...   \n",
       "29995                   0.061978           -0.025539   \n",
       "29996                  -0.457013            0.029277   \n",
       "29997                  -0.025531            0.002778   \n",
       "29998                   0.144256            0.012710   \n",
       "29999                   0.500601           -0.028628   \n",
       "\n",
       "       ROLLING_OUTBAL_TO_LIMIT_1  \n",
       "0                      -0.435466  \n",
       "1                      -0.453437  \n",
       "2                      -0.261371  \n",
       "3                       0.575703  \n",
       "4                      -0.228710  \n",
       "...                          ...  \n",
       "29995                   0.190303  \n",
       "29996                  -0.471833  \n",
       "29997                  -0.096041  \n",
       "29998                  -0.022847  \n",
       "29999                   0.567821  \n",
       "\n",
       "[30000 rows x 62 columns]"
      ]
     },
     "execution_count": 35,
     "metadata": {},
     "output_type": "execute_result"
    }
   ],
   "source": [
    "Xs = pd.concat([pd.get_dummies(df[catg], drop_first = True), rsm.scale_df(df[num], train=df['training'] == 1)], axis = 1)\n",
    "\n",
    "Xs"
   ]
  },
  {
   "cell_type": "markdown",
   "id": "10c5b26a",
   "metadata": {},
   "source": [
    "## Logistic Regression"
   ]
  },
  {
   "cell_type": "code",
   "execution_count": 36,
   "id": "0d19fb7f",
   "metadata": {},
   "outputs": [
    {
     "data": {
      "text/plain": [
       "'DEFAULT ~ GENDER + EDUC + MARITAL + LIMIT_BAL_BINS + AGE + PAY_1 + PAY_2 + PAY_3 + PAY_4 + PAY_5 + PAY_6 + BILL_AMT1 + BILL_AMT2 + BILL_AMT3 + BILL_AMT4 + BILL_AMT5 + BILL_AMT6 + PAY_AMT1 + PAY_AMT2 + PAY_AMT3 + PAY_AMT4 + PAY_AMT5 + PAY_AMT6 + SPEND_PROP_6 + SPEND_PROP_5 + SPEND_PROP_4 + SPEND_PROP_3 + SPEND_PROP_2 + SPEND_PROP_1 + ROLLING_PAY_PROP_5 + ROLLING_OUTBAL_TO_LIMIT_5 + ROLLING_PAY_PROP_4 + ROLLING_OUTBAL_TO_LIMIT_4 + ROLLING_PAY_PROP_3 + ROLLING_OUTBAL_TO_LIMIT_3 + ROLLING_PAY_PROP_2 + ROLLING_OUTBAL_TO_LIMIT_2 + ROLLING_PAY_PROP_1 + ROLLING_OUTBAL_TO_LIMIT_1'"
      ]
     },
     "execution_count": 36,
     "metadata": {},
     "output_type": "execute_result"
    }
   ],
   "source": [
    "logit_model = \"DEFAULT ~ \" + ' + '.join(catg + num)\n",
    "logit_model"
   ]
  },
  {
   "cell_type": "code",
   "execution_count": 37,
   "id": "1f656678",
   "metadata": {},
   "outputs": [
    {
     "data": {
      "text/html": [
       "<table class=\"simpletable\">\n",
       "<caption>Generalized Linear Model Regression Results</caption>\n",
       "<tr>\n",
       "  <th>Dep. Variable:</th>        <td>DEFAULT</td>     <th>  No. Observations:  </th>  <td> 24000</td> \n",
       "</tr>\n",
       "<tr>\n",
       "  <th>Model:</th>                  <td>GLM</td>       <th>  Df Residuals:      </th>  <td> 23937</td> \n",
       "</tr>\n",
       "<tr>\n",
       "  <th>Model Family:</th>        <td>Binomial</td>     <th>  Df Model:          </th>  <td>    62</td> \n",
       "</tr>\n",
       "<tr>\n",
       "  <th>Link Function:</th>         <td>logit</td>      <th>  Scale:             </th> <td>  1.0000</td>\n",
       "</tr>\n",
       "<tr>\n",
       "  <th>Method:</th>                <td>IRLS</td>       <th>  Log-Likelihood:    </th> <td> -11073.</td>\n",
       "</tr>\n",
       "<tr>\n",
       "  <th>Date:</th>            <td>Mon, 04 Apr 2022</td> <th>  Deviance:          </th> <td>  22147.</td>\n",
       "</tr>\n",
       "<tr>\n",
       "  <th>Time:</th>                <td>13:08:15</td>     <th>  Pearson chi2:      </th> <td>2.91e+04</td>\n",
       "</tr>\n",
       "<tr>\n",
       "  <th>No. Iterations:</th>          <td>6</td>        <th>                     </th>     <td> </td>   \n",
       "</tr>\n",
       "<tr>\n",
       "  <th>Covariance Type:</th>        <td>HC1</td>       <th>                     </th>     <td> </td>   \n",
       "</tr>\n",
       "</table>\n",
       "<table class=\"simpletable\">\n",
       "<tr>\n",
       "              <td></td>                 <th>coef</th>     <th>std err</th>      <th>z</th>      <th>P>|z|</th>  <th>[0.025</th>    <th>0.975]</th>  \n",
       "</tr>\n",
       "<tr>\n",
       "  <th>Intercept</th>                 <td>   -0.5473</td> <td>    0.130</td> <td>   -4.210</td> <td> 0.000</td> <td>   -0.802</td> <td>   -0.293</td>\n",
       "</tr>\n",
       "<tr>\n",
       "  <th>GENDER[T.F]</th>               <td>   -0.0671</td> <td>    0.035</td> <td>   -1.941</td> <td> 0.052</td> <td>   -0.135</td> <td>    0.001</td>\n",
       "</tr>\n",
       "<tr>\n",
       "  <th>EDUC[T.Bachelors]</th>         <td>    0.0167</td> <td>    0.048</td> <td>    0.351</td> <td> 0.726</td> <td>   -0.077</td> <td>    0.110</td>\n",
       "</tr>\n",
       "<tr>\n",
       "  <th>EDUC[T.Masters]</th>           <td>    0.0632</td> <td>    0.054</td> <td>    1.181</td> <td> 0.238</td> <td>   -0.042</td> <td>    0.168</td>\n",
       "</tr>\n",
       "<tr>\n",
       "  <th>EDUC[T.Other]</th>             <td>   -1.1090</td> <td>    0.227</td> <td>   -4.889</td> <td> 0.000</td> <td>   -1.554</td> <td>   -0.664</td>\n",
       "</tr>\n",
       "<tr>\n",
       "  <th>MARITAL[T.Single]</th>         <td>   -0.2055</td> <td>    0.039</td> <td>   -5.317</td> <td> 0.000</td> <td>   -0.281</td> <td>   -0.130</td>\n",
       "</tr>\n",
       "<tr>\n",
       "  <th>MARITAL[T.Other]</th>          <td>   -0.2302</td> <td>    0.151</td> <td>   -1.520</td> <td> 0.128</td> <td>   -0.527</td> <td>    0.067</td>\n",
       "</tr>\n",
       "<tr>\n",
       "  <th>LIMIT_BAL_BINS[T.50000]</th>   <td>   -0.3087</td> <td>    0.068</td> <td>   -4.540</td> <td> 0.000</td> <td>   -0.442</td> <td>   -0.175</td>\n",
       "</tr>\n",
       "<tr>\n",
       "  <th>LIMIT_BAL_BINS[T.75000]</th>   <td>   -0.3131</td> <td>    0.090</td> <td>   -3.483</td> <td> 0.000</td> <td>   -0.489</td> <td>   -0.137</td>\n",
       "</tr>\n",
       "<tr>\n",
       "  <th>LIMIT_BAL_BINS[T.100000]</th>  <td>   -0.5037</td> <td>    0.082</td> <td>   -6.139</td> <td> 0.000</td> <td>   -0.665</td> <td>   -0.343</td>\n",
       "</tr>\n",
       "<tr>\n",
       "  <th>LIMIT_BAL_BINS[T.125000]</th>  <td>   -0.5362</td> <td>    0.104</td> <td>   -5.152</td> <td> 0.000</td> <td>   -0.740</td> <td>   -0.332</td>\n",
       "</tr>\n",
       "<tr>\n",
       "  <th>LIMIT_BAL_BINS[T.150000]</th>  <td>   -0.6284</td> <td>    0.096</td> <td>   -6.525</td> <td> 0.000</td> <td>   -0.817</td> <td>   -0.440</td>\n",
       "</tr>\n",
       "<tr>\n",
       "  <th>LIMIT_BAL_BINS[T.175000]</th>  <td>   -0.7761</td> <td>    0.121</td> <td>   -6.395</td> <td> 0.000</td> <td>   -1.014</td> <td>   -0.538</td>\n",
       "</tr>\n",
       "<tr>\n",
       "  <th>LIMIT_BAL_BINS[T.200000]</th>  <td>   -0.6767</td> <td>    0.103</td> <td>   -6.567</td> <td> 0.000</td> <td>   -0.879</td> <td>   -0.475</td>\n",
       "</tr>\n",
       "<tr>\n",
       "  <th>LIMIT_BAL_BINS[T.225000]</th>  <td>   -0.7593</td> <td>    0.127</td> <td>   -5.995</td> <td> 0.000</td> <td>   -1.008</td> <td>   -0.511</td>\n",
       "</tr>\n",
       "<tr>\n",
       "  <th>LIMIT_BAL_BINS[T.250000]</th>  <td>   -0.7764</td> <td>    0.119</td> <td>   -6.509</td> <td> 0.000</td> <td>   -1.010</td> <td>   -0.543</td>\n",
       "</tr>\n",
       "<tr>\n",
       "  <th>LIMIT_BAL_BINS[T.275000]</th>  <td>   -0.7834</td> <td>    0.149</td> <td>   -5.251</td> <td> 0.000</td> <td>   -1.076</td> <td>   -0.491</td>\n",
       "</tr>\n",
       "<tr>\n",
       "  <th>LIMIT_BAL_BINS[T.300000]</th>  <td>   -0.7516</td> <td>    0.130</td> <td>   -5.767</td> <td> 0.000</td> <td>   -1.007</td> <td>   -0.496</td>\n",
       "</tr>\n",
       "<tr>\n",
       "  <th>LIMIT_BAL_BINS[T.325000]</th>  <td>   -1.1848</td> <td>    0.186</td> <td>   -6.381</td> <td> 0.000</td> <td>   -1.549</td> <td>   -0.821</td>\n",
       "</tr>\n",
       "<tr>\n",
       "  <th>LIMIT_BAL_BINS[T.350000]</th>  <td>   -0.8751</td> <td>    0.173</td> <td>   -5.067</td> <td> 0.000</td> <td>   -1.214</td> <td>   -0.537</td>\n",
       "</tr>\n",
       "<tr>\n",
       "  <th>LIMIT_BAL_BINS[T.375000]</th>  <td>   -0.5485</td> <td>    0.142</td> <td>   -3.858</td> <td> 0.000</td> <td>   -0.827</td> <td>   -0.270</td>\n",
       "</tr>\n",
       "<tr>\n",
       "  <th>LIMIT_BAL_BINS[T.400000]</th>  <td>   -1.0692</td> <td>    0.186</td> <td>   -5.741</td> <td> 0.000</td> <td>   -1.434</td> <td>   -0.704</td>\n",
       "</tr>\n",
       "<tr>\n",
       "  <th>LIMIT_BAL_BINS[T.425000]</th>  <td>   -1.0352</td> <td>    0.260</td> <td>   -3.983</td> <td> 0.000</td> <td>   -1.545</td> <td>   -0.526</td>\n",
       "</tr>\n",
       "<tr>\n",
       "  <th>LIMIT_BAL_BINS[T.450000]</th>  <td>   -0.7807</td> <td>    0.214</td> <td>   -3.656</td> <td> 0.000</td> <td>   -1.199</td> <td>   -0.362</td>\n",
       "</tr>\n",
       "<tr>\n",
       "  <th>LIMIT_BAL_BINS[T.475000]</th>  <td>   -1.1220</td> <td>    0.292</td> <td>   -3.848</td> <td> 0.000</td> <td>   -1.693</td> <td>   -0.551</td>\n",
       "</tr>\n",
       "<tr>\n",
       "  <th>LIMIT_BAL_BINS[T.500000]</th>  <td>   -1.0712</td> <td>    0.181</td> <td>   -5.928</td> <td> 0.000</td> <td>   -1.425</td> <td>   -0.717</td>\n",
       "</tr>\n",
       "<tr>\n",
       "  <th>LIMIT_BAL_BINS[T.525000]</th>  <td>   -1.3638</td> <td>    0.586</td> <td>   -2.326</td> <td> 0.020</td> <td>   -2.513</td> <td>   -0.214</td>\n",
       "</tr>\n",
       "<tr>\n",
       "  <th>LIMIT_BAL_BINS[T.1000000]</th> <td>   -1.2271</td> <td>    0.327</td> <td>   -3.751</td> <td> 0.000</td> <td>   -1.868</td> <td>   -0.586</td>\n",
       "</tr>\n",
       "<tr>\n",
       "  <th>AGE</th>                       <td>    0.0048</td> <td>    0.002</td> <td>    2.287</td> <td> 0.022</td> <td>    0.001</td> <td>    0.009</td>\n",
       "</tr>\n",
       "<tr>\n",
       "  <th>PAY_1</th>                     <td>    0.5698</td> <td>    0.023</td> <td>   24.965</td> <td> 0.000</td> <td>    0.525</td> <td>    0.615</td>\n",
       "</tr>\n",
       "<tr>\n",
       "  <th>PAY_2</th>                     <td>    0.1068</td> <td>    0.025</td> <td>    4.273</td> <td> 0.000</td> <td>    0.058</td> <td>    0.156</td>\n",
       "</tr>\n",
       "<tr>\n",
       "  <th>PAY_3</th>                     <td>    0.0483</td> <td>    0.028</td> <td>    1.721</td> <td> 0.085</td> <td>   -0.007</td> <td>    0.103</td>\n",
       "</tr>\n",
       "<tr>\n",
       "  <th>PAY_4</th>                     <td>    0.0277</td> <td>    0.031</td> <td>    0.902</td> <td> 0.367</td> <td>   -0.032</td> <td>    0.088</td>\n",
       "</tr>\n",
       "<tr>\n",
       "  <th>PAY_5</th>                     <td>    0.0478</td> <td>    0.032</td> <td>    1.480</td> <td> 0.139</td> <td>   -0.016</td> <td>    0.111</td>\n",
       "</tr>\n",
       "<tr>\n",
       "  <th>PAY_6</th>                     <td>   -0.0179</td> <td>    0.027</td> <td>   -0.669</td> <td> 0.504</td> <td>   -0.070</td> <td>    0.034</td>\n",
       "</tr>\n",
       "<tr>\n",
       "  <th>BILL_AMT1</th>                 <td>-1.198e-06</td> <td> 2.27e-06</td> <td>   -0.527</td> <td> 0.598</td> <td>-5.65e-06</td> <td> 3.26e-06</td>\n",
       "</tr>\n",
       "<tr>\n",
       "  <th>BILL_AMT2</th>                 <td>  3.71e-06</td> <td> 3.01e-06</td> <td>    1.234</td> <td> 0.217</td> <td>-2.18e-06</td> <td>  9.6e-06</td>\n",
       "</tr>\n",
       "<tr>\n",
       "  <th>BILL_AMT3</th>                 <td>-9.657e-07</td> <td>  2.3e-06</td> <td>   -0.419</td> <td> 0.675</td> <td>-5.48e-06</td> <td> 3.55e-06</td>\n",
       "</tr>\n",
       "<tr>\n",
       "  <th>BILL_AMT4</th>                 <td>-1.772e-06</td> <td> 2.13e-06</td> <td>   -0.832</td> <td> 0.405</td> <td>-5.95e-06</td> <td>  2.4e-06</td>\n",
       "</tr>\n",
       "<tr>\n",
       "  <th>BILL_AMT5</th>                 <td>  2.92e-06</td> <td> 2.36e-06</td> <td>    1.238</td> <td> 0.216</td> <td> -1.7e-06</td> <td> 7.54e-06</td>\n",
       "</tr>\n",
       "<tr>\n",
       "  <th>BILL_AMT6</th>                 <td>-1.906e-06</td> <td> 1.83e-06</td> <td>   -1.040</td> <td> 0.299</td> <td> -5.5e-06</td> <td> 1.69e-06</td>\n",
       "</tr>\n",
       "<tr>\n",
       "  <th>PAY_AMT1</th>                  <td> -1.58e-05</td> <td> 5.58e-06</td> <td>   -2.830</td> <td> 0.005</td> <td>-2.67e-05</td> <td>-4.86e-06</td>\n",
       "</tr>\n",
       "<tr>\n",
       "  <th>PAY_AMT2</th>                  <td> 2.974e-07</td> <td> 4.59e-06</td> <td>    0.065</td> <td> 0.948</td> <td> -8.7e-06</td> <td> 9.29e-06</td>\n",
       "</tr>\n",
       "<tr>\n",
       "  <th>PAY_AMT3</th>                  <td>-3.466e-06</td> <td> 3.65e-06</td> <td>   -0.949</td> <td> 0.342</td> <td>-1.06e-05</td> <td> 3.69e-06</td>\n",
       "</tr>\n",
       "<tr>\n",
       "  <th>PAY_AMT4</th>                  <td> -3.34e-06</td> <td> 2.79e-06</td> <td>   -1.196</td> <td> 0.232</td> <td>-8.81e-06</td> <td> 2.13e-06</td>\n",
       "</tr>\n",
       "<tr>\n",
       "  <th>PAY_AMT5</th>                  <td> 4.376e-07</td> <td> 3.09e-06</td> <td>    0.142</td> <td> 0.887</td> <td>-5.61e-06</td> <td> 6.48e-06</td>\n",
       "</tr>\n",
       "<tr>\n",
       "  <th>PAY_AMT6</th>                  <td>-2.914e-06</td> <td> 1.85e-06</td> <td>   -1.573</td> <td> 0.116</td> <td>-6.55e-06</td> <td> 7.18e-07</td>\n",
       "</tr>\n",
       "<tr>\n",
       "  <th>SPEND_PROP_6</th>              <td>   -0.2029</td> <td>    0.323</td> <td>   -0.629</td> <td> 0.529</td> <td>   -0.835</td> <td>    0.429</td>\n",
       "</tr>\n",
       "<tr>\n",
       "  <th>SPEND_PROP_5</th>              <td>   -0.5013</td> <td>    0.331</td> <td>   -1.516</td> <td> 0.130</td> <td>   -1.149</td> <td>    0.147</td>\n",
       "</tr>\n",
       "<tr>\n",
       "  <th>SPEND_PROP_4</th>              <td>    0.1731</td> <td>    0.366</td> <td>    0.473</td> <td> 0.636</td> <td>   -0.545</td> <td>    0.891</td>\n",
       "</tr>\n",
       "<tr>\n",
       "  <th>SPEND_PROP_3</th>              <td>   -1.2160</td> <td>    0.471</td> <td>   -2.580</td> <td> 0.010</td> <td>   -2.140</td> <td>   -0.292</td>\n",
       "</tr>\n",
       "<tr>\n",
       "  <th>SPEND_PROP_2</th>              <td>    0.0177</td> <td>    0.395</td> <td>    0.045</td> <td> 0.964</td> <td>   -0.757</td> <td>    0.793</td>\n",
       "</tr>\n",
       "<tr>\n",
       "  <th>SPEND_PROP_1</th>              <td>   -0.6991</td> <td>    0.255</td> <td>   -2.745</td> <td> 0.006</td> <td>   -1.198</td> <td>   -0.200</td>\n",
       "</tr>\n",
       "<tr>\n",
       "  <th>ROLLING_PAY_PROP_5</th>        <td>    0.0058</td> <td>    0.002</td> <td>    2.563</td> <td> 0.010</td> <td>    0.001</td> <td>    0.010</td>\n",
       "</tr>\n",
       "<tr>\n",
       "  <th>ROLLING_OUTBAL_TO_LIMIT_5</th> <td>    0.6744</td> <td>    0.501</td> <td>    1.346</td> <td> 0.178</td> <td>   -0.307</td> <td>    1.656</td>\n",
       "</tr>\n",
       "<tr>\n",
       "  <th>ROLLING_PAY_PROP_4</th>        <td>    0.0025</td> <td>    0.003</td> <td>    0.870</td> <td> 0.384</td> <td>   -0.003</td> <td>    0.008</td>\n",
       "</tr>\n",
       "<tr>\n",
       "  <th>ROLLING_OUTBAL_TO_LIMIT_4</th> <td>   -0.1352</td> <td>    0.497</td> <td>   -0.272</td> <td> 0.786</td> <td>   -1.110</td> <td>    0.839</td>\n",
       "</tr>\n",
       "<tr>\n",
       "  <th>ROLLING_PAY_PROP_3</th>        <td>    0.0040</td> <td>    0.005</td> <td>    0.755</td> <td> 0.450</td> <td>   -0.006</td> <td>    0.015</td>\n",
       "</tr>\n",
       "<tr>\n",
       "  <th>ROLLING_OUTBAL_TO_LIMIT_3</th> <td>   -1.4778</td> <td>    0.660</td> <td>   -2.238</td> <td> 0.025</td> <td>   -2.772</td> <td>   -0.184</td>\n",
       "</tr>\n",
       "<tr>\n",
       "  <th>ROLLING_PAY_PROP_2</th>        <td>   -0.0026</td> <td>    0.001</td> <td>   -2.025</td> <td> 0.043</td> <td>   -0.005</td> <td>-8.23e-05</td>\n",
       "</tr>\n",
       "<tr>\n",
       "  <th>ROLLING_OUTBAL_TO_LIMIT_2</th> <td>    1.8689</td> <td>    0.730</td> <td>    2.560</td> <td> 0.010</td> <td>    0.438</td> <td>    3.300</td>\n",
       "</tr>\n",
       "<tr>\n",
       "  <th>ROLLING_PAY_PROP_1</th>        <td>    0.0075</td> <td>    0.007</td> <td>    1.148</td> <td> 0.251</td> <td>   -0.005</td> <td>    0.020</td>\n",
       "</tr>\n",
       "<tr>\n",
       "  <th>ROLLING_OUTBAL_TO_LIMIT_1</th> <td>   -0.2717</td> <td>    0.438</td> <td>   -0.620</td> <td> 0.535</td> <td>   -1.131</td> <td>    0.588</td>\n",
       "</tr>\n",
       "</table>"
      ],
      "text/plain": [
       "<class 'statsmodels.iolib.summary.Summary'>\n",
       "\"\"\"\n",
       "                 Generalized Linear Model Regression Results                  \n",
       "==============================================================================\n",
       "Dep. Variable:                DEFAULT   No. Observations:                24000\n",
       "Model:                            GLM   Df Residuals:                    23937\n",
       "Model Family:                Binomial   Df Model:                           62\n",
       "Link Function:                  logit   Scale:                          1.0000\n",
       "Method:                          IRLS   Log-Likelihood:                -11073.\n",
       "Date:                Mon, 04 Apr 2022   Deviance:                       22147.\n",
       "Time:                        13:08:15   Pearson chi2:                 2.91e+04\n",
       "No. Iterations:                     6                                         \n",
       "Covariance Type:                  HC1                                         \n",
       "=============================================================================================\n",
       "                                coef    std err          z      P>|z|      [0.025      0.975]\n",
       "---------------------------------------------------------------------------------------------\n",
       "Intercept                    -0.5473      0.130     -4.210      0.000      -0.802      -0.293\n",
       "GENDER[T.F]                  -0.0671      0.035     -1.941      0.052      -0.135       0.001\n",
       "EDUC[T.Bachelors]             0.0167      0.048      0.351      0.726      -0.077       0.110\n",
       "EDUC[T.Masters]               0.0632      0.054      1.181      0.238      -0.042       0.168\n",
       "EDUC[T.Other]                -1.1090      0.227     -4.889      0.000      -1.554      -0.664\n",
       "MARITAL[T.Single]            -0.2055      0.039     -5.317      0.000      -0.281      -0.130\n",
       "MARITAL[T.Other]             -0.2302      0.151     -1.520      0.128      -0.527       0.067\n",
       "LIMIT_BAL_BINS[T.50000]      -0.3087      0.068     -4.540      0.000      -0.442      -0.175\n",
       "LIMIT_BAL_BINS[T.75000]      -0.3131      0.090     -3.483      0.000      -0.489      -0.137\n",
       "LIMIT_BAL_BINS[T.100000]     -0.5037      0.082     -6.139      0.000      -0.665      -0.343\n",
       "LIMIT_BAL_BINS[T.125000]     -0.5362      0.104     -5.152      0.000      -0.740      -0.332\n",
       "LIMIT_BAL_BINS[T.150000]     -0.6284      0.096     -6.525      0.000      -0.817      -0.440\n",
       "LIMIT_BAL_BINS[T.175000]     -0.7761      0.121     -6.395      0.000      -1.014      -0.538\n",
       "LIMIT_BAL_BINS[T.200000]     -0.6767      0.103     -6.567      0.000      -0.879      -0.475\n",
       "LIMIT_BAL_BINS[T.225000]     -0.7593      0.127     -5.995      0.000      -1.008      -0.511\n",
       "LIMIT_BAL_BINS[T.250000]     -0.7764      0.119     -6.509      0.000      -1.010      -0.543\n",
       "LIMIT_BAL_BINS[T.275000]     -0.7834      0.149     -5.251      0.000      -1.076      -0.491\n",
       "LIMIT_BAL_BINS[T.300000]     -0.7516      0.130     -5.767      0.000      -1.007      -0.496\n",
       "LIMIT_BAL_BINS[T.325000]     -1.1848      0.186     -6.381      0.000      -1.549      -0.821\n",
       "LIMIT_BAL_BINS[T.350000]     -0.8751      0.173     -5.067      0.000      -1.214      -0.537\n",
       "LIMIT_BAL_BINS[T.375000]     -0.5485      0.142     -3.858      0.000      -0.827      -0.270\n",
       "LIMIT_BAL_BINS[T.400000]     -1.0692      0.186     -5.741      0.000      -1.434      -0.704\n",
       "LIMIT_BAL_BINS[T.425000]     -1.0352      0.260     -3.983      0.000      -1.545      -0.526\n",
       "LIMIT_BAL_BINS[T.450000]     -0.7807      0.214     -3.656      0.000      -1.199      -0.362\n",
       "LIMIT_BAL_BINS[T.475000]     -1.1220      0.292     -3.848      0.000      -1.693      -0.551\n",
       "LIMIT_BAL_BINS[T.500000]     -1.0712      0.181     -5.928      0.000      -1.425      -0.717\n",
       "LIMIT_BAL_BINS[T.525000]     -1.3638      0.586     -2.326      0.020      -2.513      -0.214\n",
       "LIMIT_BAL_BINS[T.1000000]    -1.2271      0.327     -3.751      0.000      -1.868      -0.586\n",
       "AGE                           0.0048      0.002      2.287      0.022       0.001       0.009\n",
       "PAY_1                         0.5698      0.023     24.965      0.000       0.525       0.615\n",
       "PAY_2                         0.1068      0.025      4.273      0.000       0.058       0.156\n",
       "PAY_3                         0.0483      0.028      1.721      0.085      -0.007       0.103\n",
       "PAY_4                         0.0277      0.031      0.902      0.367      -0.032       0.088\n",
       "PAY_5                         0.0478      0.032      1.480      0.139      -0.016       0.111\n",
       "PAY_6                        -0.0179      0.027     -0.669      0.504      -0.070       0.034\n",
       "BILL_AMT1                 -1.198e-06   2.27e-06     -0.527      0.598   -5.65e-06    3.26e-06\n",
       "BILL_AMT2                   3.71e-06   3.01e-06      1.234      0.217   -2.18e-06     9.6e-06\n",
       "BILL_AMT3                 -9.657e-07    2.3e-06     -0.419      0.675   -5.48e-06    3.55e-06\n",
       "BILL_AMT4                 -1.772e-06   2.13e-06     -0.832      0.405   -5.95e-06     2.4e-06\n",
       "BILL_AMT5                   2.92e-06   2.36e-06      1.238      0.216    -1.7e-06    7.54e-06\n",
       "BILL_AMT6                 -1.906e-06   1.83e-06     -1.040      0.299    -5.5e-06    1.69e-06\n",
       "PAY_AMT1                   -1.58e-05   5.58e-06     -2.830      0.005   -2.67e-05   -4.86e-06\n",
       "PAY_AMT2                   2.974e-07   4.59e-06      0.065      0.948    -8.7e-06    9.29e-06\n",
       "PAY_AMT3                  -3.466e-06   3.65e-06     -0.949      0.342   -1.06e-05    3.69e-06\n",
       "PAY_AMT4                   -3.34e-06   2.79e-06     -1.196      0.232   -8.81e-06    2.13e-06\n",
       "PAY_AMT5                   4.376e-07   3.09e-06      0.142      0.887   -5.61e-06    6.48e-06\n",
       "PAY_AMT6                  -2.914e-06   1.85e-06     -1.573      0.116   -6.55e-06    7.18e-07\n",
       "SPEND_PROP_6                 -0.2029      0.323     -0.629      0.529      -0.835       0.429\n",
       "SPEND_PROP_5                 -0.5013      0.331     -1.516      0.130      -1.149       0.147\n",
       "SPEND_PROP_4                  0.1731      0.366      0.473      0.636      -0.545       0.891\n",
       "SPEND_PROP_3                 -1.2160      0.471     -2.580      0.010      -2.140      -0.292\n",
       "SPEND_PROP_2                  0.0177      0.395      0.045      0.964      -0.757       0.793\n",
       "SPEND_PROP_1                 -0.6991      0.255     -2.745      0.006      -1.198      -0.200\n",
       "ROLLING_PAY_PROP_5            0.0058      0.002      2.563      0.010       0.001       0.010\n",
       "ROLLING_OUTBAL_TO_LIMIT_5     0.6744      0.501      1.346      0.178      -0.307       1.656\n",
       "ROLLING_PAY_PROP_4            0.0025      0.003      0.870      0.384      -0.003       0.008\n",
       "ROLLING_OUTBAL_TO_LIMIT_4    -0.1352      0.497     -0.272      0.786      -1.110       0.839\n",
       "ROLLING_PAY_PROP_3            0.0040      0.005      0.755      0.450      -0.006       0.015\n",
       "ROLLING_OUTBAL_TO_LIMIT_3    -1.4778      0.660     -2.238      0.025      -2.772      -0.184\n",
       "ROLLING_PAY_PROP_2           -0.0026      0.001     -2.025      0.043      -0.005   -8.23e-05\n",
       "ROLLING_OUTBAL_TO_LIMIT_2     1.8689      0.730      2.560      0.010       0.438       3.300\n",
       "ROLLING_PAY_PROP_1            0.0075      0.007      1.148      0.251      -0.005       0.020\n",
       "ROLLING_OUTBAL_TO_LIMIT_1    -0.2717      0.438     -0.620      0.535      -1.131       0.588\n",
       "=============================================================================================\n",
       "\"\"\""
      ]
     },
     "execution_count": 37,
     "metadata": {},
     "output_type": "execute_result"
    }
   ],
   "source": [
    "lr = smf.glm(\n",
    " formula=logit_model,\n",
    " family=Binomial(link=logit()),\n",
    " data=df[df.training == 1]\n",
    " ).fit(cov_type=\"HC1\")\n",
    "\n",
    "lr.summary()"
   ]
  },
  {
   "cell_type": "code",
   "execution_count": 92,
   "id": "14f0f1a6",
   "metadata": {},
   "outputs": [
    {
     "data": {
      "text/html": [
       "<div>\n",
       "<style scoped>\n",
       "    .dataframe tbody tr th:only-of-type {\n",
       "        vertical-align: middle;\n",
       "    }\n",
       "\n",
       "    .dataframe tbody tr th {\n",
       "        vertical-align: top;\n",
       "    }\n",
       "\n",
       "    .dataframe thead th {\n",
       "        text-align: right;\n",
       "    }\n",
       "</style>\n",
       "<table border=\"1\" class=\"dataframe\">\n",
       "  <thead>\n",
       "    <tr style=\"text-align: right;\">\n",
       "      <th></th>\n",
       "      <th>index</th>\n",
       "      <th>OR</th>\n",
       "      <th>OR%</th>\n",
       "      <th>2.5%</th>\n",
       "      <th>97.5%</th>\n",
       "      <th>p.values</th>\n",
       "      <th></th>\n",
       "      <th>dummy</th>\n",
       "      <th>importance</th>\n",
       "    </tr>\n",
       "  </thead>\n",
       "  <tbody>\n",
       "    <tr>\n",
       "      <th>60</th>\n",
       "      <td>ROLLING_OUTBAL_TO_LIMIT_2</td>\n",
       "      <td>6.481</td>\n",
       "      <td>548.1%</td>\n",
       "      <td>1.549</td>\n",
       "      <td>27.108</td>\n",
       "      <td>0.01</td>\n",
       "      <td>*</td>\n",
       "      <td>False</td>\n",
       "      <td>6.481</td>\n",
       "    </tr>\n",
       "    <tr>\n",
       "      <th>58</th>\n",
       "      <td>ROLLING_OUTBAL_TO_LIMIT_3</td>\n",
       "      <td>0.228</td>\n",
       "      <td>-77.2%</td>\n",
       "      <td>0.063</td>\n",
       "      <td>0.832</td>\n",
       "      <td>0.025</td>\n",
       "      <td>*</td>\n",
       "      <td>False</td>\n",
       "      <td>4.383</td>\n",
       "    </tr>\n",
       "    <tr>\n",
       "      <th>26</th>\n",
       "      <td>LIMIT_BAL_BINS[T.525000]</td>\n",
       "      <td>0.256</td>\n",
       "      <td>-74.4%</td>\n",
       "      <td>0.081</td>\n",
       "      <td>0.807</td>\n",
       "      <td>0.02</td>\n",
       "      <td>*</td>\n",
       "      <td>True</td>\n",
       "      <td>3.911</td>\n",
       "    </tr>\n",
       "    <tr>\n",
       "      <th>27</th>\n",
       "      <td>LIMIT_BAL_BINS[T.1000000]</td>\n",
       "      <td>0.293</td>\n",
       "      <td>-70.7%</td>\n",
       "      <td>0.154</td>\n",
       "      <td>0.557</td>\n",
       "      <td>&lt; .001</td>\n",
       "      <td>***</td>\n",
       "      <td>True</td>\n",
       "      <td>3.411</td>\n",
       "    </tr>\n",
       "    <tr>\n",
       "      <th>50</th>\n",
       "      <td>SPEND_PROP_3</td>\n",
       "      <td>0.296</td>\n",
       "      <td>-70.4%</td>\n",
       "      <td>0.118</td>\n",
       "      <td>0.747</td>\n",
       "      <td>0.01</td>\n",
       "      <td>**</td>\n",
       "      <td>False</td>\n",
       "      <td>3.374</td>\n",
       "    </tr>\n",
       "    <tr>\n",
       "      <th>18</th>\n",
       "      <td>LIMIT_BAL_BINS[T.325000]</td>\n",
       "      <td>0.306</td>\n",
       "      <td>-69.4%</td>\n",
       "      <td>0.213</td>\n",
       "      <td>0.440</td>\n",
       "      <td>&lt; .001</td>\n",
       "      <td>***</td>\n",
       "      <td>True</td>\n",
       "      <td>3.270</td>\n",
       "    </tr>\n",
       "    <tr>\n",
       "      <th>24</th>\n",
       "      <td>LIMIT_BAL_BINS[T.475000]</td>\n",
       "      <td>0.326</td>\n",
       "      <td>-67.4%</td>\n",
       "      <td>0.184</td>\n",
       "      <td>0.577</td>\n",
       "      <td>&lt; .001</td>\n",
       "      <td>***</td>\n",
       "      <td>True</td>\n",
       "      <td>3.071</td>\n",
       "    </tr>\n",
       "    <tr>\n",
       "      <th>4</th>\n",
       "      <td>EDUC[T.Other]</td>\n",
       "      <td>0.330</td>\n",
       "      <td>-67.0%</td>\n",
       "      <td>0.211</td>\n",
       "      <td>0.515</td>\n",
       "      <td>&lt; .001</td>\n",
       "      <td>***</td>\n",
       "      <td>True</td>\n",
       "      <td>3.031</td>\n",
       "    </tr>\n",
       "    <tr>\n",
       "      <th>25</th>\n",
       "      <td>LIMIT_BAL_BINS[T.500000]</td>\n",
       "      <td>0.343</td>\n",
       "      <td>-65.7%</td>\n",
       "      <td>0.240</td>\n",
       "      <td>0.488</td>\n",
       "      <td>&lt; .001</td>\n",
       "      <td>***</td>\n",
       "      <td>True</td>\n",
       "      <td>2.919</td>\n",
       "    </tr>\n",
       "    <tr>\n",
       "      <th>21</th>\n",
       "      <td>LIMIT_BAL_BINS[T.400000]</td>\n",
       "      <td>0.343</td>\n",
       "      <td>-65.7%</td>\n",
       "      <td>0.238</td>\n",
       "      <td>0.495</td>\n",
       "      <td>&lt; .001</td>\n",
       "      <td>***</td>\n",
       "      <td>True</td>\n",
       "      <td>2.913</td>\n",
       "    </tr>\n",
       "    <tr>\n",
       "      <th>22</th>\n",
       "      <td>LIMIT_BAL_BINS[T.425000]</td>\n",
       "      <td>0.355</td>\n",
       "      <td>-64.5%</td>\n",
       "      <td>0.213</td>\n",
       "      <td>0.591</td>\n",
       "      <td>&lt; .001</td>\n",
       "      <td>***</td>\n",
       "      <td>True</td>\n",
       "      <td>2.816</td>\n",
       "    </tr>\n",
       "    <tr>\n",
       "      <th>19</th>\n",
       "      <td>LIMIT_BAL_BINS[T.350000]</td>\n",
       "      <td>0.417</td>\n",
       "      <td>-58.3%</td>\n",
       "      <td>0.297</td>\n",
       "      <td>0.585</td>\n",
       "      <td>&lt; .001</td>\n",
       "      <td>***</td>\n",
       "      <td>True</td>\n",
       "      <td>2.399</td>\n",
       "    </tr>\n",
       "    <tr>\n",
       "      <th>16</th>\n",
       "      <td>LIMIT_BAL_BINS[T.275000]</td>\n",
       "      <td>0.457</td>\n",
       "      <td>-54.3%</td>\n",
       "      <td>0.341</td>\n",
       "      <td>0.612</td>\n",
       "      <td>&lt; .001</td>\n",
       "      <td>***</td>\n",
       "      <td>True</td>\n",
       "      <td>2.189</td>\n",
       "    </tr>\n",
       "    <tr>\n",
       "      <th>23</th>\n",
       "      <td>LIMIT_BAL_BINS[T.450000]</td>\n",
       "      <td>0.458</td>\n",
       "      <td>-54.2%</td>\n",
       "      <td>0.301</td>\n",
       "      <td>0.696</td>\n",
       "      <td>&lt; .001</td>\n",
       "      <td>***</td>\n",
       "      <td>True</td>\n",
       "      <td>2.183</td>\n",
       "    </tr>\n",
       "    <tr>\n",
       "      <th>15</th>\n",
       "      <td>LIMIT_BAL_BINS[T.250000]</td>\n",
       "      <td>0.460</td>\n",
       "      <td>-54.0%</td>\n",
       "      <td>0.364</td>\n",
       "      <td>0.581</td>\n",
       "      <td>&lt; .001</td>\n",
       "      <td>***</td>\n",
       "      <td>True</td>\n",
       "      <td>2.174</td>\n",
       "    </tr>\n",
       "    <tr>\n",
       "      <th>12</th>\n",
       "      <td>LIMIT_BAL_BINS[T.175000]</td>\n",
       "      <td>0.460</td>\n",
       "      <td>-54.0%</td>\n",
       "      <td>0.363</td>\n",
       "      <td>0.584</td>\n",
       "      <td>&lt; .001</td>\n",
       "      <td>***</td>\n",
       "      <td>True</td>\n",
       "      <td>2.173</td>\n",
       "    </tr>\n",
       "    <tr>\n",
       "      <th>14</th>\n",
       "      <td>LIMIT_BAL_BINS[T.225000]</td>\n",
       "      <td>0.468</td>\n",
       "      <td>-53.2%</td>\n",
       "      <td>0.365</td>\n",
       "      <td>0.600</td>\n",
       "      <td>&lt; .001</td>\n",
       "      <td>***</td>\n",
       "      <td>True</td>\n",
       "      <td>2.137</td>\n",
       "    </tr>\n",
       "    <tr>\n",
       "      <th>17</th>\n",
       "      <td>LIMIT_BAL_BINS[T.300000]</td>\n",
       "      <td>0.472</td>\n",
       "      <td>-52.8%</td>\n",
       "      <td>0.365</td>\n",
       "      <td>0.609</td>\n",
       "      <td>&lt; .001</td>\n",
       "      <td>***</td>\n",
       "      <td>True</td>\n",
       "      <td>2.120</td>\n",
       "    </tr>\n",
       "    <tr>\n",
       "      <th>52</th>\n",
       "      <td>SPEND_PROP_1</td>\n",
       "      <td>0.497</td>\n",
       "      <td>-50.3%</td>\n",
       "      <td>0.302</td>\n",
       "      <td>0.819</td>\n",
       "      <td>0.006</td>\n",
       "      <td>**</td>\n",
       "      <td>False</td>\n",
       "      <td>2.012</td>\n",
       "    </tr>\n",
       "    <tr>\n",
       "      <th>13</th>\n",
       "      <td>LIMIT_BAL_BINS[T.200000]</td>\n",
       "      <td>0.508</td>\n",
       "      <td>-49.2%</td>\n",
       "      <td>0.415</td>\n",
       "      <td>0.622</td>\n",
       "      <td>&lt; .001</td>\n",
       "      <td>***</td>\n",
       "      <td>True</td>\n",
       "      <td>1.967</td>\n",
       "    </tr>\n",
       "    <tr>\n",
       "      <th>54</th>\n",
       "      <td>ROLLING_OUTBAL_TO_LIMIT_5</td>\n",
       "      <td>1.963</td>\n",
       "      <td>96.3%</td>\n",
       "      <td>0.735</td>\n",
       "      <td>5.239</td>\n",
       "      <td>0.178</td>\n",
       "      <td></td>\n",
       "      <td>False</td>\n",
       "      <td>1.963</td>\n",
       "    </tr>\n",
       "    <tr>\n",
       "      <th>11</th>\n",
       "      <td>LIMIT_BAL_BINS[T.150000]</td>\n",
       "      <td>0.533</td>\n",
       "      <td>-46.7%</td>\n",
       "      <td>0.442</td>\n",
       "      <td>0.644</td>\n",
       "      <td>&lt; .001</td>\n",
       "      <td>***</td>\n",
       "      <td>True</td>\n",
       "      <td>1.875</td>\n",
       "    </tr>\n",
       "    <tr>\n",
       "      <th>29</th>\n",
       "      <td>PAY_1</td>\n",
       "      <td>1.768</td>\n",
       "      <td>76.8%</td>\n",
       "      <td>1.691</td>\n",
       "      <td>1.849</td>\n",
       "      <td>&lt; .001</td>\n",
       "      <td>***</td>\n",
       "      <td>False</td>\n",
       "      <td>1.768</td>\n",
       "    </tr>\n",
       "    <tr>\n",
       "      <th>20</th>\n",
       "      <td>LIMIT_BAL_BINS[T.375000]</td>\n",
       "      <td>0.578</td>\n",
       "      <td>-42.2%</td>\n",
       "      <td>0.437</td>\n",
       "      <td>0.763</td>\n",
       "      <td>&lt; .001</td>\n",
       "      <td>***</td>\n",
       "      <td>True</td>\n",
       "      <td>1.731</td>\n",
       "    </tr>\n",
       "    <tr>\n",
       "      <th>10</th>\n",
       "      <td>LIMIT_BAL_BINS[T.125000]</td>\n",
       "      <td>0.585</td>\n",
       "      <td>-41.5%</td>\n",
       "      <td>0.477</td>\n",
       "      <td>0.717</td>\n",
       "      <td>&lt; .001</td>\n",
       "      <td>***</td>\n",
       "      <td>True</td>\n",
       "      <td>1.709</td>\n",
       "    </tr>\n",
       "    <tr>\n",
       "      <th>9</th>\n",
       "      <td>LIMIT_BAL_BINS[T.100000]</td>\n",
       "      <td>0.604</td>\n",
       "      <td>-39.6%</td>\n",
       "      <td>0.515</td>\n",
       "      <td>0.710</td>\n",
       "      <td>&lt; .001</td>\n",
       "      <td>***</td>\n",
       "      <td>True</td>\n",
       "      <td>1.655</td>\n",
       "    </tr>\n",
       "    <tr>\n",
       "      <th>48</th>\n",
       "      <td>SPEND_PROP_5</td>\n",
       "      <td>0.606</td>\n",
       "      <td>-39.4%</td>\n",
       "      <td>0.317</td>\n",
       "      <td>1.158</td>\n",
       "      <td>0.13</td>\n",
       "      <td></td>\n",
       "      <td>False</td>\n",
       "      <td>1.651</td>\n",
       "    </tr>\n",
       "    <tr>\n",
       "      <th>8</th>\n",
       "      <td>LIMIT_BAL_BINS[T.75000]</td>\n",
       "      <td>0.731</td>\n",
       "      <td>-26.9%</td>\n",
       "      <td>0.613</td>\n",
       "      <td>0.872</td>\n",
       "      <td>&lt; .001</td>\n",
       "      <td>***</td>\n",
       "      <td>True</td>\n",
       "      <td>1.368</td>\n",
       "    </tr>\n",
       "    <tr>\n",
       "      <th>7</th>\n",
       "      <td>LIMIT_BAL_BINS[T.50000]</td>\n",
       "      <td>0.734</td>\n",
       "      <td>-26.6%</td>\n",
       "      <td>0.643</td>\n",
       "      <td>0.839</td>\n",
       "      <td>&lt; .001</td>\n",
       "      <td>***</td>\n",
       "      <td>True</td>\n",
       "      <td>1.362</td>\n",
       "    </tr>\n",
       "    <tr>\n",
       "      <th>62</th>\n",
       "      <td>ROLLING_OUTBAL_TO_LIMIT_1</td>\n",
       "      <td>0.762</td>\n",
       "      <td>-23.8%</td>\n",
       "      <td>0.323</td>\n",
       "      <td>1.800</td>\n",
       "      <td>0.535</td>\n",
       "      <td></td>\n",
       "      <td>False</td>\n",
       "      <td>1.312</td>\n",
       "    </tr>\n",
       "    <tr>\n",
       "      <th>6</th>\n",
       "      <td>MARITAL[T.Other]</td>\n",
       "      <td>0.794</td>\n",
       "      <td>-20.6%</td>\n",
       "      <td>0.590</td>\n",
       "      <td>1.069</td>\n",
       "      <td>0.128</td>\n",
       "      <td></td>\n",
       "      <td>True</td>\n",
       "      <td>1.259</td>\n",
       "    </tr>\n",
       "    <tr>\n",
       "      <th>5</th>\n",
       "      <td>MARITAL[T.Single]</td>\n",
       "      <td>0.814</td>\n",
       "      <td>-18.6%</td>\n",
       "      <td>0.755</td>\n",
       "      <td>0.878</td>\n",
       "      <td>&lt; .001</td>\n",
       "      <td>***</td>\n",
       "      <td>True</td>\n",
       "      <td>1.228</td>\n",
       "    </tr>\n",
       "    <tr>\n",
       "      <th>47</th>\n",
       "      <td>SPEND_PROP_6</td>\n",
       "      <td>0.816</td>\n",
       "      <td>-18.4%</td>\n",
       "      <td>0.434</td>\n",
       "      <td>1.536</td>\n",
       "      <td>0.529</td>\n",
       "      <td></td>\n",
       "      <td>False</td>\n",
       "      <td>1.225</td>\n",
       "    </tr>\n",
       "    <tr>\n",
       "      <th>49</th>\n",
       "      <td>SPEND_PROP_4</td>\n",
       "      <td>1.189</td>\n",
       "      <td>18.9%</td>\n",
       "      <td>0.580</td>\n",
       "      <td>2.437</td>\n",
       "      <td>0.636</td>\n",
       "      <td></td>\n",
       "      <td>False</td>\n",
       "      <td>1.189</td>\n",
       "    </tr>\n",
       "    <tr>\n",
       "      <th>56</th>\n",
       "      <td>ROLLING_OUTBAL_TO_LIMIT_4</td>\n",
       "      <td>0.874</td>\n",
       "      <td>-12.6%</td>\n",
       "      <td>0.330</td>\n",
       "      <td>2.315</td>\n",
       "      <td>0.786</td>\n",
       "      <td></td>\n",
       "      <td>False</td>\n",
       "      <td>1.145</td>\n",
       "    </tr>\n",
       "    <tr>\n",
       "      <th>30</th>\n",
       "      <td>PAY_2</td>\n",
       "      <td>1.113</td>\n",
       "      <td>11.3%</td>\n",
       "      <td>1.060</td>\n",
       "      <td>1.169</td>\n",
       "      <td>&lt; .001</td>\n",
       "      <td>***</td>\n",
       "      <td>False</td>\n",
       "      <td>1.113</td>\n",
       "    </tr>\n",
       "    <tr>\n",
       "      <th>1</th>\n",
       "      <td>GENDER[T.F]</td>\n",
       "      <td>0.935</td>\n",
       "      <td>-6.5%</td>\n",
       "      <td>0.874</td>\n",
       "      <td>1.001</td>\n",
       "      <td>0.052</td>\n",
       "      <td>.</td>\n",
       "      <td>True</td>\n",
       "      <td>1.069</td>\n",
       "    </tr>\n",
       "    <tr>\n",
       "      <th>3</th>\n",
       "      <td>EDUC[T.Masters]</td>\n",
       "      <td>1.065</td>\n",
       "      <td>6.5%</td>\n",
       "      <td>0.959</td>\n",
       "      <td>1.183</td>\n",
       "      <td>0.238</td>\n",
       "      <td></td>\n",
       "      <td>True</td>\n",
       "      <td>1.065</td>\n",
       "    </tr>\n",
       "    <tr>\n",
       "      <th>31</th>\n",
       "      <td>PAY_3</td>\n",
       "      <td>1.049</td>\n",
       "      <td>4.9%</td>\n",
       "      <td>0.993</td>\n",
       "      <td>1.109</td>\n",
       "      <td>0.085</td>\n",
       "      <td>.</td>\n",
       "      <td>False</td>\n",
       "      <td>1.049</td>\n",
       "    </tr>\n",
       "    <tr>\n",
       "      <th>33</th>\n",
       "      <td>PAY_5</td>\n",
       "      <td>1.049</td>\n",
       "      <td>4.9%</td>\n",
       "      <td>0.985</td>\n",
       "      <td>1.118</td>\n",
       "      <td>0.139</td>\n",
       "      <td></td>\n",
       "      <td>False</td>\n",
       "      <td>1.049</td>\n",
       "    </tr>\n",
       "    <tr>\n",
       "      <th>32</th>\n",
       "      <td>PAY_4</td>\n",
       "      <td>1.028</td>\n",
       "      <td>2.8%</td>\n",
       "      <td>0.968</td>\n",
       "      <td>1.092</td>\n",
       "      <td>0.367</td>\n",
       "      <td></td>\n",
       "      <td>False</td>\n",
       "      <td>1.028</td>\n",
       "    </tr>\n",
       "    <tr>\n",
       "      <th>51</th>\n",
       "      <td>SPEND_PROP_2</td>\n",
       "      <td>1.018</td>\n",
       "      <td>1.8%</td>\n",
       "      <td>0.469</td>\n",
       "      <td>2.210</td>\n",
       "      <td>0.964</td>\n",
       "      <td></td>\n",
       "      <td>False</td>\n",
       "      <td>1.018</td>\n",
       "    </tr>\n",
       "    <tr>\n",
       "      <th>34</th>\n",
       "      <td>PAY_6</td>\n",
       "      <td>0.982</td>\n",
       "      <td>-1.8%</td>\n",
       "      <td>0.932</td>\n",
       "      <td>1.035</td>\n",
       "      <td>0.504</td>\n",
       "      <td></td>\n",
       "      <td>False</td>\n",
       "      <td>1.018</td>\n",
       "    </tr>\n",
       "    <tr>\n",
       "      <th>2</th>\n",
       "      <td>EDUC[T.Bachelors]</td>\n",
       "      <td>1.017</td>\n",
       "      <td>1.7%</td>\n",
       "      <td>0.926</td>\n",
       "      <td>1.116</td>\n",
       "      <td>0.726</td>\n",
       "      <td></td>\n",
       "      <td>True</td>\n",
       "      <td>1.017</td>\n",
       "    </tr>\n",
       "    <tr>\n",
       "      <th>61</th>\n",
       "      <td>ROLLING_PAY_PROP_1</td>\n",
       "      <td>1.008</td>\n",
       "      <td>0.8%</td>\n",
       "      <td>0.995</td>\n",
       "      <td>1.021</td>\n",
       "      <td>0.251</td>\n",
       "      <td></td>\n",
       "      <td>False</td>\n",
       "      <td>1.008</td>\n",
       "    </tr>\n",
       "    <tr>\n",
       "      <th>53</th>\n",
       "      <td>ROLLING_PAY_PROP_5</td>\n",
       "      <td>1.006</td>\n",
       "      <td>0.6%</td>\n",
       "      <td>1.001</td>\n",
       "      <td>1.010</td>\n",
       "      <td>0.01</td>\n",
       "      <td>*</td>\n",
       "      <td>False</td>\n",
       "      <td>1.006</td>\n",
       "    </tr>\n",
       "    <tr>\n",
       "      <th>28</th>\n",
       "      <td>AGE</td>\n",
       "      <td>1.005</td>\n",
       "      <td>0.5%</td>\n",
       "      <td>1.001</td>\n",
       "      <td>1.009</td>\n",
       "      <td>0.022</td>\n",
       "      <td>*</td>\n",
       "      <td>False</td>\n",
       "      <td>1.005</td>\n",
       "    </tr>\n",
       "    <tr>\n",
       "      <th>57</th>\n",
       "      <td>ROLLING_PAY_PROP_3</td>\n",
       "      <td>1.004</td>\n",
       "      <td>0.4%</td>\n",
       "      <td>0.994</td>\n",
       "      <td>1.015</td>\n",
       "      <td>0.45</td>\n",
       "      <td></td>\n",
       "      <td>False</td>\n",
       "      <td>1.004</td>\n",
       "    </tr>\n",
       "    <tr>\n",
       "      <th>59</th>\n",
       "      <td>ROLLING_PAY_PROP_2</td>\n",
       "      <td>0.997</td>\n",
       "      <td>-0.3%</td>\n",
       "      <td>0.995</td>\n",
       "      <td>1.000</td>\n",
       "      <td>0.043</td>\n",
       "      <td>*</td>\n",
       "      <td>False</td>\n",
       "      <td>1.003</td>\n",
       "    </tr>\n",
       "    <tr>\n",
       "      <th>55</th>\n",
       "      <td>ROLLING_PAY_PROP_4</td>\n",
       "      <td>1.002</td>\n",
       "      <td>0.2%</td>\n",
       "      <td>0.997</td>\n",
       "      <td>1.008</td>\n",
       "      <td>0.384</td>\n",
       "      <td></td>\n",
       "      <td>False</td>\n",
       "      <td>1.002</td>\n",
       "    </tr>\n",
       "    <tr>\n",
       "      <th>40</th>\n",
       "      <td>BILL_AMT6</td>\n",
       "      <td>1.000</td>\n",
       "      <td>-0.0%</td>\n",
       "      <td>1.000</td>\n",
       "      <td>1.000</td>\n",
       "      <td>0.299</td>\n",
       "      <td></td>\n",
       "      <td>False</td>\n",
       "      <td>1.000</td>\n",
       "    </tr>\n",
       "    <tr>\n",
       "      <th>41</th>\n",
       "      <td>PAY_AMT1</td>\n",
       "      <td>1.000</td>\n",
       "      <td>-0.0%</td>\n",
       "      <td>1.000</td>\n",
       "      <td>1.000</td>\n",
       "      <td>0.005</td>\n",
       "      <td>**</td>\n",
       "      <td>False</td>\n",
       "      <td>1.000</td>\n",
       "    </tr>\n",
       "    <tr>\n",
       "      <th>44</th>\n",
       "      <td>PAY_AMT4</td>\n",
       "      <td>1.000</td>\n",
       "      <td>-0.0%</td>\n",
       "      <td>1.000</td>\n",
       "      <td>1.000</td>\n",
       "      <td>0.232</td>\n",
       "      <td></td>\n",
       "      <td>False</td>\n",
       "      <td>1.000</td>\n",
       "    </tr>\n",
       "    <tr>\n",
       "      <th>45</th>\n",
       "      <td>PAY_AMT5</td>\n",
       "      <td>1.000</td>\n",
       "      <td>0.0%</td>\n",
       "      <td>1.000</td>\n",
       "      <td>1.000</td>\n",
       "      <td>0.887</td>\n",
       "      <td></td>\n",
       "      <td>False</td>\n",
       "      <td>1.000</td>\n",
       "    </tr>\n",
       "    <tr>\n",
       "      <th>42</th>\n",
       "      <td>PAY_AMT2</td>\n",
       "      <td>1.000</td>\n",
       "      <td>0.0%</td>\n",
       "      <td>1.000</td>\n",
       "      <td>1.000</td>\n",
       "      <td>0.948</td>\n",
       "      <td></td>\n",
       "      <td>False</td>\n",
       "      <td>1.000</td>\n",
       "    </tr>\n",
       "    <tr>\n",
       "      <th>43</th>\n",
       "      <td>PAY_AMT3</td>\n",
       "      <td>1.000</td>\n",
       "      <td>-0.0%</td>\n",
       "      <td>1.000</td>\n",
       "      <td>1.000</td>\n",
       "      <td>0.342</td>\n",
       "      <td></td>\n",
       "      <td>False</td>\n",
       "      <td>1.000</td>\n",
       "    </tr>\n",
       "    <tr>\n",
       "      <th>39</th>\n",
       "      <td>BILL_AMT5</td>\n",
       "      <td>1.000</td>\n",
       "      <td>0.0%</td>\n",
       "      <td>1.000</td>\n",
       "      <td>1.000</td>\n",
       "      <td>0.216</td>\n",
       "      <td></td>\n",
       "      <td>False</td>\n",
       "      <td>1.000</td>\n",
       "    </tr>\n",
       "    <tr>\n",
       "      <th>35</th>\n",
       "      <td>BILL_AMT1</td>\n",
       "      <td>1.000</td>\n",
       "      <td>-0.0%</td>\n",
       "      <td>1.000</td>\n",
       "      <td>1.000</td>\n",
       "      <td>0.598</td>\n",
       "      <td></td>\n",
       "      <td>False</td>\n",
       "      <td>1.000</td>\n",
       "    </tr>\n",
       "    <tr>\n",
       "      <th>36</th>\n",
       "      <td>BILL_AMT2</td>\n",
       "      <td>1.000</td>\n",
       "      <td>0.0%</td>\n",
       "      <td>1.000</td>\n",
       "      <td>1.000</td>\n",
       "      <td>0.217</td>\n",
       "      <td></td>\n",
       "      <td>False</td>\n",
       "      <td>1.000</td>\n",
       "    </tr>\n",
       "    <tr>\n",
       "      <th>37</th>\n",
       "      <td>BILL_AMT3</td>\n",
       "      <td>1.000</td>\n",
       "      <td>-0.0%</td>\n",
       "      <td>1.000</td>\n",
       "      <td>1.000</td>\n",
       "      <td>0.675</td>\n",
       "      <td></td>\n",
       "      <td>False</td>\n",
       "      <td>1.000</td>\n",
       "    </tr>\n",
       "  </tbody>\n",
       "</table>\n",
       "</div>"
      ],
      "text/plain": [
       "                        index     OR     OR%   2.5%   97.5% p.values       \\\n",
       "60  ROLLING_OUTBAL_TO_LIMIT_2  6.481  548.1%  1.549  27.108     0.01    *   \n",
       "58  ROLLING_OUTBAL_TO_LIMIT_3  0.228  -77.2%  0.063   0.832    0.025    *   \n",
       "26   LIMIT_BAL_BINS[T.525000]  0.256  -74.4%  0.081   0.807     0.02    *   \n",
       "27  LIMIT_BAL_BINS[T.1000000]  0.293  -70.7%  0.154   0.557   < .001  ***   \n",
       "50               SPEND_PROP_3  0.296  -70.4%  0.118   0.747     0.01   **   \n",
       "18   LIMIT_BAL_BINS[T.325000]  0.306  -69.4%  0.213   0.440   < .001  ***   \n",
       "24   LIMIT_BAL_BINS[T.475000]  0.326  -67.4%  0.184   0.577   < .001  ***   \n",
       "4               EDUC[T.Other]  0.330  -67.0%  0.211   0.515   < .001  ***   \n",
       "25   LIMIT_BAL_BINS[T.500000]  0.343  -65.7%  0.240   0.488   < .001  ***   \n",
       "21   LIMIT_BAL_BINS[T.400000]  0.343  -65.7%  0.238   0.495   < .001  ***   \n",
       "22   LIMIT_BAL_BINS[T.425000]  0.355  -64.5%  0.213   0.591   < .001  ***   \n",
       "19   LIMIT_BAL_BINS[T.350000]  0.417  -58.3%  0.297   0.585   < .001  ***   \n",
       "16   LIMIT_BAL_BINS[T.275000]  0.457  -54.3%  0.341   0.612   < .001  ***   \n",
       "23   LIMIT_BAL_BINS[T.450000]  0.458  -54.2%  0.301   0.696   < .001  ***   \n",
       "15   LIMIT_BAL_BINS[T.250000]  0.460  -54.0%  0.364   0.581   < .001  ***   \n",
       "12   LIMIT_BAL_BINS[T.175000]  0.460  -54.0%  0.363   0.584   < .001  ***   \n",
       "14   LIMIT_BAL_BINS[T.225000]  0.468  -53.2%  0.365   0.600   < .001  ***   \n",
       "17   LIMIT_BAL_BINS[T.300000]  0.472  -52.8%  0.365   0.609   < .001  ***   \n",
       "52               SPEND_PROP_1  0.497  -50.3%  0.302   0.819    0.006   **   \n",
       "13   LIMIT_BAL_BINS[T.200000]  0.508  -49.2%  0.415   0.622   < .001  ***   \n",
       "54  ROLLING_OUTBAL_TO_LIMIT_5  1.963   96.3%  0.735   5.239    0.178        \n",
       "11   LIMIT_BAL_BINS[T.150000]  0.533  -46.7%  0.442   0.644   < .001  ***   \n",
       "29                      PAY_1  1.768   76.8%  1.691   1.849   < .001  ***   \n",
       "20   LIMIT_BAL_BINS[T.375000]  0.578  -42.2%  0.437   0.763   < .001  ***   \n",
       "10   LIMIT_BAL_BINS[T.125000]  0.585  -41.5%  0.477   0.717   < .001  ***   \n",
       "9    LIMIT_BAL_BINS[T.100000]  0.604  -39.6%  0.515   0.710   < .001  ***   \n",
       "48               SPEND_PROP_5  0.606  -39.4%  0.317   1.158     0.13        \n",
       "8     LIMIT_BAL_BINS[T.75000]  0.731  -26.9%  0.613   0.872   < .001  ***   \n",
       "7     LIMIT_BAL_BINS[T.50000]  0.734  -26.6%  0.643   0.839   < .001  ***   \n",
       "62  ROLLING_OUTBAL_TO_LIMIT_1  0.762  -23.8%  0.323   1.800    0.535        \n",
       "6            MARITAL[T.Other]  0.794  -20.6%  0.590   1.069    0.128        \n",
       "5           MARITAL[T.Single]  0.814  -18.6%  0.755   0.878   < .001  ***   \n",
       "47               SPEND_PROP_6  0.816  -18.4%  0.434   1.536    0.529        \n",
       "49               SPEND_PROP_4  1.189   18.9%  0.580   2.437    0.636        \n",
       "56  ROLLING_OUTBAL_TO_LIMIT_4  0.874  -12.6%  0.330   2.315    0.786        \n",
       "30                      PAY_2  1.113   11.3%  1.060   1.169   < .001  ***   \n",
       "1                 GENDER[T.F]  0.935   -6.5%  0.874   1.001    0.052    .   \n",
       "3             EDUC[T.Masters]  1.065    6.5%  0.959   1.183    0.238        \n",
       "31                      PAY_3  1.049    4.9%  0.993   1.109    0.085    .   \n",
       "33                      PAY_5  1.049    4.9%  0.985   1.118    0.139        \n",
       "32                      PAY_4  1.028    2.8%  0.968   1.092    0.367        \n",
       "51               SPEND_PROP_2  1.018    1.8%  0.469   2.210    0.964        \n",
       "34                      PAY_6  0.982   -1.8%  0.932   1.035    0.504        \n",
       "2           EDUC[T.Bachelors]  1.017    1.7%  0.926   1.116    0.726        \n",
       "61         ROLLING_PAY_PROP_1  1.008    0.8%  0.995   1.021    0.251        \n",
       "53         ROLLING_PAY_PROP_5  1.006    0.6%  1.001   1.010     0.01    *   \n",
       "28                        AGE  1.005    0.5%  1.001   1.009    0.022    *   \n",
       "57         ROLLING_PAY_PROP_3  1.004    0.4%  0.994   1.015     0.45        \n",
       "59         ROLLING_PAY_PROP_2  0.997   -0.3%  0.995   1.000    0.043    *   \n",
       "55         ROLLING_PAY_PROP_4  1.002    0.2%  0.997   1.008    0.384        \n",
       "40                  BILL_AMT6  1.000   -0.0%  1.000   1.000    0.299        \n",
       "41                   PAY_AMT1  1.000   -0.0%  1.000   1.000    0.005   **   \n",
       "44                   PAY_AMT4  1.000   -0.0%  1.000   1.000    0.232        \n",
       "45                   PAY_AMT5  1.000    0.0%  1.000   1.000    0.887        \n",
       "42                   PAY_AMT2  1.000    0.0%  1.000   1.000    0.948        \n",
       "43                   PAY_AMT3  1.000   -0.0%  1.000   1.000    0.342        \n",
       "39                  BILL_AMT5  1.000    0.0%  1.000   1.000    0.216        \n",
       "35                  BILL_AMT1  1.000   -0.0%  1.000   1.000    0.598        \n",
       "36                  BILL_AMT2  1.000    0.0%  1.000   1.000    0.217        \n",
       "37                  BILL_AMT3  1.000   -0.0%  1.000   1.000    0.675        \n",
       "\n",
       "    dummy  importance  \n",
       "60  False       6.481  \n",
       "58  False       4.383  \n",
       "26   True       3.911  \n",
       "27   True       3.411  \n",
       "50  False       3.374  \n",
       "18   True       3.270  \n",
       "24   True       3.071  \n",
       "4    True       3.031  \n",
       "25   True       2.919  \n",
       "21   True       2.913  \n",
       "22   True       2.816  \n",
       "19   True       2.399  \n",
       "16   True       2.189  \n",
       "23   True       2.183  \n",
       "15   True       2.174  \n",
       "12   True       2.173  \n",
       "14   True       2.137  \n",
       "17   True       2.120  \n",
       "52  False       2.012  \n",
       "13   True       1.967  \n",
       "54  False       1.963  \n",
       "11   True       1.875  \n",
       "29  False       1.768  \n",
       "20   True       1.731  \n",
       "10   True       1.709  \n",
       "9    True       1.655  \n",
       "48  False       1.651  \n",
       "8    True       1.368  \n",
       "7    True       1.362  \n",
       "62  False       1.312  \n",
       "6    True       1.259  \n",
       "5    True       1.228  \n",
       "47  False       1.225  \n",
       "49  False       1.189  \n",
       "56  False       1.145  \n",
       "30  False       1.113  \n",
       "1    True       1.069  \n",
       "3    True       1.065  \n",
       "31  False       1.049  \n",
       "33  False       1.049  \n",
       "32  False       1.028  \n",
       "51  False       1.018  \n",
       "34  False       1.018  \n",
       "2    True       1.017  \n",
       "61  False       1.008  \n",
       "53  False       1.006  \n",
       "28  False       1.005  \n",
       "57  False       1.004  \n",
       "59  False       1.003  \n",
       "55  False       1.002  \n",
       "40  False       1.000  \n",
       "41  False       1.000  \n",
       "44  False       1.000  \n",
       "45  False       1.000  \n",
       "42  False       1.000  \n",
       "43  False       1.000  \n",
       "39  False       1.000  \n",
       "35  False       1.000  \n",
       "36  False       1.000  \n",
       "37  False       1.000  "
      ]
     },
     "execution_count": 92,
     "metadata": {},
     "output_type": "execute_result"
    }
   ],
   "source": [
    "rsm.or_ci(lr, importance=True).sort_values(\"importance\", ascending=False).head(60)"
   ]
  },
  {
   "cell_type": "code",
   "execution_count": 42,
   "id": "9ee00f03",
   "metadata": {},
   "outputs": [
    {
     "data": {
      "text/html": [
       "<div>\n",
       "<style scoped>\n",
       "    .dataframe tbody tr th:only-of-type {\n",
       "        vertical-align: middle;\n",
       "    }\n",
       "\n",
       "    .dataframe tbody tr th {\n",
       "        vertical-align: top;\n",
       "    }\n",
       "\n",
       "    .dataframe thead th {\n",
       "        text-align: right;\n",
       "    }\n",
       "</style>\n",
       "<table border=\"1\" class=\"dataframe\">\n",
       "  <thead>\n",
       "    <tr style=\"text-align: right;\">\n",
       "      <th></th>\n",
       "      <th>index</th>\n",
       "      <th>OR</th>\n",
       "      <th>OR%</th>\n",
       "      <th>2.5%</th>\n",
       "      <th>97.5%</th>\n",
       "      <th>p.values</th>\n",
       "      <th></th>\n",
       "      <th>dummy</th>\n",
       "      <th>importance</th>\n",
       "    </tr>\n",
       "  </thead>\n",
       "  <tbody>\n",
       "    <tr>\n",
       "      <th>1</th>\n",
       "      <td>GENDER[T.F]</td>\n",
       "      <td>0.935</td>\n",
       "      <td>-6.5%</td>\n",
       "      <td>0.874</td>\n",
       "      <td>1.001</td>\n",
       "      <td>0.052</td>\n",
       "      <td>.</td>\n",
       "      <td>True</td>\n",
       "      <td>1.069</td>\n",
       "    </tr>\n",
       "    <tr>\n",
       "      <th>2</th>\n",
       "      <td>EDUC[T.Bachelors]</td>\n",
       "      <td>1.017</td>\n",
       "      <td>1.7%</td>\n",
       "      <td>0.926</td>\n",
       "      <td>1.116</td>\n",
       "      <td>0.726</td>\n",
       "      <td></td>\n",
       "      <td>True</td>\n",
       "      <td>1.017</td>\n",
       "    </tr>\n",
       "    <tr>\n",
       "      <th>3</th>\n",
       "      <td>EDUC[T.Masters]</td>\n",
       "      <td>1.065</td>\n",
       "      <td>6.5%</td>\n",
       "      <td>0.959</td>\n",
       "      <td>1.183</td>\n",
       "      <td>0.238</td>\n",
       "      <td></td>\n",
       "      <td>True</td>\n",
       "      <td>1.065</td>\n",
       "    </tr>\n",
       "    <tr>\n",
       "      <th>4</th>\n",
       "      <td>EDUC[T.Other]</td>\n",
       "      <td>0.330</td>\n",
       "      <td>-67.0%</td>\n",
       "      <td>0.211</td>\n",
       "      <td>0.515</td>\n",
       "      <td>&lt; .001</td>\n",
       "      <td>***</td>\n",
       "      <td>True</td>\n",
       "      <td>3.031</td>\n",
       "    </tr>\n",
       "    <tr>\n",
       "      <th>5</th>\n",
       "      <td>MARITAL[T.Single]</td>\n",
       "      <td>0.814</td>\n",
       "      <td>-18.6%</td>\n",
       "      <td>0.755</td>\n",
       "      <td>0.878</td>\n",
       "      <td>&lt; .001</td>\n",
       "      <td>***</td>\n",
       "      <td>True</td>\n",
       "      <td>1.228</td>\n",
       "    </tr>\n",
       "    <tr>\n",
       "      <th>6</th>\n",
       "      <td>MARITAL[T.Other]</td>\n",
       "      <td>0.794</td>\n",
       "      <td>-20.6%</td>\n",
       "      <td>0.590</td>\n",
       "      <td>1.069</td>\n",
       "      <td>0.128</td>\n",
       "      <td></td>\n",
       "      <td>True</td>\n",
       "      <td>1.259</td>\n",
       "    </tr>\n",
       "    <tr>\n",
       "      <th>7</th>\n",
       "      <td>LIMIT_BAL_BINS[T.50000]</td>\n",
       "      <td>0.734</td>\n",
       "      <td>-26.6%</td>\n",
       "      <td>0.643</td>\n",
       "      <td>0.839</td>\n",
       "      <td>&lt; .001</td>\n",
       "      <td>***</td>\n",
       "      <td>True</td>\n",
       "      <td>1.362</td>\n",
       "    </tr>\n",
       "    <tr>\n",
       "      <th>8</th>\n",
       "      <td>LIMIT_BAL_BINS[T.75000]</td>\n",
       "      <td>0.731</td>\n",
       "      <td>-26.9%</td>\n",
       "      <td>0.613</td>\n",
       "      <td>0.872</td>\n",
       "      <td>&lt; .001</td>\n",
       "      <td>***</td>\n",
       "      <td>True</td>\n",
       "      <td>1.368</td>\n",
       "    </tr>\n",
       "    <tr>\n",
       "      <th>9</th>\n",
       "      <td>LIMIT_BAL_BINS[T.100000]</td>\n",
       "      <td>0.604</td>\n",
       "      <td>-39.6%</td>\n",
       "      <td>0.515</td>\n",
       "      <td>0.710</td>\n",
       "      <td>&lt; .001</td>\n",
       "      <td>***</td>\n",
       "      <td>True</td>\n",
       "      <td>1.655</td>\n",
       "    </tr>\n",
       "    <tr>\n",
       "      <th>10</th>\n",
       "      <td>LIMIT_BAL_BINS[T.125000]</td>\n",
       "      <td>0.585</td>\n",
       "      <td>-41.5%</td>\n",
       "      <td>0.477</td>\n",
       "      <td>0.717</td>\n",
       "      <td>&lt; .001</td>\n",
       "      <td>***</td>\n",
       "      <td>True</td>\n",
       "      <td>1.709</td>\n",
       "    </tr>\n",
       "    <tr>\n",
       "      <th>11</th>\n",
       "      <td>LIMIT_BAL_BINS[T.150000]</td>\n",
       "      <td>0.533</td>\n",
       "      <td>-46.7%</td>\n",
       "      <td>0.442</td>\n",
       "      <td>0.644</td>\n",
       "      <td>&lt; .001</td>\n",
       "      <td>***</td>\n",
       "      <td>True</td>\n",
       "      <td>1.875</td>\n",
       "    </tr>\n",
       "    <tr>\n",
       "      <th>12</th>\n",
       "      <td>LIMIT_BAL_BINS[T.175000]</td>\n",
       "      <td>0.460</td>\n",
       "      <td>-54.0%</td>\n",
       "      <td>0.363</td>\n",
       "      <td>0.584</td>\n",
       "      <td>&lt; .001</td>\n",
       "      <td>***</td>\n",
       "      <td>True</td>\n",
       "      <td>2.173</td>\n",
       "    </tr>\n",
       "    <tr>\n",
       "      <th>13</th>\n",
       "      <td>LIMIT_BAL_BINS[T.200000]</td>\n",
       "      <td>0.508</td>\n",
       "      <td>-49.2%</td>\n",
       "      <td>0.415</td>\n",
       "      <td>0.622</td>\n",
       "      <td>&lt; .001</td>\n",
       "      <td>***</td>\n",
       "      <td>True</td>\n",
       "      <td>1.967</td>\n",
       "    </tr>\n",
       "    <tr>\n",
       "      <th>14</th>\n",
       "      <td>LIMIT_BAL_BINS[T.225000]</td>\n",
       "      <td>0.468</td>\n",
       "      <td>-53.2%</td>\n",
       "      <td>0.365</td>\n",
       "      <td>0.600</td>\n",
       "      <td>&lt; .001</td>\n",
       "      <td>***</td>\n",
       "      <td>True</td>\n",
       "      <td>2.137</td>\n",
       "    </tr>\n",
       "    <tr>\n",
       "      <th>15</th>\n",
       "      <td>LIMIT_BAL_BINS[T.250000]</td>\n",
       "      <td>0.460</td>\n",
       "      <td>-54.0%</td>\n",
       "      <td>0.364</td>\n",
       "      <td>0.581</td>\n",
       "      <td>&lt; .001</td>\n",
       "      <td>***</td>\n",
       "      <td>True</td>\n",
       "      <td>2.174</td>\n",
       "    </tr>\n",
       "    <tr>\n",
       "      <th>16</th>\n",
       "      <td>LIMIT_BAL_BINS[T.275000]</td>\n",
       "      <td>0.457</td>\n",
       "      <td>-54.3%</td>\n",
       "      <td>0.341</td>\n",
       "      <td>0.612</td>\n",
       "      <td>&lt; .001</td>\n",
       "      <td>***</td>\n",
       "      <td>True</td>\n",
       "      <td>2.189</td>\n",
       "    </tr>\n",
       "    <tr>\n",
       "      <th>17</th>\n",
       "      <td>LIMIT_BAL_BINS[T.300000]</td>\n",
       "      <td>0.472</td>\n",
       "      <td>-52.8%</td>\n",
       "      <td>0.365</td>\n",
       "      <td>0.609</td>\n",
       "      <td>&lt; .001</td>\n",
       "      <td>***</td>\n",
       "      <td>True</td>\n",
       "      <td>2.120</td>\n",
       "    </tr>\n",
       "    <tr>\n",
       "      <th>18</th>\n",
       "      <td>LIMIT_BAL_BINS[T.325000]</td>\n",
       "      <td>0.306</td>\n",
       "      <td>-69.4%</td>\n",
       "      <td>0.213</td>\n",
       "      <td>0.440</td>\n",
       "      <td>&lt; .001</td>\n",
       "      <td>***</td>\n",
       "      <td>True</td>\n",
       "      <td>3.270</td>\n",
       "    </tr>\n",
       "    <tr>\n",
       "      <th>19</th>\n",
       "      <td>LIMIT_BAL_BINS[T.350000]</td>\n",
       "      <td>0.417</td>\n",
       "      <td>-58.3%</td>\n",
       "      <td>0.297</td>\n",
       "      <td>0.585</td>\n",
       "      <td>&lt; .001</td>\n",
       "      <td>***</td>\n",
       "      <td>True</td>\n",
       "      <td>2.399</td>\n",
       "    </tr>\n",
       "    <tr>\n",
       "      <th>20</th>\n",
       "      <td>LIMIT_BAL_BINS[T.375000]</td>\n",
       "      <td>0.578</td>\n",
       "      <td>-42.2%</td>\n",
       "      <td>0.437</td>\n",
       "      <td>0.763</td>\n",
       "      <td>&lt; .001</td>\n",
       "      <td>***</td>\n",
       "      <td>True</td>\n",
       "      <td>1.731</td>\n",
       "    </tr>\n",
       "    <tr>\n",
       "      <th>21</th>\n",
       "      <td>LIMIT_BAL_BINS[T.400000]</td>\n",
       "      <td>0.343</td>\n",
       "      <td>-65.7%</td>\n",
       "      <td>0.238</td>\n",
       "      <td>0.495</td>\n",
       "      <td>&lt; .001</td>\n",
       "      <td>***</td>\n",
       "      <td>True</td>\n",
       "      <td>2.913</td>\n",
       "    </tr>\n",
       "    <tr>\n",
       "      <th>22</th>\n",
       "      <td>LIMIT_BAL_BINS[T.425000]</td>\n",
       "      <td>0.355</td>\n",
       "      <td>-64.5%</td>\n",
       "      <td>0.213</td>\n",
       "      <td>0.591</td>\n",
       "      <td>&lt; .001</td>\n",
       "      <td>***</td>\n",
       "      <td>True</td>\n",
       "      <td>2.816</td>\n",
       "    </tr>\n",
       "    <tr>\n",
       "      <th>23</th>\n",
       "      <td>LIMIT_BAL_BINS[T.450000]</td>\n",
       "      <td>0.458</td>\n",
       "      <td>-54.2%</td>\n",
       "      <td>0.301</td>\n",
       "      <td>0.696</td>\n",
       "      <td>&lt; .001</td>\n",
       "      <td>***</td>\n",
       "      <td>True</td>\n",
       "      <td>2.183</td>\n",
       "    </tr>\n",
       "    <tr>\n",
       "      <th>24</th>\n",
       "      <td>LIMIT_BAL_BINS[T.475000]</td>\n",
       "      <td>0.326</td>\n",
       "      <td>-67.4%</td>\n",
       "      <td>0.184</td>\n",
       "      <td>0.577</td>\n",
       "      <td>&lt; .001</td>\n",
       "      <td>***</td>\n",
       "      <td>True</td>\n",
       "      <td>3.071</td>\n",
       "    </tr>\n",
       "    <tr>\n",
       "      <th>25</th>\n",
       "      <td>LIMIT_BAL_BINS[T.500000]</td>\n",
       "      <td>0.343</td>\n",
       "      <td>-65.7%</td>\n",
       "      <td>0.240</td>\n",
       "      <td>0.488</td>\n",
       "      <td>&lt; .001</td>\n",
       "      <td>***</td>\n",
       "      <td>True</td>\n",
       "      <td>2.919</td>\n",
       "    </tr>\n",
       "    <tr>\n",
       "      <th>26</th>\n",
       "      <td>LIMIT_BAL_BINS[T.525000]</td>\n",
       "      <td>0.256</td>\n",
       "      <td>-74.4%</td>\n",
       "      <td>0.081</td>\n",
       "      <td>0.807</td>\n",
       "      <td>0.02</td>\n",
       "      <td>*</td>\n",
       "      <td>True</td>\n",
       "      <td>3.911</td>\n",
       "    </tr>\n",
       "    <tr>\n",
       "      <th>27</th>\n",
       "      <td>LIMIT_BAL_BINS[T.1000000]</td>\n",
       "      <td>0.293</td>\n",
       "      <td>-70.7%</td>\n",
       "      <td>0.154</td>\n",
       "      <td>0.557</td>\n",
       "      <td>&lt; .001</td>\n",
       "      <td>***</td>\n",
       "      <td>True</td>\n",
       "      <td>3.411</td>\n",
       "    </tr>\n",
       "    <tr>\n",
       "      <th>28</th>\n",
       "      <td>AGE</td>\n",
       "      <td>1.005</td>\n",
       "      <td>0.5%</td>\n",
       "      <td>1.001</td>\n",
       "      <td>1.009</td>\n",
       "      <td>0.022</td>\n",
       "      <td>*</td>\n",
       "      <td>False</td>\n",
       "      <td>1.005</td>\n",
       "    </tr>\n",
       "    <tr>\n",
       "      <th>29</th>\n",
       "      <td>PAY_1</td>\n",
       "      <td>1.768</td>\n",
       "      <td>76.8%</td>\n",
       "      <td>1.691</td>\n",
       "      <td>1.849</td>\n",
       "      <td>&lt; .001</td>\n",
       "      <td>***</td>\n",
       "      <td>False</td>\n",
       "      <td>1.768</td>\n",
       "    </tr>\n",
       "    <tr>\n",
       "      <th>30</th>\n",
       "      <td>PAY_2</td>\n",
       "      <td>1.113</td>\n",
       "      <td>11.3%</td>\n",
       "      <td>1.060</td>\n",
       "      <td>1.169</td>\n",
       "      <td>&lt; .001</td>\n",
       "      <td>***</td>\n",
       "      <td>False</td>\n",
       "      <td>1.113</td>\n",
       "    </tr>\n",
       "    <tr>\n",
       "      <th>31</th>\n",
       "      <td>PAY_3</td>\n",
       "      <td>1.049</td>\n",
       "      <td>4.9%</td>\n",
       "      <td>0.993</td>\n",
       "      <td>1.109</td>\n",
       "      <td>0.085</td>\n",
       "      <td>.</td>\n",
       "      <td>False</td>\n",
       "      <td>1.049</td>\n",
       "    </tr>\n",
       "    <tr>\n",
       "      <th>32</th>\n",
       "      <td>PAY_4</td>\n",
       "      <td>1.028</td>\n",
       "      <td>2.8%</td>\n",
       "      <td>0.968</td>\n",
       "      <td>1.092</td>\n",
       "      <td>0.367</td>\n",
       "      <td></td>\n",
       "      <td>False</td>\n",
       "      <td>1.028</td>\n",
       "    </tr>\n",
       "    <tr>\n",
       "      <th>33</th>\n",
       "      <td>PAY_5</td>\n",
       "      <td>1.049</td>\n",
       "      <td>4.9%</td>\n",
       "      <td>0.985</td>\n",
       "      <td>1.118</td>\n",
       "      <td>0.139</td>\n",
       "      <td></td>\n",
       "      <td>False</td>\n",
       "      <td>1.049</td>\n",
       "    </tr>\n",
       "    <tr>\n",
       "      <th>34</th>\n",
       "      <td>PAY_6</td>\n",
       "      <td>0.982</td>\n",
       "      <td>-1.8%</td>\n",
       "      <td>0.932</td>\n",
       "      <td>1.035</td>\n",
       "      <td>0.504</td>\n",
       "      <td></td>\n",
       "      <td>False</td>\n",
       "      <td>1.018</td>\n",
       "    </tr>\n",
       "    <tr>\n",
       "      <th>35</th>\n",
       "      <td>BILL_AMT1</td>\n",
       "      <td>1.000</td>\n",
       "      <td>-0.0%</td>\n",
       "      <td>1.000</td>\n",
       "      <td>1.000</td>\n",
       "      <td>0.598</td>\n",
       "      <td></td>\n",
       "      <td>False</td>\n",
       "      <td>1.000</td>\n",
       "    </tr>\n",
       "    <tr>\n",
       "      <th>36</th>\n",
       "      <td>BILL_AMT2</td>\n",
       "      <td>1.000</td>\n",
       "      <td>0.0%</td>\n",
       "      <td>1.000</td>\n",
       "      <td>1.000</td>\n",
       "      <td>0.217</td>\n",
       "      <td></td>\n",
       "      <td>False</td>\n",
       "      <td>1.000</td>\n",
       "    </tr>\n",
       "    <tr>\n",
       "      <th>37</th>\n",
       "      <td>BILL_AMT3</td>\n",
       "      <td>1.000</td>\n",
       "      <td>-0.0%</td>\n",
       "      <td>1.000</td>\n",
       "      <td>1.000</td>\n",
       "      <td>0.675</td>\n",
       "      <td></td>\n",
       "      <td>False</td>\n",
       "      <td>1.000</td>\n",
       "    </tr>\n",
       "    <tr>\n",
       "      <th>38</th>\n",
       "      <td>BILL_AMT4</td>\n",
       "      <td>1.000</td>\n",
       "      <td>-0.0%</td>\n",
       "      <td>1.000</td>\n",
       "      <td>1.000</td>\n",
       "      <td>0.405</td>\n",
       "      <td></td>\n",
       "      <td>False</td>\n",
       "      <td>1.000</td>\n",
       "    </tr>\n",
       "    <tr>\n",
       "      <th>39</th>\n",
       "      <td>BILL_AMT5</td>\n",
       "      <td>1.000</td>\n",
       "      <td>0.0%</td>\n",
       "      <td>1.000</td>\n",
       "      <td>1.000</td>\n",
       "      <td>0.216</td>\n",
       "      <td></td>\n",
       "      <td>False</td>\n",
       "      <td>1.000</td>\n",
       "    </tr>\n",
       "    <tr>\n",
       "      <th>40</th>\n",
       "      <td>BILL_AMT6</td>\n",
       "      <td>1.000</td>\n",
       "      <td>-0.0%</td>\n",
       "      <td>1.000</td>\n",
       "      <td>1.000</td>\n",
       "      <td>0.299</td>\n",
       "      <td></td>\n",
       "      <td>False</td>\n",
       "      <td>1.000</td>\n",
       "    </tr>\n",
       "    <tr>\n",
       "      <th>41</th>\n",
       "      <td>PAY_AMT1</td>\n",
       "      <td>1.000</td>\n",
       "      <td>-0.0%</td>\n",
       "      <td>1.000</td>\n",
       "      <td>1.000</td>\n",
       "      <td>0.005</td>\n",
       "      <td>**</td>\n",
       "      <td>False</td>\n",
       "      <td>1.000</td>\n",
       "    </tr>\n",
       "    <tr>\n",
       "      <th>42</th>\n",
       "      <td>PAY_AMT2</td>\n",
       "      <td>1.000</td>\n",
       "      <td>0.0%</td>\n",
       "      <td>1.000</td>\n",
       "      <td>1.000</td>\n",
       "      <td>0.948</td>\n",
       "      <td></td>\n",
       "      <td>False</td>\n",
       "      <td>1.000</td>\n",
       "    </tr>\n",
       "    <tr>\n",
       "      <th>43</th>\n",
       "      <td>PAY_AMT3</td>\n",
       "      <td>1.000</td>\n",
       "      <td>-0.0%</td>\n",
       "      <td>1.000</td>\n",
       "      <td>1.000</td>\n",
       "      <td>0.342</td>\n",
       "      <td></td>\n",
       "      <td>False</td>\n",
       "      <td>1.000</td>\n",
       "    </tr>\n",
       "    <tr>\n",
       "      <th>44</th>\n",
       "      <td>PAY_AMT4</td>\n",
       "      <td>1.000</td>\n",
       "      <td>-0.0%</td>\n",
       "      <td>1.000</td>\n",
       "      <td>1.000</td>\n",
       "      <td>0.232</td>\n",
       "      <td></td>\n",
       "      <td>False</td>\n",
       "      <td>1.000</td>\n",
       "    </tr>\n",
       "    <tr>\n",
       "      <th>45</th>\n",
       "      <td>PAY_AMT5</td>\n",
       "      <td>1.000</td>\n",
       "      <td>0.0%</td>\n",
       "      <td>1.000</td>\n",
       "      <td>1.000</td>\n",
       "      <td>0.887</td>\n",
       "      <td></td>\n",
       "      <td>False</td>\n",
       "      <td>1.000</td>\n",
       "    </tr>\n",
       "    <tr>\n",
       "      <th>46</th>\n",
       "      <td>PAY_AMT6</td>\n",
       "      <td>1.000</td>\n",
       "      <td>-0.0%</td>\n",
       "      <td>1.000</td>\n",
       "      <td>1.000</td>\n",
       "      <td>0.116</td>\n",
       "      <td></td>\n",
       "      <td>False</td>\n",
       "      <td>1.000</td>\n",
       "    </tr>\n",
       "    <tr>\n",
       "      <th>47</th>\n",
       "      <td>SPEND_PROP_6</td>\n",
       "      <td>0.816</td>\n",
       "      <td>-18.4%</td>\n",
       "      <td>0.434</td>\n",
       "      <td>1.536</td>\n",
       "      <td>0.529</td>\n",
       "      <td></td>\n",
       "      <td>False</td>\n",
       "      <td>1.225</td>\n",
       "    </tr>\n",
       "    <tr>\n",
       "      <th>48</th>\n",
       "      <td>SPEND_PROP_5</td>\n",
       "      <td>0.606</td>\n",
       "      <td>-39.4%</td>\n",
       "      <td>0.317</td>\n",
       "      <td>1.158</td>\n",
       "      <td>0.13</td>\n",
       "      <td></td>\n",
       "      <td>False</td>\n",
       "      <td>1.651</td>\n",
       "    </tr>\n",
       "    <tr>\n",
       "      <th>49</th>\n",
       "      <td>SPEND_PROP_4</td>\n",
       "      <td>1.189</td>\n",
       "      <td>18.9%</td>\n",
       "      <td>0.580</td>\n",
       "      <td>2.437</td>\n",
       "      <td>0.636</td>\n",
       "      <td></td>\n",
       "      <td>False</td>\n",
       "      <td>1.189</td>\n",
       "    </tr>\n",
       "    <tr>\n",
       "      <th>50</th>\n",
       "      <td>SPEND_PROP_3</td>\n",
       "      <td>0.296</td>\n",
       "      <td>-70.4%</td>\n",
       "      <td>0.118</td>\n",
       "      <td>0.747</td>\n",
       "      <td>0.01</td>\n",
       "      <td>**</td>\n",
       "      <td>False</td>\n",
       "      <td>3.374</td>\n",
       "    </tr>\n",
       "    <tr>\n",
       "      <th>51</th>\n",
       "      <td>SPEND_PROP_2</td>\n",
       "      <td>1.018</td>\n",
       "      <td>1.8%</td>\n",
       "      <td>0.469</td>\n",
       "      <td>2.210</td>\n",
       "      <td>0.964</td>\n",
       "      <td></td>\n",
       "      <td>False</td>\n",
       "      <td>1.018</td>\n",
       "    </tr>\n",
       "    <tr>\n",
       "      <th>52</th>\n",
       "      <td>SPEND_PROP_1</td>\n",
       "      <td>0.497</td>\n",
       "      <td>-50.3%</td>\n",
       "      <td>0.302</td>\n",
       "      <td>0.819</td>\n",
       "      <td>0.006</td>\n",
       "      <td>**</td>\n",
       "      <td>False</td>\n",
       "      <td>2.012</td>\n",
       "    </tr>\n",
       "    <tr>\n",
       "      <th>53</th>\n",
       "      <td>ROLLING_PAY_PROP_5</td>\n",
       "      <td>1.006</td>\n",
       "      <td>0.6%</td>\n",
       "      <td>1.001</td>\n",
       "      <td>1.010</td>\n",
       "      <td>0.01</td>\n",
       "      <td>*</td>\n",
       "      <td>False</td>\n",
       "      <td>1.006</td>\n",
       "    </tr>\n",
       "    <tr>\n",
       "      <th>54</th>\n",
       "      <td>ROLLING_OUTBAL_TO_LIMIT_5</td>\n",
       "      <td>1.963</td>\n",
       "      <td>96.3%</td>\n",
       "      <td>0.735</td>\n",
       "      <td>5.239</td>\n",
       "      <td>0.178</td>\n",
       "      <td></td>\n",
       "      <td>False</td>\n",
       "      <td>1.963</td>\n",
       "    </tr>\n",
       "    <tr>\n",
       "      <th>55</th>\n",
       "      <td>ROLLING_PAY_PROP_4</td>\n",
       "      <td>1.002</td>\n",
       "      <td>0.2%</td>\n",
       "      <td>0.997</td>\n",
       "      <td>1.008</td>\n",
       "      <td>0.384</td>\n",
       "      <td></td>\n",
       "      <td>False</td>\n",
       "      <td>1.002</td>\n",
       "    </tr>\n",
       "    <tr>\n",
       "      <th>56</th>\n",
       "      <td>ROLLING_OUTBAL_TO_LIMIT_4</td>\n",
       "      <td>0.874</td>\n",
       "      <td>-12.6%</td>\n",
       "      <td>0.330</td>\n",
       "      <td>2.315</td>\n",
       "      <td>0.786</td>\n",
       "      <td></td>\n",
       "      <td>False</td>\n",
       "      <td>1.145</td>\n",
       "    </tr>\n",
       "    <tr>\n",
       "      <th>57</th>\n",
       "      <td>ROLLING_PAY_PROP_3</td>\n",
       "      <td>1.004</td>\n",
       "      <td>0.4%</td>\n",
       "      <td>0.994</td>\n",
       "      <td>1.015</td>\n",
       "      <td>0.45</td>\n",
       "      <td></td>\n",
       "      <td>False</td>\n",
       "      <td>1.004</td>\n",
       "    </tr>\n",
       "    <tr>\n",
       "      <th>58</th>\n",
       "      <td>ROLLING_OUTBAL_TO_LIMIT_3</td>\n",
       "      <td>0.228</td>\n",
       "      <td>-77.2%</td>\n",
       "      <td>0.063</td>\n",
       "      <td>0.832</td>\n",
       "      <td>0.025</td>\n",
       "      <td>*</td>\n",
       "      <td>False</td>\n",
       "      <td>4.383</td>\n",
       "    </tr>\n",
       "    <tr>\n",
       "      <th>59</th>\n",
       "      <td>ROLLING_PAY_PROP_2</td>\n",
       "      <td>0.997</td>\n",
       "      <td>-0.3%</td>\n",
       "      <td>0.995</td>\n",
       "      <td>1.000</td>\n",
       "      <td>0.043</td>\n",
       "      <td>*</td>\n",
       "      <td>False</td>\n",
       "      <td>1.003</td>\n",
       "    </tr>\n",
       "    <tr>\n",
       "      <th>60</th>\n",
       "      <td>ROLLING_OUTBAL_TO_LIMIT_2</td>\n",
       "      <td>6.481</td>\n",
       "      <td>548.1%</td>\n",
       "      <td>1.549</td>\n",
       "      <td>27.108</td>\n",
       "      <td>0.01</td>\n",
       "      <td>*</td>\n",
       "      <td>False</td>\n",
       "      <td>6.481</td>\n",
       "    </tr>\n",
       "  </tbody>\n",
       "</table>\n",
       "</div>"
      ],
      "text/plain": [
       "                        index     OR     OR%   2.5%   97.5% p.values       \\\n",
       "1                 GENDER[T.F]  0.935   -6.5%  0.874   1.001    0.052    .   \n",
       "2           EDUC[T.Bachelors]  1.017    1.7%  0.926   1.116    0.726        \n",
       "3             EDUC[T.Masters]  1.065    6.5%  0.959   1.183    0.238        \n",
       "4               EDUC[T.Other]  0.330  -67.0%  0.211   0.515   < .001  ***   \n",
       "5           MARITAL[T.Single]  0.814  -18.6%  0.755   0.878   < .001  ***   \n",
       "6            MARITAL[T.Other]  0.794  -20.6%  0.590   1.069    0.128        \n",
       "7     LIMIT_BAL_BINS[T.50000]  0.734  -26.6%  0.643   0.839   < .001  ***   \n",
       "8     LIMIT_BAL_BINS[T.75000]  0.731  -26.9%  0.613   0.872   < .001  ***   \n",
       "9    LIMIT_BAL_BINS[T.100000]  0.604  -39.6%  0.515   0.710   < .001  ***   \n",
       "10   LIMIT_BAL_BINS[T.125000]  0.585  -41.5%  0.477   0.717   < .001  ***   \n",
       "11   LIMIT_BAL_BINS[T.150000]  0.533  -46.7%  0.442   0.644   < .001  ***   \n",
       "12   LIMIT_BAL_BINS[T.175000]  0.460  -54.0%  0.363   0.584   < .001  ***   \n",
       "13   LIMIT_BAL_BINS[T.200000]  0.508  -49.2%  0.415   0.622   < .001  ***   \n",
       "14   LIMIT_BAL_BINS[T.225000]  0.468  -53.2%  0.365   0.600   < .001  ***   \n",
       "15   LIMIT_BAL_BINS[T.250000]  0.460  -54.0%  0.364   0.581   < .001  ***   \n",
       "16   LIMIT_BAL_BINS[T.275000]  0.457  -54.3%  0.341   0.612   < .001  ***   \n",
       "17   LIMIT_BAL_BINS[T.300000]  0.472  -52.8%  0.365   0.609   < .001  ***   \n",
       "18   LIMIT_BAL_BINS[T.325000]  0.306  -69.4%  0.213   0.440   < .001  ***   \n",
       "19   LIMIT_BAL_BINS[T.350000]  0.417  -58.3%  0.297   0.585   < .001  ***   \n",
       "20   LIMIT_BAL_BINS[T.375000]  0.578  -42.2%  0.437   0.763   < .001  ***   \n",
       "21   LIMIT_BAL_BINS[T.400000]  0.343  -65.7%  0.238   0.495   < .001  ***   \n",
       "22   LIMIT_BAL_BINS[T.425000]  0.355  -64.5%  0.213   0.591   < .001  ***   \n",
       "23   LIMIT_BAL_BINS[T.450000]  0.458  -54.2%  0.301   0.696   < .001  ***   \n",
       "24   LIMIT_BAL_BINS[T.475000]  0.326  -67.4%  0.184   0.577   < .001  ***   \n",
       "25   LIMIT_BAL_BINS[T.500000]  0.343  -65.7%  0.240   0.488   < .001  ***   \n",
       "26   LIMIT_BAL_BINS[T.525000]  0.256  -74.4%  0.081   0.807     0.02    *   \n",
       "27  LIMIT_BAL_BINS[T.1000000]  0.293  -70.7%  0.154   0.557   < .001  ***   \n",
       "28                        AGE  1.005    0.5%  1.001   1.009    0.022    *   \n",
       "29                      PAY_1  1.768   76.8%  1.691   1.849   < .001  ***   \n",
       "30                      PAY_2  1.113   11.3%  1.060   1.169   < .001  ***   \n",
       "31                      PAY_3  1.049    4.9%  0.993   1.109    0.085    .   \n",
       "32                      PAY_4  1.028    2.8%  0.968   1.092    0.367        \n",
       "33                      PAY_5  1.049    4.9%  0.985   1.118    0.139        \n",
       "34                      PAY_6  0.982   -1.8%  0.932   1.035    0.504        \n",
       "35                  BILL_AMT1  1.000   -0.0%  1.000   1.000    0.598        \n",
       "36                  BILL_AMT2  1.000    0.0%  1.000   1.000    0.217        \n",
       "37                  BILL_AMT3  1.000   -0.0%  1.000   1.000    0.675        \n",
       "38                  BILL_AMT4  1.000   -0.0%  1.000   1.000    0.405        \n",
       "39                  BILL_AMT5  1.000    0.0%  1.000   1.000    0.216        \n",
       "40                  BILL_AMT6  1.000   -0.0%  1.000   1.000    0.299        \n",
       "41                   PAY_AMT1  1.000   -0.0%  1.000   1.000    0.005   **   \n",
       "42                   PAY_AMT2  1.000    0.0%  1.000   1.000    0.948        \n",
       "43                   PAY_AMT3  1.000   -0.0%  1.000   1.000    0.342        \n",
       "44                   PAY_AMT4  1.000   -0.0%  1.000   1.000    0.232        \n",
       "45                   PAY_AMT5  1.000    0.0%  1.000   1.000    0.887        \n",
       "46                   PAY_AMT6  1.000   -0.0%  1.000   1.000    0.116        \n",
       "47               SPEND_PROP_6  0.816  -18.4%  0.434   1.536    0.529        \n",
       "48               SPEND_PROP_5  0.606  -39.4%  0.317   1.158     0.13        \n",
       "49               SPEND_PROP_4  1.189   18.9%  0.580   2.437    0.636        \n",
       "50               SPEND_PROP_3  0.296  -70.4%  0.118   0.747     0.01   **   \n",
       "51               SPEND_PROP_2  1.018    1.8%  0.469   2.210    0.964        \n",
       "52               SPEND_PROP_1  0.497  -50.3%  0.302   0.819    0.006   **   \n",
       "53         ROLLING_PAY_PROP_5  1.006    0.6%  1.001   1.010     0.01    *   \n",
       "54  ROLLING_OUTBAL_TO_LIMIT_5  1.963   96.3%  0.735   5.239    0.178        \n",
       "55         ROLLING_PAY_PROP_4  1.002    0.2%  0.997   1.008    0.384        \n",
       "56  ROLLING_OUTBAL_TO_LIMIT_4  0.874  -12.6%  0.330   2.315    0.786        \n",
       "57         ROLLING_PAY_PROP_3  1.004    0.4%  0.994   1.015     0.45        \n",
       "58  ROLLING_OUTBAL_TO_LIMIT_3  0.228  -77.2%  0.063   0.832    0.025    *   \n",
       "59         ROLLING_PAY_PROP_2  0.997   -0.3%  0.995   1.000    0.043    *   \n",
       "60  ROLLING_OUTBAL_TO_LIMIT_2  6.481  548.1%  1.549  27.108     0.01    *   \n",
       "\n",
       "    dummy  importance  \n",
       "1    True       1.069  \n",
       "2    True       1.017  \n",
       "3    True       1.065  \n",
       "4    True       3.031  \n",
       "5    True       1.228  \n",
       "6    True       1.259  \n",
       "7    True       1.362  \n",
       "8    True       1.368  \n",
       "9    True       1.655  \n",
       "10   True       1.709  \n",
       "11   True       1.875  \n",
       "12   True       2.173  \n",
       "13   True       1.967  \n",
       "14   True       2.137  \n",
       "15   True       2.174  \n",
       "16   True       2.189  \n",
       "17   True       2.120  \n",
       "18   True       3.270  \n",
       "19   True       2.399  \n",
       "20   True       1.731  \n",
       "21   True       2.913  \n",
       "22   True       2.816  \n",
       "23   True       2.183  \n",
       "24   True       3.071  \n",
       "25   True       2.919  \n",
       "26   True       3.911  \n",
       "27   True       3.411  \n",
       "28  False       1.005  \n",
       "29  False       1.768  \n",
       "30  False       1.113  \n",
       "31  False       1.049  \n",
       "32  False       1.028  \n",
       "33  False       1.049  \n",
       "34  False       1.018  \n",
       "35  False       1.000  \n",
       "36  False       1.000  \n",
       "37  False       1.000  \n",
       "38  False       1.000  \n",
       "39  False       1.000  \n",
       "40  False       1.000  \n",
       "41  False       1.000  \n",
       "42  False       1.000  \n",
       "43  False       1.000  \n",
       "44  False       1.000  \n",
       "45  False       1.000  \n",
       "46  False       1.000  \n",
       "47  False       1.225  \n",
       "48  False       1.651  \n",
       "49  False       1.189  \n",
       "50  False       3.374  \n",
       "51  False       1.018  \n",
       "52  False       2.012  \n",
       "53  False       1.006  \n",
       "54  False       1.963  \n",
       "55  False       1.002  \n",
       "56  False       1.145  \n",
       "57  False       1.004  \n",
       "58  False       4.383  \n",
       "59  False       1.003  \n",
       "60  False       6.481  "
      ]
     },
     "execution_count": 42,
     "metadata": {},
     "output_type": "execute_result"
    }
   ],
   "source": [
    "rsm.or_ci(lr, importance=True).head(60)  #.sort_values(\"importance\", ascending=False)"
   ]
  },
  {
   "cell_type": "code",
   "execution_count": 43,
   "id": "2d52dc44",
   "metadata": {},
   "outputs": [
    {
     "data": {
      "text/html": [
       "<div>\n",
       "<style scoped>\n",
       "    .dataframe tbody tr th:only-of-type {\n",
       "        vertical-align: middle;\n",
       "    }\n",
       "\n",
       "    .dataframe tbody tr th {\n",
       "        vertical-align: top;\n",
       "    }\n",
       "\n",
       "    .dataframe thead th {\n",
       "        text-align: right;\n",
       "    }\n",
       "</style>\n",
       "<table border=\"1\" class=\"dataframe\">\n",
       "  <thead>\n",
       "    <tr style=\"text-align: right;\">\n",
       "      <th></th>\n",
       "      <th>index</th>\n",
       "      <th>OR</th>\n",
       "      <th>OR%</th>\n",
       "      <th>2.5%</th>\n",
       "      <th>97.5%</th>\n",
       "      <th>p.values</th>\n",
       "      <th></th>\n",
       "      <th>dummy</th>\n",
       "      <th>importance</th>\n",
       "    </tr>\n",
       "  </thead>\n",
       "  <tbody>\n",
       "    <tr>\n",
       "      <th>61</th>\n",
       "      <td>ROLLING_PAY_PROP_1</td>\n",
       "      <td>1.008</td>\n",
       "      <td>0.8%</td>\n",
       "      <td>0.995</td>\n",
       "      <td>1.021</td>\n",
       "      <td>0.251</td>\n",
       "      <td></td>\n",
       "      <td>False</td>\n",
       "      <td>1.008</td>\n",
       "    </tr>\n",
       "    <tr>\n",
       "      <th>62</th>\n",
       "      <td>ROLLING_OUTBAL_TO_LIMIT_1</td>\n",
       "      <td>0.762</td>\n",
       "      <td>-23.8%</td>\n",
       "      <td>0.323</td>\n",
       "      <td>1.800</td>\n",
       "      <td>0.535</td>\n",
       "      <td></td>\n",
       "      <td>False</td>\n",
       "      <td>1.312</td>\n",
       "    </tr>\n",
       "  </tbody>\n",
       "</table>\n",
       "</div>"
      ],
      "text/plain": [
       "                        index     OR     OR%   2.5%  97.5% p.values     dummy  \\\n",
       "61         ROLLING_PAY_PROP_1  1.008    0.8%  0.995  1.021    0.251     False   \n",
       "62  ROLLING_OUTBAL_TO_LIMIT_1  0.762  -23.8%  0.323  1.800    0.535     False   \n",
       "\n",
       "    importance  \n",
       "61       1.008  \n",
       "62       1.312  "
      ]
     },
     "execution_count": 43,
     "metadata": {},
     "output_type": "execute_result"
    }
   ],
   "source": [
    "rsm.or_ci(lr, importance=True).tail(2)  #.sort_values(\"importance\", ascending=False)"
   ]
  },
  {
   "cell_type": "code",
   "execution_count": 46,
   "id": "023fd682",
   "metadata": {},
   "outputs": [
    {
     "name": "stdout",
     "output_type": "stream",
     "text": [
      "\n",
      "Pseudo R-squared (McFadden): 0.127\n",
      "Pseudo R-squared (McFadden adjusted): 0.122\n",
      "Log-likelihood: -11073.348, AIC: 22272.696, BIC: 22782.102\n",
      "Chi-squared: 29067.69 df(62), p.value < 0.001 \n",
      "Nr obs: 24,000\n",
      "\n"
     ]
    }
   ],
   "source": [
    "rsm.model_fit(lr)"
   ]
  },
  {
   "cell_type": "code",
   "execution_count": 61,
   "id": "1e6369d5",
   "metadata": {},
   "outputs": [],
   "source": [
    "import pandas as pd\n",
    "import numpy as np\n",
    "import matplotlib.pyplot as plt\n",
    "import seaborn as sns\n",
    "from pyrsm import xtile\n",
    "from pyrsm.utils import ifelse\n",
    "from sklearn import metrics\n",
    "from scipy.stats import rankdata"
   ]
  },
  {
   "cell_type": "code",
   "execution_count": 62,
   "id": "65adbf94",
   "metadata": {},
   "outputs": [],
   "source": [
    "def xtile(x, n=5, rev=False):\n",
    "    \"\"\"\n",
    "    Split a numeric series into a number of bins and return a series of bin numbers\n",
    "    Parameters\n",
    "    ----------\n",
    "    x : List, pandas series, or numpy array\n",
    "        Numeric variable to bin\n",
    "    n :\tint\n",
    "        Number of bins to create\n",
    "    rev\t: bool\n",
    "        Reverse the order of the bin numbers (False or True)\n",
    "    Returns\n",
    "    -------\n",
    "    Numpy array with bin numbers for each numeric value in x\n",
    "    Examples\n",
    "    --------\n",
    "    xtile(np.arange(10), 5)\n",
    "    xtile(np.arange(10), 5, rev=True)\n",
    "    \"\"\"\n",
    "    x = np.array(x)\n",
    "    #breaks = np.quantile(x[np.isnan(x) == False], np.arange(0, n + 1) / n)\n",
    "    breaks = np.quantile(x, np.arange(0, n + 1) / n)\n",
    "    if len(np.unique(breaks)) == len(breaks):\n",
    "        bins = pd.cut(x, breaks, include_lowest=True, labels=False) + 1\n",
    "    else:\n",
    "        bins = bincode(x, breaks)\n",
    "\n",
    "    if rev is True:\n",
    "        bins = (n + 1) - bins\n",
    "\n",
    "    return bins"
   ]
  },
  {
   "cell_type": "code",
   "execution_count": 63,
   "id": "2b84d9ab",
   "metadata": {},
   "outputs": [],
   "source": [
    "def calc_qnt(df, rvar, lev, pred, qnt=10):\n",
    "    \"\"\"\n",
    "    Create quantiles and calculate input to use for lift and gains charts\n",
    "    Parameters\n",
    "    ----------\n",
    "    df : Pandas dataframe\n",
    "    rvar : str\n",
    "        Name of the response variable column in df\n",
    "    lev : str\n",
    "        Name of the 'success' level in rvar\n",
    "    pred : str\n",
    "        Name of the column in df with model predictions\n",
    "    qnt : int\n",
    "        Number of quantiles to create\n",
    "    Returns\n",
    "    -------\n",
    "    Pandas dataframe\n",
    "        Response metrics per quantile. Used as input for lift and gains charts\n",
    "    \"\"\"\n",
    "\n",
    "    df = df.loc[:, (rvar, pred)]\n",
    "    df[\"bins\"] = xtile(df[pred], qnt)\n",
    "    df[\"rvar_int\"] = np.where(df[rvar] == lev, 1, 0)\n",
    "    perf_df = df.groupby(\"bins\").rvar_int.agg(nr_obs=\"count\", nr_resp=sum).reset_index()\n",
    "\n",
    "    # flip if needed\n",
    "    if perf_df.nr_resp.iloc[1] < perf_df.nr_resp.iloc[-1]:\n",
    "        perf_df = perf_df.sort_values(\"bins\", ascending=False)\n",
    "\n",
    "    perf_df[\"cum_obs\"] = np.cumsum(perf_df.nr_obs)\n",
    "    perf_df[\"cum_prop\"] = perf_df.cum_obs / perf_df.cum_obs.iloc[-1]\n",
    "    perf_df[\"cum_resp\"] = np.cumsum(perf_df.nr_resp)\n",
    "    return perf_df\n",
    "\n",
    "\n",
    "def gains_tab(df, rvar, lev, pred, qnt=10):\n",
    "    \"\"\"\n",
    "    Calculate cumulative gains using the cum_resp column\n",
    "    Parameters\n",
    "    ----------\n",
    "    df : Pandas dataframe\n",
    "    rvar : str\n",
    "        Name of the response variable column in df\n",
    "    lev : str\n",
    "        Name of the 'success' level in rvar\n",
    "    pred : str\n",
    "        Name of the column in df with model predictions\n",
    "    qnt : int\n",
    "        Number of quantiles to create\n",
    "    Returns\n",
    "    -------\n",
    "    Pandas dataframe\n",
    "        Gains measures per quantile. Input for gains chart\n",
    "    \"\"\"\n",
    "\n",
    "    df = calc_qnt(df, rvar, lev, pred, qnt=qnt)\n",
    "    df[\"cum_gains\"] = df.cum_resp / df.cum_resp.iloc[-1]\n",
    "    df0 = pd.DataFrame({\"cum_prop\": [0], \"cum_gains\": [0]})\n",
    "    df = pd.concat([df0, df], sort=False).reset_index(drop=True)\n",
    "    df.index = range(df.shape[0])\n",
    "    return df[[\"cum_prop\", \"cum_gains\"]]"
   ]
  },
  {
   "cell_type": "code",
   "execution_count": 64,
   "id": "3bcd9ee2",
   "metadata": {},
   "outputs": [],
   "source": [
    "def gains_plot(df, rvar, lev, pred, qnt=10, marker=\"o\", **kwargs):\n",
    "    \"\"\"\n",
    "    Plot a cumulative gains curve\n",
    "    Parameters\n",
    "    ----------\n",
    "    df : Pandas dataframe or a dictionary of dataframes with keys to show multiple curves for different models or data samples\n",
    "    rvar : str\n",
    "        Name of the response variable column in df\n",
    "    lev : str\n",
    "        Name of the 'success' level in rvar\n",
    "    pred : str\n",
    "        Name of the column in df with model predictions\n",
    "    qnt : int\n",
    "        Number of quantiles to create\n",
    "    cost : int\n",
    "        Cost of an action\n",
    "    margin : int\n",
    "        Benefit of an action if a successful outcome results from the action\n",
    "    marker : str\n",
    "        Marker to use for line plot\n",
    "    **kwargs : Named arguments to be passed to the seaborn lineplot function\n",
    "    Returns\n",
    "    -------\n",
    "    Seaborn object\n",
    "        Plot of gaines per quantile\n",
    "    Examples\n",
    "    --------\n",
    "    gains_plot(df, \"buyer\", \"yes\", \"pred_a\")\n",
    "    gains_plot(df, \"buyer\", \"yes\", [\"pred_a\", \"pred_b\"], qnt=20)\n",
    "    dct = {\"Training\": df.query(\"training == 1\"), \"Test\": df.query(\"training == 0\")}\n",
    "    gains_plot(dct, \"buyer\", \"yes\", \"pred_a\")\n",
    "    \"\"\"\n",
    "    dct = ifelse(type(df) is dict, df, {\"\": df})\n",
    "    pred = ifelse(type(pred) is list, pred, [pred])\n",
    "    group = ifelse(len(pred) > 1 or len(dct.keys()) > 1, \"predictor\", None)\n",
    "    rd = [\n",
    "        gains_tab(dct[k], rvar, lev, p, qnt=qnt).assign(\n",
    "            predictor=p + ifelse(k == \"\", k, f\" ({k})\")\n",
    "        )\n",
    "        for k in dct.keys()\n",
    "        for p in pred\n",
    "    ]\n",
    "    rd = pd.concat(rd).reset_index(drop=True)\n",
    "    fig = sns.lineplot(\n",
    "        x=\"cum_prop\", y=\"cum_gains\", data=rd, hue=group, marker=marker, **kwargs\n",
    "    )\n",
    "    fig.set(ylabel=\"Cumulative gains\", xlabel=\"Proportion of customers\")\n",
    "    plt.plot([0, 1], [0, 1], linestyle=\"--\", linewidth=1)\n",
    "    if len(dct) > 1:\n",
    "        fig.legend(title=None)\n",
    "    return fig"
   ]
  },
  {
   "cell_type": "code",
   "execution_count": null,
   "id": "578040e8",
   "metadata": {},
   "outputs": [],
   "source": []
  },
  {
   "cell_type": "code",
   "execution_count": 65,
   "id": "39a1144e",
   "metadata": {},
   "outputs": [],
   "source": [
    "eval_dat = df[['ID', 'DEFAULT']].copy()"
   ]
  },
  {
   "cell_type": "code",
   "execution_count": 66,
   "id": "0a883149",
   "metadata": {},
   "outputs": [],
   "source": [
    "eval_dat = eval_dat.assign(predicted_prob_lr = lr.predict(df))"
   ]
  },
  {
   "cell_type": "code",
   "execution_count": 67,
   "id": "95f5969c",
   "metadata": {},
   "outputs": [
    {
     "data": {
      "text/plain": [
       "<AxesSubplot:xlabel='Proportion of customers', ylabel='Cumulative gains'>"
      ]
     },
     "execution_count": 67,
     "metadata": {},
     "output_type": "execute_result"
    },
    {
     "data": {
      "image/png": "[encoded data removed]",
      "text/plain": [
       "<Figure size 432x288 with 1 Axes>"
      ]
     },
     "metadata": {
      "needs_background": "light"
     },
     "output_type": "display_data"
    }
   ],
   "source": [
    "dct = {\"training\": eval_dat.iloc[train_index], \"test\": eval_dat.iloc[test_index]}\n",
    "rsm.gains_plot(dct, rvar = 'DEFAULT', pred = 'predicted_prob_lr', lev = 1, qnt = 10, marker = \"o\")"
   ]
  },
  {
   "cell_type": "code",
   "execution_count": 68,
   "id": "f2027952",
   "metadata": {},
   "outputs": [
    {
     "data": {
      "text/plain": [
       "{'training':           ID  DEFAULT  predicted_prob_lr\n",
       " 9648    9649        0           0.126210\n",
       " 15895  15896        0           0.337030\n",
       " 7324    7325        0           0.263812\n",
       " 26043  26044        1           0.538578\n",
       " 12134  12135        0           0.129148\n",
       " ...      ...      ...                ...\n",
       " 17249  17250        1           0.226299\n",
       " 19534  19535        0           0.274742\n",
       " 5257    5258        0           0.108005\n",
       " 2621    2622        0           0.237210\n",
       " 14906  14907        0           0.317682\n",
       " \n",
       " [24000 rows x 3 columns],\n",
       " 'test':           ID  DEFAULT  predicted_prob_lr\n",
       " 21515  21516        0           0.384894\n",
       " 22062  22063        0           0.071483\n",
       " 9191    9192        0           0.229462\n",
       " 10962  10963        1           0.121402\n",
       " 2192    2193        0           0.149959\n",
       " ...      ...      ...                ...\n",
       " 20311  20312        0           0.264959\n",
       " 29642  29643        1           0.457793\n",
       " 15527  15528        0           0.173904\n",
       " 22162  22163        0           0.267965\n",
       " 28965  28966        1           0.097083\n",
       " \n",
       " [6000 rows x 3 columns]}"
      ]
     },
     "execution_count": 68,
     "metadata": {},
     "output_type": "execute_result"
    }
   ],
   "source": [
    "dct"
   ]
  },
  {
   "cell_type": "code",
   "execution_count": 69,
   "id": "aa172d79",
   "metadata": {},
   "outputs": [
    {
     "data": {
      "text/html": [
       "<div>\n",
       "<style scoped>\n",
       "    .dataframe tbody tr th:only-of-type {\n",
       "        vertical-align: middle;\n",
       "    }\n",
       "\n",
       "    .dataframe tbody tr th {\n",
       "        vertical-align: top;\n",
       "    }\n",
       "\n",
       "    .dataframe thead th {\n",
       "        text-align: right;\n",
       "    }\n",
       "</style>\n",
       "<table border=\"1\" class=\"dataframe\">\n",
       "  <thead>\n",
       "    <tr style=\"text-align: right;\">\n",
       "      <th></th>\n",
       "      <th>Type</th>\n",
       "      <th>predictor</th>\n",
       "      <th>total</th>\n",
       "      <th>AUC</th>\n",
       "      <th>accuracy</th>\n",
       "      <th>TP</th>\n",
       "      <th>FP</th>\n",
       "      <th>TN</th>\n",
       "      <th>FN</th>\n",
       "    </tr>\n",
       "  </thead>\n",
       "  <tbody>\n",
       "    <tr>\n",
       "      <th>0</th>\n",
       "      <td>training</td>\n",
       "      <td>predicted_prob_lr</td>\n",
       "      <td>24000</td>\n",
       "      <td>0.73</td>\n",
       "      <td>0.80</td>\n",
       "      <td>616</td>\n",
       "      <td>207</td>\n",
       "      <td>18484</td>\n",
       "      <td>4693</td>\n",
       "    </tr>\n",
       "    <tr>\n",
       "      <th>1</th>\n",
       "      <td>test</td>\n",
       "      <td>predicted_prob_lr</td>\n",
       "      <td>6000</td>\n",
       "      <td>0.73</td>\n",
       "      <td>0.79</td>\n",
       "      <td>148</td>\n",
       "      <td>59</td>\n",
       "      <td>4614</td>\n",
       "      <td>1179</td>\n",
       "    </tr>\n",
       "  </tbody>\n",
       "</table>\n",
       "</div>"
      ],
      "text/plain": [
       "       Type          predictor  total   AUC  accuracy   TP   FP     TN    FN\n",
       "0  training  predicted_prob_lr  24000  0.73      0.80  616  207  18484  4693\n",
       "1      test  predicted_prob_lr   6000  0.73      0.79  148   59   4614  1179"
      ]
     },
     "execution_count": 69,
     "metadata": {},
     "output_type": "execute_result"
    }
   ],
   "source": [
    "rsm.evalbin(dct, rvar = 'DEFAULT', lev = 1, pred = ['predicted_prob_lr'], cost = 3, margin=5, dec=2)[['Type', 'predictor', 'total', 'AUC', 'accuracy', 'TP', 'FP', 'TN', 'FN']]"
   ]
  },
  {
   "cell_type": "code",
   "execution_count": null,
   "id": "9dc6a0c3",
   "metadata": {
    "jupyter": {
     "source_hidden": true
    }
   },
   "outputs": [],
   "source": [
    "#Kolmogarov-smirnov (KS intuition)"
   ]
  },
  {
   "cell_type": "code",
   "execution_count": 70,
   "id": "137246be",
   "metadata": {
    "collapsed": true,
    "jupyter": {
     "outputs_hidden": true,
     "source_hidden": true
    }
   },
   "outputs": [
    {
     "data": {
      "text/plain": [
       "<AxesSubplot:xlabel='PAY_1', ylabel='Count'>"
      ]
     },
     "execution_count": 70,
     "metadata": {},
     "output_type": "execute_result"
    },
    {
     "data": {
      "image/png": "[encoded data removed]",
      "text/plain": [
       "<Figure size 432x288 with 1 Axes>"
      ]
     },
     "metadata": {
      "needs_background": "light"
     },
     "output_type": "display_data"
    }
   ],
   "source": [
    "sns.histplot(df.query('DEFAULT == 0')['PAY_1'])"
   ]
  },
  {
   "cell_type": "code",
   "execution_count": 71,
   "id": "58086b0b",
   "metadata": {
    "collapsed": true,
    "jupyter": {
     "outputs_hidden": true,
     "source_hidden": true
    }
   },
   "outputs": [
    {
     "data": {
      "text/plain": [
       "<AxesSubplot:xlabel='PAY_1', ylabel='Count'>"
      ]
     },
     "execution_count": 71,
     "metadata": {},
     "output_type": "execute_result"
    },
    {
     "data": {
      "image/png": "[encoded data removed]",
      "text/plain": [
       "<Figure size 432x288 with 1 Axes>"
      ]
     },
     "metadata": {
      "needs_background": "light"
     },
     "output_type": "display_data"
    }
   ],
   "source": [
    "sns.histplot(df.query('DEFAULT == 1')['PAY_1'])"
   ]
  },
  {
   "cell_type": "code",
   "execution_count": 72,
   "id": "089ebcc5",
   "metadata": {
    "collapsed": true,
    "jupyter": {
     "outputs_hidden": true,
     "source_hidden": true
    }
   },
   "outputs": [
    {
     "data": {
      "text/plain": [
       "-0.21122239342578325"
      ]
     },
     "execution_count": 72,
     "metadata": {},
     "output_type": "execute_result"
    }
   ],
   "source": [
    "df.query('DEFAULT == 0')['PAY_1'].mean()"
   ]
  },
  {
   "cell_type": "code",
   "execution_count": 73,
   "id": "6de229ae",
   "metadata": {
    "collapsed": true,
    "jupyter": {
     "outputs_hidden": true,
     "source_hidden": true
    }
   },
   "outputs": [
    {
     "data": {
      "text/plain": [
       "0.6681735985533453"
      ]
     },
     "execution_count": 73,
     "metadata": {},
     "output_type": "execute_result"
    }
   ],
   "source": [
    "df.query('DEFAULT == 1')['PAY_1'].mean()"
   ]
  },
  {
   "cell_type": "code",
   "execution_count": null,
   "id": "479f658b",
   "metadata": {},
   "outputs": [],
   "source": []
  },
  {
   "cell_type": "code",
   "execution_count": null,
   "id": "2b9ea29b",
   "metadata": {},
   "outputs": [],
   "source": [
    "# Forward selection wrapper:\n",
    "from mlxtend.feature_selection import SequentialFeatureSelector as SFS\n",
    "from sklearn.ensemble import RandomForestClassifier\n",
    "\n",
    "nfeatures = len(Xs.columns)\n",
    "clf = RandomForestClassifier(n_estimators=5, n_jobs=-1)\n",
    "sfs = SFS(clf,k_features=nfeatures,forward=True,verbose=2,scoring='roc_auc',cv=2,n_jobs=-1)\n",
    "# sfs = SFS(clf,k_features=1,forward=False,verbose=2,scoring=fdr,cv=2,n_jobs=-1)\n",
    "sfs.fit(Xs.iloc[train_index], df['DEFAULT'].iloc[train_index])"
   ]
  },
  {
   "cell_type": "code",
   "execution_count": null,
   "id": "ccb94597",
   "metadata": {},
   "outputs": [],
   "source": [
    "vars_FS = pd.DataFrame.from_dict(sfs.get_metric_dict()).T\n",
    "vars_FS"
   ]
  },
  {
   "cell_type": "code",
   "execution_count": null,
   "id": "46f4286c",
   "metadata": {},
   "outputs": [],
   "source": [
    "sfs_top_30 = list(vars_FS.loc[30, 'feature_names'])\n",
    "sfs_top_30"
   ]
  },
  {
   "cell_type": "markdown",
   "id": "debc6fdf",
   "metadata": {},
   "source": [
    "## Random Forest"
   ]
  },
  {
   "cell_type": "code",
   "execution_count": 74,
   "id": "70405a60",
   "metadata": {},
   "outputs": [],
   "source": [
    "from sklearn.model_selection import GridSearchCV, StratifiedShuffleSplit\n",
    "from sklearn.ensemble import RandomForestClassifier"
   ]
  },
  {
   "cell_type": "code",
   "execution_count": 75,
   "id": "ffd3964a",
   "metadata": {},
   "outputs": [
    {
     "name": "stdout",
     "output_type": "stream",
     "text": [
      "{'criterion': 'entropy', 'n_estimators': 500}\n",
      "0.7720604064846245\n",
      "CPU times: user 27min 35s, sys: 0 ns, total: 27min 35s\n",
      "Wall time: 27min 35s\n"
     ]
    }
   ],
   "source": [
    "%%time\n",
    "\n",
    "clf_rf = RandomForestClassifier()\n",
    "param_grid_rf = {\"n_estimators\": [100, 200, 300, 400, 500], 'criterion': ['gini', 'entropy']}\n",
    "\n",
    "cv_rf = GridSearchCV(clf_rf, param_grid_rf, cv = 5, scoring = 'roc_auc')\n",
    "\n",
    "cv_rf.fit(Xs.iloc[train_index], df['DEFAULT'].iloc[train_index])\n",
    "\n",
    "print(cv_rf.best_params_)\n",
    "print(cv_rf.best_score_)"
   ]
  },
  {
   "cell_type": "code",
   "execution_count": null,
   "id": "5c5bc406",
   "metadata": {},
   "outputs": [],
   "source": [
    "# #took long time to do gridsearch cv:\n",
    "\n",
    "# print(cv_rf.best_params_)\n",
    "# print(cv_rf.best_score_)\n",
    "\n",
    "# result:\n",
    "# {'criterion': 'entropy', 'n_estimators': 500}\n",
    "# 0.772366450848367   "
   ]
  },
  {
   "cell_type": "code",
   "execution_count": null,
   "id": "a9fe6c08",
   "metadata": {},
   "outputs": [],
   "source": [
    "# profit * probabality >= cost\n",
    "\n",
    "# profit from keeping on a customer and not declaring delinquint * profit >= cost of that customer defaulting"
   ]
  },
  {
   "cell_type": "code",
   "execution_count": null,
   "id": "368acb69",
   "metadata": {},
   "outputs": [],
   "source": []
  },
  {
   "cell_type": "code",
   "execution_count": 76,
   "id": "dd3a2f54",
   "metadata": {},
   "outputs": [
    {
     "name": "stdout",
     "output_type": "stream",
     "text": [
      "CPU times: user 1min 11s, sys: 0 ns, total: 1min 11s\n",
      "Wall time: 1min 11s\n"
     ]
    }
   ],
   "source": [
    "%%time\n",
    "\n",
    "model_rf = RandomForestClassifier(criterion = cv_rf.best_params_['criterion'], n_estimators = cv_rf.best_params_['n_estimators'], oob_score = True, random_state = 1234).fit(Xs.iloc[train_index], df['DEFAULT'].iloc[train_index])"
   ]
  },
  {
   "cell_type": "code",
   "execution_count": 77,
   "id": "affda383",
   "metadata": {},
   "outputs": [
    {
     "name": "stdout",
     "output_type": "stream",
     "text": [
      "Making sure order of categorical response is correct, expect [0: no, 1: default]\n",
      "[0 1]\n"
     ]
    }
   ],
   "source": [
    "print(\"Making sure order of categorical response is correct, expect [0: no, 1: default]\")\n",
    "print(model_rf.classes_)"
   ]
  },
  {
   "cell_type": "code",
   "execution_count": 86,
   "id": "999919ff",
   "metadata": {},
   "outputs": [
    {
     "data": {
      "text/html": [
       "<div>\n",
       "<style scoped>\n",
       "    .dataframe tbody tr th:only-of-type {\n",
       "        vertical-align: middle;\n",
       "    }\n",
       "\n",
       "    .dataframe tbody tr th {\n",
       "        vertical-align: top;\n",
       "    }\n",
       "\n",
       "    .dataframe thead th {\n",
       "        text-align: right;\n",
       "    }\n",
       "</style>\n",
       "<table border=\"1\" class=\"dataframe\">\n",
       "  <thead>\n",
       "    <tr style=\"text-align: right;\">\n",
       "      <th></th>\n",
       "      <th>ID</th>\n",
       "      <th>DEFAULT</th>\n",
       "      <th>predicted_prob_lr</th>\n",
       "      <th>predicted_prob_rf</th>\n",
       "    </tr>\n",
       "  </thead>\n",
       "  <tbody>\n",
       "    <tr>\n",
       "      <th>0</th>\n",
       "      <td>1</td>\n",
       "      <td>1</td>\n",
       "      <td>0.630370</td>\n",
       "      <td>0.614973</td>\n",
       "    </tr>\n",
       "    <tr>\n",
       "      <th>1</th>\n",
       "      <td>2</td>\n",
       "      <td>1</td>\n",
       "      <td>0.162715</td>\n",
       "      <td>0.32</td>\n",
       "    </tr>\n",
       "    <tr>\n",
       "      <th>2</th>\n",
       "      <td>3</td>\n",
       "      <td>0</td>\n",
       "      <td>0.198494</td>\n",
       "      <td>0.113636</td>\n",
       "    </tr>\n",
       "    <tr>\n",
       "      <th>3</th>\n",
       "      <td>4</td>\n",
       "      <td>0</td>\n",
       "      <td>0.235322</td>\n",
       "      <td>0.180233</td>\n",
       "    </tr>\n",
       "    <tr>\n",
       "      <th>4</th>\n",
       "      <td>5</td>\n",
       "      <td>0</td>\n",
       "      <td>0.093034</td>\n",
       "      <td>0.094059</td>\n",
       "    </tr>\n",
       "    <tr>\n",
       "      <th>...</th>\n",
       "      <td>...</td>\n",
       "      <td>...</td>\n",
       "      <td>...</td>\n",
       "      <td>...</td>\n",
       "    </tr>\n",
       "    <tr>\n",
       "      <th>29995</th>\n",
       "      <td>29996</td>\n",
       "      <td>0</td>\n",
       "      <td>0.165336</td>\n",
       "      <td>0.122905</td>\n",
       "    </tr>\n",
       "    <tr>\n",
       "      <th>29996</th>\n",
       "      <td>29997</td>\n",
       "      <td>0</td>\n",
       "      <td>0.117220</td>\n",
       "      <td>0.12</td>\n",
       "    </tr>\n",
       "    <tr>\n",
       "      <th>29997</th>\n",
       "      <td>29998</td>\n",
       "      <td>1</td>\n",
       "      <td>0.836941</td>\n",
       "      <td>0.464481</td>\n",
       "    </tr>\n",
       "    <tr>\n",
       "      <th>29998</th>\n",
       "      <td>29999</td>\n",
       "      <td>1</td>\n",
       "      <td>0.208816</td>\n",
       "      <td>0.218182</td>\n",
       "    </tr>\n",
       "    <tr>\n",
       "      <th>29999</th>\n",
       "      <td>30000</td>\n",
       "      <td>1</td>\n",
       "      <td>0.237015</td>\n",
       "      <td>0.162791</td>\n",
       "    </tr>\n",
       "  </tbody>\n",
       "</table>\n",
       "<p>30000 rows × 4 columns</p>\n",
       "</div>"
      ],
      "text/plain": [
       "          ID  DEFAULT  predicted_prob_lr predicted_prob_rf\n",
       "0          1        1           0.630370          0.614973\n",
       "1          2        1           0.162715              0.32\n",
       "2          3        0           0.198494          0.113636\n",
       "3          4        0           0.235322          0.180233\n",
       "4          5        0           0.093034          0.094059\n",
       "...      ...      ...                ...               ...\n",
       "29995  29996        0           0.165336          0.122905\n",
       "29996  29997        0           0.117220              0.12\n",
       "29997  29998        1           0.836941          0.464481\n",
       "29998  29999        1           0.208816          0.218182\n",
       "29999  30000        1           0.237015          0.162791\n",
       "\n",
       "[30000 rows x 4 columns]"
      ]
     },
     "execution_count": 86,
     "metadata": {},
     "output_type": "execute_result"
    }
   ],
   "source": [
    "eval_dat['predicted_prob_rf'] = None\n",
    "\n",
    "eval_dat.loc[train_index, 'predicted_prob_rf'] = model_rf.oob_decision_function_[:, 1]\n",
    "eval_dat.loc[test_index, 'predicted_prob_rf'] = model_rf.predict_proba(Xs.iloc[test_index])[:, 1]\n",
    "\n",
    "eval_dat"
   ]
  },
  {
   "cell_type": "code",
   "execution_count": 88,
   "id": "e1096d0f",
   "metadata": {},
   "outputs": [
    {
     "data": {
      "text/plain": [
       "<AxesSubplot:xlabel='Proportion of customers', ylabel='Cumulative gains'>"
      ]
     },
     "execution_count": 88,
     "metadata": {},
     "output_type": "execute_result"
    },
    {
     "data": {
      "image/png": "[encoded data removed]",
      "text/plain": [
       "<Figure size 432x288 with 1 Axes>"
      ]
     },
     "metadata": {
      "needs_background": "light"
     },
     "output_type": "display_data"
    }
   ],
   "source": [
    "dct = {\"training\": eval_dat.iloc[train_index], \"test\": eval_dat.iloc[test_index]}\n",
    "gains_plot(dct, rvar = 'DEFAULT', pred = 'predicted_prob_rf', lev = 1, qnt = 10, marker = \"o\")"
   ]
  },
  {
   "cell_type": "code",
   "execution_count": 89,
   "id": "016e65a1",
   "metadata": {},
   "outputs": [
    {
     "data": {
      "text/html": [
       "<div>\n",
       "<style scoped>\n",
       "    .dataframe tbody tr th:only-of-type {\n",
       "        vertical-align: middle;\n",
       "    }\n",
       "\n",
       "    .dataframe tbody tr th {\n",
       "        vertical-align: top;\n",
       "    }\n",
       "\n",
       "    .dataframe thead th {\n",
       "        text-align: right;\n",
       "    }\n",
       "</style>\n",
       "<table border=\"1\" class=\"dataframe\">\n",
       "  <thead>\n",
       "    <tr style=\"text-align: right;\">\n",
       "      <th></th>\n",
       "      <th>Type</th>\n",
       "      <th>predictor</th>\n",
       "      <th>total</th>\n",
       "      <th>AUC</th>\n",
       "      <th>accuracy</th>\n",
       "      <th>TP</th>\n",
       "      <th>FP</th>\n",
       "      <th>TN</th>\n",
       "      <th>FN</th>\n",
       "    </tr>\n",
       "  </thead>\n",
       "  <tbody>\n",
       "    <tr>\n",
       "      <th>0</th>\n",
       "      <td>training</td>\n",
       "      <td>predicted_prob_lr</td>\n",
       "      <td>24000</td>\n",
       "      <td>0.73</td>\n",
       "      <td>0.80</td>\n",
       "      <td>616</td>\n",
       "      <td>207</td>\n",
       "      <td>18484</td>\n",
       "      <td>4693</td>\n",
       "    </tr>\n",
       "    <tr>\n",
       "      <th>1</th>\n",
       "      <td>training</td>\n",
       "      <td>predicted_prob_rf</td>\n",
       "      <td>24000</td>\n",
       "      <td>0.77</td>\n",
       "      <td>0.81</td>\n",
       "      <td>1349</td>\n",
       "      <td>546</td>\n",
       "      <td>18145</td>\n",
       "      <td>3960</td>\n",
       "    </tr>\n",
       "    <tr>\n",
       "      <th>2</th>\n",
       "      <td>test</td>\n",
       "      <td>predicted_prob_lr</td>\n",
       "      <td>6000</td>\n",
       "      <td>0.73</td>\n",
       "      <td>0.79</td>\n",
       "      <td>148</td>\n",
       "      <td>59</td>\n",
       "      <td>4614</td>\n",
       "      <td>1179</td>\n",
       "    </tr>\n",
       "    <tr>\n",
       "      <th>3</th>\n",
       "      <td>test</td>\n",
       "      <td>predicted_prob_rf</td>\n",
       "      <td>6000</td>\n",
       "      <td>0.77</td>\n",
       "      <td>0.81</td>\n",
       "      <td>325</td>\n",
       "      <td>146</td>\n",
       "      <td>4527</td>\n",
       "      <td>1002</td>\n",
       "    </tr>\n",
       "  </tbody>\n",
       "</table>\n",
       "</div>"
      ],
      "text/plain": [
       "       Type          predictor  total   AUC  accuracy    TP   FP     TN    FN\n",
       "0  training  predicted_prob_lr  24000  0.73      0.80   616  207  18484  4693\n",
       "1  training  predicted_prob_rf  24000  0.77      0.81  1349  546  18145  3960\n",
       "2      test  predicted_prob_lr   6000  0.73      0.79   148   59   4614  1179\n",
       "3      test  predicted_prob_rf   6000  0.77      0.81   325  146   4527  1002"
      ]
     },
     "execution_count": 89,
     "metadata": {},
     "output_type": "execute_result"
    }
   ],
   "source": [
    "#60% threshold\n",
    "rsm.evalbin(dct, rvar = 'DEFAULT', lev = 1, pred = ['predicted_prob_lr', 'predicted_prob_rf'], cost = 3, margin=5, dec=2)[['Type', 'predictor', 'total', 'AUC', 'accuracy', 'TP', 'FP', 'TN', 'FN']]"
   ]
  },
  {
   "cell_type": "code",
   "execution_count": 90,
   "id": "7699f5b0",
   "metadata": {},
   "outputs": [
    {
     "data": {
      "text/html": [
       "<div>\n",
       "<style scoped>\n",
       "    .dataframe tbody tr th:only-of-type {\n",
       "        vertical-align: middle;\n",
       "    }\n",
       "\n",
       "    .dataframe tbody tr th {\n",
       "        vertical-align: top;\n",
       "    }\n",
       "\n",
       "    .dataframe thead th {\n",
       "        text-align: right;\n",
       "    }\n",
       "</style>\n",
       "<table border=\"1\" class=\"dataframe\">\n",
       "  <thead>\n",
       "    <tr style=\"text-align: right;\">\n",
       "      <th></th>\n",
       "      <th>Type</th>\n",
       "      <th>predictor</th>\n",
       "      <th>total</th>\n",
       "      <th>AUC</th>\n",
       "      <th>accuracy</th>\n",
       "      <th>TP</th>\n",
       "      <th>FP</th>\n",
       "      <th>TN</th>\n",
       "      <th>FN</th>\n",
       "    </tr>\n",
       "  </thead>\n",
       "  <tbody>\n",
       "    <tr>\n",
       "      <th>0</th>\n",
       "      <td>training</td>\n",
       "      <td>predicted_prob_lr</td>\n",
       "      <td>24000</td>\n",
       "      <td>0.73</td>\n",
       "      <td>0.81</td>\n",
       "      <td>1296</td>\n",
       "      <td>552</td>\n",
       "      <td>18139</td>\n",
       "      <td>4013</td>\n",
       "    </tr>\n",
       "    <tr>\n",
       "      <th>1</th>\n",
       "      <td>training</td>\n",
       "      <td>predicted_prob_rf</td>\n",
       "      <td>24000</td>\n",
       "      <td>0.77</td>\n",
       "      <td>0.82</td>\n",
       "      <td>1962</td>\n",
       "      <td>1022</td>\n",
       "      <td>17669</td>\n",
       "      <td>3347</td>\n",
       "    </tr>\n",
       "    <tr>\n",
       "      <th>2</th>\n",
       "      <td>test</td>\n",
       "      <td>predicted_prob_lr</td>\n",
       "      <td>6000</td>\n",
       "      <td>0.73</td>\n",
       "      <td>0.81</td>\n",
       "      <td>323</td>\n",
       "      <td>131</td>\n",
       "      <td>4542</td>\n",
       "      <td>1004</td>\n",
       "    </tr>\n",
       "    <tr>\n",
       "      <th>3</th>\n",
       "      <td>test</td>\n",
       "      <td>predicted_prob_rf</td>\n",
       "      <td>6000</td>\n",
       "      <td>0.77</td>\n",
       "      <td>0.82</td>\n",
       "      <td>481</td>\n",
       "      <td>262</td>\n",
       "      <td>4411</td>\n",
       "      <td>846</td>\n",
       "    </tr>\n",
       "  </tbody>\n",
       "</table>\n",
       "</div>"
      ],
      "text/plain": [
       "       Type          predictor  total   AUC  accuracy    TP    FP     TN    FN\n",
       "0  training  predicted_prob_lr  24000  0.73      0.81  1296   552  18139  4013\n",
       "1  training  predicted_prob_rf  24000  0.77      0.82  1962  1022  17669  3347\n",
       "2      test  predicted_prob_lr   6000  0.73      0.81   323   131   4542  1004\n",
       "3      test  predicted_prob_rf   6000  0.77      0.82   481   262   4411   846"
      ]
     },
     "execution_count": 90,
     "metadata": {},
     "output_type": "execute_result"
    }
   ],
   "source": [
    "#50% threshold\n",
    "rsm.evalbin(dct, rvar = 'DEFAULT', lev = 1, pred = ['predicted_prob_lr', 'predicted_prob_rf'], cost = 1, margin=2, dec=2)[['Type', 'predictor', 'total', 'AUC', 'accuracy', 'TP', 'FP', 'TN', 'FN']]"
   ]
  },
  {
   "cell_type": "markdown",
   "id": "325050e9",
   "metadata": {},
   "source": [
    "## XG Boosted Tree"
   ]
  },
  {
   "cell_type": "code",
   "execution_count": 93,
   "id": "371ff897",
   "metadata": {},
   "outputs": [],
   "source": [
    "import xgboost as xgb"
   ]
  },
  {
   "cell_type": "code",
   "execution_count": 163,
   "id": "a04e07a3",
   "metadata": {},
   "outputs": [
    {
     "data": {
      "text/plain": [
       "{'max_depth': [3, 4, 5, 6], 'n_estimators': [4, 5, 6, 7, 8, 9]}"
      ]
     },
     "execution_count": 163,
     "metadata": {},
     "output_type": "execute_result"
    }
   ],
   "source": [
    "#model tended to overfit on train data, reduced n_estimators \n",
    "clf_xgb = xgb.XGBClassifier()\n",
    "\n",
    "param_grid_xgb = {\n",
    "\n",
    "    \"max_depth\": list(range(3, 7)), #cross validation has been completed with a range of hyper parameters to select one with highest AUC\n",
    "    \"n_estimators\": list(range(4, 10, 1)), #cross validation has been completed with a range of hyper parameters to select one with highest AUC\n",
    "}\n",
    "scoring = {\"AUC\": \"roc_auc\"}\n",
    "param_grid_xgb"
   ]
  },
  {
   "cell_type": "code",
   "execution_count": 164,
   "id": "2018c7dd",
   "metadata": {
    "collapsed": true,
    "jupyter": {
     "outputs_hidden": true
    }
   },
   "outputs": [
    {
     "name": "stderr",
     "output_type": "stream",
     "text": [
      "/usr/local/lib/python3.8/dist-packages/xgboost/sklearn.py:1146: UserWarning: The use of label encoder in XGBClassifier is deprecated and will be removed in a future release. To remove this warning, do the following: 1) Pass option use_label_encoder=False when constructing XGBClassifier object; and 2) Encode your labels (y) as integers starting with 0, i.e. 0, 1, 2, ..., [num_class - 1].\n",
      "  warnings.warn(label_encoder_deprecation_msg, UserWarning)\n"
     ]
    },
    {
     "name": "stdout",
     "output_type": "stream",
     "text": [
      "[12:27:02] WARNING: ../src/learner.cc:1095: Starting in XGBoost 1.3.0, the default evaluation metric used with the objective 'binary:logistic' was changed from 'error' to 'logloss'. Explicitly set eval_metric if you'd like to restore the old behavior.\n"
     ]
    },
    {
     "name": "stderr",
     "output_type": "stream",
     "text": [
      "/usr/local/lib/python3.8/dist-packages/xgboost/data.py:112: UserWarning: Use subset (sliced data) of np.ndarray is not recommended because it will generate extra copies and increase memory consumption\n",
      "  warnings.warn(\n",
      "/usr/local/lib/python3.8/dist-packages/xgboost/sklearn.py:1146: UserWarning: The use of label encoder in XGBClassifier is deprecated and will be removed in a future release. To remove this warning, do the following: 1) Pass option use_label_encoder=False when constructing XGBClassifier object; and 2) Encode your labels (y) as integers starting with 0, i.e. 0, 1, 2, ..., [num_class - 1].\n",
      "  warnings.warn(label_encoder_deprecation_msg, UserWarning)\n"
     ]
    },
    {
     "name": "stdout",
     "output_type": "stream",
     "text": [
      "[12:27:03] WARNING: ../src/learner.cc:1095: Starting in XGBoost 1.3.0, the default evaluation metric used with the objective 'binary:logistic' was changed from 'error' to 'logloss'. Explicitly set eval_metric if you'd like to restore the old behavior.\n"
     ]
    },
    {
     "name": "stderr",
     "output_type": "stream",
     "text": [
      "/usr/local/lib/python3.8/dist-packages/xgboost/data.py:112: UserWarning: Use subset (sliced data) of np.ndarray is not recommended because it will generate extra copies and increase memory consumption\n",
      "  warnings.warn(\n",
      "/usr/local/lib/python3.8/dist-packages/xgboost/sklearn.py:1146: UserWarning: The use of label encoder in XGBClassifier is deprecated and will be removed in a future release. To remove this warning, do the following: 1) Pass option use_label_encoder=False when constructing XGBClassifier object; and 2) Encode your labels (y) as integers starting with 0, i.e. 0, 1, 2, ..., [num_class - 1].\n",
      "  warnings.warn(label_encoder_deprecation_msg, UserWarning)\n"
     ]
    },
    {
     "name": "stdout",
     "output_type": "stream",
     "text": [
      "[12:27:05] WARNING: ../src/learner.cc:1095: Starting in XGBoost 1.3.0, the default evaluation metric used with the objective 'binary:logistic' was changed from 'error' to 'logloss'. Explicitly set eval_metric if you'd like to restore the old behavior.\n"
     ]
    },
    {
     "name": "stderr",
     "output_type": "stream",
     "text": [
      "/usr/local/lib/python3.8/dist-packages/xgboost/data.py:112: UserWarning: Use subset (sliced data) of np.ndarray is not recommended because it will generate extra copies and increase memory consumption\n",
      "  warnings.warn(\n",
      "/usr/local/lib/python3.8/dist-packages/xgboost/sklearn.py:1146: UserWarning: The use of label encoder in XGBClassifier is deprecated and will be removed in a future release. To remove this warning, do the following: 1) Pass option use_label_encoder=False when constructing XGBClassifier object; and 2) Encode your labels (y) as integers starting with 0, i.e. 0, 1, 2, ..., [num_class - 1].\n",
      "  warnings.warn(label_encoder_deprecation_msg, UserWarning)\n"
     ]
    },
    {
     "name": "stdout",
     "output_type": "stream",
     "text": [
      "[12:27:06] WARNING: ../src/learner.cc:1095: Starting in XGBoost 1.3.0, the default evaluation metric used with the objective 'binary:logistic' was changed from 'error' to 'logloss'. Explicitly set eval_metric if you'd like to restore the old behavior.\n"
     ]
    },
    {
     "name": "stderr",
     "output_type": "stream",
     "text": [
      "/usr/local/lib/python3.8/dist-packages/xgboost/data.py:112: UserWarning: Use subset (sliced data) of np.ndarray is not recommended because it will generate extra copies and increase memory consumption\n",
      "  warnings.warn(\n",
      "/usr/local/lib/python3.8/dist-packages/xgboost/sklearn.py:1146: UserWarning: The use of label encoder in XGBClassifier is deprecated and will be removed in a future release. To remove this warning, do the following: 1) Pass option use_label_encoder=False when constructing XGBClassifier object; and 2) Encode your labels (y) as integers starting with 0, i.e. 0, 1, 2, ..., [num_class - 1].\n",
      "  warnings.warn(label_encoder_deprecation_msg, UserWarning)\n"
     ]
    },
    {
     "name": "stdout",
     "output_type": "stream",
     "text": [
      "[12:27:08] WARNING: ../src/learner.cc:1095: Starting in XGBoost 1.3.0, the default evaluation metric used with the objective 'binary:logistic' was changed from 'error' to 'logloss'. Explicitly set eval_metric if you'd like to restore the old behavior.\n"
     ]
    },
    {
     "name": "stderr",
     "output_type": "stream",
     "text": [
      "/usr/local/lib/python3.8/dist-packages/xgboost/data.py:112: UserWarning: Use subset (sliced data) of np.ndarray is not recommended because it will generate extra copies and increase memory consumption\n",
      "  warnings.warn(\n",
      "/usr/local/lib/python3.8/dist-packages/xgboost/sklearn.py:1146: UserWarning: The use of label encoder in XGBClassifier is deprecated and will be removed in a future release. To remove this warning, do the following: 1) Pass option use_label_encoder=False when constructing XGBClassifier object; and 2) Encode your labels (y) as integers starting with 0, i.e. 0, 1, 2, ..., [num_class - 1].\n",
      "  warnings.warn(label_encoder_deprecation_msg, UserWarning)\n"
     ]
    },
    {
     "name": "stdout",
     "output_type": "stream",
     "text": [
      "[12:27:09] WARNING: ../src/learner.cc:1095: Starting in XGBoost 1.3.0, the default evaluation metric used with the objective 'binary:logistic' was changed from 'error' to 'logloss'. Explicitly set eval_metric if you'd like to restore the old behavior.\n"
     ]
    },
    {
     "name": "stderr",
     "output_type": "stream",
     "text": [
      "/usr/local/lib/python3.8/dist-packages/xgboost/data.py:112: UserWarning: Use subset (sliced data) of np.ndarray is not recommended because it will generate extra copies and increase memory consumption\n",
      "  warnings.warn(\n",
      "/usr/local/lib/python3.8/dist-packages/xgboost/sklearn.py:1146: UserWarning: The use of label encoder in XGBClassifier is deprecated and will be removed in a future release. To remove this warning, do the following: 1) Pass option use_label_encoder=False when constructing XGBClassifier object; and 2) Encode your labels (y) as integers starting with 0, i.e. 0, 1, 2, ..., [num_class - 1].\n",
      "  warnings.warn(label_encoder_deprecation_msg, UserWarning)\n"
     ]
    },
    {
     "name": "stdout",
     "output_type": "stream",
     "text": [
      "[12:27:11] WARNING: ../src/learner.cc:1095: Starting in XGBoost 1.3.0, the default evaluation metric used with the objective 'binary:logistic' was changed from 'error' to 'logloss'. Explicitly set eval_metric if you'd like to restore the old behavior.\n"
     ]
    },
    {
     "name": "stderr",
     "output_type": "stream",
     "text": [
      "/usr/local/lib/python3.8/dist-packages/xgboost/data.py:112: UserWarning: Use subset (sliced data) of np.ndarray is not recommended because it will generate extra copies and increase memory consumption\n",
      "  warnings.warn(\n",
      "/usr/local/lib/python3.8/dist-packages/xgboost/sklearn.py:1146: UserWarning: The use of label encoder in XGBClassifier is deprecated and will be removed in a future release. To remove this warning, do the following: 1) Pass option use_label_encoder=False when constructing XGBClassifier object; and 2) Encode your labels (y) as integers starting with 0, i.e. 0, 1, 2, ..., [num_class - 1].\n",
      "  warnings.warn(label_encoder_deprecation_msg, UserWarning)\n"
     ]
    },
    {
     "name": "stdout",
     "output_type": "stream",
     "text": [
      "[12:27:13] WARNING: ../src/learner.cc:1095: Starting in XGBoost 1.3.0, the default evaluation metric used with the objective 'binary:logistic' was changed from 'error' to 'logloss'. Explicitly set eval_metric if you'd like to restore the old behavior.\n"
     ]
    },
    {
     "name": "stderr",
     "output_type": "stream",
     "text": [
      "/usr/local/lib/python3.8/dist-packages/xgboost/data.py:112: UserWarning: Use subset (sliced data) of np.ndarray is not recommended because it will generate extra copies and increase memory consumption\n",
      "  warnings.warn(\n",
      "/usr/local/lib/python3.8/dist-packages/xgboost/sklearn.py:1146: UserWarning: The use of label encoder in XGBClassifier is deprecated and will be removed in a future release. To remove this warning, do the following: 1) Pass option use_label_encoder=False when constructing XGBClassifier object; and 2) Encode your labels (y) as integers starting with 0, i.e. 0, 1, 2, ..., [num_class - 1].\n",
      "  warnings.warn(label_encoder_deprecation_msg, UserWarning)\n"
     ]
    },
    {
     "name": "stdout",
     "output_type": "stream",
     "text": [
      "[12:27:14] WARNING: ../src/learner.cc:1095: Starting in XGBoost 1.3.0, the default evaluation metric used with the objective 'binary:logistic' was changed from 'error' to 'logloss'. Explicitly set eval_metric if you'd like to restore the old behavior.\n"
     ]
    },
    {
     "name": "stderr",
     "output_type": "stream",
     "text": [
      "/usr/local/lib/python3.8/dist-packages/xgboost/data.py:112: UserWarning: Use subset (sliced data) of np.ndarray is not recommended because it will generate extra copies and increase memory consumption\n",
      "  warnings.warn(\n",
      "/usr/local/lib/python3.8/dist-packages/xgboost/sklearn.py:1146: UserWarning: The use of label encoder in XGBClassifier is deprecated and will be removed in a future release. To remove this warning, do the following: 1) Pass option use_label_encoder=False when constructing XGBClassifier object; and 2) Encode your labels (y) as integers starting with 0, i.e. 0, 1, 2, ..., [num_class - 1].\n",
      "  warnings.warn(label_encoder_deprecation_msg, UserWarning)\n"
     ]
    },
    {
     "name": "stdout",
     "output_type": "stream",
     "text": [
      "[12:27:15] WARNING: ../src/learner.cc:1095: Starting in XGBoost 1.3.0, the default evaluation metric used with the objective 'binary:logistic' was changed from 'error' to 'logloss'. Explicitly set eval_metric if you'd like to restore the old behavior.\n"
     ]
    },
    {
     "name": "stderr",
     "output_type": "stream",
     "text": [
      "/usr/local/lib/python3.8/dist-packages/xgboost/data.py:112: UserWarning: Use subset (sliced data) of np.ndarray is not recommended because it will generate extra copies and increase memory consumption\n",
      "  warnings.warn(\n",
      "/usr/local/lib/python3.8/dist-packages/xgboost/sklearn.py:1146: UserWarning: The use of label encoder in XGBClassifier is deprecated and will be removed in a future release. To remove this warning, do the following: 1) Pass option use_label_encoder=False when constructing XGBClassifier object; and 2) Encode your labels (y) as integers starting with 0, i.e. 0, 1, 2, ..., [num_class - 1].\n",
      "  warnings.warn(label_encoder_deprecation_msg, UserWarning)\n"
     ]
    },
    {
     "name": "stdout",
     "output_type": "stream",
     "text": [
      "[12:27:17] WARNING: ../src/learner.cc:1095: Starting in XGBoost 1.3.0, the default evaluation metric used with the objective 'binary:logistic' was changed from 'error' to 'logloss'. Explicitly set eval_metric if you'd like to restore the old behavior.\n"
     ]
    },
    {
     "name": "stderr",
     "output_type": "stream",
     "text": [
      "/usr/local/lib/python3.8/dist-packages/xgboost/data.py:112: UserWarning: Use subset (sliced data) of np.ndarray is not recommended because it will generate extra copies and increase memory consumption\n",
      "  warnings.warn(\n",
      "/usr/local/lib/python3.8/dist-packages/xgboost/sklearn.py:1146: UserWarning: The use of label encoder in XGBClassifier is deprecated and will be removed in a future release. To remove this warning, do the following: 1) Pass option use_label_encoder=False when constructing XGBClassifier object; and 2) Encode your labels (y) as integers starting with 0, i.e. 0, 1, 2, ..., [num_class - 1].\n",
      "  warnings.warn(label_encoder_deprecation_msg, UserWarning)\n"
     ]
    },
    {
     "name": "stdout",
     "output_type": "stream",
     "text": [
      "[12:27:19] WARNING: ../src/learner.cc:1095: Starting in XGBoost 1.3.0, the default evaluation metric used with the objective 'binary:logistic' was changed from 'error' to 'logloss'. Explicitly set eval_metric if you'd like to restore the old behavior.\n"
     ]
    },
    {
     "name": "stderr",
     "output_type": "stream",
     "text": [
      "/usr/local/lib/python3.8/dist-packages/xgboost/data.py:112: UserWarning: Use subset (sliced data) of np.ndarray is not recommended because it will generate extra copies and increase memory consumption\n",
      "  warnings.warn(\n",
      "/usr/local/lib/python3.8/dist-packages/xgboost/sklearn.py:1146: UserWarning: The use of label encoder in XGBClassifier is deprecated and will be removed in a future release. To remove this warning, do the following: 1) Pass option use_label_encoder=False when constructing XGBClassifier object; and 2) Encode your labels (y) as integers starting with 0, i.e. 0, 1, 2, ..., [num_class - 1].\n",
      "  warnings.warn(label_encoder_deprecation_msg, UserWarning)\n"
     ]
    },
    {
     "name": "stdout",
     "output_type": "stream",
     "text": [
      "[12:27:21] WARNING: ../src/learner.cc:1095: Starting in XGBoost 1.3.0, the default evaluation metric used with the objective 'binary:logistic' was changed from 'error' to 'logloss'. Explicitly set eval_metric if you'd like to restore the old behavior.\n"
     ]
    },
    {
     "name": "stderr",
     "output_type": "stream",
     "text": [
      "/usr/local/lib/python3.8/dist-packages/xgboost/data.py:112: UserWarning: Use subset (sliced data) of np.ndarray is not recommended because it will generate extra copies and increase memory consumption\n",
      "  warnings.warn(\n",
      "/usr/local/lib/python3.8/dist-packages/xgboost/sklearn.py:1146: UserWarning: The use of label encoder in XGBClassifier is deprecated and will be removed in a future release. To remove this warning, do the following: 1) Pass option use_label_encoder=False when constructing XGBClassifier object; and 2) Encode your labels (y) as integers starting with 0, i.e. 0, 1, 2, ..., [num_class - 1].\n",
      "  warnings.warn(label_encoder_deprecation_msg, UserWarning)\n"
     ]
    },
    {
     "name": "stdout",
     "output_type": "stream",
     "text": [
      "[12:27:22] WARNING: ../src/learner.cc:1095: Starting in XGBoost 1.3.0, the default evaluation metric used with the objective 'binary:logistic' was changed from 'error' to 'logloss'. Explicitly set eval_metric if you'd like to restore the old behavior.\n"
     ]
    },
    {
     "name": "stderr",
     "output_type": "stream",
     "text": [
      "/usr/local/lib/python3.8/dist-packages/xgboost/data.py:112: UserWarning: Use subset (sliced data) of np.ndarray is not recommended because it will generate extra copies and increase memory consumption\n",
      "  warnings.warn(\n",
      "/usr/local/lib/python3.8/dist-packages/xgboost/sklearn.py:1146: UserWarning: The use of label encoder in XGBClassifier is deprecated and will be removed in a future release. To remove this warning, do the following: 1) Pass option use_label_encoder=False when constructing XGBClassifier object; and 2) Encode your labels (y) as integers starting with 0, i.e. 0, 1, 2, ..., [num_class - 1].\n",
      "  warnings.warn(label_encoder_deprecation_msg, UserWarning)\n"
     ]
    },
    {
     "name": "stdout",
     "output_type": "stream",
     "text": [
      "[12:27:24] WARNING: ../src/learner.cc:1095: Starting in XGBoost 1.3.0, the default evaluation metric used with the objective 'binary:logistic' was changed from 'error' to 'logloss'. Explicitly set eval_metric if you'd like to restore the old behavior.\n"
     ]
    },
    {
     "name": "stderr",
     "output_type": "stream",
     "text": [
      "/usr/local/lib/python3.8/dist-packages/xgboost/data.py:112: UserWarning: Use subset (sliced data) of np.ndarray is not recommended because it will generate extra copies and increase memory consumption\n",
      "  warnings.warn(\n",
      "/usr/local/lib/python3.8/dist-packages/xgboost/sklearn.py:1146: UserWarning: The use of label encoder in XGBClassifier is deprecated and will be removed in a future release. To remove this warning, do the following: 1) Pass option use_label_encoder=False when constructing XGBClassifier object; and 2) Encode your labels (y) as integers starting with 0, i.e. 0, 1, 2, ..., [num_class - 1].\n",
      "  warnings.warn(label_encoder_deprecation_msg, UserWarning)\n"
     ]
    },
    {
     "name": "stdout",
     "output_type": "stream",
     "text": [
      "[12:27:25] WARNING: ../src/learner.cc:1095: Starting in XGBoost 1.3.0, the default evaluation metric used with the objective 'binary:logistic' was changed from 'error' to 'logloss'. Explicitly set eval_metric if you'd like to restore the old behavior.\n"
     ]
    },
    {
     "name": "stderr",
     "output_type": "stream",
     "text": [
      "/usr/local/lib/python3.8/dist-packages/xgboost/data.py:112: UserWarning: Use subset (sliced data) of np.ndarray is not recommended because it will generate extra copies and increase memory consumption\n",
      "  warnings.warn(\n",
      "/usr/local/lib/python3.8/dist-packages/xgboost/sklearn.py:1146: UserWarning: The use of label encoder in XGBClassifier is deprecated and will be removed in a future release. To remove this warning, do the following: 1) Pass option use_label_encoder=False when constructing XGBClassifier object; and 2) Encode your labels (y) as integers starting with 0, i.e. 0, 1, 2, ..., [num_class - 1].\n",
      "  warnings.warn(label_encoder_deprecation_msg, UserWarning)\n"
     ]
    },
    {
     "name": "stdout",
     "output_type": "stream",
     "text": [
      "[12:27:27] WARNING: ../src/learner.cc:1095: Starting in XGBoost 1.3.0, the default evaluation metric used with the objective 'binary:logistic' was changed from 'error' to 'logloss'. Explicitly set eval_metric if you'd like to restore the old behavior.\n"
     ]
    },
    {
     "name": "stderr",
     "output_type": "stream",
     "text": [
      "/usr/local/lib/python3.8/dist-packages/xgboost/data.py:112: UserWarning: Use subset (sliced data) of np.ndarray is not recommended because it will generate extra copies and increase memory consumption\n",
      "  warnings.warn(\n",
      "/usr/local/lib/python3.8/dist-packages/xgboost/sklearn.py:1146: UserWarning: The use of label encoder in XGBClassifier is deprecated and will be removed in a future release. To remove this warning, do the following: 1) Pass option use_label_encoder=False when constructing XGBClassifier object; and 2) Encode your labels (y) as integers starting with 0, i.e. 0, 1, 2, ..., [num_class - 1].\n",
      "  warnings.warn(label_encoder_deprecation_msg, UserWarning)\n"
     ]
    },
    {
     "name": "stdout",
     "output_type": "stream",
     "text": [
      "[12:27:29] WARNING: ../src/learner.cc:1095: Starting in XGBoost 1.3.0, the default evaluation metric used with the objective 'binary:logistic' was changed from 'error' to 'logloss'. Explicitly set eval_metric if you'd like to restore the old behavior.\n"
     ]
    },
    {
     "name": "stderr",
     "output_type": "stream",
     "text": [
      "/usr/local/lib/python3.8/dist-packages/xgboost/data.py:112: UserWarning: Use subset (sliced data) of np.ndarray is not recommended because it will generate extra copies and increase memory consumption\n",
      "  warnings.warn(\n",
      "/usr/local/lib/python3.8/dist-packages/xgboost/sklearn.py:1146: UserWarning: The use of label encoder in XGBClassifier is deprecated and will be removed in a future release. To remove this warning, do the following: 1) Pass option use_label_encoder=False when constructing XGBClassifier object; and 2) Encode your labels (y) as integers starting with 0, i.e. 0, 1, 2, ..., [num_class - 1].\n",
      "  warnings.warn(label_encoder_deprecation_msg, UserWarning)\n"
     ]
    },
    {
     "name": "stdout",
     "output_type": "stream",
     "text": [
      "[12:27:31] WARNING: ../src/learner.cc:1095: Starting in XGBoost 1.3.0, the default evaluation metric used with the objective 'binary:logistic' was changed from 'error' to 'logloss'. Explicitly set eval_metric if you'd like to restore the old behavior.\n"
     ]
    },
    {
     "name": "stderr",
     "output_type": "stream",
     "text": [
      "/usr/local/lib/python3.8/dist-packages/xgboost/data.py:112: UserWarning: Use subset (sliced data) of np.ndarray is not recommended because it will generate extra copies and increase memory consumption\n",
      "  warnings.warn(\n",
      "/usr/local/lib/python3.8/dist-packages/xgboost/sklearn.py:1146: UserWarning: The use of label encoder in XGBClassifier is deprecated and will be removed in a future release. To remove this warning, do the following: 1) Pass option use_label_encoder=False when constructing XGBClassifier object; and 2) Encode your labels (y) as integers starting with 0, i.e. 0, 1, 2, ..., [num_class - 1].\n",
      "  warnings.warn(label_encoder_deprecation_msg, UserWarning)\n"
     ]
    },
    {
     "name": "stdout",
     "output_type": "stream",
     "text": [
      "[12:27:33] WARNING: ../src/learner.cc:1095: Starting in XGBoost 1.3.0, the default evaluation metric used with the objective 'binary:logistic' was changed from 'error' to 'logloss'. Explicitly set eval_metric if you'd like to restore the old behavior.\n"
     ]
    },
    {
     "name": "stderr",
     "output_type": "stream",
     "text": [
      "/usr/local/lib/python3.8/dist-packages/xgboost/data.py:112: UserWarning: Use subset (sliced data) of np.ndarray is not recommended because it will generate extra copies and increase memory consumption\n",
      "  warnings.warn(\n",
      "/usr/local/lib/python3.8/dist-packages/xgboost/sklearn.py:1146: UserWarning: The use of label encoder in XGBClassifier is deprecated and will be removed in a future release. To remove this warning, do the following: 1) Pass option use_label_encoder=False when constructing XGBClassifier object; and 2) Encode your labels (y) as integers starting with 0, i.e. 0, 1, 2, ..., [num_class - 1].\n",
      "  warnings.warn(label_encoder_deprecation_msg, UserWarning)\n"
     ]
    },
    {
     "name": "stdout",
     "output_type": "stream",
     "text": [
      "[12:27:34] WARNING: ../src/learner.cc:1095: Starting in XGBoost 1.3.0, the default evaluation metric used with the objective 'binary:logistic' was changed from 'error' to 'logloss'. Explicitly set eval_metric if you'd like to restore the old behavior.\n"
     ]
    },
    {
     "name": "stderr",
     "output_type": "stream",
     "text": [
      "/usr/local/lib/python3.8/dist-packages/xgboost/data.py:112: UserWarning: Use subset (sliced data) of np.ndarray is not recommended because it will generate extra copies and increase memory consumption\n",
      "  warnings.warn(\n",
      "/usr/local/lib/python3.8/dist-packages/xgboost/sklearn.py:1146: UserWarning: The use of label encoder in XGBClassifier is deprecated and will be removed in a future release. To remove this warning, do the following: 1) Pass option use_label_encoder=False when constructing XGBClassifier object; and 2) Encode your labels (y) as integers starting with 0, i.e. 0, 1, 2, ..., [num_class - 1].\n",
      "  warnings.warn(label_encoder_deprecation_msg, UserWarning)\n"
     ]
    },
    {
     "name": "stdout",
     "output_type": "stream",
     "text": [
      "[12:27:36] WARNING: ../src/learner.cc:1095: Starting in XGBoost 1.3.0, the default evaluation metric used with the objective 'binary:logistic' was changed from 'error' to 'logloss'. Explicitly set eval_metric if you'd like to restore the old behavior.\n"
     ]
    },
    {
     "name": "stderr",
     "output_type": "stream",
     "text": [
      "/usr/local/lib/python3.8/dist-packages/xgboost/data.py:112: UserWarning: Use subset (sliced data) of np.ndarray is not recommended because it will generate extra copies and increase memory consumption\n",
      "  warnings.warn(\n",
      "/usr/local/lib/python3.8/dist-packages/xgboost/sklearn.py:1146: UserWarning: The use of label encoder in XGBClassifier is deprecated and will be removed in a future release. To remove this warning, do the following: 1) Pass option use_label_encoder=False when constructing XGBClassifier object; and 2) Encode your labels (y) as integers starting with 0, i.e. 0, 1, 2, ..., [num_class - 1].\n",
      "  warnings.warn(label_encoder_deprecation_msg, UserWarning)\n"
     ]
    },
    {
     "name": "stdout",
     "output_type": "stream",
     "text": [
      "[12:27:36] WARNING: ../src/learner.cc:1095: Starting in XGBoost 1.3.0, the default evaluation metric used with the objective 'binary:logistic' was changed from 'error' to 'logloss'. Explicitly set eval_metric if you'd like to restore the old behavior.\n"
     ]
    },
    {
     "name": "stderr",
     "output_type": "stream",
     "text": [
      "/usr/local/lib/python3.8/dist-packages/xgboost/data.py:112: UserWarning: Use subset (sliced data) of np.ndarray is not recommended because it will generate extra copies and increase memory consumption\n",
      "  warnings.warn(\n",
      "/usr/local/lib/python3.8/dist-packages/xgboost/sklearn.py:1146: UserWarning: The use of label encoder in XGBClassifier is deprecated and will be removed in a future release. To remove this warning, do the following: 1) Pass option use_label_encoder=False when constructing XGBClassifier object; and 2) Encode your labels (y) as integers starting with 0, i.e. 0, 1, 2, ..., [num_class - 1].\n",
      "  warnings.warn(label_encoder_deprecation_msg, UserWarning)\n"
     ]
    },
    {
     "name": "stdout",
     "output_type": "stream",
     "text": [
      "[12:27:37] WARNING: ../src/learner.cc:1095: Starting in XGBoost 1.3.0, the default evaluation metric used with the objective 'binary:logistic' was changed from 'error' to 'logloss'. Explicitly set eval_metric if you'd like to restore the old behavior.\n"
     ]
    },
    {
     "name": "stderr",
     "output_type": "stream",
     "text": [
      "/usr/local/lib/python3.8/dist-packages/xgboost/data.py:112: UserWarning: Use subset (sliced data) of np.ndarray is not recommended because it will generate extra copies and increase memory consumption\n",
      "  warnings.warn(\n",
      "/usr/local/lib/python3.8/dist-packages/xgboost/sklearn.py:1146: UserWarning: The use of label encoder in XGBClassifier is deprecated and will be removed in a future release. To remove this warning, do the following: 1) Pass option use_label_encoder=False when constructing XGBClassifier object; and 2) Encode your labels (y) as integers starting with 0, i.e. 0, 1, 2, ..., [num_class - 1].\n",
      "  warnings.warn(label_encoder_deprecation_msg, UserWarning)\n"
     ]
    },
    {
     "name": "stdout",
     "output_type": "stream",
     "text": [
      "[12:27:37] WARNING: ../src/learner.cc:1095: Starting in XGBoost 1.3.0, the default evaluation metric used with the objective 'binary:logistic' was changed from 'error' to 'logloss'. Explicitly set eval_metric if you'd like to restore the old behavior.\n"
     ]
    },
    {
     "name": "stderr",
     "output_type": "stream",
     "text": [
      "/usr/local/lib/python3.8/dist-packages/xgboost/data.py:112: UserWarning: Use subset (sliced data) of np.ndarray is not recommended because it will generate extra copies and increase memory consumption\n",
      "  warnings.warn(\n",
      "/usr/local/lib/python3.8/dist-packages/xgboost/sklearn.py:1146: UserWarning: The use of label encoder in XGBClassifier is deprecated and will be removed in a future release. To remove this warning, do the following: 1) Pass option use_label_encoder=False when constructing XGBClassifier object; and 2) Encode your labels (y) as integers starting with 0, i.e. 0, 1, 2, ..., [num_class - 1].\n",
      "  warnings.warn(label_encoder_deprecation_msg, UserWarning)\n"
     ]
    },
    {
     "name": "stdout",
     "output_type": "stream",
     "text": [
      "[12:27:38] WARNING: ../src/learner.cc:1095: Starting in XGBoost 1.3.0, the default evaluation metric used with the objective 'binary:logistic' was changed from 'error' to 'logloss'. Explicitly set eval_metric if you'd like to restore the old behavior.\n"
     ]
    },
    {
     "name": "stderr",
     "output_type": "stream",
     "text": [
      "/usr/local/lib/python3.8/dist-packages/xgboost/data.py:112: UserWarning: Use subset (sliced data) of np.ndarray is not recommended because it will generate extra copies and increase memory consumption\n",
      "  warnings.warn(\n",
      "/usr/local/lib/python3.8/dist-packages/xgboost/sklearn.py:1146: UserWarning: The use of label encoder in XGBClassifier is deprecated and will be removed in a future release. To remove this warning, do the following: 1) Pass option use_label_encoder=False when constructing XGBClassifier object; and 2) Encode your labels (y) as integers starting with 0, i.e. 0, 1, 2, ..., [num_class - 1].\n",
      "  warnings.warn(label_encoder_deprecation_msg, UserWarning)\n"
     ]
    },
    {
     "name": "stdout",
     "output_type": "stream",
     "text": [
      "[12:27:39] WARNING: ../src/learner.cc:1095: Starting in XGBoost 1.3.0, the default evaluation metric used with the objective 'binary:logistic' was changed from 'error' to 'logloss'. Explicitly set eval_metric if you'd like to restore the old behavior.\n"
     ]
    },
    {
     "name": "stderr",
     "output_type": "stream",
     "text": [
      "/usr/local/lib/python3.8/dist-packages/xgboost/data.py:112: UserWarning: Use subset (sliced data) of np.ndarray is not recommended because it will generate extra copies and increase memory consumption\n",
      "  warnings.warn(\n",
      "/usr/local/lib/python3.8/dist-packages/xgboost/sklearn.py:1146: UserWarning: The use of label encoder in XGBClassifier is deprecated and will be removed in a future release. To remove this warning, do the following: 1) Pass option use_label_encoder=False when constructing XGBClassifier object; and 2) Encode your labels (y) as integers starting with 0, i.e. 0, 1, 2, ..., [num_class - 1].\n",
      "  warnings.warn(label_encoder_deprecation_msg, UserWarning)\n"
     ]
    },
    {
     "name": "stdout",
     "output_type": "stream",
     "text": [
      "[12:27:40] WARNING: ../src/learner.cc:1095: Starting in XGBoost 1.3.0, the default evaluation metric used with the objective 'binary:logistic' was changed from 'error' to 'logloss'. Explicitly set eval_metric if you'd like to restore the old behavior.\n"
     ]
    },
    {
     "name": "stderr",
     "output_type": "stream",
     "text": [
      "/usr/local/lib/python3.8/dist-packages/xgboost/data.py:112: UserWarning: Use subset (sliced data) of np.ndarray is not recommended because it will generate extra copies and increase memory consumption\n",
      "  warnings.warn(\n",
      "/usr/local/lib/python3.8/dist-packages/xgboost/sklearn.py:1146: UserWarning: The use of label encoder in XGBClassifier is deprecated and will be removed in a future release. To remove this warning, do the following: 1) Pass option use_label_encoder=False when constructing XGBClassifier object; and 2) Encode your labels (y) as integers starting with 0, i.e. 0, 1, 2, ..., [num_class - 1].\n",
      "  warnings.warn(label_encoder_deprecation_msg, UserWarning)\n"
     ]
    },
    {
     "name": "stdout",
     "output_type": "stream",
     "text": [
      "[12:27:41] WARNING: ../src/learner.cc:1095: Starting in XGBoost 1.3.0, the default evaluation metric used with the objective 'binary:logistic' was changed from 'error' to 'logloss'. Explicitly set eval_metric if you'd like to restore the old behavior.\n"
     ]
    },
    {
     "name": "stderr",
     "output_type": "stream",
     "text": [
      "/usr/local/lib/python3.8/dist-packages/xgboost/data.py:112: UserWarning: Use subset (sliced data) of np.ndarray is not recommended because it will generate extra copies and increase memory consumption\n",
      "  warnings.warn(\n",
      "/usr/local/lib/python3.8/dist-packages/xgboost/sklearn.py:1146: UserWarning: The use of label encoder in XGBClassifier is deprecated and will be removed in a future release. To remove this warning, do the following: 1) Pass option use_label_encoder=False when constructing XGBClassifier object; and 2) Encode your labels (y) as integers starting with 0, i.e. 0, 1, 2, ..., [num_class - 1].\n",
      "  warnings.warn(label_encoder_deprecation_msg, UserWarning)\n"
     ]
    },
    {
     "name": "stdout",
     "output_type": "stream",
     "text": [
      "[12:27:42] WARNING: ../src/learner.cc:1095: Starting in XGBoost 1.3.0, the default evaluation metric used with the objective 'binary:logistic' was changed from 'error' to 'logloss'. Explicitly set eval_metric if you'd like to restore the old behavior.\n"
     ]
    },
    {
     "name": "stderr",
     "output_type": "stream",
     "text": [
      "/usr/local/lib/python3.8/dist-packages/xgboost/data.py:112: UserWarning: Use subset (sliced data) of np.ndarray is not recommended because it will generate extra copies and increase memory consumption\n",
      "  warnings.warn(\n",
      "/usr/local/lib/python3.8/dist-packages/xgboost/sklearn.py:1146: UserWarning: The use of label encoder in XGBClassifier is deprecated and will be removed in a future release. To remove this warning, do the following: 1) Pass option use_label_encoder=False when constructing XGBClassifier object; and 2) Encode your labels (y) as integers starting with 0, i.e. 0, 1, 2, ..., [num_class - 1].\n",
      "  warnings.warn(label_encoder_deprecation_msg, UserWarning)\n"
     ]
    },
    {
     "name": "stdout",
     "output_type": "stream",
     "text": [
      "[12:27:44] WARNING: ../src/learner.cc:1095: Starting in XGBoost 1.3.0, the default evaluation metric used with the objective 'binary:logistic' was changed from 'error' to 'logloss'. Explicitly set eval_metric if you'd like to restore the old behavior.\n"
     ]
    },
    {
     "name": "stderr",
     "output_type": "stream",
     "text": [
      "/usr/local/lib/python3.8/dist-packages/xgboost/data.py:112: UserWarning: Use subset (sliced data) of np.ndarray is not recommended because it will generate extra copies and increase memory consumption\n",
      "  warnings.warn(\n",
      "/usr/local/lib/python3.8/dist-packages/xgboost/sklearn.py:1146: UserWarning: The use of label encoder in XGBClassifier is deprecated and will be removed in a future release. To remove this warning, do the following: 1) Pass option use_label_encoder=False when constructing XGBClassifier object; and 2) Encode your labels (y) as integers starting with 0, i.e. 0, 1, 2, ..., [num_class - 1].\n",
      "  warnings.warn(label_encoder_deprecation_msg, UserWarning)\n"
     ]
    },
    {
     "name": "stdout",
     "output_type": "stream",
     "text": [
      "[12:27:45] WARNING: ../src/learner.cc:1095: Starting in XGBoost 1.3.0, the default evaluation metric used with the objective 'binary:logistic' was changed from 'error' to 'logloss'. Explicitly set eval_metric if you'd like to restore the old behavior.\n"
     ]
    },
    {
     "name": "stderr",
     "output_type": "stream",
     "text": [
      "/usr/local/lib/python3.8/dist-packages/xgboost/data.py:112: UserWarning: Use subset (sliced data) of np.ndarray is not recommended because it will generate extra copies and increase memory consumption\n",
      "  warnings.warn(\n",
      "/usr/local/lib/python3.8/dist-packages/xgboost/sklearn.py:1146: UserWarning: The use of label encoder in XGBClassifier is deprecated and will be removed in a future release. To remove this warning, do the following: 1) Pass option use_label_encoder=False when constructing XGBClassifier object; and 2) Encode your labels (y) as integers starting with 0, i.e. 0, 1, 2, ..., [num_class - 1].\n",
      "  warnings.warn(label_encoder_deprecation_msg, UserWarning)\n"
     ]
    },
    {
     "name": "stdout",
     "output_type": "stream",
     "text": [
      "[12:27:46] WARNING: ../src/learner.cc:1095: Starting in XGBoost 1.3.0, the default evaluation metric used with the objective 'binary:logistic' was changed from 'error' to 'logloss'. Explicitly set eval_metric if you'd like to restore the old behavior.\n"
     ]
    },
    {
     "name": "stderr",
     "output_type": "stream",
     "text": [
      "/usr/local/lib/python3.8/dist-packages/xgboost/data.py:112: UserWarning: Use subset (sliced data) of np.ndarray is not recommended because it will generate extra copies and increase memory consumption\n",
      "  warnings.warn(\n",
      "/usr/local/lib/python3.8/dist-packages/xgboost/sklearn.py:1146: UserWarning: The use of label encoder in XGBClassifier is deprecated and will be removed in a future release. To remove this warning, do the following: 1) Pass option use_label_encoder=False when constructing XGBClassifier object; and 2) Encode your labels (y) as integers starting with 0, i.e. 0, 1, 2, ..., [num_class - 1].\n",
      "  warnings.warn(label_encoder_deprecation_msg, UserWarning)\n"
     ]
    },
    {
     "name": "stdout",
     "output_type": "stream",
     "text": [
      "[12:27:46] WARNING: ../src/learner.cc:1095: Starting in XGBoost 1.3.0, the default evaluation metric used with the objective 'binary:logistic' was changed from 'error' to 'logloss'. Explicitly set eval_metric if you'd like to restore the old behavior.\n"
     ]
    },
    {
     "name": "stderr",
     "output_type": "stream",
     "text": [
      "/usr/local/lib/python3.8/dist-packages/xgboost/data.py:112: UserWarning: Use subset (sliced data) of np.ndarray is not recommended because it will generate extra copies and increase memory consumption\n",
      "  warnings.warn(\n",
      "/usr/local/lib/python3.8/dist-packages/xgboost/sklearn.py:1146: UserWarning: The use of label encoder in XGBClassifier is deprecated and will be removed in a future release. To remove this warning, do the following: 1) Pass option use_label_encoder=False when constructing XGBClassifier object; and 2) Encode your labels (y) as integers starting with 0, i.e. 0, 1, 2, ..., [num_class - 1].\n",
      "  warnings.warn(label_encoder_deprecation_msg, UserWarning)\n"
     ]
    },
    {
     "name": "stdout",
     "output_type": "stream",
     "text": [
      "[12:27:47] WARNING: ../src/learner.cc:1095: Starting in XGBoost 1.3.0, the default evaluation metric used with the objective 'binary:logistic' was changed from 'error' to 'logloss'. Explicitly set eval_metric if you'd like to restore the old behavior.\n"
     ]
    },
    {
     "name": "stderr",
     "output_type": "stream",
     "text": [
      "/usr/local/lib/python3.8/dist-packages/xgboost/data.py:112: UserWarning: Use subset (sliced data) of np.ndarray is not recommended because it will generate extra copies and increase memory consumption\n",
      "  warnings.warn(\n",
      "/usr/local/lib/python3.8/dist-packages/xgboost/sklearn.py:1146: UserWarning: The use of label encoder in XGBClassifier is deprecated and will be removed in a future release. To remove this warning, do the following: 1) Pass option use_label_encoder=False when constructing XGBClassifier object; and 2) Encode your labels (y) as integers starting with 0, i.e. 0, 1, 2, ..., [num_class - 1].\n",
      "  warnings.warn(label_encoder_deprecation_msg, UserWarning)\n"
     ]
    },
    {
     "name": "stdout",
     "output_type": "stream",
     "text": [
      "[12:27:47] WARNING: ../src/learner.cc:1095: Starting in XGBoost 1.3.0, the default evaluation metric used with the objective 'binary:logistic' was changed from 'error' to 'logloss'. Explicitly set eval_metric if you'd like to restore the old behavior.\n"
     ]
    },
    {
     "name": "stderr",
     "output_type": "stream",
     "text": [
      "/usr/local/lib/python3.8/dist-packages/xgboost/data.py:112: UserWarning: Use subset (sliced data) of np.ndarray is not recommended because it will generate extra copies and increase memory consumption\n",
      "  warnings.warn(\n",
      "/usr/local/lib/python3.8/dist-packages/xgboost/sklearn.py:1146: UserWarning: The use of label encoder in XGBClassifier is deprecated and will be removed in a future release. To remove this warning, do the following: 1) Pass option use_label_encoder=False when constructing XGBClassifier object; and 2) Encode your labels (y) as integers starting with 0, i.e. 0, 1, 2, ..., [num_class - 1].\n",
      "  warnings.warn(label_encoder_deprecation_msg, UserWarning)\n"
     ]
    },
    {
     "name": "stdout",
     "output_type": "stream",
     "text": [
      "[12:27:48] WARNING: ../src/learner.cc:1095: Starting in XGBoost 1.3.0, the default evaluation metric used with the objective 'binary:logistic' was changed from 'error' to 'logloss'. Explicitly set eval_metric if you'd like to restore the old behavior.\n"
     ]
    },
    {
     "name": "stderr",
     "output_type": "stream",
     "text": [
      "/usr/local/lib/python3.8/dist-packages/xgboost/data.py:112: UserWarning: Use subset (sliced data) of np.ndarray is not recommended because it will generate extra copies and increase memory consumption\n",
      "  warnings.warn(\n",
      "/usr/local/lib/python3.8/dist-packages/xgboost/sklearn.py:1146: UserWarning: The use of label encoder in XGBClassifier is deprecated and will be removed in a future release. To remove this warning, do the following: 1) Pass option use_label_encoder=False when constructing XGBClassifier object; and 2) Encode your labels (y) as integers starting with 0, i.e. 0, 1, 2, ..., [num_class - 1].\n",
      "  warnings.warn(label_encoder_deprecation_msg, UserWarning)\n"
     ]
    },
    {
     "name": "stdout",
     "output_type": "stream",
     "text": [
      "[12:27:48] WARNING: ../src/learner.cc:1095: Starting in XGBoost 1.3.0, the default evaluation metric used with the objective 'binary:logistic' was changed from 'error' to 'logloss'. Explicitly set eval_metric if you'd like to restore the old behavior.\n"
     ]
    },
    {
     "name": "stderr",
     "output_type": "stream",
     "text": [
      "/usr/local/lib/python3.8/dist-packages/xgboost/data.py:112: UserWarning: Use subset (sliced data) of np.ndarray is not recommended because it will generate extra copies and increase memory consumption\n",
      "  warnings.warn(\n",
      "/usr/local/lib/python3.8/dist-packages/xgboost/sklearn.py:1146: UserWarning: The use of label encoder in XGBClassifier is deprecated and will be removed in a future release. To remove this warning, do the following: 1) Pass option use_label_encoder=False when constructing XGBClassifier object; and 2) Encode your labels (y) as integers starting with 0, i.e. 0, 1, 2, ..., [num_class - 1].\n",
      "  warnings.warn(label_encoder_deprecation_msg, UserWarning)\n"
     ]
    },
    {
     "name": "stdout",
     "output_type": "stream",
     "text": [
      "[12:27:49] WARNING: ../src/learner.cc:1095: Starting in XGBoost 1.3.0, the default evaluation metric used with the objective 'binary:logistic' was changed from 'error' to 'logloss'. Explicitly set eval_metric if you'd like to restore the old behavior.\n"
     ]
    },
    {
     "name": "stderr",
     "output_type": "stream",
     "text": [
      "/usr/local/lib/python3.8/dist-packages/xgboost/data.py:112: UserWarning: Use subset (sliced data) of np.ndarray is not recommended because it will generate extra copies and increase memory consumption\n",
      "  warnings.warn(\n",
      "/usr/local/lib/python3.8/dist-packages/xgboost/sklearn.py:1146: UserWarning: The use of label encoder in XGBClassifier is deprecated and will be removed in a future release. To remove this warning, do the following: 1) Pass option use_label_encoder=False when constructing XGBClassifier object; and 2) Encode your labels (y) as integers starting with 0, i.e. 0, 1, 2, ..., [num_class - 1].\n",
      "  warnings.warn(label_encoder_deprecation_msg, UserWarning)\n"
     ]
    },
    {
     "name": "stdout",
     "output_type": "stream",
     "text": [
      "[12:27:50] WARNING: ../src/learner.cc:1095: Starting in XGBoost 1.3.0, the default evaluation metric used with the objective 'binary:logistic' was changed from 'error' to 'logloss'. Explicitly set eval_metric if you'd like to restore the old behavior.\n"
     ]
    },
    {
     "name": "stderr",
     "output_type": "stream",
     "text": [
      "/usr/local/lib/python3.8/dist-packages/xgboost/data.py:112: UserWarning: Use subset (sliced data) of np.ndarray is not recommended because it will generate extra copies and increase memory consumption\n",
      "  warnings.warn(\n",
      "/usr/local/lib/python3.8/dist-packages/xgboost/sklearn.py:1146: UserWarning: The use of label encoder in XGBClassifier is deprecated and will be removed in a future release. To remove this warning, do the following: 1) Pass option use_label_encoder=False when constructing XGBClassifier object; and 2) Encode your labels (y) as integers starting with 0, i.e. 0, 1, 2, ..., [num_class - 1].\n",
      "  warnings.warn(label_encoder_deprecation_msg, UserWarning)\n"
     ]
    },
    {
     "name": "stdout",
     "output_type": "stream",
     "text": [
      "[12:27:50] WARNING: ../src/learner.cc:1095: Starting in XGBoost 1.3.0, the default evaluation metric used with the objective 'binary:logistic' was changed from 'error' to 'logloss'. Explicitly set eval_metric if you'd like to restore the old behavior.\n"
     ]
    },
    {
     "name": "stderr",
     "output_type": "stream",
     "text": [
      "/usr/local/lib/python3.8/dist-packages/xgboost/data.py:112: UserWarning: Use subset (sliced data) of np.ndarray is not recommended because it will generate extra copies and increase memory consumption\n",
      "  warnings.warn(\n",
      "/usr/local/lib/python3.8/dist-packages/xgboost/sklearn.py:1146: UserWarning: The use of label encoder in XGBClassifier is deprecated and will be removed in a future release. To remove this warning, do the following: 1) Pass option use_label_encoder=False when constructing XGBClassifier object; and 2) Encode your labels (y) as integers starting with 0, i.e. 0, 1, 2, ..., [num_class - 1].\n",
      "  warnings.warn(label_encoder_deprecation_msg, UserWarning)\n"
     ]
    },
    {
     "name": "stdout",
     "output_type": "stream",
     "text": [
      "[12:27:51] WARNING: ../src/learner.cc:1095: Starting in XGBoost 1.3.0, the default evaluation metric used with the objective 'binary:logistic' was changed from 'error' to 'logloss'. Explicitly set eval_metric if you'd like to restore the old behavior.\n"
     ]
    },
    {
     "name": "stderr",
     "output_type": "stream",
     "text": [
      "/usr/local/lib/python3.8/dist-packages/xgboost/data.py:112: UserWarning: Use subset (sliced data) of np.ndarray is not recommended because it will generate extra copies and increase memory consumption\n",
      "  warnings.warn(\n",
      "/usr/local/lib/python3.8/dist-packages/xgboost/sklearn.py:1146: UserWarning: The use of label encoder in XGBClassifier is deprecated and will be removed in a future release. To remove this warning, do the following: 1) Pass option use_label_encoder=False when constructing XGBClassifier object; and 2) Encode your labels (y) as integers starting with 0, i.e. 0, 1, 2, ..., [num_class - 1].\n",
      "  warnings.warn(label_encoder_deprecation_msg, UserWarning)\n"
     ]
    },
    {
     "name": "stdout",
     "output_type": "stream",
     "text": [
      "[12:27:51] WARNING: ../src/learner.cc:1095: Starting in XGBoost 1.3.0, the default evaluation metric used with the objective 'binary:logistic' was changed from 'error' to 'logloss'. Explicitly set eval_metric if you'd like to restore the old behavior.\n"
     ]
    },
    {
     "name": "stderr",
     "output_type": "stream",
     "text": [
      "/usr/local/lib/python3.8/dist-packages/xgboost/data.py:112: UserWarning: Use subset (sliced data) of np.ndarray is not recommended because it will generate extra copies and increase memory consumption\n",
      "  warnings.warn(\n",
      "/usr/local/lib/python3.8/dist-packages/xgboost/sklearn.py:1146: UserWarning: The use of label encoder in XGBClassifier is deprecated and will be removed in a future release. To remove this warning, do the following: 1) Pass option use_label_encoder=False when constructing XGBClassifier object; and 2) Encode your labels (y) as integers starting with 0, i.e. 0, 1, 2, ..., [num_class - 1].\n",
      "  warnings.warn(label_encoder_deprecation_msg, UserWarning)\n"
     ]
    },
    {
     "name": "stdout",
     "output_type": "stream",
     "text": [
      "[12:27:52] WARNING: ../src/learner.cc:1095: Starting in XGBoost 1.3.0, the default evaluation metric used with the objective 'binary:logistic' was changed from 'error' to 'logloss'. Explicitly set eval_metric if you'd like to restore the old behavior.\n"
     ]
    },
    {
     "name": "stderr",
     "output_type": "stream",
     "text": [
      "/usr/local/lib/python3.8/dist-packages/xgboost/data.py:112: UserWarning: Use subset (sliced data) of np.ndarray is not recommended because it will generate extra copies and increase memory consumption\n",
      "  warnings.warn(\n",
      "/usr/local/lib/python3.8/dist-packages/xgboost/sklearn.py:1146: UserWarning: The use of label encoder in XGBClassifier is deprecated and will be removed in a future release. To remove this warning, do the following: 1) Pass option use_label_encoder=False when constructing XGBClassifier object; and 2) Encode your labels (y) as integers starting with 0, i.e. 0, 1, 2, ..., [num_class - 1].\n",
      "  warnings.warn(label_encoder_deprecation_msg, UserWarning)\n"
     ]
    },
    {
     "name": "stdout",
     "output_type": "stream",
     "text": [
      "[12:27:52] WARNING: ../src/learner.cc:1095: Starting in XGBoost 1.3.0, the default evaluation metric used with the objective 'binary:logistic' was changed from 'error' to 'logloss'. Explicitly set eval_metric if you'd like to restore the old behavior.\n"
     ]
    },
    {
     "name": "stderr",
     "output_type": "stream",
     "text": [
      "/usr/local/lib/python3.8/dist-packages/xgboost/data.py:112: UserWarning: Use subset (sliced data) of np.ndarray is not recommended because it will generate extra copies and increase memory consumption\n",
      "  warnings.warn(\n",
      "/usr/local/lib/python3.8/dist-packages/xgboost/sklearn.py:1146: UserWarning: The use of label encoder in XGBClassifier is deprecated and will be removed in a future release. To remove this warning, do the following: 1) Pass option use_label_encoder=False when constructing XGBClassifier object; and 2) Encode your labels (y) as integers starting with 0, i.e. 0, 1, 2, ..., [num_class - 1].\n",
      "  warnings.warn(label_encoder_deprecation_msg, UserWarning)\n"
     ]
    },
    {
     "name": "stdout",
     "output_type": "stream",
     "text": [
      "[12:27:53] WARNING: ../src/learner.cc:1095: Starting in XGBoost 1.3.0, the default evaluation metric used with the objective 'binary:logistic' was changed from 'error' to 'logloss'. Explicitly set eval_metric if you'd like to restore the old behavior.\n"
     ]
    },
    {
     "name": "stderr",
     "output_type": "stream",
     "text": [
      "/usr/local/lib/python3.8/dist-packages/xgboost/data.py:112: UserWarning: Use subset (sliced data) of np.ndarray is not recommended because it will generate extra copies and increase memory consumption\n",
      "  warnings.warn(\n",
      "/usr/local/lib/python3.8/dist-packages/xgboost/sklearn.py:1146: UserWarning: The use of label encoder in XGBClassifier is deprecated and will be removed in a future release. To remove this warning, do the following: 1) Pass option use_label_encoder=False when constructing XGBClassifier object; and 2) Encode your labels (y) as integers starting with 0, i.e. 0, 1, 2, ..., [num_class - 1].\n",
      "  warnings.warn(label_encoder_deprecation_msg, UserWarning)\n"
     ]
    },
    {
     "name": "stdout",
     "output_type": "stream",
     "text": [
      "[12:27:53] WARNING: ../src/learner.cc:1095: Starting in XGBoost 1.3.0, the default evaluation metric used with the objective 'binary:logistic' was changed from 'error' to 'logloss'. Explicitly set eval_metric if you'd like to restore the old behavior.\n"
     ]
    },
    {
     "name": "stderr",
     "output_type": "stream",
     "text": [
      "/usr/local/lib/python3.8/dist-packages/xgboost/data.py:112: UserWarning: Use subset (sliced data) of np.ndarray is not recommended because it will generate extra copies and increase memory consumption\n",
      "  warnings.warn(\n",
      "/usr/local/lib/python3.8/dist-packages/xgboost/sklearn.py:1146: UserWarning: The use of label encoder in XGBClassifier is deprecated and will be removed in a future release. To remove this warning, do the following: 1) Pass option use_label_encoder=False when constructing XGBClassifier object; and 2) Encode your labels (y) as integers starting with 0, i.e. 0, 1, 2, ..., [num_class - 1].\n",
      "  warnings.warn(label_encoder_deprecation_msg, UserWarning)\n"
     ]
    },
    {
     "name": "stdout",
     "output_type": "stream",
     "text": [
      "[12:27:54] WARNING: ../src/learner.cc:1095: Starting in XGBoost 1.3.0, the default evaluation metric used with the objective 'binary:logistic' was changed from 'error' to 'logloss'. Explicitly set eval_metric if you'd like to restore the old behavior.\n"
     ]
    },
    {
     "name": "stderr",
     "output_type": "stream",
     "text": [
      "/usr/local/lib/python3.8/dist-packages/xgboost/data.py:112: UserWarning: Use subset (sliced data) of np.ndarray is not recommended because it will generate extra copies and increase memory consumption\n",
      "  warnings.warn(\n",
      "/usr/local/lib/python3.8/dist-packages/xgboost/sklearn.py:1146: UserWarning: The use of label encoder in XGBClassifier is deprecated and will be removed in a future release. To remove this warning, do the following: 1) Pass option use_label_encoder=False when constructing XGBClassifier object; and 2) Encode your labels (y) as integers starting with 0, i.e. 0, 1, 2, ..., [num_class - 1].\n",
      "  warnings.warn(label_encoder_deprecation_msg, UserWarning)\n"
     ]
    },
    {
     "name": "stdout",
     "output_type": "stream",
     "text": [
      "[12:27:54] WARNING: ../src/learner.cc:1095: Starting in XGBoost 1.3.0, the default evaluation metric used with the objective 'binary:logistic' was changed from 'error' to 'logloss'. Explicitly set eval_metric if you'd like to restore the old behavior.\n"
     ]
    },
    {
     "name": "stderr",
     "output_type": "stream",
     "text": [
      "/usr/local/lib/python3.8/dist-packages/xgboost/data.py:112: UserWarning: Use subset (sliced data) of np.ndarray is not recommended because it will generate extra copies and increase memory consumption\n",
      "  warnings.warn(\n",
      "/usr/local/lib/python3.8/dist-packages/xgboost/sklearn.py:1146: UserWarning: The use of label encoder in XGBClassifier is deprecated and will be removed in a future release. To remove this warning, do the following: 1) Pass option use_label_encoder=False when constructing XGBClassifier object; and 2) Encode your labels (y) as integers starting with 0, i.e. 0, 1, 2, ..., [num_class - 1].\n",
      "  warnings.warn(label_encoder_deprecation_msg, UserWarning)\n"
     ]
    },
    {
     "name": "stdout",
     "output_type": "stream",
     "text": [
      "[12:27:55] WARNING: ../src/learner.cc:1095: Starting in XGBoost 1.3.0, the default evaluation metric used with the objective 'binary:logistic' was changed from 'error' to 'logloss'. Explicitly set eval_metric if you'd like to restore the old behavior.\n"
     ]
    },
    {
     "name": "stderr",
     "output_type": "stream",
     "text": [
      "/usr/local/lib/python3.8/dist-packages/xgboost/data.py:112: UserWarning: Use subset (sliced data) of np.ndarray is not recommended because it will generate extra copies and increase memory consumption\n",
      "  warnings.warn(\n",
      "/usr/local/lib/python3.8/dist-packages/xgboost/sklearn.py:1146: UserWarning: The use of label encoder in XGBClassifier is deprecated and will be removed in a future release. To remove this warning, do the following: 1) Pass option use_label_encoder=False when constructing XGBClassifier object; and 2) Encode your labels (y) as integers starting with 0, i.e. 0, 1, 2, ..., [num_class - 1].\n",
      "  warnings.warn(label_encoder_deprecation_msg, UserWarning)\n"
     ]
    },
    {
     "name": "stdout",
     "output_type": "stream",
     "text": [
      "[12:27:56] WARNING: ../src/learner.cc:1095: Starting in XGBoost 1.3.0, the default evaluation metric used with the objective 'binary:logistic' was changed from 'error' to 'logloss'. Explicitly set eval_metric if you'd like to restore the old behavior.\n"
     ]
    },
    {
     "name": "stderr",
     "output_type": "stream",
     "text": [
      "/usr/local/lib/python3.8/dist-packages/xgboost/data.py:112: UserWarning: Use subset (sliced data) of np.ndarray is not recommended because it will generate extra copies and increase memory consumption\n",
      "  warnings.warn(\n",
      "/usr/local/lib/python3.8/dist-packages/xgboost/sklearn.py:1146: UserWarning: The use of label encoder in XGBClassifier is deprecated and will be removed in a future release. To remove this warning, do the following: 1) Pass option use_label_encoder=False when constructing XGBClassifier object; and 2) Encode your labels (y) as integers starting with 0, i.e. 0, 1, 2, ..., [num_class - 1].\n",
      "  warnings.warn(label_encoder_deprecation_msg, UserWarning)\n"
     ]
    },
    {
     "name": "stdout",
     "output_type": "stream",
     "text": [
      "[12:27:57] WARNING: ../src/learner.cc:1095: Starting in XGBoost 1.3.0, the default evaluation metric used with the objective 'binary:logistic' was changed from 'error' to 'logloss'. Explicitly set eval_metric if you'd like to restore the old behavior.\n"
     ]
    },
    {
     "name": "stderr",
     "output_type": "stream",
     "text": [
      "/usr/local/lib/python3.8/dist-packages/xgboost/data.py:112: UserWarning: Use subset (sliced data) of np.ndarray is not recommended because it will generate extra copies and increase memory consumption\n",
      "  warnings.warn(\n",
      "/usr/local/lib/python3.8/dist-packages/xgboost/sklearn.py:1146: UserWarning: The use of label encoder in XGBClassifier is deprecated and will be removed in a future release. To remove this warning, do the following: 1) Pass option use_label_encoder=False when constructing XGBClassifier object; and 2) Encode your labels (y) as integers starting with 0, i.e. 0, 1, 2, ..., [num_class - 1].\n",
      "  warnings.warn(label_encoder_deprecation_msg, UserWarning)\n"
     ]
    },
    {
     "name": "stdout",
     "output_type": "stream",
     "text": [
      "[12:27:57] WARNING: ../src/learner.cc:1095: Starting in XGBoost 1.3.0, the default evaluation metric used with the objective 'binary:logistic' was changed from 'error' to 'logloss'. Explicitly set eval_metric if you'd like to restore the old behavior.\n"
     ]
    },
    {
     "name": "stderr",
     "output_type": "stream",
     "text": [
      "/usr/local/lib/python3.8/dist-packages/xgboost/data.py:112: UserWarning: Use subset (sliced data) of np.ndarray is not recommended because it will generate extra copies and increase memory consumption\n",
      "  warnings.warn(\n",
      "/usr/local/lib/python3.8/dist-packages/xgboost/sklearn.py:1146: UserWarning: The use of label encoder in XGBClassifier is deprecated and will be removed in a future release. To remove this warning, do the following: 1) Pass option use_label_encoder=False when constructing XGBClassifier object; and 2) Encode your labels (y) as integers starting with 0, i.e. 0, 1, 2, ..., [num_class - 1].\n",
      "  warnings.warn(label_encoder_deprecation_msg, UserWarning)\n"
     ]
    },
    {
     "name": "stdout",
     "output_type": "stream",
     "text": [
      "[12:27:58] WARNING: ../src/learner.cc:1095: Starting in XGBoost 1.3.0, the default evaluation metric used with the objective 'binary:logistic' was changed from 'error' to 'logloss'. Explicitly set eval_metric if you'd like to restore the old behavior.\n"
     ]
    },
    {
     "name": "stderr",
     "output_type": "stream",
     "text": [
      "/usr/local/lib/python3.8/dist-packages/xgboost/data.py:112: UserWarning: Use subset (sliced data) of np.ndarray is not recommended because it will generate extra copies and increase memory consumption\n",
      "  warnings.warn(\n",
      "/usr/local/lib/python3.8/dist-packages/xgboost/sklearn.py:1146: UserWarning: The use of label encoder in XGBClassifier is deprecated and will be removed in a future release. To remove this warning, do the following: 1) Pass option use_label_encoder=False when constructing XGBClassifier object; and 2) Encode your labels (y) as integers starting with 0, i.e. 0, 1, 2, ..., [num_class - 1].\n",
      "  warnings.warn(label_encoder_deprecation_msg, UserWarning)\n"
     ]
    },
    {
     "name": "stdout",
     "output_type": "stream",
     "text": [
      "[12:27:58] WARNING: ../src/learner.cc:1095: Starting in XGBoost 1.3.0, the default evaluation metric used with the objective 'binary:logistic' was changed from 'error' to 'logloss'. Explicitly set eval_metric if you'd like to restore the old behavior.\n"
     ]
    },
    {
     "name": "stderr",
     "output_type": "stream",
     "text": [
      "/usr/local/lib/python3.8/dist-packages/xgboost/data.py:112: UserWarning: Use subset (sliced data) of np.ndarray is not recommended because it will generate extra copies and increase memory consumption\n",
      "  warnings.warn(\n",
      "/usr/local/lib/python3.8/dist-packages/xgboost/sklearn.py:1146: UserWarning: The use of label encoder in XGBClassifier is deprecated and will be removed in a future release. To remove this warning, do the following: 1) Pass option use_label_encoder=False when constructing XGBClassifier object; and 2) Encode your labels (y) as integers starting with 0, i.e. 0, 1, 2, ..., [num_class - 1].\n",
      "  warnings.warn(label_encoder_deprecation_msg, UserWarning)\n"
     ]
    },
    {
     "name": "stdout",
     "output_type": "stream",
     "text": [
      "[12:27:59] WARNING: ../src/learner.cc:1095: Starting in XGBoost 1.3.0, the default evaluation metric used with the objective 'binary:logistic' was changed from 'error' to 'logloss'. Explicitly set eval_metric if you'd like to restore the old behavior.\n"
     ]
    },
    {
     "name": "stderr",
     "output_type": "stream",
     "text": [
      "/usr/local/lib/python3.8/dist-packages/xgboost/data.py:112: UserWarning: Use subset (sliced data) of np.ndarray is not recommended because it will generate extra copies and increase memory consumption\n",
      "  warnings.warn(\n",
      "/usr/local/lib/python3.8/dist-packages/xgboost/sklearn.py:1146: UserWarning: The use of label encoder in XGBClassifier is deprecated and will be removed in a future release. To remove this warning, do the following: 1) Pass option use_label_encoder=False when constructing XGBClassifier object; and 2) Encode your labels (y) as integers starting with 0, i.e. 0, 1, 2, ..., [num_class - 1].\n",
      "  warnings.warn(label_encoder_deprecation_msg, UserWarning)\n"
     ]
    },
    {
     "name": "stdout",
     "output_type": "stream",
     "text": [
      "[12:28:00] WARNING: ../src/learner.cc:1095: Starting in XGBoost 1.3.0, the default evaluation metric used with the objective 'binary:logistic' was changed from 'error' to 'logloss'. Explicitly set eval_metric if you'd like to restore the old behavior.\n"
     ]
    },
    {
     "name": "stderr",
     "output_type": "stream",
     "text": [
      "/usr/local/lib/python3.8/dist-packages/xgboost/data.py:112: UserWarning: Use subset (sliced data) of np.ndarray is not recommended because it will generate extra copies and increase memory consumption\n",
      "  warnings.warn(\n",
      "/usr/local/lib/python3.8/dist-packages/xgboost/sklearn.py:1146: UserWarning: The use of label encoder in XGBClassifier is deprecated and will be removed in a future release. To remove this warning, do the following: 1) Pass option use_label_encoder=False when constructing XGBClassifier object; and 2) Encode your labels (y) as integers starting with 0, i.e. 0, 1, 2, ..., [num_class - 1].\n",
      "  warnings.warn(label_encoder_deprecation_msg, UserWarning)\n"
     ]
    },
    {
     "name": "stdout",
     "output_type": "stream",
     "text": [
      "[12:28:01] WARNING: ../src/learner.cc:1095: Starting in XGBoost 1.3.0, the default evaluation metric used with the objective 'binary:logistic' was changed from 'error' to 'logloss'. Explicitly set eval_metric if you'd like to restore the old behavior.\n"
     ]
    },
    {
     "name": "stderr",
     "output_type": "stream",
     "text": [
      "/usr/local/lib/python3.8/dist-packages/xgboost/data.py:112: UserWarning: Use subset (sliced data) of np.ndarray is not recommended because it will generate extra copies and increase memory consumption\n",
      "  warnings.warn(\n",
      "/usr/local/lib/python3.8/dist-packages/xgboost/sklearn.py:1146: UserWarning: The use of label encoder in XGBClassifier is deprecated and will be removed in a future release. To remove this warning, do the following: 1) Pass option use_label_encoder=False when constructing XGBClassifier object; and 2) Encode your labels (y) as integers starting with 0, i.e. 0, 1, 2, ..., [num_class - 1].\n",
      "  warnings.warn(label_encoder_deprecation_msg, UserWarning)\n"
     ]
    },
    {
     "name": "stdout",
     "output_type": "stream",
     "text": [
      "[12:28:01] WARNING: ../src/learner.cc:1095: Starting in XGBoost 1.3.0, the default evaluation metric used with the objective 'binary:logistic' was changed from 'error' to 'logloss'. Explicitly set eval_metric if you'd like to restore the old behavior.\n"
     ]
    },
    {
     "name": "stderr",
     "output_type": "stream",
     "text": [
      "/usr/local/lib/python3.8/dist-packages/xgboost/data.py:112: UserWarning: Use subset (sliced data) of np.ndarray is not recommended because it will generate extra copies and increase memory consumption\n",
      "  warnings.warn(\n",
      "/usr/local/lib/python3.8/dist-packages/xgboost/sklearn.py:1146: UserWarning: The use of label encoder in XGBClassifier is deprecated and will be removed in a future release. To remove this warning, do the following: 1) Pass option use_label_encoder=False when constructing XGBClassifier object; and 2) Encode your labels (y) as integers starting with 0, i.e. 0, 1, 2, ..., [num_class - 1].\n",
      "  warnings.warn(label_encoder_deprecation_msg, UserWarning)\n"
     ]
    },
    {
     "name": "stdout",
     "output_type": "stream",
     "text": [
      "[12:28:02] WARNING: ../src/learner.cc:1095: Starting in XGBoost 1.3.0, the default evaluation metric used with the objective 'binary:logistic' was changed from 'error' to 'logloss'. Explicitly set eval_metric if you'd like to restore the old behavior.\n"
     ]
    },
    {
     "name": "stderr",
     "output_type": "stream",
     "text": [
      "/usr/local/lib/python3.8/dist-packages/xgboost/data.py:112: UserWarning: Use subset (sliced data) of np.ndarray is not recommended because it will generate extra copies and increase memory consumption\n",
      "  warnings.warn(\n",
      "/usr/local/lib/python3.8/dist-packages/xgboost/sklearn.py:1146: UserWarning: The use of label encoder in XGBClassifier is deprecated and will be removed in a future release. To remove this warning, do the following: 1) Pass option use_label_encoder=False when constructing XGBClassifier object; and 2) Encode your labels (y) as integers starting with 0, i.e. 0, 1, 2, ..., [num_class - 1].\n",
      "  warnings.warn(label_encoder_deprecation_msg, UserWarning)\n"
     ]
    },
    {
     "name": "stdout",
     "output_type": "stream",
     "text": [
      "[12:28:03] WARNING: ../src/learner.cc:1095: Starting in XGBoost 1.3.0, the default evaluation metric used with the objective 'binary:logistic' was changed from 'error' to 'logloss'. Explicitly set eval_metric if you'd like to restore the old behavior.\n"
     ]
    },
    {
     "name": "stderr",
     "output_type": "stream",
     "text": [
      "/usr/local/lib/python3.8/dist-packages/xgboost/data.py:112: UserWarning: Use subset (sliced data) of np.ndarray is not recommended because it will generate extra copies and increase memory consumption\n",
      "  warnings.warn(\n",
      "/usr/local/lib/python3.8/dist-packages/xgboost/sklearn.py:1146: UserWarning: The use of label encoder in XGBClassifier is deprecated and will be removed in a future release. To remove this warning, do the following: 1) Pass option use_label_encoder=False when constructing XGBClassifier object; and 2) Encode your labels (y) as integers starting with 0, i.e. 0, 1, 2, ..., [num_class - 1].\n",
      "  warnings.warn(label_encoder_deprecation_msg, UserWarning)\n"
     ]
    },
    {
     "name": "stdout",
     "output_type": "stream",
     "text": [
      "[12:28:03] WARNING: ../src/learner.cc:1095: Starting in XGBoost 1.3.0, the default evaluation metric used with the objective 'binary:logistic' was changed from 'error' to 'logloss'. Explicitly set eval_metric if you'd like to restore the old behavior.\n"
     ]
    },
    {
     "name": "stderr",
     "output_type": "stream",
     "text": [
      "/usr/local/lib/python3.8/dist-packages/xgboost/data.py:112: UserWarning: Use subset (sliced data) of np.ndarray is not recommended because it will generate extra copies and increase memory consumption\n",
      "  warnings.warn(\n",
      "/usr/local/lib/python3.8/dist-packages/xgboost/sklearn.py:1146: UserWarning: The use of label encoder in XGBClassifier is deprecated and will be removed in a future release. To remove this warning, do the following: 1) Pass option use_label_encoder=False when constructing XGBClassifier object; and 2) Encode your labels (y) as integers starting with 0, i.e. 0, 1, 2, ..., [num_class - 1].\n",
      "  warnings.warn(label_encoder_deprecation_msg, UserWarning)\n"
     ]
    },
    {
     "name": "stdout",
     "output_type": "stream",
     "text": [
      "[12:28:03] WARNING: ../src/learner.cc:1095: Starting in XGBoost 1.3.0, the default evaluation metric used with the objective 'binary:logistic' was changed from 'error' to 'logloss'. Explicitly set eval_metric if you'd like to restore the old behavior.\n"
     ]
    },
    {
     "name": "stderr",
     "output_type": "stream",
     "text": [
      "/usr/local/lib/python3.8/dist-packages/xgboost/data.py:112: UserWarning: Use subset (sliced data) of np.ndarray is not recommended because it will generate extra copies and increase memory consumption\n",
      "  warnings.warn(\n",
      "/usr/local/lib/python3.8/dist-packages/xgboost/sklearn.py:1146: UserWarning: The use of label encoder in XGBClassifier is deprecated and will be removed in a future release. To remove this warning, do the following: 1) Pass option use_label_encoder=False when constructing XGBClassifier object; and 2) Encode your labels (y) as integers starting with 0, i.e. 0, 1, 2, ..., [num_class - 1].\n",
      "  warnings.warn(label_encoder_deprecation_msg, UserWarning)\n"
     ]
    },
    {
     "name": "stdout",
     "output_type": "stream",
     "text": [
      "[12:28:04] WARNING: ../src/learner.cc:1095: Starting in XGBoost 1.3.0, the default evaluation metric used with the objective 'binary:logistic' was changed from 'error' to 'logloss'. Explicitly set eval_metric if you'd like to restore the old behavior.\n"
     ]
    },
    {
     "name": "stderr",
     "output_type": "stream",
     "text": [
      "/usr/local/lib/python3.8/dist-packages/xgboost/data.py:112: UserWarning: Use subset (sliced data) of np.ndarray is not recommended because it will generate extra copies and increase memory consumption\n",
      "  warnings.warn(\n",
      "/usr/local/lib/python3.8/dist-packages/xgboost/sklearn.py:1146: UserWarning: The use of label encoder in XGBClassifier is deprecated and will be removed in a future release. To remove this warning, do the following: 1) Pass option use_label_encoder=False when constructing XGBClassifier object; and 2) Encode your labels (y) as integers starting with 0, i.e. 0, 1, 2, ..., [num_class - 1].\n",
      "  warnings.warn(label_encoder_deprecation_msg, UserWarning)\n"
     ]
    },
    {
     "name": "stdout",
     "output_type": "stream",
     "text": [
      "[12:28:04] WARNING: ../src/learner.cc:1095: Starting in XGBoost 1.3.0, the default evaluation metric used with the objective 'binary:logistic' was changed from 'error' to 'logloss'. Explicitly set eval_metric if you'd like to restore the old behavior.\n"
     ]
    },
    {
     "name": "stderr",
     "output_type": "stream",
     "text": [
      "/usr/local/lib/python3.8/dist-packages/xgboost/data.py:112: UserWarning: Use subset (sliced data) of np.ndarray is not recommended because it will generate extra copies and increase memory consumption\n",
      "  warnings.warn(\n",
      "/usr/local/lib/python3.8/dist-packages/xgboost/sklearn.py:1146: UserWarning: The use of label encoder in XGBClassifier is deprecated and will be removed in a future release. To remove this warning, do the following: 1) Pass option use_label_encoder=False when constructing XGBClassifier object; and 2) Encode your labels (y) as integers starting with 0, i.e. 0, 1, 2, ..., [num_class - 1].\n",
      "  warnings.warn(label_encoder_deprecation_msg, UserWarning)\n"
     ]
    },
    {
     "name": "stdout",
     "output_type": "stream",
     "text": [
      "[12:28:05] WARNING: ../src/learner.cc:1095: Starting in XGBoost 1.3.0, the default evaluation metric used with the objective 'binary:logistic' was changed from 'error' to 'logloss'. Explicitly set eval_metric if you'd like to restore the old behavior.\n"
     ]
    },
    {
     "name": "stderr",
     "output_type": "stream",
     "text": [
      "/usr/local/lib/python3.8/dist-packages/xgboost/data.py:112: UserWarning: Use subset (sliced data) of np.ndarray is not recommended because it will generate extra copies and increase memory consumption\n",
      "  warnings.warn(\n",
      "/usr/local/lib/python3.8/dist-packages/xgboost/sklearn.py:1146: UserWarning: The use of label encoder in XGBClassifier is deprecated and will be removed in a future release. To remove this warning, do the following: 1) Pass option use_label_encoder=False when constructing XGBClassifier object; and 2) Encode your labels (y) as integers starting with 0, i.e. 0, 1, 2, ..., [num_class - 1].\n",
      "  warnings.warn(label_encoder_deprecation_msg, UserWarning)\n"
     ]
    },
    {
     "name": "stdout",
     "output_type": "stream",
     "text": [
      "[12:28:05] WARNING: ../src/learner.cc:1095: Starting in XGBoost 1.3.0, the default evaluation metric used with the objective 'binary:logistic' was changed from 'error' to 'logloss'. Explicitly set eval_metric if you'd like to restore the old behavior.\n"
     ]
    },
    {
     "name": "stderr",
     "output_type": "stream",
     "text": [
      "/usr/local/lib/python3.8/dist-packages/xgboost/data.py:112: UserWarning: Use subset (sliced data) of np.ndarray is not recommended because it will generate extra copies and increase memory consumption\n",
      "  warnings.warn(\n",
      "/usr/local/lib/python3.8/dist-packages/xgboost/sklearn.py:1146: UserWarning: The use of label encoder in XGBClassifier is deprecated and will be removed in a future release. To remove this warning, do the following: 1) Pass option use_label_encoder=False when constructing XGBClassifier object; and 2) Encode your labels (y) as integers starting with 0, i.e. 0, 1, 2, ..., [num_class - 1].\n",
      "  warnings.warn(label_encoder_deprecation_msg, UserWarning)\n"
     ]
    },
    {
     "name": "stdout",
     "output_type": "stream",
     "text": [
      "[12:28:06] WARNING: ../src/learner.cc:1095: Starting in XGBoost 1.3.0, the default evaluation metric used with the objective 'binary:logistic' was changed from 'error' to 'logloss'. Explicitly set eval_metric if you'd like to restore the old behavior.\n"
     ]
    },
    {
     "name": "stderr",
     "output_type": "stream",
     "text": [
      "/usr/local/lib/python3.8/dist-packages/xgboost/data.py:112: UserWarning: Use subset (sliced data) of np.ndarray is not recommended because it will generate extra copies and increase memory consumption\n",
      "  warnings.warn(\n",
      "/usr/local/lib/python3.8/dist-packages/xgboost/sklearn.py:1146: UserWarning: The use of label encoder in XGBClassifier is deprecated and will be removed in a future release. To remove this warning, do the following: 1) Pass option use_label_encoder=False when constructing XGBClassifier object; and 2) Encode your labels (y) as integers starting with 0, i.e. 0, 1, 2, ..., [num_class - 1].\n",
      "  warnings.warn(label_encoder_deprecation_msg, UserWarning)\n"
     ]
    },
    {
     "name": "stdout",
     "output_type": "stream",
     "text": [
      "[12:28:06] WARNING: ../src/learner.cc:1095: Starting in XGBoost 1.3.0, the default evaluation metric used with the objective 'binary:logistic' was changed from 'error' to 'logloss'. Explicitly set eval_metric if you'd like to restore the old behavior.\n"
     ]
    },
    {
     "name": "stderr",
     "output_type": "stream",
     "text": [
      "/usr/local/lib/python3.8/dist-packages/xgboost/data.py:112: UserWarning: Use subset (sliced data) of np.ndarray is not recommended because it will generate extra copies and increase memory consumption\n",
      "  warnings.warn(\n",
      "/usr/local/lib/python3.8/dist-packages/xgboost/sklearn.py:1146: UserWarning: The use of label encoder in XGBClassifier is deprecated and will be removed in a future release. To remove this warning, do the following: 1) Pass option use_label_encoder=False when constructing XGBClassifier object; and 2) Encode your labels (y) as integers starting with 0, i.e. 0, 1, 2, ..., [num_class - 1].\n",
      "  warnings.warn(label_encoder_deprecation_msg, UserWarning)\n"
     ]
    },
    {
     "name": "stdout",
     "output_type": "stream",
     "text": [
      "[12:28:07] WARNING: ../src/learner.cc:1095: Starting in XGBoost 1.3.0, the default evaluation metric used with the objective 'binary:logistic' was changed from 'error' to 'logloss'. Explicitly set eval_metric if you'd like to restore the old behavior.\n"
     ]
    },
    {
     "name": "stderr",
     "output_type": "stream",
     "text": [
      "/usr/local/lib/python3.8/dist-packages/xgboost/data.py:112: UserWarning: Use subset (sliced data) of np.ndarray is not recommended because it will generate extra copies and increase memory consumption\n",
      "  warnings.warn(\n",
      "/usr/local/lib/python3.8/dist-packages/xgboost/sklearn.py:1146: UserWarning: The use of label encoder in XGBClassifier is deprecated and will be removed in a future release. To remove this warning, do the following: 1) Pass option use_label_encoder=False when constructing XGBClassifier object; and 2) Encode your labels (y) as integers starting with 0, i.e. 0, 1, 2, ..., [num_class - 1].\n",
      "  warnings.warn(label_encoder_deprecation_msg, UserWarning)\n"
     ]
    },
    {
     "name": "stdout",
     "output_type": "stream",
     "text": [
      "[12:28:07] WARNING: ../src/learner.cc:1095: Starting in XGBoost 1.3.0, the default evaluation metric used with the objective 'binary:logistic' was changed from 'error' to 'logloss'. Explicitly set eval_metric if you'd like to restore the old behavior.\n"
     ]
    },
    {
     "name": "stderr",
     "output_type": "stream",
     "text": [
      "/usr/local/lib/python3.8/dist-packages/xgboost/data.py:112: UserWarning: Use subset (sliced data) of np.ndarray is not recommended because it will generate extra copies and increase memory consumption\n",
      "  warnings.warn(\n",
      "/usr/local/lib/python3.8/dist-packages/xgboost/sklearn.py:1146: UserWarning: The use of label encoder in XGBClassifier is deprecated and will be removed in a future release. To remove this warning, do the following: 1) Pass option use_label_encoder=False when constructing XGBClassifier object; and 2) Encode your labels (y) as integers starting with 0, i.e. 0, 1, 2, ..., [num_class - 1].\n",
      "  warnings.warn(label_encoder_deprecation_msg, UserWarning)\n"
     ]
    },
    {
     "name": "stdout",
     "output_type": "stream",
     "text": [
      "[12:28:08] WARNING: ../src/learner.cc:1095: Starting in XGBoost 1.3.0, the default evaluation metric used with the objective 'binary:logistic' was changed from 'error' to 'logloss'. Explicitly set eval_metric if you'd like to restore the old behavior.\n"
     ]
    },
    {
     "name": "stderr",
     "output_type": "stream",
     "text": [
      "/usr/local/lib/python3.8/dist-packages/xgboost/data.py:112: UserWarning: Use subset (sliced data) of np.ndarray is not recommended because it will generate extra copies and increase memory consumption\n",
      "  warnings.warn(\n",
      "/usr/local/lib/python3.8/dist-packages/xgboost/sklearn.py:1146: UserWarning: The use of label encoder in XGBClassifier is deprecated and will be removed in a future release. To remove this warning, do the following: 1) Pass option use_label_encoder=False when constructing XGBClassifier object; and 2) Encode your labels (y) as integers starting with 0, i.e. 0, 1, 2, ..., [num_class - 1].\n",
      "  warnings.warn(label_encoder_deprecation_msg, UserWarning)\n"
     ]
    },
    {
     "name": "stdout",
     "output_type": "stream",
     "text": [
      "[12:28:09] WARNING: ../src/learner.cc:1095: Starting in XGBoost 1.3.0, the default evaluation metric used with the objective 'binary:logistic' was changed from 'error' to 'logloss'. Explicitly set eval_metric if you'd like to restore the old behavior.\n"
     ]
    },
    {
     "name": "stderr",
     "output_type": "stream",
     "text": [
      "/usr/local/lib/python3.8/dist-packages/xgboost/data.py:112: UserWarning: Use subset (sliced data) of np.ndarray is not recommended because it will generate extra copies and increase memory consumption\n",
      "  warnings.warn(\n",
      "/usr/local/lib/python3.8/dist-packages/xgboost/sklearn.py:1146: UserWarning: The use of label encoder in XGBClassifier is deprecated and will be removed in a future release. To remove this warning, do the following: 1) Pass option use_label_encoder=False when constructing XGBClassifier object; and 2) Encode your labels (y) as integers starting with 0, i.e. 0, 1, 2, ..., [num_class - 1].\n",
      "  warnings.warn(label_encoder_deprecation_msg, UserWarning)\n"
     ]
    },
    {
     "name": "stdout",
     "output_type": "stream",
     "text": [
      "[12:28:09] WARNING: ../src/learner.cc:1095: Starting in XGBoost 1.3.0, the default evaluation metric used with the objective 'binary:logistic' was changed from 'error' to 'logloss'. Explicitly set eval_metric if you'd like to restore the old behavior.\n"
     ]
    },
    {
     "name": "stderr",
     "output_type": "stream",
     "text": [
      "/usr/local/lib/python3.8/dist-packages/xgboost/data.py:112: UserWarning: Use subset (sliced data) of np.ndarray is not recommended because it will generate extra copies and increase memory consumption\n",
      "  warnings.warn(\n",
      "/usr/local/lib/python3.8/dist-packages/xgboost/sklearn.py:1146: UserWarning: The use of label encoder in XGBClassifier is deprecated and will be removed in a future release. To remove this warning, do the following: 1) Pass option use_label_encoder=False when constructing XGBClassifier object; and 2) Encode your labels (y) as integers starting with 0, i.e. 0, 1, 2, ..., [num_class - 1].\n",
      "  warnings.warn(label_encoder_deprecation_msg, UserWarning)\n"
     ]
    },
    {
     "name": "stdout",
     "output_type": "stream",
     "text": [
      "[12:28:10] WARNING: ../src/learner.cc:1095: Starting in XGBoost 1.3.0, the default evaluation metric used with the objective 'binary:logistic' was changed from 'error' to 'logloss'. Explicitly set eval_metric if you'd like to restore the old behavior.\n"
     ]
    },
    {
     "name": "stderr",
     "output_type": "stream",
     "text": [
      "/usr/local/lib/python3.8/dist-packages/xgboost/data.py:112: UserWarning: Use subset (sliced data) of np.ndarray is not recommended because it will generate extra copies and increase memory consumption\n",
      "  warnings.warn(\n",
      "/usr/local/lib/python3.8/dist-packages/xgboost/sklearn.py:1146: UserWarning: The use of label encoder in XGBClassifier is deprecated and will be removed in a future release. To remove this warning, do the following: 1) Pass option use_label_encoder=False when constructing XGBClassifier object; and 2) Encode your labels (y) as integers starting with 0, i.e. 0, 1, 2, ..., [num_class - 1].\n",
      "  warnings.warn(label_encoder_deprecation_msg, UserWarning)\n"
     ]
    },
    {
     "name": "stdout",
     "output_type": "stream",
     "text": [
      "[12:28:10] WARNING: ../src/learner.cc:1095: Starting in XGBoost 1.3.0, the default evaluation metric used with the objective 'binary:logistic' was changed from 'error' to 'logloss'. Explicitly set eval_metric if you'd like to restore the old behavior.\n"
     ]
    },
    {
     "name": "stderr",
     "output_type": "stream",
     "text": [
      "/usr/local/lib/python3.8/dist-packages/xgboost/data.py:112: UserWarning: Use subset (sliced data) of np.ndarray is not recommended because it will generate extra copies and increase memory consumption\n",
      "  warnings.warn(\n",
      "/usr/local/lib/python3.8/dist-packages/xgboost/sklearn.py:1146: UserWarning: The use of label encoder in XGBClassifier is deprecated and will be removed in a future release. To remove this warning, do the following: 1) Pass option use_label_encoder=False when constructing XGBClassifier object; and 2) Encode your labels (y) as integers starting with 0, i.e. 0, 1, 2, ..., [num_class - 1].\n",
      "  warnings.warn(label_encoder_deprecation_msg, UserWarning)\n"
     ]
    },
    {
     "name": "stdout",
     "output_type": "stream",
     "text": [
      "[12:28:11] WARNING: ../src/learner.cc:1095: Starting in XGBoost 1.3.0, the default evaluation metric used with the objective 'binary:logistic' was changed from 'error' to 'logloss'. Explicitly set eval_metric if you'd like to restore the old behavior.\n"
     ]
    },
    {
     "name": "stderr",
     "output_type": "stream",
     "text": [
      "/usr/local/lib/python3.8/dist-packages/xgboost/data.py:112: UserWarning: Use subset (sliced data) of np.ndarray is not recommended because it will generate extra copies and increase memory consumption\n",
      "  warnings.warn(\n",
      "/usr/local/lib/python3.8/dist-packages/xgboost/sklearn.py:1146: UserWarning: The use of label encoder in XGBClassifier is deprecated and will be removed in a future release. To remove this warning, do the following: 1) Pass option use_label_encoder=False when constructing XGBClassifier object; and 2) Encode your labels (y) as integers starting with 0, i.e. 0, 1, 2, ..., [num_class - 1].\n",
      "  warnings.warn(label_encoder_deprecation_msg, UserWarning)\n"
     ]
    },
    {
     "name": "stdout",
     "output_type": "stream",
     "text": [
      "[12:28:12] WARNING: ../src/learner.cc:1095: Starting in XGBoost 1.3.0, the default evaluation metric used with the objective 'binary:logistic' was changed from 'error' to 'logloss'. Explicitly set eval_metric if you'd like to restore the old behavior.\n"
     ]
    },
    {
     "name": "stderr",
     "output_type": "stream",
     "text": [
      "/usr/local/lib/python3.8/dist-packages/xgboost/data.py:112: UserWarning: Use subset (sliced data) of np.ndarray is not recommended because it will generate extra copies and increase memory consumption\n",
      "  warnings.warn(\n",
      "/usr/local/lib/python3.8/dist-packages/xgboost/sklearn.py:1146: UserWarning: The use of label encoder in XGBClassifier is deprecated and will be removed in a future release. To remove this warning, do the following: 1) Pass option use_label_encoder=False when constructing XGBClassifier object; and 2) Encode your labels (y) as integers starting with 0, i.e. 0, 1, 2, ..., [num_class - 1].\n",
      "  warnings.warn(label_encoder_deprecation_msg, UserWarning)\n"
     ]
    },
    {
     "name": "stdout",
     "output_type": "stream",
     "text": [
      "[12:28:12] WARNING: ../src/learner.cc:1095: Starting in XGBoost 1.3.0, the default evaluation metric used with the objective 'binary:logistic' was changed from 'error' to 'logloss'. Explicitly set eval_metric if you'd like to restore the old behavior.\n"
     ]
    },
    {
     "name": "stderr",
     "output_type": "stream",
     "text": [
      "/usr/local/lib/python3.8/dist-packages/xgboost/data.py:112: UserWarning: Use subset (sliced data) of np.ndarray is not recommended because it will generate extra copies and increase memory consumption\n",
      "  warnings.warn(\n",
      "/usr/local/lib/python3.8/dist-packages/xgboost/sklearn.py:1146: UserWarning: The use of label encoder in XGBClassifier is deprecated and will be removed in a future release. To remove this warning, do the following: 1) Pass option use_label_encoder=False when constructing XGBClassifier object; and 2) Encode your labels (y) as integers starting with 0, i.e. 0, 1, 2, ..., [num_class - 1].\n",
      "  warnings.warn(label_encoder_deprecation_msg, UserWarning)\n"
     ]
    },
    {
     "name": "stdout",
     "output_type": "stream",
     "text": [
      "[12:28:13] WARNING: ../src/learner.cc:1095: Starting in XGBoost 1.3.0, the default evaluation metric used with the objective 'binary:logistic' was changed from 'error' to 'logloss'. Explicitly set eval_metric if you'd like to restore the old behavior.\n"
     ]
    },
    {
     "name": "stderr",
     "output_type": "stream",
     "text": [
      "/usr/local/lib/python3.8/dist-packages/xgboost/data.py:112: UserWarning: Use subset (sliced data) of np.ndarray is not recommended because it will generate extra copies and increase memory consumption\n",
      "  warnings.warn(\n",
      "/usr/local/lib/python3.8/dist-packages/xgboost/sklearn.py:1146: UserWarning: The use of label encoder in XGBClassifier is deprecated and will be removed in a future release. To remove this warning, do the following: 1) Pass option use_label_encoder=False when constructing XGBClassifier object; and 2) Encode your labels (y) as integers starting with 0, i.e. 0, 1, 2, ..., [num_class - 1].\n",
      "  warnings.warn(label_encoder_deprecation_msg, UserWarning)\n"
     ]
    },
    {
     "name": "stdout",
     "output_type": "stream",
     "text": [
      "[12:28:14] WARNING: ../src/learner.cc:1095: Starting in XGBoost 1.3.0, the default evaluation metric used with the objective 'binary:logistic' was changed from 'error' to 'logloss'. Explicitly set eval_metric if you'd like to restore the old behavior.\n"
     ]
    },
    {
     "name": "stderr",
     "output_type": "stream",
     "text": [
      "/usr/local/lib/python3.8/dist-packages/xgboost/data.py:112: UserWarning: Use subset (sliced data) of np.ndarray is not recommended because it will generate extra copies and increase memory consumption\n",
      "  warnings.warn(\n",
      "/usr/local/lib/python3.8/dist-packages/xgboost/sklearn.py:1146: UserWarning: The use of label encoder in XGBClassifier is deprecated and will be removed in a future release. To remove this warning, do the following: 1) Pass option use_label_encoder=False when constructing XGBClassifier object; and 2) Encode your labels (y) as integers starting with 0, i.e. 0, 1, 2, ..., [num_class - 1].\n",
      "  warnings.warn(label_encoder_deprecation_msg, UserWarning)\n"
     ]
    },
    {
     "name": "stdout",
     "output_type": "stream",
     "text": [
      "[12:28:14] WARNING: ../src/learner.cc:1095: Starting in XGBoost 1.3.0, the default evaluation metric used with the objective 'binary:logistic' was changed from 'error' to 'logloss'. Explicitly set eval_metric if you'd like to restore the old behavior.\n"
     ]
    },
    {
     "name": "stderr",
     "output_type": "stream",
     "text": [
      "/usr/local/lib/python3.8/dist-packages/xgboost/data.py:112: UserWarning: Use subset (sliced data) of np.ndarray is not recommended because it will generate extra copies and increase memory consumption\n",
      "  warnings.warn(\n",
      "/usr/local/lib/python3.8/dist-packages/xgboost/sklearn.py:1146: UserWarning: The use of label encoder in XGBClassifier is deprecated and will be removed in a future release. To remove this warning, do the following: 1) Pass option use_label_encoder=False when constructing XGBClassifier object; and 2) Encode your labels (y) as integers starting with 0, i.e. 0, 1, 2, ..., [num_class - 1].\n",
      "  warnings.warn(label_encoder_deprecation_msg, UserWarning)\n"
     ]
    },
    {
     "name": "stdout",
     "output_type": "stream",
     "text": [
      "[12:28:15] WARNING: ../src/learner.cc:1095: Starting in XGBoost 1.3.0, the default evaluation metric used with the objective 'binary:logistic' was changed from 'error' to 'logloss'. Explicitly set eval_metric if you'd like to restore the old behavior.\n"
     ]
    },
    {
     "name": "stderr",
     "output_type": "stream",
     "text": [
      "/usr/local/lib/python3.8/dist-packages/xgboost/data.py:112: UserWarning: Use subset (sliced data) of np.ndarray is not recommended because it will generate extra copies and increase memory consumption\n",
      "  warnings.warn(\n",
      "/usr/local/lib/python3.8/dist-packages/xgboost/sklearn.py:1146: UserWarning: The use of label encoder in XGBClassifier is deprecated and will be removed in a future release. To remove this warning, do the following: 1) Pass option use_label_encoder=False when constructing XGBClassifier object; and 2) Encode your labels (y) as integers starting with 0, i.e. 0, 1, 2, ..., [num_class - 1].\n",
      "  warnings.warn(label_encoder_deprecation_msg, UserWarning)\n"
     ]
    },
    {
     "name": "stdout",
     "output_type": "stream",
     "text": [
      "[12:28:16] WARNING: ../src/learner.cc:1095: Starting in XGBoost 1.3.0, the default evaluation metric used with the objective 'binary:logistic' was changed from 'error' to 'logloss'. Explicitly set eval_metric if you'd like to restore the old behavior.\n"
     ]
    },
    {
     "name": "stderr",
     "output_type": "stream",
     "text": [
      "/usr/local/lib/python3.8/dist-packages/xgboost/data.py:112: UserWarning: Use subset (sliced data) of np.ndarray is not recommended because it will generate extra copies and increase memory consumption\n",
      "  warnings.warn(\n",
      "/usr/local/lib/python3.8/dist-packages/xgboost/sklearn.py:1146: UserWarning: The use of label encoder in XGBClassifier is deprecated and will be removed in a future release. To remove this warning, do the following: 1) Pass option use_label_encoder=False when constructing XGBClassifier object; and 2) Encode your labels (y) as integers starting with 0, i.e. 0, 1, 2, ..., [num_class - 1].\n",
      "  warnings.warn(label_encoder_deprecation_msg, UserWarning)\n"
     ]
    },
    {
     "name": "stdout",
     "output_type": "stream",
     "text": [
      "[12:28:16] WARNING: ../src/learner.cc:1095: Starting in XGBoost 1.3.0, the default evaluation metric used with the objective 'binary:logistic' was changed from 'error' to 'logloss'. Explicitly set eval_metric if you'd like to restore the old behavior.\n"
     ]
    },
    {
     "name": "stderr",
     "output_type": "stream",
     "text": [
      "/usr/local/lib/python3.8/dist-packages/xgboost/data.py:112: UserWarning: Use subset (sliced data) of np.ndarray is not recommended because it will generate extra copies and increase memory consumption\n",
      "  warnings.warn(\n",
      "/usr/local/lib/python3.8/dist-packages/xgboost/sklearn.py:1146: UserWarning: The use of label encoder in XGBClassifier is deprecated and will be removed in a future release. To remove this warning, do the following: 1) Pass option use_label_encoder=False when constructing XGBClassifier object; and 2) Encode your labels (y) as integers starting with 0, i.e. 0, 1, 2, ..., [num_class - 1].\n",
      "  warnings.warn(label_encoder_deprecation_msg, UserWarning)\n"
     ]
    },
    {
     "name": "stdout",
     "output_type": "stream",
     "text": [
      "[12:28:17] WARNING: ../src/learner.cc:1095: Starting in XGBoost 1.3.0, the default evaluation metric used with the objective 'binary:logistic' was changed from 'error' to 'logloss'. Explicitly set eval_metric if you'd like to restore the old behavior.\n"
     ]
    },
    {
     "name": "stderr",
     "output_type": "stream",
     "text": [
      "/usr/local/lib/python3.8/dist-packages/xgboost/data.py:112: UserWarning: Use subset (sliced data) of np.ndarray is not recommended because it will generate extra copies and increase memory consumption\n",
      "  warnings.warn(\n",
      "/usr/local/lib/python3.8/dist-packages/xgboost/sklearn.py:1146: UserWarning: The use of label encoder in XGBClassifier is deprecated and will be removed in a future release. To remove this warning, do the following: 1) Pass option use_label_encoder=False when constructing XGBClassifier object; and 2) Encode your labels (y) as integers starting with 0, i.e. 0, 1, 2, ..., [num_class - 1].\n",
      "  warnings.warn(label_encoder_deprecation_msg, UserWarning)\n"
     ]
    },
    {
     "name": "stdout",
     "output_type": "stream",
     "text": [
      "[12:28:18] WARNING: ../src/learner.cc:1095: Starting in XGBoost 1.3.0, the default evaluation metric used with the objective 'binary:logistic' was changed from 'error' to 'logloss'. Explicitly set eval_metric if you'd like to restore the old behavior.\n"
     ]
    },
    {
     "name": "stderr",
     "output_type": "stream",
     "text": [
      "/usr/local/lib/python3.8/dist-packages/xgboost/data.py:112: UserWarning: Use subset (sliced data) of np.ndarray is not recommended because it will generate extra copies and increase memory consumption\n",
      "  warnings.warn(\n",
      "/usr/local/lib/python3.8/dist-packages/xgboost/sklearn.py:1146: UserWarning: The use of label encoder in XGBClassifier is deprecated and will be removed in a future release. To remove this warning, do the following: 1) Pass option use_label_encoder=False when constructing XGBClassifier object; and 2) Encode your labels (y) as integers starting with 0, i.e. 0, 1, 2, ..., [num_class - 1].\n",
      "  warnings.warn(label_encoder_deprecation_msg, UserWarning)\n"
     ]
    },
    {
     "name": "stdout",
     "output_type": "stream",
     "text": [
      "[12:28:19] WARNING: ../src/learner.cc:1095: Starting in XGBoost 1.3.0, the default evaluation metric used with the objective 'binary:logistic' was changed from 'error' to 'logloss'. Explicitly set eval_metric if you'd like to restore the old behavior.\n"
     ]
    },
    {
     "name": "stderr",
     "output_type": "stream",
     "text": [
      "/usr/local/lib/python3.8/dist-packages/xgboost/data.py:112: UserWarning: Use subset (sliced data) of np.ndarray is not recommended because it will generate extra copies and increase memory consumption\n",
      "  warnings.warn(\n",
      "/usr/local/lib/python3.8/dist-packages/xgboost/sklearn.py:1146: UserWarning: The use of label encoder in XGBClassifier is deprecated and will be removed in a future release. To remove this warning, do the following: 1) Pass option use_label_encoder=False when constructing XGBClassifier object; and 2) Encode your labels (y) as integers starting with 0, i.e. 0, 1, 2, ..., [num_class - 1].\n",
      "  warnings.warn(label_encoder_deprecation_msg, UserWarning)\n"
     ]
    },
    {
     "name": "stdout",
     "output_type": "stream",
     "text": [
      "[12:28:19] WARNING: ../src/learner.cc:1095: Starting in XGBoost 1.3.0, the default evaluation metric used with the objective 'binary:logistic' was changed from 'error' to 'logloss'. Explicitly set eval_metric if you'd like to restore the old behavior.\n"
     ]
    },
    {
     "name": "stderr",
     "output_type": "stream",
     "text": [
      "/usr/local/lib/python3.8/dist-packages/xgboost/data.py:112: UserWarning: Use subset (sliced data) of np.ndarray is not recommended because it will generate extra copies and increase memory consumption\n",
      "  warnings.warn(\n",
      "/usr/local/lib/python3.8/dist-packages/xgboost/sklearn.py:1146: UserWarning: The use of label encoder in XGBClassifier is deprecated and will be removed in a future release. To remove this warning, do the following: 1) Pass option use_label_encoder=False when constructing XGBClassifier object; and 2) Encode your labels (y) as integers starting with 0, i.e. 0, 1, 2, ..., [num_class - 1].\n",
      "  warnings.warn(label_encoder_deprecation_msg, UserWarning)\n"
     ]
    },
    {
     "name": "stdout",
     "output_type": "stream",
     "text": [
      "[12:28:20] WARNING: ../src/learner.cc:1095: Starting in XGBoost 1.3.0, the default evaluation metric used with the objective 'binary:logistic' was changed from 'error' to 'logloss'. Explicitly set eval_metric if you'd like to restore the old behavior.\n"
     ]
    },
    {
     "name": "stderr",
     "output_type": "stream",
     "text": [
      "/usr/local/lib/python3.8/dist-packages/xgboost/data.py:112: UserWarning: Use subset (sliced data) of np.ndarray is not recommended because it will generate extra copies and increase memory consumption\n",
      "  warnings.warn(\n",
      "/usr/local/lib/python3.8/dist-packages/xgboost/sklearn.py:1146: UserWarning: The use of label encoder in XGBClassifier is deprecated and will be removed in a future release. To remove this warning, do the following: 1) Pass option use_label_encoder=False when constructing XGBClassifier object; and 2) Encode your labels (y) as integers starting with 0, i.e. 0, 1, 2, ..., [num_class - 1].\n",
      "  warnings.warn(label_encoder_deprecation_msg, UserWarning)\n"
     ]
    },
    {
     "name": "stdout",
     "output_type": "stream",
     "text": [
      "[12:28:21] WARNING: ../src/learner.cc:1095: Starting in XGBoost 1.3.0, the default evaluation metric used with the objective 'binary:logistic' was changed from 'error' to 'logloss'. Explicitly set eval_metric if you'd like to restore the old behavior.\n"
     ]
    },
    {
     "name": "stderr",
     "output_type": "stream",
     "text": [
      "/usr/local/lib/python3.8/dist-packages/xgboost/data.py:112: UserWarning: Use subset (sliced data) of np.ndarray is not recommended because it will generate extra copies and increase memory consumption\n",
      "  warnings.warn(\n",
      "/usr/local/lib/python3.8/dist-packages/xgboost/sklearn.py:1146: UserWarning: The use of label encoder in XGBClassifier is deprecated and will be removed in a future release. To remove this warning, do the following: 1) Pass option use_label_encoder=False when constructing XGBClassifier object; and 2) Encode your labels (y) as integers starting with 0, i.e. 0, 1, 2, ..., [num_class - 1].\n",
      "  warnings.warn(label_encoder_deprecation_msg, UserWarning)\n"
     ]
    },
    {
     "name": "stdout",
     "output_type": "stream",
     "text": [
      "[12:28:22] WARNING: ../src/learner.cc:1095: Starting in XGBoost 1.3.0, the default evaluation metric used with the objective 'binary:logistic' was changed from 'error' to 'logloss'. Explicitly set eval_metric if you'd like to restore the old behavior.\n"
     ]
    },
    {
     "name": "stderr",
     "output_type": "stream",
     "text": [
      "/usr/local/lib/python3.8/dist-packages/xgboost/data.py:112: UserWarning: Use subset (sliced data) of np.ndarray is not recommended because it will generate extra copies and increase memory consumption\n",
      "  warnings.warn(\n",
      "/usr/local/lib/python3.8/dist-packages/xgboost/sklearn.py:1146: UserWarning: The use of label encoder in XGBClassifier is deprecated and will be removed in a future release. To remove this warning, do the following: 1) Pass option use_label_encoder=False when constructing XGBClassifier object; and 2) Encode your labels (y) as integers starting with 0, i.e. 0, 1, 2, ..., [num_class - 1].\n",
      "  warnings.warn(label_encoder_deprecation_msg, UserWarning)\n"
     ]
    },
    {
     "name": "stdout",
     "output_type": "stream",
     "text": [
      "[12:28:22] WARNING: ../src/learner.cc:1095: Starting in XGBoost 1.3.0, the default evaluation metric used with the objective 'binary:logistic' was changed from 'error' to 'logloss'. Explicitly set eval_metric if you'd like to restore the old behavior.\n"
     ]
    },
    {
     "name": "stderr",
     "output_type": "stream",
     "text": [
      "/usr/local/lib/python3.8/dist-packages/xgboost/data.py:112: UserWarning: Use subset (sliced data) of np.ndarray is not recommended because it will generate extra copies and increase memory consumption\n",
      "  warnings.warn(\n",
      "/usr/local/lib/python3.8/dist-packages/xgboost/sklearn.py:1146: UserWarning: The use of label encoder in XGBClassifier is deprecated and will be removed in a future release. To remove this warning, do the following: 1) Pass option use_label_encoder=False when constructing XGBClassifier object; and 2) Encode your labels (y) as integers starting with 0, i.e. 0, 1, 2, ..., [num_class - 1].\n",
      "  warnings.warn(label_encoder_deprecation_msg, UserWarning)\n"
     ]
    },
    {
     "name": "stdout",
     "output_type": "stream",
     "text": [
      "[12:28:23] WARNING: ../src/learner.cc:1095: Starting in XGBoost 1.3.0, the default evaluation metric used with the objective 'binary:logistic' was changed from 'error' to 'logloss'. Explicitly set eval_metric if you'd like to restore the old behavior.\n"
     ]
    },
    {
     "name": "stderr",
     "output_type": "stream",
     "text": [
      "/usr/local/lib/python3.8/dist-packages/xgboost/data.py:112: UserWarning: Use subset (sliced data) of np.ndarray is not recommended because it will generate extra copies and increase memory consumption\n",
      "  warnings.warn(\n",
      "/usr/local/lib/python3.8/dist-packages/xgboost/sklearn.py:1146: UserWarning: The use of label encoder in XGBClassifier is deprecated and will be removed in a future release. To remove this warning, do the following: 1) Pass option use_label_encoder=False when constructing XGBClassifier object; and 2) Encode your labels (y) as integers starting with 0, i.e. 0, 1, 2, ..., [num_class - 1].\n",
      "  warnings.warn(label_encoder_deprecation_msg, UserWarning)\n"
     ]
    },
    {
     "name": "stdout",
     "output_type": "stream",
     "text": [
      "[12:28:23] WARNING: ../src/learner.cc:1095: Starting in XGBoost 1.3.0, the default evaluation metric used with the objective 'binary:logistic' was changed from 'error' to 'logloss'. Explicitly set eval_metric if you'd like to restore the old behavior.\n"
     ]
    },
    {
     "name": "stderr",
     "output_type": "stream",
     "text": [
      "/usr/local/lib/python3.8/dist-packages/xgboost/data.py:112: UserWarning: Use subset (sliced data) of np.ndarray is not recommended because it will generate extra copies and increase memory consumption\n",
      "  warnings.warn(\n",
      "/usr/local/lib/python3.8/dist-packages/xgboost/sklearn.py:1146: UserWarning: The use of label encoder in XGBClassifier is deprecated and will be removed in a future release. To remove this warning, do the following: 1) Pass option use_label_encoder=False when constructing XGBClassifier object; and 2) Encode your labels (y) as integers starting with 0, i.e. 0, 1, 2, ..., [num_class - 1].\n",
      "  warnings.warn(label_encoder_deprecation_msg, UserWarning)\n"
     ]
    },
    {
     "name": "stdout",
     "output_type": "stream",
     "text": [
      "[12:28:23] WARNING: ../src/learner.cc:1095: Starting in XGBoost 1.3.0, the default evaluation metric used with the objective 'binary:logistic' was changed from 'error' to 'logloss'. Explicitly set eval_metric if you'd like to restore the old behavior.\n"
     ]
    },
    {
     "name": "stderr",
     "output_type": "stream",
     "text": [
      "/usr/local/lib/python3.8/dist-packages/xgboost/data.py:112: UserWarning: Use subset (sliced data) of np.ndarray is not recommended because it will generate extra copies and increase memory consumption\n",
      "  warnings.warn(\n",
      "/usr/local/lib/python3.8/dist-packages/xgboost/sklearn.py:1146: UserWarning: The use of label encoder in XGBClassifier is deprecated and will be removed in a future release. To remove this warning, do the following: 1) Pass option use_label_encoder=False when constructing XGBClassifier object; and 2) Encode your labels (y) as integers starting with 0, i.e. 0, 1, 2, ..., [num_class - 1].\n",
      "  warnings.warn(label_encoder_deprecation_msg, UserWarning)\n"
     ]
    },
    {
     "name": "stdout",
     "output_type": "stream",
     "text": [
      "[12:28:24] WARNING: ../src/learner.cc:1095: Starting in XGBoost 1.3.0, the default evaluation metric used with the objective 'binary:logistic' was changed from 'error' to 'logloss'. Explicitly set eval_metric if you'd like to restore the old behavior.\n"
     ]
    },
    {
     "name": "stderr",
     "output_type": "stream",
     "text": [
      "/usr/local/lib/python3.8/dist-packages/xgboost/data.py:112: UserWarning: Use subset (sliced data) of np.ndarray is not recommended because it will generate extra copies and increase memory consumption\n",
      "  warnings.warn(\n",
      "/usr/local/lib/python3.8/dist-packages/xgboost/sklearn.py:1146: UserWarning: The use of label encoder in XGBClassifier is deprecated and will be removed in a future release. To remove this warning, do the following: 1) Pass option use_label_encoder=False when constructing XGBClassifier object; and 2) Encode your labels (y) as integers starting with 0, i.e. 0, 1, 2, ..., [num_class - 1].\n",
      "  warnings.warn(label_encoder_deprecation_msg, UserWarning)\n"
     ]
    },
    {
     "name": "stdout",
     "output_type": "stream",
     "text": [
      "[12:28:25] WARNING: ../src/learner.cc:1095: Starting in XGBoost 1.3.0, the default evaluation metric used with the objective 'binary:logistic' was changed from 'error' to 'logloss'. Explicitly set eval_metric if you'd like to restore the old behavior.\n"
     ]
    },
    {
     "name": "stderr",
     "output_type": "stream",
     "text": [
      "/usr/local/lib/python3.8/dist-packages/xgboost/data.py:112: UserWarning: Use subset (sliced data) of np.ndarray is not recommended because it will generate extra copies and increase memory consumption\n",
      "  warnings.warn(\n",
      "/usr/local/lib/python3.8/dist-packages/xgboost/sklearn.py:1146: UserWarning: The use of label encoder in XGBClassifier is deprecated and will be removed in a future release. To remove this warning, do the following: 1) Pass option use_label_encoder=False when constructing XGBClassifier object; and 2) Encode your labels (y) as integers starting with 0, i.e. 0, 1, 2, ..., [num_class - 1].\n",
      "  warnings.warn(label_encoder_deprecation_msg, UserWarning)\n"
     ]
    },
    {
     "name": "stdout",
     "output_type": "stream",
     "text": [
      "[12:28:25] WARNING: ../src/learner.cc:1095: Starting in XGBoost 1.3.0, the default evaluation metric used with the objective 'binary:logistic' was changed from 'error' to 'logloss'. Explicitly set eval_metric if you'd like to restore the old behavior.\n"
     ]
    },
    {
     "name": "stderr",
     "output_type": "stream",
     "text": [
      "/usr/local/lib/python3.8/dist-packages/xgboost/data.py:112: UserWarning: Use subset (sliced data) of np.ndarray is not recommended because it will generate extra copies and increase memory consumption\n",
      "  warnings.warn(\n",
      "/usr/local/lib/python3.8/dist-packages/xgboost/sklearn.py:1146: UserWarning: The use of label encoder in XGBClassifier is deprecated and will be removed in a future release. To remove this warning, do the following: 1) Pass option use_label_encoder=False when constructing XGBClassifier object; and 2) Encode your labels (y) as integers starting with 0, i.e. 0, 1, 2, ..., [num_class - 1].\n",
      "  warnings.warn(label_encoder_deprecation_msg, UserWarning)\n"
     ]
    },
    {
     "name": "stdout",
     "output_type": "stream",
     "text": [
      "[12:28:26] WARNING: ../src/learner.cc:1095: Starting in XGBoost 1.3.0, the default evaluation metric used with the objective 'binary:logistic' was changed from 'error' to 'logloss'. Explicitly set eval_metric if you'd like to restore the old behavior.\n"
     ]
    },
    {
     "name": "stderr",
     "output_type": "stream",
     "text": [
      "/usr/local/lib/python3.8/dist-packages/xgboost/data.py:112: UserWarning: Use subset (sliced data) of np.ndarray is not recommended because it will generate extra copies and increase memory consumption\n",
      "  warnings.warn(\n",
      "/usr/local/lib/python3.8/dist-packages/xgboost/sklearn.py:1146: UserWarning: The use of label encoder in XGBClassifier is deprecated and will be removed in a future release. To remove this warning, do the following: 1) Pass option use_label_encoder=False when constructing XGBClassifier object; and 2) Encode your labels (y) as integers starting with 0, i.e. 0, 1, 2, ..., [num_class - 1].\n",
      "  warnings.warn(label_encoder_deprecation_msg, UserWarning)\n"
     ]
    },
    {
     "name": "stdout",
     "output_type": "stream",
     "text": [
      "[12:28:26] WARNING: ../src/learner.cc:1095: Starting in XGBoost 1.3.0, the default evaluation metric used with the objective 'binary:logistic' was changed from 'error' to 'logloss'. Explicitly set eval_metric if you'd like to restore the old behavior.\n"
     ]
    },
    {
     "name": "stderr",
     "output_type": "stream",
     "text": [
      "/usr/local/lib/python3.8/dist-packages/xgboost/data.py:112: UserWarning: Use subset (sliced data) of np.ndarray is not recommended because it will generate extra copies and increase memory consumption\n",
      "  warnings.warn(\n",
      "/usr/local/lib/python3.8/dist-packages/xgboost/sklearn.py:1146: UserWarning: The use of label encoder in XGBClassifier is deprecated and will be removed in a future release. To remove this warning, do the following: 1) Pass option use_label_encoder=False when constructing XGBClassifier object; and 2) Encode your labels (y) as integers starting with 0, i.e. 0, 1, 2, ..., [num_class - 1].\n",
      "  warnings.warn(label_encoder_deprecation_msg, UserWarning)\n"
     ]
    },
    {
     "name": "stdout",
     "output_type": "stream",
     "text": [
      "[12:28:27] WARNING: ../src/learner.cc:1095: Starting in XGBoost 1.3.0, the default evaluation metric used with the objective 'binary:logistic' was changed from 'error' to 'logloss'. Explicitly set eval_metric if you'd like to restore the old behavior.\n"
     ]
    },
    {
     "name": "stderr",
     "output_type": "stream",
     "text": [
      "/usr/local/lib/python3.8/dist-packages/xgboost/data.py:112: UserWarning: Use subset (sliced data) of np.ndarray is not recommended because it will generate extra copies and increase memory consumption\n",
      "  warnings.warn(\n",
      "/usr/local/lib/python3.8/dist-packages/xgboost/sklearn.py:1146: UserWarning: The use of label encoder in XGBClassifier is deprecated and will be removed in a future release. To remove this warning, do the following: 1) Pass option use_label_encoder=False when constructing XGBClassifier object; and 2) Encode your labels (y) as integers starting with 0, i.e. 0, 1, 2, ..., [num_class - 1].\n",
      "  warnings.warn(label_encoder_deprecation_msg, UserWarning)\n"
     ]
    },
    {
     "name": "stdout",
     "output_type": "stream",
     "text": [
      "[12:28:28] WARNING: ../src/learner.cc:1095: Starting in XGBoost 1.3.0, the default evaluation metric used with the objective 'binary:logistic' was changed from 'error' to 'logloss'. Explicitly set eval_metric if you'd like to restore the old behavior.\n"
     ]
    },
    {
     "name": "stderr",
     "output_type": "stream",
     "text": [
      "/usr/local/lib/python3.8/dist-packages/xgboost/data.py:112: UserWarning: Use subset (sliced data) of np.ndarray is not recommended because it will generate extra copies and increase memory consumption\n",
      "  warnings.warn(\n",
      "/usr/local/lib/python3.8/dist-packages/xgboost/sklearn.py:1146: UserWarning: The use of label encoder in XGBClassifier is deprecated and will be removed in a future release. To remove this warning, do the following: 1) Pass option use_label_encoder=False when constructing XGBClassifier object; and 2) Encode your labels (y) as integers starting with 0, i.e. 0, 1, 2, ..., [num_class - 1].\n",
      "  warnings.warn(label_encoder_deprecation_msg, UserWarning)\n"
     ]
    },
    {
     "name": "stdout",
     "output_type": "stream",
     "text": [
      "[12:28:28] WARNING: ../src/learner.cc:1095: Starting in XGBoost 1.3.0, the default evaluation metric used with the objective 'binary:logistic' was changed from 'error' to 'logloss'. Explicitly set eval_metric if you'd like to restore the old behavior.\n"
     ]
    },
    {
     "name": "stderr",
     "output_type": "stream",
     "text": [
      "/usr/local/lib/python3.8/dist-packages/xgboost/data.py:112: UserWarning: Use subset (sliced data) of np.ndarray is not recommended because it will generate extra copies and increase memory consumption\n",
      "  warnings.warn(\n",
      "/usr/local/lib/python3.8/dist-packages/xgboost/sklearn.py:1146: UserWarning: The use of label encoder in XGBClassifier is deprecated and will be removed in a future release. To remove this warning, do the following: 1) Pass option use_label_encoder=False when constructing XGBClassifier object; and 2) Encode your labels (y) as integers starting with 0, i.e. 0, 1, 2, ..., [num_class - 1].\n",
      "  warnings.warn(label_encoder_deprecation_msg, UserWarning)\n"
     ]
    },
    {
     "name": "stdout",
     "output_type": "stream",
     "text": [
      "[12:28:29] WARNING: ../src/learner.cc:1095: Starting in XGBoost 1.3.0, the default evaluation metric used with the objective 'binary:logistic' was changed from 'error' to 'logloss'. Explicitly set eval_metric if you'd like to restore the old behavior.\n"
     ]
    },
    {
     "name": "stderr",
     "output_type": "stream",
     "text": [
      "/usr/local/lib/python3.8/dist-packages/xgboost/data.py:112: UserWarning: Use subset (sliced data) of np.ndarray is not recommended because it will generate extra copies and increase memory consumption\n",
      "  warnings.warn(\n",
      "/usr/local/lib/python3.8/dist-packages/xgboost/sklearn.py:1146: UserWarning: The use of label encoder in XGBClassifier is deprecated and will be removed in a future release. To remove this warning, do the following: 1) Pass option use_label_encoder=False when constructing XGBClassifier object; and 2) Encode your labels (y) as integers starting with 0, i.e. 0, 1, 2, ..., [num_class - 1].\n",
      "  warnings.warn(label_encoder_deprecation_msg, UserWarning)\n"
     ]
    },
    {
     "name": "stdout",
     "output_type": "stream",
     "text": [
      "[12:28:30] WARNING: ../src/learner.cc:1095: Starting in XGBoost 1.3.0, the default evaluation metric used with the objective 'binary:logistic' was changed from 'error' to 'logloss'. Explicitly set eval_metric if you'd like to restore the old behavior.\n"
     ]
    },
    {
     "name": "stderr",
     "output_type": "stream",
     "text": [
      "/usr/local/lib/python3.8/dist-packages/xgboost/data.py:112: UserWarning: Use subset (sliced data) of np.ndarray is not recommended because it will generate extra copies and increase memory consumption\n",
      "  warnings.warn(\n",
      "/usr/local/lib/python3.8/dist-packages/xgboost/sklearn.py:1146: UserWarning: The use of label encoder in XGBClassifier is deprecated and will be removed in a future release. To remove this warning, do the following: 1) Pass option use_label_encoder=False when constructing XGBClassifier object; and 2) Encode your labels (y) as integers starting with 0, i.e. 0, 1, 2, ..., [num_class - 1].\n",
      "  warnings.warn(label_encoder_deprecation_msg, UserWarning)\n"
     ]
    },
    {
     "name": "stdout",
     "output_type": "stream",
     "text": [
      "[12:28:30] WARNING: ../src/learner.cc:1095: Starting in XGBoost 1.3.0, the default evaluation metric used with the objective 'binary:logistic' was changed from 'error' to 'logloss'. Explicitly set eval_metric if you'd like to restore the old behavior.\n"
     ]
    },
    {
     "name": "stderr",
     "output_type": "stream",
     "text": [
      "/usr/local/lib/python3.8/dist-packages/xgboost/data.py:112: UserWarning: Use subset (sliced data) of np.ndarray is not recommended because it will generate extra copies and increase memory consumption\n",
      "  warnings.warn(\n",
      "/usr/local/lib/python3.8/dist-packages/xgboost/sklearn.py:1146: UserWarning: The use of label encoder in XGBClassifier is deprecated and will be removed in a future release. To remove this warning, do the following: 1) Pass option use_label_encoder=False when constructing XGBClassifier object; and 2) Encode your labels (y) as integers starting with 0, i.e. 0, 1, 2, ..., [num_class - 1].\n",
      "  warnings.warn(label_encoder_deprecation_msg, UserWarning)\n"
     ]
    },
    {
     "name": "stdout",
     "output_type": "stream",
     "text": [
      "[12:28:31] WARNING: ../src/learner.cc:1095: Starting in XGBoost 1.3.0, the default evaluation metric used with the objective 'binary:logistic' was changed from 'error' to 'logloss'. Explicitly set eval_metric if you'd like to restore the old behavior.\n"
     ]
    },
    {
     "name": "stderr",
     "output_type": "stream",
     "text": [
      "/usr/local/lib/python3.8/dist-packages/xgboost/data.py:112: UserWarning: Use subset (sliced data) of np.ndarray is not recommended because it will generate extra copies and increase memory consumption\n",
      "  warnings.warn(\n",
      "/usr/local/lib/python3.8/dist-packages/xgboost/sklearn.py:1146: UserWarning: The use of label encoder in XGBClassifier is deprecated and will be removed in a future release. To remove this warning, do the following: 1) Pass option use_label_encoder=False when constructing XGBClassifier object; and 2) Encode your labels (y) as integers starting with 0, i.e. 0, 1, 2, ..., [num_class - 1].\n",
      "  warnings.warn(label_encoder_deprecation_msg, UserWarning)\n"
     ]
    },
    {
     "name": "stdout",
     "output_type": "stream",
     "text": [
      "[12:28:32] WARNING: ../src/learner.cc:1095: Starting in XGBoost 1.3.0, the default evaluation metric used with the objective 'binary:logistic' was changed from 'error' to 'logloss'. Explicitly set eval_metric if you'd like to restore the old behavior.\n"
     ]
    },
    {
     "name": "stderr",
     "output_type": "stream",
     "text": [
      "/usr/local/lib/python3.8/dist-packages/xgboost/data.py:112: UserWarning: Use subset (sliced data) of np.ndarray is not recommended because it will generate extra copies and increase memory consumption\n",
      "  warnings.warn(\n",
      "/usr/local/lib/python3.8/dist-packages/xgboost/sklearn.py:1146: UserWarning: The use of label encoder in XGBClassifier is deprecated and will be removed in a future release. To remove this warning, do the following: 1) Pass option use_label_encoder=False when constructing XGBClassifier object; and 2) Encode your labels (y) as integers starting with 0, i.e. 0, 1, 2, ..., [num_class - 1].\n",
      "  warnings.warn(label_encoder_deprecation_msg, UserWarning)\n"
     ]
    },
    {
     "name": "stdout",
     "output_type": "stream",
     "text": [
      "[12:28:33] WARNING: ../src/learner.cc:1095: Starting in XGBoost 1.3.0, the default evaluation metric used with the objective 'binary:logistic' was changed from 'error' to 'logloss'. Explicitly set eval_metric if you'd like to restore the old behavior.\n"
     ]
    },
    {
     "name": "stderr",
     "output_type": "stream",
     "text": [
      "/usr/local/lib/python3.8/dist-packages/xgboost/data.py:112: UserWarning: Use subset (sliced data) of np.ndarray is not recommended because it will generate extra copies and increase memory consumption\n",
      "  warnings.warn(\n",
      "/usr/local/lib/python3.8/dist-packages/xgboost/sklearn.py:1146: UserWarning: The use of label encoder in XGBClassifier is deprecated and will be removed in a future release. To remove this warning, do the following: 1) Pass option use_label_encoder=False when constructing XGBClassifier object; and 2) Encode your labels (y) as integers starting with 0, i.e. 0, 1, 2, ..., [num_class - 1].\n",
      "  warnings.warn(label_encoder_deprecation_msg, UserWarning)\n"
     ]
    },
    {
     "name": "stdout",
     "output_type": "stream",
     "text": [
      "[12:28:33] WARNING: ../src/learner.cc:1095: Starting in XGBoost 1.3.0, the default evaluation metric used with the objective 'binary:logistic' was changed from 'error' to 'logloss'. Explicitly set eval_metric if you'd like to restore the old behavior.\n"
     ]
    },
    {
     "name": "stderr",
     "output_type": "stream",
     "text": [
      "/usr/local/lib/python3.8/dist-packages/xgboost/data.py:112: UserWarning: Use subset (sliced data) of np.ndarray is not recommended because it will generate extra copies and increase memory consumption\n",
      "  warnings.warn(\n",
      "/usr/local/lib/python3.8/dist-packages/xgboost/sklearn.py:1146: UserWarning: The use of label encoder in XGBClassifier is deprecated and will be removed in a future release. To remove this warning, do the following: 1) Pass option use_label_encoder=False when constructing XGBClassifier object; and 2) Encode your labels (y) as integers starting with 0, i.e. 0, 1, 2, ..., [num_class - 1].\n",
      "  warnings.warn(label_encoder_deprecation_msg, UserWarning)\n"
     ]
    },
    {
     "name": "stdout",
     "output_type": "stream",
     "text": [
      "[12:28:34] WARNING: ../src/learner.cc:1095: Starting in XGBoost 1.3.0, the default evaluation metric used with the objective 'binary:logistic' was changed from 'error' to 'logloss'. Explicitly set eval_metric if you'd like to restore the old behavior.\n"
     ]
    },
    {
     "name": "stderr",
     "output_type": "stream",
     "text": [
      "/usr/local/lib/python3.8/dist-packages/xgboost/data.py:112: UserWarning: Use subset (sliced data) of np.ndarray is not recommended because it will generate extra copies and increase memory consumption\n",
      "  warnings.warn(\n",
      "/usr/local/lib/python3.8/dist-packages/xgboost/sklearn.py:1146: UserWarning: The use of label encoder in XGBClassifier is deprecated and will be removed in a future release. To remove this warning, do the following: 1) Pass option use_label_encoder=False when constructing XGBClassifier object; and 2) Encode your labels (y) as integers starting with 0, i.e. 0, 1, 2, ..., [num_class - 1].\n",
      "  warnings.warn(label_encoder_deprecation_msg, UserWarning)\n"
     ]
    },
    {
     "name": "stdout",
     "output_type": "stream",
     "text": [
      "[12:28:35] WARNING: ../src/learner.cc:1095: Starting in XGBoost 1.3.0, the default evaluation metric used with the objective 'binary:logistic' was changed from 'error' to 'logloss'. Explicitly set eval_metric if you'd like to restore the old behavior.\n"
     ]
    },
    {
     "name": "stderr",
     "output_type": "stream",
     "text": [
      "/usr/local/lib/python3.8/dist-packages/xgboost/data.py:112: UserWarning: Use subset (sliced data) of np.ndarray is not recommended because it will generate extra copies and increase memory consumption\n",
      "  warnings.warn(\n",
      "/usr/local/lib/python3.8/dist-packages/xgboost/sklearn.py:1146: UserWarning: The use of label encoder in XGBClassifier is deprecated and will be removed in a future release. To remove this warning, do the following: 1) Pass option use_label_encoder=False when constructing XGBClassifier object; and 2) Encode your labels (y) as integers starting with 0, i.e. 0, 1, 2, ..., [num_class - 1].\n",
      "  warnings.warn(label_encoder_deprecation_msg, UserWarning)\n"
     ]
    },
    {
     "name": "stdout",
     "output_type": "stream",
     "text": [
      "[12:28:36] WARNING: ../src/learner.cc:1095: Starting in XGBoost 1.3.0, the default evaluation metric used with the objective 'binary:logistic' was changed from 'error' to 'logloss'. Explicitly set eval_metric if you'd like to restore the old behavior.\n"
     ]
    },
    {
     "name": "stderr",
     "output_type": "stream",
     "text": [
      "/usr/local/lib/python3.8/dist-packages/xgboost/data.py:112: UserWarning: Use subset (sliced data) of np.ndarray is not recommended because it will generate extra copies and increase memory consumption\n",
      "  warnings.warn(\n",
      "/usr/local/lib/python3.8/dist-packages/xgboost/sklearn.py:1146: UserWarning: The use of label encoder in XGBClassifier is deprecated and will be removed in a future release. To remove this warning, do the following: 1) Pass option use_label_encoder=False when constructing XGBClassifier object; and 2) Encode your labels (y) as integers starting with 0, i.e. 0, 1, 2, ..., [num_class - 1].\n",
      "  warnings.warn(label_encoder_deprecation_msg, UserWarning)\n"
     ]
    },
    {
     "name": "stdout",
     "output_type": "stream",
     "text": [
      "[12:28:37] WARNING: ../src/learner.cc:1095: Starting in XGBoost 1.3.0, the default evaluation metric used with the objective 'binary:logistic' was changed from 'error' to 'logloss'. Explicitly set eval_metric if you'd like to restore the old behavior.\n"
     ]
    },
    {
     "name": "stderr",
     "output_type": "stream",
     "text": [
      "/usr/local/lib/python3.8/dist-packages/xgboost/data.py:112: UserWarning: Use subset (sliced data) of np.ndarray is not recommended because it will generate extra copies and increase memory consumption\n",
      "  warnings.warn(\n",
      "/usr/local/lib/python3.8/dist-packages/xgboost/sklearn.py:1146: UserWarning: The use of label encoder in XGBClassifier is deprecated and will be removed in a future release. To remove this warning, do the following: 1) Pass option use_label_encoder=False when constructing XGBClassifier object; and 2) Encode your labels (y) as integers starting with 0, i.e. 0, 1, 2, ..., [num_class - 1].\n",
      "  warnings.warn(label_encoder_deprecation_msg, UserWarning)\n"
     ]
    },
    {
     "name": "stdout",
     "output_type": "stream",
     "text": [
      "[12:28:38] WARNING: ../src/learner.cc:1095: Starting in XGBoost 1.3.0, the default evaluation metric used with the objective 'binary:logistic' was changed from 'error' to 'logloss'. Explicitly set eval_metric if you'd like to restore the old behavior.\n"
     ]
    },
    {
     "name": "stderr",
     "output_type": "stream",
     "text": [
      "/usr/local/lib/python3.8/dist-packages/xgboost/data.py:112: UserWarning: Use subset (sliced data) of np.ndarray is not recommended because it will generate extra copies and increase memory consumption\n",
      "  warnings.warn(\n",
      "/usr/local/lib/python3.8/dist-packages/xgboost/sklearn.py:1146: UserWarning: The use of label encoder in XGBClassifier is deprecated and will be removed in a future release. To remove this warning, do the following: 1) Pass option use_label_encoder=False when constructing XGBClassifier object; and 2) Encode your labels (y) as integers starting with 0, i.e. 0, 1, 2, ..., [num_class - 1].\n",
      "  warnings.warn(label_encoder_deprecation_msg, UserWarning)\n"
     ]
    },
    {
     "name": "stdout",
     "output_type": "stream",
     "text": [
      "[12:28:39] WARNING: ../src/learner.cc:1095: Starting in XGBoost 1.3.0, the default evaluation metric used with the objective 'binary:logistic' was changed from 'error' to 'logloss'. Explicitly set eval_metric if you'd like to restore the old behavior.\n"
     ]
    },
    {
     "name": "stderr",
     "output_type": "stream",
     "text": [
      "/usr/local/lib/python3.8/dist-packages/xgboost/data.py:112: UserWarning: Use subset (sliced data) of np.ndarray is not recommended because it will generate extra copies and increase memory consumption\n",
      "  warnings.warn(\n",
      "/usr/local/lib/python3.8/dist-packages/xgboost/sklearn.py:1146: UserWarning: The use of label encoder in XGBClassifier is deprecated and will be removed in a future release. To remove this warning, do the following: 1) Pass option use_label_encoder=False when constructing XGBClassifier object; and 2) Encode your labels (y) as integers starting with 0, i.e. 0, 1, 2, ..., [num_class - 1].\n",
      "  warnings.warn(label_encoder_deprecation_msg, UserWarning)\n"
     ]
    },
    {
     "name": "stdout",
     "output_type": "stream",
     "text": [
      "[12:28:40] WARNING: ../src/learner.cc:1095: Starting in XGBoost 1.3.0, the default evaluation metric used with the objective 'binary:logistic' was changed from 'error' to 'logloss'. Explicitly set eval_metric if you'd like to restore the old behavior.\n"
     ]
    },
    {
     "name": "stderr",
     "output_type": "stream",
     "text": [
      "/usr/local/lib/python3.8/dist-packages/xgboost/data.py:112: UserWarning: Use subset (sliced data) of np.ndarray is not recommended because it will generate extra copies and increase memory consumption\n",
      "  warnings.warn(\n",
      "/usr/local/lib/python3.8/dist-packages/xgboost/sklearn.py:1146: UserWarning: The use of label encoder in XGBClassifier is deprecated and will be removed in a future release. To remove this warning, do the following: 1) Pass option use_label_encoder=False when constructing XGBClassifier object; and 2) Encode your labels (y) as integers starting with 0, i.e. 0, 1, 2, ..., [num_class - 1].\n",
      "  warnings.warn(label_encoder_deprecation_msg, UserWarning)\n"
     ]
    },
    {
     "name": "stdout",
     "output_type": "stream",
     "text": [
      "[12:28:41] WARNING: ../src/learner.cc:1095: Starting in XGBoost 1.3.0, the default evaluation metric used with the objective 'binary:logistic' was changed from 'error' to 'logloss'. Explicitly set eval_metric if you'd like to restore the old behavior.\n"
     ]
    },
    {
     "name": "stderr",
     "output_type": "stream",
     "text": [
      "/usr/local/lib/python3.8/dist-packages/xgboost/data.py:112: UserWarning: Use subset (sliced data) of np.ndarray is not recommended because it will generate extra copies and increase memory consumption\n",
      "  warnings.warn(\n",
      "/usr/local/lib/python3.8/dist-packages/xgboost/sklearn.py:1146: UserWarning: The use of label encoder in XGBClassifier is deprecated and will be removed in a future release. To remove this warning, do the following: 1) Pass option use_label_encoder=False when constructing XGBClassifier object; and 2) Encode your labels (y) as integers starting with 0, i.e. 0, 1, 2, ..., [num_class - 1].\n",
      "  warnings.warn(label_encoder_deprecation_msg, UserWarning)\n"
     ]
    },
    {
     "name": "stdout",
     "output_type": "stream",
     "text": [
      "[12:28:42] WARNING: ../src/learner.cc:1095: Starting in XGBoost 1.3.0, the default evaluation metric used with the objective 'binary:logistic' was changed from 'error' to 'logloss'. Explicitly set eval_metric if you'd like to restore the old behavior.\n"
     ]
    },
    {
     "name": "stderr",
     "output_type": "stream",
     "text": [
      "/usr/local/lib/python3.8/dist-packages/xgboost/data.py:112: UserWarning: Use subset (sliced data) of np.ndarray is not recommended because it will generate extra copies and increase memory consumption\n",
      "  warnings.warn(\n",
      "/usr/local/lib/python3.8/dist-packages/xgboost/sklearn.py:1146: UserWarning: The use of label encoder in XGBClassifier is deprecated and will be removed in a future release. To remove this warning, do the following: 1) Pass option use_label_encoder=False when constructing XGBClassifier object; and 2) Encode your labels (y) as integers starting with 0, i.e. 0, 1, 2, ..., [num_class - 1].\n",
      "  warnings.warn(label_encoder_deprecation_msg, UserWarning)\n"
     ]
    },
    {
     "name": "stdout",
     "output_type": "stream",
     "text": [
      "[12:28:43] WARNING: ../src/learner.cc:1095: Starting in XGBoost 1.3.0, the default evaluation metric used with the objective 'binary:logistic' was changed from 'error' to 'logloss'. Explicitly set eval_metric if you'd like to restore the old behavior.\n",
      "CPU times: user 5min 45s, sys: 18.5 s, total: 6min 3s\n",
      "Wall time: 1min 42s\n"
     ]
    },
    {
     "data": {
      "text/plain": [
       "GridSearchCV(cv=5,\n",
       "             estimator=XGBClassifier(base_score=None, booster=None,\n",
       "                                     colsample_bylevel=None,\n",
       "                                     colsample_bynode=None,\n",
       "                                     colsample_bytree=None, gamma=None,\n",
       "                                     gpu_id=None, importance_type='gain',\n",
       "                                     interaction_constraints=None,\n",
       "                                     learning_rate=None, max_delta_step=None,\n",
       "                                     max_depth=None, min_child_weight=None,\n",
       "                                     missing=nan, monotone_constraints=None,\n",
       "                                     n_estimators=100, n_jobs=None,\n",
       "                                     num_parallel_tree=None, random_state=None,\n",
       "                                     reg_alpha=None, reg_lambda=None,\n",
       "                                     scale_pos_weight=None, subsample=None,\n",
       "                                     tree_method=None, validate_parameters=None,\n",
       "                                     verbosity=None),\n",
       "             param_grid={'max_depth': [3, 4, 5, 6],\n",
       "                         'n_estimators': [4, 5, 6, 7, 8, 9]},\n",
       "             scoring='roc_auc')"
      ]
     },
     "execution_count": 164,
     "metadata": {},
     "output_type": "execute_result"
    }
   ],
   "source": [
    "%%time\n",
    "\n",
    "\n",
    "cv_xgb = GridSearchCV(clf_xgb, param_grid_xgb, cv = 5, scoring = 'roc_auc')\n",
    "cv_xgb.fit(Xs.iloc[train_index], df['DEFAULT'].iloc[train_index])"
   ]
  },
  {
   "cell_type": "code",
   "execution_count": 165,
   "id": "7b8d4b57",
   "metadata": {},
   "outputs": [
    {
     "name": "stdout",
     "output_type": "stream",
     "text": [
      "{'max_depth': 6, 'n_estimators': 9}\n",
      "0.7777991904781812\n"
     ]
    }
   ],
   "source": [
    "print(cv_xgb.best_params_)\n",
    "print(cv_xgb.best_score_)"
   ]
  },
  {
   "cell_type": "code",
   "execution_count": 166,
   "id": "c5131291",
   "metadata": {},
   "outputs": [
    {
     "name": "stdout",
     "output_type": "stream",
     "text": [
      "CPU times: user 3.36 s, sys: 147 ms, total: 3.51 s\n",
      "Wall time: 919 ms\n"
     ]
    }
   ],
   "source": [
    "%%time\n",
    "\n",
    "\n",
    "model_xgb = xgb.XGBClassifier(max_depth = cv_xgb.best_params_['max_depth'], n_estimators = cv_xgb.best_params_['n_estimators'], random_state = 1234, use_label_encoder = False, objective = 'binary:logistic').fit(np.array(Xs.iloc[train_index]), np.array(df['DEFAULT'].iloc[train_index]), eval_metric='logloss')\n",
    "#model_xgb = xgb.XGBClassifier(random_state = 1234, n_estimators = 5, use_label_encoder = False, objective = 'binary:logistic').fit(np.array(Xs.iloc[train_index]), np.array(df['DEFAULT'].iloc[train_index]), eval_metric='logloss')"
   ]
  },
  {
   "cell_type": "code",
   "execution_count": 167,
   "id": "64cec868",
   "metadata": {},
   "outputs": [],
   "source": [
    "#help(xgb.XGBClassifier)"
   ]
  },
  {
   "cell_type": "code",
   "execution_count": 115,
   "id": "4e90cb1b",
   "metadata": {},
   "outputs": [
    {
     "name": "stdout",
     "output_type": "stream",
     "text": [
      "Making sure order of categorical response is correct, expect [0: no, 1: default]\n",
      "[0 1]\n"
     ]
    }
   ],
   "source": [
    "print(\"Making sure order of categorical response is correct, expect [0: no, 1: default]\")\n",
    "print(model_xgb.classes_)"
   ]
  },
  {
   "cell_type": "code",
   "execution_count": 168,
   "id": "0c0cc099",
   "metadata": {},
   "outputs": [
    {
     "name": "stderr",
     "output_type": "stream",
     "text": [
      "/usr/local/lib/python3.8/dist-packages/xgboost/data.py:112: UserWarning: Use subset (sliced data) of np.ndarray is not recommended because it will generate extra copies and increase memory consumption\n",
      "  warnings.warn(\n"
     ]
    },
    {
     "data": {
      "text/html": [
       "<div>\n",
       "<style scoped>\n",
       "    .dataframe tbody tr th:only-of-type {\n",
       "        vertical-align: middle;\n",
       "    }\n",
       "\n",
       "    .dataframe tbody tr th {\n",
       "        vertical-align: top;\n",
       "    }\n",
       "\n",
       "    .dataframe thead th {\n",
       "        text-align: right;\n",
       "    }\n",
       "</style>\n",
       "<table border=\"1\" class=\"dataframe\">\n",
       "  <thead>\n",
       "    <tr style=\"text-align: right;\">\n",
       "      <th></th>\n",
       "      <th>ID</th>\n",
       "      <th>DEFAULT</th>\n",
       "      <th>predicted_prob_lr</th>\n",
       "      <th>predicted_prob_rf</th>\n",
       "      <th>predicted_prob_xgb</th>\n",
       "      <th>predicted_prob_nn</th>\n",
       "    </tr>\n",
       "  </thead>\n",
       "  <tbody>\n",
       "    <tr>\n",
       "      <th>0</th>\n",
       "      <td>1</td>\n",
       "      <td>1</td>\n",
       "      <td>0.630370</td>\n",
       "      <td>0.614973</td>\n",
       "      <td>0.676574</td>\n",
       "      <td>0.638063</td>\n",
       "    </tr>\n",
       "    <tr>\n",
       "      <th>1</th>\n",
       "      <td>2</td>\n",
       "      <td>1</td>\n",
       "      <td>0.162715</td>\n",
       "      <td>0.32</td>\n",
       "      <td>0.453784</td>\n",
       "      <td>0.283493</td>\n",
       "    </tr>\n",
       "    <tr>\n",
       "      <th>2</th>\n",
       "      <td>3</td>\n",
       "      <td>0</td>\n",
       "      <td>0.198494</td>\n",
       "      <td>0.113636</td>\n",
       "      <td>0.144193</td>\n",
       "      <td>0.120789</td>\n",
       "    </tr>\n",
       "    <tr>\n",
       "      <th>3</th>\n",
       "      <td>4</td>\n",
       "      <td>0</td>\n",
       "      <td>0.235322</td>\n",
       "      <td>0.180233</td>\n",
       "      <td>0.178516</td>\n",
       "      <td>0.180855</td>\n",
       "    </tr>\n",
       "    <tr>\n",
       "      <th>4</th>\n",
       "      <td>5</td>\n",
       "      <td>0</td>\n",
       "      <td>0.093034</td>\n",
       "      <td>0.094059</td>\n",
       "      <td>0.07559</td>\n",
       "      <td>0.088423</td>\n",
       "    </tr>\n",
       "    <tr>\n",
       "      <th>...</th>\n",
       "      <td>...</td>\n",
       "      <td>...</td>\n",
       "      <td>...</td>\n",
       "      <td>...</td>\n",
       "      <td>...</td>\n",
       "      <td>...</td>\n",
       "    </tr>\n",
       "    <tr>\n",
       "      <th>29995</th>\n",
       "      <td>29996</td>\n",
       "      <td>0</td>\n",
       "      <td>0.165336</td>\n",
       "      <td>0.122905</td>\n",
       "      <td>0.15629</td>\n",
       "      <td>0.108045</td>\n",
       "    </tr>\n",
       "    <tr>\n",
       "      <th>29996</th>\n",
       "      <td>29997</td>\n",
       "      <td>0</td>\n",
       "      <td>0.117220</td>\n",
       "      <td>0.12</td>\n",
       "      <td>0.135859</td>\n",
       "      <td>0.138451</td>\n",
       "    </tr>\n",
       "    <tr>\n",
       "      <th>29997</th>\n",
       "      <td>29998</td>\n",
       "      <td>1</td>\n",
       "      <td>0.836941</td>\n",
       "      <td>0.464481</td>\n",
       "      <td>0.65373</td>\n",
       "      <td>0.790902</td>\n",
       "    </tr>\n",
       "    <tr>\n",
       "      <th>29998</th>\n",
       "      <td>29999</td>\n",
       "      <td>1</td>\n",
       "      <td>0.208816</td>\n",
       "      <td>0.218182</td>\n",
       "      <td>0.144392</td>\n",
       "      <td>0.167799</td>\n",
       "    </tr>\n",
       "    <tr>\n",
       "      <th>29999</th>\n",
       "      <td>30000</td>\n",
       "      <td>1</td>\n",
       "      <td>0.237015</td>\n",
       "      <td>0.162791</td>\n",
       "      <td>0.180134</td>\n",
       "      <td>0.186671</td>\n",
       "    </tr>\n",
       "  </tbody>\n",
       "</table>\n",
       "<p>30000 rows × 6 columns</p>\n",
       "</div>"
      ],
      "text/plain": [
       "          ID  DEFAULT  predicted_prob_lr predicted_prob_rf predicted_prob_xgb  \\\n",
       "0          1        1           0.630370          0.614973           0.676574   \n",
       "1          2        1           0.162715              0.32           0.453784   \n",
       "2          3        0           0.198494          0.113636           0.144193   \n",
       "3          4        0           0.235322          0.180233           0.178516   \n",
       "4          5        0           0.093034          0.094059            0.07559   \n",
       "...      ...      ...                ...               ...                ...   \n",
       "29995  29996        0           0.165336          0.122905            0.15629   \n",
       "29996  29997        0           0.117220              0.12           0.135859   \n",
       "29997  29998        1           0.836941          0.464481            0.65373   \n",
       "29998  29999        1           0.208816          0.218182           0.144392   \n",
       "29999  30000        1           0.237015          0.162791           0.180134   \n",
       "\n",
       "      predicted_prob_nn  \n",
       "0              0.638063  \n",
       "1              0.283493  \n",
       "2              0.120789  \n",
       "3              0.180855  \n",
       "4              0.088423  \n",
       "...                 ...  \n",
       "29995          0.108045  \n",
       "29996          0.138451  \n",
       "29997          0.790902  \n",
       "29998          0.167799  \n",
       "29999          0.186671  \n",
       "\n",
       "[30000 rows x 6 columns]"
      ]
     },
     "execution_count": 168,
     "metadata": {},
     "output_type": "execute_result"
    }
   ],
   "source": [
    "eval_dat['predicted_prob_xgb'] = None\n",
    "\n",
    "eval_dat.loc[train_index, 'predicted_prob_xgb'] = model_xgb.predict_proba(Xs.iloc[train_index])[:, 1]\n",
    "eval_dat.loc[test_index, 'predicted_prob_xgb'] = model_xgb.predict_proba(Xs.iloc[test_index])[:, 1]\n",
    "\n",
    "eval_dat"
   ]
  },
  {
   "cell_type": "code",
   "execution_count": 169,
   "id": "f9bcec02",
   "metadata": {},
   "outputs": [
    {
     "data": {
      "text/plain": [
       "<AxesSubplot:xlabel='Proportion of customers', ylabel='Cumulative gains'>"
      ]
     },
     "execution_count": 169,
     "metadata": {},
     "output_type": "execute_result"
    },
    {
     "data": {
      "image/png": "[encoded data removed]",
      "text/plain": [
       "<Figure size 432x288 with 1 Axes>"
      ]
     },
     "metadata": {
      "needs_background": "light"
     },
     "output_type": "display_data"
    }
   ],
   "source": [
    "dct = {\"training\": eval_dat.iloc[train_index], \"test\": eval_dat.iloc[test_index]}\n",
    "gains_plot(dct, rvar = 'DEFAULT', pred = 'predicted_prob_xgb', lev = 1, qnt = 10, marker = \"o\")"
   ]
  },
  {
   "cell_type": "code",
   "execution_count": 170,
   "id": "1fa937a2",
   "metadata": {},
   "outputs": [
    {
     "data": {
      "text/html": [
       "<div>\n",
       "<style scoped>\n",
       "    .dataframe tbody tr th:only-of-type {\n",
       "        vertical-align: middle;\n",
       "    }\n",
       "\n",
       "    .dataframe tbody tr th {\n",
       "        vertical-align: top;\n",
       "    }\n",
       "\n",
       "    .dataframe thead th {\n",
       "        text-align: right;\n",
       "    }\n",
       "</style>\n",
       "<table border=\"1\" class=\"dataframe\">\n",
       "  <thead>\n",
       "    <tr style=\"text-align: right;\">\n",
       "      <th></th>\n",
       "      <th>Type</th>\n",
       "      <th>predictor</th>\n",
       "      <th>total</th>\n",
       "      <th>AUC</th>\n",
       "      <th>accuracy</th>\n",
       "      <th>TP</th>\n",
       "      <th>FP</th>\n",
       "      <th>TN</th>\n",
       "      <th>FN</th>\n",
       "    </tr>\n",
       "  </thead>\n",
       "  <tbody>\n",
       "    <tr>\n",
       "      <th>0</th>\n",
       "      <td>training</td>\n",
       "      <td>predicted_prob_lr</td>\n",
       "      <td>24000</td>\n",
       "      <td>0.73</td>\n",
       "      <td>0.80</td>\n",
       "      <td>616</td>\n",
       "      <td>207</td>\n",
       "      <td>18484</td>\n",
       "      <td>4693</td>\n",
       "    </tr>\n",
       "    <tr>\n",
       "      <th>1</th>\n",
       "      <td>training</td>\n",
       "      <td>predicted_prob_rf</td>\n",
       "      <td>24000</td>\n",
       "      <td>0.77</td>\n",
       "      <td>0.81</td>\n",
       "      <td>1349</td>\n",
       "      <td>546</td>\n",
       "      <td>18145</td>\n",
       "      <td>3960</td>\n",
       "    </tr>\n",
       "    <tr>\n",
       "      <th>2</th>\n",
       "      <td>training</td>\n",
       "      <td>predicted_prob_xgb</td>\n",
       "      <td>24000</td>\n",
       "      <td>0.82</td>\n",
       "      <td>0.84</td>\n",
       "      <td>1804</td>\n",
       "      <td>432</td>\n",
       "      <td>18259</td>\n",
       "      <td>3505</td>\n",
       "    </tr>\n",
       "    <tr>\n",
       "      <th>3</th>\n",
       "      <td>test</td>\n",
       "      <td>predicted_prob_lr</td>\n",
       "      <td>6000</td>\n",
       "      <td>0.73</td>\n",
       "      <td>0.79</td>\n",
       "      <td>148</td>\n",
       "      <td>59</td>\n",
       "      <td>4614</td>\n",
       "      <td>1179</td>\n",
       "    </tr>\n",
       "    <tr>\n",
       "      <th>4</th>\n",
       "      <td>test</td>\n",
       "      <td>predicted_prob_rf</td>\n",
       "      <td>6000</td>\n",
       "      <td>0.77</td>\n",
       "      <td>0.81</td>\n",
       "      <td>325</td>\n",
       "      <td>146</td>\n",
       "      <td>4527</td>\n",
       "      <td>1002</td>\n",
       "    </tr>\n",
       "    <tr>\n",
       "      <th>5</th>\n",
       "      <td>test</td>\n",
       "      <td>predicted_prob_xgb</td>\n",
       "      <td>6000</td>\n",
       "      <td>0.78</td>\n",
       "      <td>0.81</td>\n",
       "      <td>375</td>\n",
       "      <td>167</td>\n",
       "      <td>4506</td>\n",
       "      <td>952</td>\n",
       "    </tr>\n",
       "  </tbody>\n",
       "</table>\n",
       "</div>"
      ],
      "text/plain": [
       "       Type           predictor  total   AUC  accuracy    TP   FP     TN    FN\n",
       "0  training   predicted_prob_lr  24000  0.73      0.80   616  207  18484  4693\n",
       "1  training   predicted_prob_rf  24000  0.77      0.81  1349  546  18145  3960\n",
       "2  training  predicted_prob_xgb  24000  0.82      0.84  1804  432  18259  3505\n",
       "3      test   predicted_prob_lr   6000  0.73      0.79   148   59   4614  1179\n",
       "4      test   predicted_prob_rf   6000  0.77      0.81   325  146   4527  1002\n",
       "5      test  predicted_prob_xgb   6000  0.78      0.81   375  167   4506   952"
      ]
     },
     "execution_count": 170,
     "metadata": {},
     "output_type": "execute_result"
    }
   ],
   "source": [
    "rsm.evalbin(dct, rvar = 'DEFAULT', lev = 1, pred = ['predicted_prob_lr', 'predicted_prob_rf', 'predicted_prob_xgb'], cost = 3, margin=5, dec=2)[['Type', 'predictor', 'total', 'AUC', 'accuracy', 'TP', 'FP', 'TN', 'FN']]"
   ]
  },
  {
   "cell_type": "markdown",
   "id": "1836c1c9",
   "metadata": {},
   "source": [
    "## Neural Network"
   ]
  },
  {
   "cell_type": "code",
   "execution_count": 103,
   "id": "d5c3efdb",
   "metadata": {},
   "outputs": [],
   "source": [
    "from sklearn.neural_network import MLPClassifier"
   ]
  },
  {
   "cell_type": "code",
   "execution_count": 104,
   "id": "b68cd454",
   "metadata": {},
   "outputs": [
    {
     "data": {
      "text/plain": [
       "[(1,), (2,), (3,), (4,), (1, 1), (2, 2), (3, 3), (4, 4)]"
      ]
     },
     "execution_count": 104,
     "metadata": {},
     "output_type": "execute_result"
    }
   ],
   "source": [
    "nr_hnodes = range(1, 5) \n",
    "hls = list(zip(nr_hnodes)) + list(zip(nr_hnodes, nr_hnodes))\n",
    "#hls = (4,4) # selected 2 hidden layers with 4 nodes in each\n",
    "\n",
    "hls"
   ]
  },
  {
   "cell_type": "code",
   "execution_count": 105,
   "id": "67d25c6d",
   "metadata": {},
   "outputs": [
    {
     "data": {
      "text/plain": [
       "{'activation': ['tanh', 'relu'],\n",
       " 'hidden_layer_sizes': [(1,),\n",
       "  (2,),\n",
       "  (3,),\n",
       "  (4,),\n",
       "  (1, 1),\n",
       "  (2, 2),\n",
       "  (3, 3),\n",
       "  (4, 4)],\n",
       " 'alpha': [0.25, 0.5, 0.75, 1.0]}"
      ]
     },
     "execution_count": 105,
     "metadata": {},
     "output_type": "execute_result"
    }
   ],
   "source": [
    "clf_nn = MLPClassifier()\n",
    "\n",
    "param_grid_nn = {\n",
    "    'activation': [\"tanh\", \"relu\"],\n",
    "    'hidden_layer_sizes': hls,\n",
    "    'alpha': [0.25, 0.5, 0.75, 1.0] #cross validation has been completed with a range of hyper parameters to select one with highest AUC\n",
    "}\n",
    "scoring = {'AUC': 'roc_auc'}\n",
    "param_grid_nn"
   ]
  },
  {
   "cell_type": "code",
   "execution_count": 106,
   "id": "5a18f1c4",
   "metadata": {},
   "outputs": [
    {
     "name": "stderr",
     "output_type": "stream",
     "text": [
      "/usr/local/lib/python3.8/dist-packages/sklearn/neural_network/_multilayer_perceptron.py:614: ConvergenceWarning: Stochastic Optimizer: Maximum iterations (200) reached and the optimization hasn't converged yet.\n",
      "  warnings.warn(\n"
     ]
    },
    {
     "name": "stdout",
     "output_type": "stream",
     "text": [
      "{'activation': 'tanh', 'alpha': 0.25, 'hidden_layer_sizes': (4, 4)}\n",
      "0.7709698804945893\n",
      "CPU times: user 42min 40s, sys: 28min 25s, total: 1h 11min 5s\n",
      "Wall time: 35min 45s\n"
     ]
    }
   ],
   "source": [
    "%%time\n",
    "\n",
    "\n",
    "cv_nn = GridSearchCV(clf_nn, param_grid_nn, cv = 5, scoring = 'roc_auc')\n",
    "cv_nn.fit(Xs.iloc[train_index], df['DEFAULT'].iloc[train_index])\n",
    "print(cv_nn.best_params_)\n",
    "print(cv_nn.best_score_)"
   ]
  },
  {
   "cell_type": "code",
   "execution_count": 107,
   "id": "91fb6ae6",
   "metadata": {},
   "outputs": [
    {
     "name": "stdout",
     "output_type": "stream",
     "text": [
      "CPU times: user 12.5 s, sys: 0 ns, total: 12.5 s\n",
      "Wall time: 12.5 s\n"
     ]
    }
   ],
   "source": [
    "%%time\n",
    "\n",
    "\n",
    "model_nn = MLPClassifier(activation = cv_nn.best_params_['activation'], alpha=cv_nn.best_params_['alpha'], hidden_layer_sizes=cv_nn.best_params_['hidden_layer_sizes'], random_state = 1234).fit(Xs.iloc[train_index], df['DEFAULT'].iloc[train_index])"
   ]
  },
  {
   "cell_type": "code",
   "execution_count": 108,
   "id": "5e3755fb",
   "metadata": {},
   "outputs": [
    {
     "name": "stdout",
     "output_type": "stream",
     "text": [
      "Making sure order of categorical response is correct, expect [0: no, 1: default]\n",
      "[0 1]\n"
     ]
    }
   ],
   "source": [
    "print(\"Making sure order of categorical response is correct, expect [0: no, 1: default]\")\n",
    "print(model_nn.classes_)"
   ]
  },
  {
   "cell_type": "code",
   "execution_count": 110,
   "id": "069218df",
   "metadata": {},
   "outputs": [
    {
     "data": {
      "text/html": [
       "<div>\n",
       "<style scoped>\n",
       "    .dataframe tbody tr th:only-of-type {\n",
       "        vertical-align: middle;\n",
       "    }\n",
       "\n",
       "    .dataframe tbody tr th {\n",
       "        vertical-align: top;\n",
       "    }\n",
       "\n",
       "    .dataframe thead th {\n",
       "        text-align: right;\n",
       "    }\n",
       "</style>\n",
       "<table border=\"1\" class=\"dataframe\">\n",
       "  <thead>\n",
       "    <tr style=\"text-align: right;\">\n",
       "      <th></th>\n",
       "      <th>ID</th>\n",
       "      <th>DEFAULT</th>\n",
       "      <th>predicted_prob_lr</th>\n",
       "      <th>predicted_prob_rf</th>\n",
       "      <th>predicted_prob_xgb</th>\n",
       "      <th>predicted_prob_nn</th>\n",
       "    </tr>\n",
       "  </thead>\n",
       "  <tbody>\n",
       "    <tr>\n",
       "      <th>0</th>\n",
       "      <td>1</td>\n",
       "      <td>1</td>\n",
       "      <td>0.630370</td>\n",
       "      <td>0.614973</td>\n",
       "      <td>0.912451</td>\n",
       "      <td>0.638063</td>\n",
       "    </tr>\n",
       "    <tr>\n",
       "      <th>1</th>\n",
       "      <td>2</td>\n",
       "      <td>1</td>\n",
       "      <td>0.162715</td>\n",
       "      <td>0.32</td>\n",
       "      <td>0.877826</td>\n",
       "      <td>0.283493</td>\n",
       "    </tr>\n",
       "    <tr>\n",
       "      <th>2</th>\n",
       "      <td>3</td>\n",
       "      <td>0</td>\n",
       "      <td>0.198494</td>\n",
       "      <td>0.113636</td>\n",
       "      <td>0.140775</td>\n",
       "      <td>0.120789</td>\n",
       "    </tr>\n",
       "    <tr>\n",
       "      <th>3</th>\n",
       "      <td>4</td>\n",
       "      <td>0</td>\n",
       "      <td>0.235322</td>\n",
       "      <td>0.180233</td>\n",
       "      <td>0.143415</td>\n",
       "      <td>0.180855</td>\n",
       "    </tr>\n",
       "    <tr>\n",
       "      <th>4</th>\n",
       "      <td>5</td>\n",
       "      <td>0</td>\n",
       "      <td>0.093034</td>\n",
       "      <td>0.094059</td>\n",
       "      <td>0.01382</td>\n",
       "      <td>0.088423</td>\n",
       "    </tr>\n",
       "    <tr>\n",
       "      <th>...</th>\n",
       "      <td>...</td>\n",
       "      <td>...</td>\n",
       "      <td>...</td>\n",
       "      <td>...</td>\n",
       "      <td>...</td>\n",
       "      <td>...</td>\n",
       "    </tr>\n",
       "    <tr>\n",
       "      <th>29995</th>\n",
       "      <td>29996</td>\n",
       "      <td>0</td>\n",
       "      <td>0.165336</td>\n",
       "      <td>0.122905</td>\n",
       "      <td>0.034611</td>\n",
       "      <td>0.108045</td>\n",
       "    </tr>\n",
       "    <tr>\n",
       "      <th>29996</th>\n",
       "      <td>29997</td>\n",
       "      <td>0</td>\n",
       "      <td>0.117220</td>\n",
       "      <td>0.12</td>\n",
       "      <td>0.255563</td>\n",
       "      <td>0.138451</td>\n",
       "    </tr>\n",
       "    <tr>\n",
       "      <th>29997</th>\n",
       "      <td>29998</td>\n",
       "      <td>1</td>\n",
       "      <td>0.836941</td>\n",
       "      <td>0.464481</td>\n",
       "      <td>0.9471</td>\n",
       "      <td>0.790902</td>\n",
       "    </tr>\n",
       "    <tr>\n",
       "      <th>29998</th>\n",
       "      <td>29999</td>\n",
       "      <td>1</td>\n",
       "      <td>0.208816</td>\n",
       "      <td>0.218182</td>\n",
       "      <td>0.902361</td>\n",
       "      <td>0.167799</td>\n",
       "    </tr>\n",
       "    <tr>\n",
       "      <th>29999</th>\n",
       "      <td>30000</td>\n",
       "      <td>1</td>\n",
       "      <td>0.237015</td>\n",
       "      <td>0.162791</td>\n",
       "      <td>0.594636</td>\n",
       "      <td>0.186671</td>\n",
       "    </tr>\n",
       "  </tbody>\n",
       "</table>\n",
       "<p>30000 rows × 6 columns</p>\n",
       "</div>"
      ],
      "text/plain": [
       "          ID  DEFAULT  predicted_prob_lr predicted_prob_rf predicted_prob_xgb  \\\n",
       "0          1        1           0.630370          0.614973           0.912451   \n",
       "1          2        1           0.162715              0.32           0.877826   \n",
       "2          3        0           0.198494          0.113636           0.140775   \n",
       "3          4        0           0.235322          0.180233           0.143415   \n",
       "4          5        0           0.093034          0.094059            0.01382   \n",
       "...      ...      ...                ...               ...                ...   \n",
       "29995  29996        0           0.165336          0.122905           0.034611   \n",
       "29996  29997        0           0.117220              0.12           0.255563   \n",
       "29997  29998        1           0.836941          0.464481             0.9471   \n",
       "29998  29999        1           0.208816          0.218182           0.902361   \n",
       "29999  30000        1           0.237015          0.162791           0.594636   \n",
       "\n",
       "      predicted_prob_nn  \n",
       "0              0.638063  \n",
       "1              0.283493  \n",
       "2              0.120789  \n",
       "3              0.180855  \n",
       "4              0.088423  \n",
       "...                 ...  \n",
       "29995          0.108045  \n",
       "29996          0.138451  \n",
       "29997          0.790902  \n",
       "29998          0.167799  \n",
       "29999          0.186671  \n",
       "\n",
       "[30000 rows x 6 columns]"
      ]
     },
     "execution_count": 110,
     "metadata": {},
     "output_type": "execute_result"
    }
   ],
   "source": [
    "eval_dat['predicted_prob_nn'] = None\n",
    "\n",
    "eval_dat.loc[train_index, 'predicted_prob_nn'] = model_nn.predict_proba(Xs.iloc[train_index])[:,1]\n",
    "eval_dat.loc[test_index, 'predicted_prob_nn'] = model_nn.predict_proba(Xs.iloc[test_index])[:,1]\n",
    "\n",
    "eval_dat"
   ]
  },
  {
   "cell_type": "code",
   "execution_count": 113,
   "id": "ed133359",
   "metadata": {},
   "outputs": [
    {
     "data": {
      "text/plain": [
       "<AxesSubplot:xlabel='Proportion of customers', ylabel='Cumulative gains'>"
      ]
     },
     "execution_count": 113,
     "metadata": {},
     "output_type": "execute_result"
    },
    {
     "data": {
      "image/png": "[encoded data removed]",
      "text/plain": [
       "<Figure size 432x288 with 1 Axes>"
      ]
     },
     "metadata": {
      "needs_background": "light"
     },
     "output_type": "display_data"
    }
   ],
   "source": [
    "dct = {\"training\": eval_dat.iloc[train_index], \"test\": eval_dat.iloc[test_index]}\n",
    "gains_plot(dct, rvar = 'DEFAULT', pred = 'predicted_prob_nn', lev = 1, qnt = 10, marker = \"o\")"
   ]
  },
  {
   "cell_type": "code",
   "execution_count": 112,
   "id": "7c5a5639",
   "metadata": {},
   "outputs": [
    {
     "data": {
      "text/html": [
       "<div>\n",
       "<style scoped>\n",
       "    .dataframe tbody tr th:only-of-type {\n",
       "        vertical-align: middle;\n",
       "    }\n",
       "\n",
       "    .dataframe tbody tr th {\n",
       "        vertical-align: top;\n",
       "    }\n",
       "\n",
       "    .dataframe thead th {\n",
       "        text-align: right;\n",
       "    }\n",
       "</style>\n",
       "<table border=\"1\" class=\"dataframe\">\n",
       "  <thead>\n",
       "    <tr style=\"text-align: right;\">\n",
       "      <th></th>\n",
       "      <th>Type</th>\n",
       "      <th>predictor</th>\n",
       "      <th>total</th>\n",
       "      <th>AUC</th>\n",
       "      <th>accuracy</th>\n",
       "      <th>TP</th>\n",
       "      <th>FP</th>\n",
       "      <th>TN</th>\n",
       "      <th>FN</th>\n",
       "    </tr>\n",
       "  </thead>\n",
       "  <tbody>\n",
       "    <tr>\n",
       "      <th>0</th>\n",
       "      <td>training</td>\n",
       "      <td>predicted_prob_lr</td>\n",
       "      <td>24000</td>\n",
       "      <td>0.73</td>\n",
       "      <td>0.80</td>\n",
       "      <td>616</td>\n",
       "      <td>207</td>\n",
       "      <td>18484</td>\n",
       "      <td>4693</td>\n",
       "    </tr>\n",
       "    <tr>\n",
       "      <th>1</th>\n",
       "      <td>training</td>\n",
       "      <td>predicted_prob_rf</td>\n",
       "      <td>24000</td>\n",
       "      <td>0.77</td>\n",
       "      <td>0.81</td>\n",
       "      <td>1349</td>\n",
       "      <td>546</td>\n",
       "      <td>18145</td>\n",
       "      <td>3960</td>\n",
       "    </tr>\n",
       "    <tr>\n",
       "      <th>2</th>\n",
       "      <td>training</td>\n",
       "      <td>predicted_prob_xgb</td>\n",
       "      <td>24000</td>\n",
       "      <td>1.00</td>\n",
       "      <td>0.95</td>\n",
       "      <td>4223</td>\n",
       "      <td>10</td>\n",
       "      <td>18681</td>\n",
       "      <td>1086</td>\n",
       "    </tr>\n",
       "    <tr>\n",
       "      <th>3</th>\n",
       "      <td>training</td>\n",
       "      <td>predicted_prob_nn</td>\n",
       "      <td>24000</td>\n",
       "      <td>0.78</td>\n",
       "      <td>0.82</td>\n",
       "      <td>1635</td>\n",
       "      <td>657</td>\n",
       "      <td>18034</td>\n",
       "      <td>3674</td>\n",
       "    </tr>\n",
       "    <tr>\n",
       "      <th>4</th>\n",
       "      <td>test</td>\n",
       "      <td>predicted_prob_lr</td>\n",
       "      <td>6000</td>\n",
       "      <td>0.73</td>\n",
       "      <td>0.79</td>\n",
       "      <td>148</td>\n",
       "      <td>59</td>\n",
       "      <td>4614</td>\n",
       "      <td>1179</td>\n",
       "    </tr>\n",
       "    <tr>\n",
       "      <th>5</th>\n",
       "      <td>test</td>\n",
       "      <td>predicted_prob_rf</td>\n",
       "      <td>6000</td>\n",
       "      <td>0.77</td>\n",
       "      <td>0.81</td>\n",
       "      <td>325</td>\n",
       "      <td>146</td>\n",
       "      <td>4527</td>\n",
       "      <td>1002</td>\n",
       "    </tr>\n",
       "    <tr>\n",
       "      <th>6</th>\n",
       "      <td>test</td>\n",
       "      <td>predicted_prob_xgb</td>\n",
       "      <td>6000</td>\n",
       "      <td>0.75</td>\n",
       "      <td>0.81</td>\n",
       "      <td>404</td>\n",
       "      <td>204</td>\n",
       "      <td>4469</td>\n",
       "      <td>923</td>\n",
       "    </tr>\n",
       "    <tr>\n",
       "      <th>7</th>\n",
       "      <td>test</td>\n",
       "      <td>predicted_prob_nn</td>\n",
       "      <td>6000</td>\n",
       "      <td>0.77</td>\n",
       "      <td>0.81</td>\n",
       "      <td>389</td>\n",
       "      <td>178</td>\n",
       "      <td>4495</td>\n",
       "      <td>938</td>\n",
       "    </tr>\n",
       "  </tbody>\n",
       "</table>\n",
       "</div>"
      ],
      "text/plain": [
       "       Type           predictor  total   AUC  accuracy    TP   FP     TN    FN\n",
       "0  training   predicted_prob_lr  24000  0.73      0.80   616  207  18484  4693\n",
       "1  training   predicted_prob_rf  24000  0.77      0.81  1349  546  18145  3960\n",
       "2  training  predicted_prob_xgb  24000  1.00      0.95  4223   10  18681  1086\n",
       "3  training   predicted_prob_nn  24000  0.78      0.82  1635  657  18034  3674\n",
       "4      test   predicted_prob_lr   6000  0.73      0.79   148   59   4614  1179\n",
       "5      test   predicted_prob_rf   6000  0.77      0.81   325  146   4527  1002\n",
       "6      test  predicted_prob_xgb   6000  0.75      0.81   404  204   4469   923\n",
       "7      test   predicted_prob_nn   6000  0.77      0.81   389  178   4495   938"
      ]
     },
     "execution_count": 112,
     "metadata": {},
     "output_type": "execute_result"
    }
   ],
   "source": [
    "rsm.evalbin(dct, rvar = 'DEFAULT', lev = 1, pred = ['predicted_prob_lr', 'predicted_prob_rf', 'predicted_prob_xgb', 'predicted_prob_nn'], cost = 3, margin=5, dec=2)[['Type', 'predictor', 'total', 'AUC', 'accuracy', 'TP', 'FP', 'TN', 'FN']]"
   ]
  },
  {
   "cell_type": "markdown",
   "id": "d5900d54",
   "metadata": {},
   "source": [
    "The random forest, XGB and neural network have similar performance. The value of detecting a true defaulter balanced by cost of falsely flagging a defaulter can be assigned to arrive at a profit calculation."
   ]
  },
  {
   "cell_type": "code",
   "execution_count": null,
   "id": "4cd2d6c2",
   "metadata": {},
   "outputs": [],
   "source": []
  }
 ],
 "metadata": {
  "kernelspec": {
   "display_name": "Python 3",
   "language": "python",
   "name": "python3"
  },
  "language_info": {
   "codemirror_mode": {
    "name": "ipython",
    "version": 3
   },
   "file_extension": ".py",
   "mimetype": "text/x-python",
   "name": "python",
   "nbconvert_exporter": "python",
   "pygments_lexer": "ipython3",
   "version": "3.8.5"
  }
 },
 "nbformat": 4,
 "nbformat_minor": 5
}
